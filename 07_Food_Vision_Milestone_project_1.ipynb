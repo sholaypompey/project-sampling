{
  "nbformat": 4,
  "nbformat_minor": 0,
  "metadata": {
    "colab": {
      "provenance": [],
      "toc_visible": true,
      "mount_file_id": "1i6RmdqvQa68b46OZEZ2jPl_CqGTbok3o",
      "authorship_tag": "ABX9TyNe7S0x8WkKXdhUBV6Rh30N",
      "include_colab_link": true
    },
    "kernelspec": {
      "name": "python3",
      "display_name": "Python 3"
    },
    "language_info": {
      "name": "python"
    },
    "accelerator": "GPU",
    "gpuClass": "standard",
    "widgets": {
      "application/vnd.jupyter.widget-state+json": {
        "f92e396cd8754000b3b5c162306f60f7": {
          "model_module": "@jupyter-widgets/controls",
          "model_name": "HBoxModel",
          "model_module_version": "1.5.0",
          "state": {
            "_dom_classes": [],
            "_model_module": "@jupyter-widgets/controls",
            "_model_module_version": "1.5.0",
            "_model_name": "HBoxModel",
            "_view_count": null,
            "_view_module": "@jupyter-widgets/controls",
            "_view_module_version": "1.5.0",
            "_view_name": "HBoxView",
            "box_style": "",
            "children": [
              "IPY_MODEL_9aec99f4ebb94761b9b32dca8a6914c6",
              "IPY_MODEL_182c75956d95440fb5e8edc5443128a7",
              "IPY_MODEL_dde1084095b646178d70ec69a1fc45f8"
            ],
            "layout": "IPY_MODEL_9f5516fdfff341879f4c01ea52519777"
          }
        },
        "9aec99f4ebb94761b9b32dca8a6914c6": {
          "model_module": "@jupyter-widgets/controls",
          "model_name": "HTMLModel",
          "model_module_version": "1.5.0",
          "state": {
            "_dom_classes": [],
            "_model_module": "@jupyter-widgets/controls",
            "_model_module_version": "1.5.0",
            "_model_name": "HTMLModel",
            "_view_count": null,
            "_view_module": "@jupyter-widgets/controls",
            "_view_module_version": "1.5.0",
            "_view_name": "HTMLView",
            "description": "",
            "description_tooltip": null,
            "layout": "IPY_MODEL_c5c0f9fb17e34924a5ca9a687a53ead9",
            "placeholder": "​",
            "style": "IPY_MODEL_37a9686a34b04552959a20c83b4db705",
            "value": "Dl Completed...: 100%"
          }
        },
        "182c75956d95440fb5e8edc5443128a7": {
          "model_module": "@jupyter-widgets/controls",
          "model_name": "FloatProgressModel",
          "model_module_version": "1.5.0",
          "state": {
            "_dom_classes": [],
            "_model_module": "@jupyter-widgets/controls",
            "_model_module_version": "1.5.0",
            "_model_name": "FloatProgressModel",
            "_view_count": null,
            "_view_module": "@jupyter-widgets/controls",
            "_view_module_version": "1.5.0",
            "_view_name": "ProgressView",
            "bar_style": "success",
            "description": "",
            "description_tooltip": null,
            "layout": "IPY_MODEL_824abef77eaa4ed9a0d9fef87f24680a",
            "max": 1,
            "min": 0,
            "orientation": "horizontal",
            "style": "IPY_MODEL_ebaeef1342cd4daf958afc30ef840946",
            "value": 1
          }
        },
        "dde1084095b646178d70ec69a1fc45f8": {
          "model_module": "@jupyter-widgets/controls",
          "model_name": "HTMLModel",
          "model_module_version": "1.5.0",
          "state": {
            "_dom_classes": [],
            "_model_module": "@jupyter-widgets/controls",
            "_model_module_version": "1.5.0",
            "_model_name": "HTMLModel",
            "_view_count": null,
            "_view_module": "@jupyter-widgets/controls",
            "_view_module_version": "1.5.0",
            "_view_name": "HTMLView",
            "description": "",
            "description_tooltip": null,
            "layout": "IPY_MODEL_7270647a14954f149eb6972a1e73354a",
            "placeholder": "​",
            "style": "IPY_MODEL_428390c1a2134adf9014f810a3551ee4",
            "value": " 1/1 [05:43&lt;00:00, 260.19s/ url]"
          }
        },
        "9f5516fdfff341879f4c01ea52519777": {
          "model_module": "@jupyter-widgets/base",
          "model_name": "LayoutModel",
          "model_module_version": "1.2.0",
          "state": {
            "_model_module": "@jupyter-widgets/base",
            "_model_module_version": "1.2.0",
            "_model_name": "LayoutModel",
            "_view_count": null,
            "_view_module": "@jupyter-widgets/base",
            "_view_module_version": "1.2.0",
            "_view_name": "LayoutView",
            "align_content": null,
            "align_items": null,
            "align_self": null,
            "border": null,
            "bottom": null,
            "display": null,
            "flex": null,
            "flex_flow": null,
            "grid_area": null,
            "grid_auto_columns": null,
            "grid_auto_flow": null,
            "grid_auto_rows": null,
            "grid_column": null,
            "grid_gap": null,
            "grid_row": null,
            "grid_template_areas": null,
            "grid_template_columns": null,
            "grid_template_rows": null,
            "height": null,
            "justify_content": null,
            "justify_items": null,
            "left": null,
            "margin": null,
            "max_height": null,
            "max_width": null,
            "min_height": null,
            "min_width": null,
            "object_fit": null,
            "object_position": null,
            "order": null,
            "overflow": null,
            "overflow_x": null,
            "overflow_y": null,
            "padding": null,
            "right": null,
            "top": null,
            "visibility": null,
            "width": null
          }
        },
        "c5c0f9fb17e34924a5ca9a687a53ead9": {
          "model_module": "@jupyter-widgets/base",
          "model_name": "LayoutModel",
          "model_module_version": "1.2.0",
          "state": {
            "_model_module": "@jupyter-widgets/base",
            "_model_module_version": "1.2.0",
            "_model_name": "LayoutModel",
            "_view_count": null,
            "_view_module": "@jupyter-widgets/base",
            "_view_module_version": "1.2.0",
            "_view_name": "LayoutView",
            "align_content": null,
            "align_items": null,
            "align_self": null,
            "border": null,
            "bottom": null,
            "display": null,
            "flex": null,
            "flex_flow": null,
            "grid_area": null,
            "grid_auto_columns": null,
            "grid_auto_flow": null,
            "grid_auto_rows": null,
            "grid_column": null,
            "grid_gap": null,
            "grid_row": null,
            "grid_template_areas": null,
            "grid_template_columns": null,
            "grid_template_rows": null,
            "height": null,
            "justify_content": null,
            "justify_items": null,
            "left": null,
            "margin": null,
            "max_height": null,
            "max_width": null,
            "min_height": null,
            "min_width": null,
            "object_fit": null,
            "object_position": null,
            "order": null,
            "overflow": null,
            "overflow_x": null,
            "overflow_y": null,
            "padding": null,
            "right": null,
            "top": null,
            "visibility": null,
            "width": null
          }
        },
        "37a9686a34b04552959a20c83b4db705": {
          "model_module": "@jupyter-widgets/controls",
          "model_name": "DescriptionStyleModel",
          "model_module_version": "1.5.0",
          "state": {
            "_model_module": "@jupyter-widgets/controls",
            "_model_module_version": "1.5.0",
            "_model_name": "DescriptionStyleModel",
            "_view_count": null,
            "_view_module": "@jupyter-widgets/base",
            "_view_module_version": "1.2.0",
            "_view_name": "StyleView",
            "description_width": ""
          }
        },
        "824abef77eaa4ed9a0d9fef87f24680a": {
          "model_module": "@jupyter-widgets/base",
          "model_name": "LayoutModel",
          "model_module_version": "1.2.0",
          "state": {
            "_model_module": "@jupyter-widgets/base",
            "_model_module_version": "1.2.0",
            "_model_name": "LayoutModel",
            "_view_count": null,
            "_view_module": "@jupyter-widgets/base",
            "_view_module_version": "1.2.0",
            "_view_name": "LayoutView",
            "align_content": null,
            "align_items": null,
            "align_self": null,
            "border": null,
            "bottom": null,
            "display": null,
            "flex": null,
            "flex_flow": null,
            "grid_area": null,
            "grid_auto_columns": null,
            "grid_auto_flow": null,
            "grid_auto_rows": null,
            "grid_column": null,
            "grid_gap": null,
            "grid_row": null,
            "grid_template_areas": null,
            "grid_template_columns": null,
            "grid_template_rows": null,
            "height": null,
            "justify_content": null,
            "justify_items": null,
            "left": null,
            "margin": null,
            "max_height": null,
            "max_width": null,
            "min_height": null,
            "min_width": null,
            "object_fit": null,
            "object_position": null,
            "order": null,
            "overflow": null,
            "overflow_x": null,
            "overflow_y": null,
            "padding": null,
            "right": null,
            "top": null,
            "visibility": null,
            "width": "20px"
          }
        },
        "ebaeef1342cd4daf958afc30ef840946": {
          "model_module": "@jupyter-widgets/controls",
          "model_name": "ProgressStyleModel",
          "model_module_version": "1.5.0",
          "state": {
            "_model_module": "@jupyter-widgets/controls",
            "_model_module_version": "1.5.0",
            "_model_name": "ProgressStyleModel",
            "_view_count": null,
            "_view_module": "@jupyter-widgets/base",
            "_view_module_version": "1.2.0",
            "_view_name": "StyleView",
            "bar_color": null,
            "description_width": ""
          }
        },
        "7270647a14954f149eb6972a1e73354a": {
          "model_module": "@jupyter-widgets/base",
          "model_name": "LayoutModel",
          "model_module_version": "1.2.0",
          "state": {
            "_model_module": "@jupyter-widgets/base",
            "_model_module_version": "1.2.0",
            "_model_name": "LayoutModel",
            "_view_count": null,
            "_view_module": "@jupyter-widgets/base",
            "_view_module_version": "1.2.0",
            "_view_name": "LayoutView",
            "align_content": null,
            "align_items": null,
            "align_self": null,
            "border": null,
            "bottom": null,
            "display": null,
            "flex": null,
            "flex_flow": null,
            "grid_area": null,
            "grid_auto_columns": null,
            "grid_auto_flow": null,
            "grid_auto_rows": null,
            "grid_column": null,
            "grid_gap": null,
            "grid_row": null,
            "grid_template_areas": null,
            "grid_template_columns": null,
            "grid_template_rows": null,
            "height": null,
            "justify_content": null,
            "justify_items": null,
            "left": null,
            "margin": null,
            "max_height": null,
            "max_width": null,
            "min_height": null,
            "min_width": null,
            "object_fit": null,
            "object_position": null,
            "order": null,
            "overflow": null,
            "overflow_x": null,
            "overflow_y": null,
            "padding": null,
            "right": null,
            "top": null,
            "visibility": null,
            "width": null
          }
        },
        "428390c1a2134adf9014f810a3551ee4": {
          "model_module": "@jupyter-widgets/controls",
          "model_name": "DescriptionStyleModel",
          "model_module_version": "1.5.0",
          "state": {
            "_model_module": "@jupyter-widgets/controls",
            "_model_module_version": "1.5.0",
            "_model_name": "DescriptionStyleModel",
            "_view_count": null,
            "_view_module": "@jupyter-widgets/base",
            "_view_module_version": "1.2.0",
            "_view_name": "StyleView",
            "description_width": ""
          }
        },
        "37b9bbf31af04407b12e7b3406c03cb0": {
          "model_module": "@jupyter-widgets/controls",
          "model_name": "HBoxModel",
          "model_module_version": "1.5.0",
          "state": {
            "_dom_classes": [],
            "_model_module": "@jupyter-widgets/controls",
            "_model_module_version": "1.5.0",
            "_model_name": "HBoxModel",
            "_view_count": null,
            "_view_module": "@jupyter-widgets/controls",
            "_view_module_version": "1.5.0",
            "_view_name": "HBoxView",
            "box_style": "",
            "children": [
              "IPY_MODEL_eb1281a37a9e43eea3de7c7597d995a3",
              "IPY_MODEL_fc642f37c5ea46749dc5a9565a6f1df5",
              "IPY_MODEL_58ece000f6c84334a05fd8b914553572"
            ],
            "layout": "IPY_MODEL_003ab74d106d45aea0c244f9b39bc68e"
          }
        },
        "eb1281a37a9e43eea3de7c7597d995a3": {
          "model_module": "@jupyter-widgets/controls",
          "model_name": "HTMLModel",
          "model_module_version": "1.5.0",
          "state": {
            "_dom_classes": [],
            "_model_module": "@jupyter-widgets/controls",
            "_model_module_version": "1.5.0",
            "_model_name": "HTMLModel",
            "_view_count": null,
            "_view_module": "@jupyter-widgets/controls",
            "_view_module_version": "1.5.0",
            "_view_name": "HTMLView",
            "description": "",
            "description_tooltip": null,
            "layout": "IPY_MODEL_b1239df275a846dd8ac6b77683bc0f4b",
            "placeholder": "​",
            "style": "IPY_MODEL_25f3f75f8cd94801b98f195bc571bc9d",
            "value": "Dl Size...: 100%"
          }
        },
        "fc642f37c5ea46749dc5a9565a6f1df5": {
          "model_module": "@jupyter-widgets/controls",
          "model_name": "FloatProgressModel",
          "model_module_version": "1.5.0",
          "state": {
            "_dom_classes": [],
            "_model_module": "@jupyter-widgets/controls",
            "_model_module_version": "1.5.0",
            "_model_name": "FloatProgressModel",
            "_view_count": null,
            "_view_module": "@jupyter-widgets/controls",
            "_view_module_version": "1.5.0",
            "_view_name": "ProgressView",
            "bar_style": "success",
            "description": "",
            "description_tooltip": null,
            "layout": "IPY_MODEL_d88c55c96794413bac4b5d291811e735",
            "max": 1,
            "min": 0,
            "orientation": "horizontal",
            "style": "IPY_MODEL_ebaa68db39ae483086703d2fe4513803",
            "value": 1
          }
        },
        "58ece000f6c84334a05fd8b914553572": {
          "model_module": "@jupyter-widgets/controls",
          "model_name": "HTMLModel",
          "model_module_version": "1.5.0",
          "state": {
            "_dom_classes": [],
            "_model_module": "@jupyter-widgets/controls",
            "_model_module_version": "1.5.0",
            "_model_name": "HTMLModel",
            "_view_count": null,
            "_view_module": "@jupyter-widgets/controls",
            "_view_module_version": "1.5.0",
            "_view_name": "HTMLView",
            "description": "",
            "description_tooltip": null,
            "layout": "IPY_MODEL_7d69b8db9bcd47bd8cfa360d3e9a1906",
            "placeholder": "​",
            "style": "IPY_MODEL_dade01cb85a04114bd46c8ecdb6358e2",
            "value": " 4764/4764 [05:43&lt;00:00, 18.80 MiB/s]"
          }
        },
        "003ab74d106d45aea0c244f9b39bc68e": {
          "model_module": "@jupyter-widgets/base",
          "model_name": "LayoutModel",
          "model_module_version": "1.2.0",
          "state": {
            "_model_module": "@jupyter-widgets/base",
            "_model_module_version": "1.2.0",
            "_model_name": "LayoutModel",
            "_view_count": null,
            "_view_module": "@jupyter-widgets/base",
            "_view_module_version": "1.2.0",
            "_view_name": "LayoutView",
            "align_content": null,
            "align_items": null,
            "align_self": null,
            "border": null,
            "bottom": null,
            "display": null,
            "flex": null,
            "flex_flow": null,
            "grid_area": null,
            "grid_auto_columns": null,
            "grid_auto_flow": null,
            "grid_auto_rows": null,
            "grid_column": null,
            "grid_gap": null,
            "grid_row": null,
            "grid_template_areas": null,
            "grid_template_columns": null,
            "grid_template_rows": null,
            "height": null,
            "justify_content": null,
            "justify_items": null,
            "left": null,
            "margin": null,
            "max_height": null,
            "max_width": null,
            "min_height": null,
            "min_width": null,
            "object_fit": null,
            "object_position": null,
            "order": null,
            "overflow": null,
            "overflow_x": null,
            "overflow_y": null,
            "padding": null,
            "right": null,
            "top": null,
            "visibility": null,
            "width": null
          }
        },
        "b1239df275a846dd8ac6b77683bc0f4b": {
          "model_module": "@jupyter-widgets/base",
          "model_name": "LayoutModel",
          "model_module_version": "1.2.0",
          "state": {
            "_model_module": "@jupyter-widgets/base",
            "_model_module_version": "1.2.0",
            "_model_name": "LayoutModel",
            "_view_count": null,
            "_view_module": "@jupyter-widgets/base",
            "_view_module_version": "1.2.0",
            "_view_name": "LayoutView",
            "align_content": null,
            "align_items": null,
            "align_self": null,
            "border": null,
            "bottom": null,
            "display": null,
            "flex": null,
            "flex_flow": null,
            "grid_area": null,
            "grid_auto_columns": null,
            "grid_auto_flow": null,
            "grid_auto_rows": null,
            "grid_column": null,
            "grid_gap": null,
            "grid_row": null,
            "grid_template_areas": null,
            "grid_template_columns": null,
            "grid_template_rows": null,
            "height": null,
            "justify_content": null,
            "justify_items": null,
            "left": null,
            "margin": null,
            "max_height": null,
            "max_width": null,
            "min_height": null,
            "min_width": null,
            "object_fit": null,
            "object_position": null,
            "order": null,
            "overflow": null,
            "overflow_x": null,
            "overflow_y": null,
            "padding": null,
            "right": null,
            "top": null,
            "visibility": null,
            "width": null
          }
        },
        "25f3f75f8cd94801b98f195bc571bc9d": {
          "model_module": "@jupyter-widgets/controls",
          "model_name": "DescriptionStyleModel",
          "model_module_version": "1.5.0",
          "state": {
            "_model_module": "@jupyter-widgets/controls",
            "_model_module_version": "1.5.0",
            "_model_name": "DescriptionStyleModel",
            "_view_count": null,
            "_view_module": "@jupyter-widgets/base",
            "_view_module_version": "1.2.0",
            "_view_name": "StyleView",
            "description_width": ""
          }
        },
        "d88c55c96794413bac4b5d291811e735": {
          "model_module": "@jupyter-widgets/base",
          "model_name": "LayoutModel",
          "model_module_version": "1.2.0",
          "state": {
            "_model_module": "@jupyter-widgets/base",
            "_model_module_version": "1.2.0",
            "_model_name": "LayoutModel",
            "_view_count": null,
            "_view_module": "@jupyter-widgets/base",
            "_view_module_version": "1.2.0",
            "_view_name": "LayoutView",
            "align_content": null,
            "align_items": null,
            "align_self": null,
            "border": null,
            "bottom": null,
            "display": null,
            "flex": null,
            "flex_flow": null,
            "grid_area": null,
            "grid_auto_columns": null,
            "grid_auto_flow": null,
            "grid_auto_rows": null,
            "grid_column": null,
            "grid_gap": null,
            "grid_row": null,
            "grid_template_areas": null,
            "grid_template_columns": null,
            "grid_template_rows": null,
            "height": null,
            "justify_content": null,
            "justify_items": null,
            "left": null,
            "margin": null,
            "max_height": null,
            "max_width": null,
            "min_height": null,
            "min_width": null,
            "object_fit": null,
            "object_position": null,
            "order": null,
            "overflow": null,
            "overflow_x": null,
            "overflow_y": null,
            "padding": null,
            "right": null,
            "top": null,
            "visibility": null,
            "width": "20px"
          }
        },
        "ebaa68db39ae483086703d2fe4513803": {
          "model_module": "@jupyter-widgets/controls",
          "model_name": "ProgressStyleModel",
          "model_module_version": "1.5.0",
          "state": {
            "_model_module": "@jupyter-widgets/controls",
            "_model_module_version": "1.5.0",
            "_model_name": "ProgressStyleModel",
            "_view_count": null,
            "_view_module": "@jupyter-widgets/base",
            "_view_module_version": "1.2.0",
            "_view_name": "StyleView",
            "bar_color": null,
            "description_width": ""
          }
        },
        "7d69b8db9bcd47bd8cfa360d3e9a1906": {
          "model_module": "@jupyter-widgets/base",
          "model_name": "LayoutModel",
          "model_module_version": "1.2.0",
          "state": {
            "_model_module": "@jupyter-widgets/base",
            "_model_module_version": "1.2.0",
            "_model_name": "LayoutModel",
            "_view_count": null,
            "_view_module": "@jupyter-widgets/base",
            "_view_module_version": "1.2.0",
            "_view_name": "LayoutView",
            "align_content": null,
            "align_items": null,
            "align_self": null,
            "border": null,
            "bottom": null,
            "display": null,
            "flex": null,
            "flex_flow": null,
            "grid_area": null,
            "grid_auto_columns": null,
            "grid_auto_flow": null,
            "grid_auto_rows": null,
            "grid_column": null,
            "grid_gap": null,
            "grid_row": null,
            "grid_template_areas": null,
            "grid_template_columns": null,
            "grid_template_rows": null,
            "height": null,
            "justify_content": null,
            "justify_items": null,
            "left": null,
            "margin": null,
            "max_height": null,
            "max_width": null,
            "min_height": null,
            "min_width": null,
            "object_fit": null,
            "object_position": null,
            "order": null,
            "overflow": null,
            "overflow_x": null,
            "overflow_y": null,
            "padding": null,
            "right": null,
            "top": null,
            "visibility": null,
            "width": null
          }
        },
        "dade01cb85a04114bd46c8ecdb6358e2": {
          "model_module": "@jupyter-widgets/controls",
          "model_name": "DescriptionStyleModel",
          "model_module_version": "1.5.0",
          "state": {
            "_model_module": "@jupyter-widgets/controls",
            "_model_module_version": "1.5.0",
            "_model_name": "DescriptionStyleModel",
            "_view_count": null,
            "_view_module": "@jupyter-widgets/base",
            "_view_module_version": "1.2.0",
            "_view_name": "StyleView",
            "description_width": ""
          }
        },
        "b905c87ebcf14394abb864f6fa49df0f": {
          "model_module": "@jupyter-widgets/controls",
          "model_name": "HBoxModel",
          "model_module_version": "1.5.0",
          "state": {
            "_dom_classes": [],
            "_model_module": "@jupyter-widgets/controls",
            "_model_module_version": "1.5.0",
            "_model_name": "HBoxModel",
            "_view_count": null,
            "_view_module": "@jupyter-widgets/controls",
            "_view_module_version": "1.5.0",
            "_view_name": "HBoxView",
            "box_style": "",
            "children": [
              "IPY_MODEL_6d99b8175d5d4949ae556da2ff66114b",
              "IPY_MODEL_46e266d1feb141709ac7a5b417311fa2",
              "IPY_MODEL_73785be430fc4147b97e69ff5a1ceac5"
            ],
            "layout": "IPY_MODEL_87740e8d3fa14148bf5a2a9d8e050bb1"
          }
        },
        "6d99b8175d5d4949ae556da2ff66114b": {
          "model_module": "@jupyter-widgets/controls",
          "model_name": "HTMLModel",
          "model_module_version": "1.5.0",
          "state": {
            "_dom_classes": [],
            "_model_module": "@jupyter-widgets/controls",
            "_model_module_version": "1.5.0",
            "_model_name": "HTMLModel",
            "_view_count": null,
            "_view_module": "@jupyter-widgets/controls",
            "_view_module_version": "1.5.0",
            "_view_name": "HTMLView",
            "description": "",
            "description_tooltip": null,
            "layout": "IPY_MODEL_a84ee072ef16479b8b5b5b3c6b628248",
            "placeholder": "​",
            "style": "IPY_MODEL_6cbd8437d42e475fb584fdf6330ce1b5",
            "value": "Extraction completed...: 100%"
          }
        },
        "46e266d1feb141709ac7a5b417311fa2": {
          "model_module": "@jupyter-widgets/controls",
          "model_name": "FloatProgressModel",
          "model_module_version": "1.5.0",
          "state": {
            "_dom_classes": [],
            "_model_module": "@jupyter-widgets/controls",
            "_model_module_version": "1.5.0",
            "_model_name": "FloatProgressModel",
            "_view_count": null,
            "_view_module": "@jupyter-widgets/controls",
            "_view_module_version": "1.5.0",
            "_view_name": "ProgressView",
            "bar_style": "success",
            "description": "",
            "description_tooltip": null,
            "layout": "IPY_MODEL_9e989da3706747258fca5bccec4ea970",
            "max": 1,
            "min": 0,
            "orientation": "horizontal",
            "style": "IPY_MODEL_3dff8ada5ee4455e9cb38d8ab8e9cab9",
            "value": 1
          }
        },
        "73785be430fc4147b97e69ff5a1ceac5": {
          "model_module": "@jupyter-widgets/controls",
          "model_name": "HTMLModel",
          "model_module_version": "1.5.0",
          "state": {
            "_dom_classes": [],
            "_model_module": "@jupyter-widgets/controls",
            "_model_module_version": "1.5.0",
            "_model_name": "HTMLModel",
            "_view_count": null,
            "_view_module": "@jupyter-widgets/controls",
            "_view_module_version": "1.5.0",
            "_view_name": "HTMLView",
            "description": "",
            "description_tooltip": null,
            "layout": "IPY_MODEL_f6afc4c79c9f47d289615fd7389a0ce1",
            "placeholder": "​",
            "style": "IPY_MODEL_396cb0f1fcdb4018874d5245fe5e602a",
            "value": " 1/1 [05:43&lt;00:00, 343.33s/ file]"
          }
        },
        "87740e8d3fa14148bf5a2a9d8e050bb1": {
          "model_module": "@jupyter-widgets/base",
          "model_name": "LayoutModel",
          "model_module_version": "1.2.0",
          "state": {
            "_model_module": "@jupyter-widgets/base",
            "_model_module_version": "1.2.0",
            "_model_name": "LayoutModel",
            "_view_count": null,
            "_view_module": "@jupyter-widgets/base",
            "_view_module_version": "1.2.0",
            "_view_name": "LayoutView",
            "align_content": null,
            "align_items": null,
            "align_self": null,
            "border": null,
            "bottom": null,
            "display": null,
            "flex": null,
            "flex_flow": null,
            "grid_area": null,
            "grid_auto_columns": null,
            "grid_auto_flow": null,
            "grid_auto_rows": null,
            "grid_column": null,
            "grid_gap": null,
            "grid_row": null,
            "grid_template_areas": null,
            "grid_template_columns": null,
            "grid_template_rows": null,
            "height": null,
            "justify_content": null,
            "justify_items": null,
            "left": null,
            "margin": null,
            "max_height": null,
            "max_width": null,
            "min_height": null,
            "min_width": null,
            "object_fit": null,
            "object_position": null,
            "order": null,
            "overflow": null,
            "overflow_x": null,
            "overflow_y": null,
            "padding": null,
            "right": null,
            "top": null,
            "visibility": null,
            "width": null
          }
        },
        "a84ee072ef16479b8b5b5b3c6b628248": {
          "model_module": "@jupyter-widgets/base",
          "model_name": "LayoutModel",
          "model_module_version": "1.2.0",
          "state": {
            "_model_module": "@jupyter-widgets/base",
            "_model_module_version": "1.2.0",
            "_model_name": "LayoutModel",
            "_view_count": null,
            "_view_module": "@jupyter-widgets/base",
            "_view_module_version": "1.2.0",
            "_view_name": "LayoutView",
            "align_content": null,
            "align_items": null,
            "align_self": null,
            "border": null,
            "bottom": null,
            "display": null,
            "flex": null,
            "flex_flow": null,
            "grid_area": null,
            "grid_auto_columns": null,
            "grid_auto_flow": null,
            "grid_auto_rows": null,
            "grid_column": null,
            "grid_gap": null,
            "grid_row": null,
            "grid_template_areas": null,
            "grid_template_columns": null,
            "grid_template_rows": null,
            "height": null,
            "justify_content": null,
            "justify_items": null,
            "left": null,
            "margin": null,
            "max_height": null,
            "max_width": null,
            "min_height": null,
            "min_width": null,
            "object_fit": null,
            "object_position": null,
            "order": null,
            "overflow": null,
            "overflow_x": null,
            "overflow_y": null,
            "padding": null,
            "right": null,
            "top": null,
            "visibility": null,
            "width": null
          }
        },
        "6cbd8437d42e475fb584fdf6330ce1b5": {
          "model_module": "@jupyter-widgets/controls",
          "model_name": "DescriptionStyleModel",
          "model_module_version": "1.5.0",
          "state": {
            "_model_module": "@jupyter-widgets/controls",
            "_model_module_version": "1.5.0",
            "_model_name": "DescriptionStyleModel",
            "_view_count": null,
            "_view_module": "@jupyter-widgets/base",
            "_view_module_version": "1.2.0",
            "_view_name": "StyleView",
            "description_width": ""
          }
        },
        "9e989da3706747258fca5bccec4ea970": {
          "model_module": "@jupyter-widgets/base",
          "model_name": "LayoutModel",
          "model_module_version": "1.2.0",
          "state": {
            "_model_module": "@jupyter-widgets/base",
            "_model_module_version": "1.2.0",
            "_model_name": "LayoutModel",
            "_view_count": null,
            "_view_module": "@jupyter-widgets/base",
            "_view_module_version": "1.2.0",
            "_view_name": "LayoutView",
            "align_content": null,
            "align_items": null,
            "align_self": null,
            "border": null,
            "bottom": null,
            "display": null,
            "flex": null,
            "flex_flow": null,
            "grid_area": null,
            "grid_auto_columns": null,
            "grid_auto_flow": null,
            "grid_auto_rows": null,
            "grid_column": null,
            "grid_gap": null,
            "grid_row": null,
            "grid_template_areas": null,
            "grid_template_columns": null,
            "grid_template_rows": null,
            "height": null,
            "justify_content": null,
            "justify_items": null,
            "left": null,
            "margin": null,
            "max_height": null,
            "max_width": null,
            "min_height": null,
            "min_width": null,
            "object_fit": null,
            "object_position": null,
            "order": null,
            "overflow": null,
            "overflow_x": null,
            "overflow_y": null,
            "padding": null,
            "right": null,
            "top": null,
            "visibility": null,
            "width": "20px"
          }
        },
        "3dff8ada5ee4455e9cb38d8ab8e9cab9": {
          "model_module": "@jupyter-widgets/controls",
          "model_name": "ProgressStyleModel",
          "model_module_version": "1.5.0",
          "state": {
            "_model_module": "@jupyter-widgets/controls",
            "_model_module_version": "1.5.0",
            "_model_name": "ProgressStyleModel",
            "_view_count": null,
            "_view_module": "@jupyter-widgets/base",
            "_view_module_version": "1.2.0",
            "_view_name": "StyleView",
            "bar_color": null,
            "description_width": ""
          }
        },
        "f6afc4c79c9f47d289615fd7389a0ce1": {
          "model_module": "@jupyter-widgets/base",
          "model_name": "LayoutModel",
          "model_module_version": "1.2.0",
          "state": {
            "_model_module": "@jupyter-widgets/base",
            "_model_module_version": "1.2.0",
            "_model_name": "LayoutModel",
            "_view_count": null,
            "_view_module": "@jupyter-widgets/base",
            "_view_module_version": "1.2.0",
            "_view_name": "LayoutView",
            "align_content": null,
            "align_items": null,
            "align_self": null,
            "border": null,
            "bottom": null,
            "display": null,
            "flex": null,
            "flex_flow": null,
            "grid_area": null,
            "grid_auto_columns": null,
            "grid_auto_flow": null,
            "grid_auto_rows": null,
            "grid_column": null,
            "grid_gap": null,
            "grid_row": null,
            "grid_template_areas": null,
            "grid_template_columns": null,
            "grid_template_rows": null,
            "height": null,
            "justify_content": null,
            "justify_items": null,
            "left": null,
            "margin": null,
            "max_height": null,
            "max_width": null,
            "min_height": null,
            "min_width": null,
            "object_fit": null,
            "object_position": null,
            "order": null,
            "overflow": null,
            "overflow_x": null,
            "overflow_y": null,
            "padding": null,
            "right": null,
            "top": null,
            "visibility": null,
            "width": null
          }
        },
        "396cb0f1fcdb4018874d5245fe5e602a": {
          "model_module": "@jupyter-widgets/controls",
          "model_name": "DescriptionStyleModel",
          "model_module_version": "1.5.0",
          "state": {
            "_model_module": "@jupyter-widgets/controls",
            "_model_module_version": "1.5.0",
            "_model_name": "DescriptionStyleModel",
            "_view_count": null,
            "_view_module": "@jupyter-widgets/base",
            "_view_module_version": "1.2.0",
            "_view_name": "StyleView",
            "description_width": ""
          }
        },
        "fb2bb23cd1ba42e698b3447e5437851a": {
          "model_module": "@jupyter-widgets/controls",
          "model_name": "HBoxModel",
          "model_module_version": "1.5.0",
          "state": {
            "_dom_classes": [],
            "_model_module": "@jupyter-widgets/controls",
            "_model_module_version": "1.5.0",
            "_model_name": "HBoxModel",
            "_view_count": null,
            "_view_module": "@jupyter-widgets/controls",
            "_view_module_version": "1.5.0",
            "_view_name": "HBoxView",
            "box_style": "",
            "children": [
              "IPY_MODEL_5125615b1afd4ef6b8b4bdaed7acaea7",
              "IPY_MODEL_0490dec57be943a2a97f575c6a2e2f72",
              "IPY_MODEL_f05ecdaf735c4b339b77fd9266347698"
            ],
            "layout": "IPY_MODEL_58d4f06750bf460ea8790b091e770557"
          }
        },
        "5125615b1afd4ef6b8b4bdaed7acaea7": {
          "model_module": "@jupyter-widgets/controls",
          "model_name": "HTMLModel",
          "model_module_version": "1.5.0",
          "state": {
            "_dom_classes": [],
            "_model_module": "@jupyter-widgets/controls",
            "_model_module_version": "1.5.0",
            "_model_name": "HTMLModel",
            "_view_count": null,
            "_view_module": "@jupyter-widgets/controls",
            "_view_module_version": "1.5.0",
            "_view_name": "HTMLView",
            "description": "",
            "description_tooltip": null,
            "layout": "IPY_MODEL_314f20acbd43437ab42a261da1de5b7a",
            "placeholder": "​",
            "style": "IPY_MODEL_ef33ded400c2470d8ae0ad2c1ba75f42",
            "value": "Generating splits...: 100%"
          }
        },
        "0490dec57be943a2a97f575c6a2e2f72": {
          "model_module": "@jupyter-widgets/controls",
          "model_name": "FloatProgressModel",
          "model_module_version": "1.5.0",
          "state": {
            "_dom_classes": [],
            "_model_module": "@jupyter-widgets/controls",
            "_model_module_version": "1.5.0",
            "_model_name": "FloatProgressModel",
            "_view_count": null,
            "_view_module": "@jupyter-widgets/controls",
            "_view_module_version": "1.5.0",
            "_view_name": "ProgressView",
            "bar_style": "",
            "description": "",
            "description_tooltip": null,
            "layout": "IPY_MODEL_6343b8605b7645ab90129b17e3340ce7",
            "max": 2,
            "min": 0,
            "orientation": "horizontal",
            "style": "IPY_MODEL_19a4ca81076b4023a239af797dc47540",
            "value": 2
          }
        },
        "f05ecdaf735c4b339b77fd9266347698": {
          "model_module": "@jupyter-widgets/controls",
          "model_name": "HTMLModel",
          "model_module_version": "1.5.0",
          "state": {
            "_dom_classes": [],
            "_model_module": "@jupyter-widgets/controls",
            "_model_module_version": "1.5.0",
            "_model_name": "HTMLModel",
            "_view_count": null,
            "_view_module": "@jupyter-widgets/controls",
            "_view_module_version": "1.5.0",
            "_view_name": "HTMLView",
            "description": "",
            "description_tooltip": null,
            "layout": "IPY_MODEL_512a349e8a2044ea98445f051b8b3331",
            "placeholder": "​",
            "style": "IPY_MODEL_abdcbe2d86b940259668213522092451",
            "value": " 2/2 [03:33&lt;00:00, 99.82s/ splits]"
          }
        },
        "58d4f06750bf460ea8790b091e770557": {
          "model_module": "@jupyter-widgets/base",
          "model_name": "LayoutModel",
          "model_module_version": "1.2.0",
          "state": {
            "_model_module": "@jupyter-widgets/base",
            "_model_module_version": "1.2.0",
            "_model_name": "LayoutModel",
            "_view_count": null,
            "_view_module": "@jupyter-widgets/base",
            "_view_module_version": "1.2.0",
            "_view_name": "LayoutView",
            "align_content": null,
            "align_items": null,
            "align_self": null,
            "border": null,
            "bottom": null,
            "display": null,
            "flex": null,
            "flex_flow": null,
            "grid_area": null,
            "grid_auto_columns": null,
            "grid_auto_flow": null,
            "grid_auto_rows": null,
            "grid_column": null,
            "grid_gap": null,
            "grid_row": null,
            "grid_template_areas": null,
            "grid_template_columns": null,
            "grid_template_rows": null,
            "height": null,
            "justify_content": null,
            "justify_items": null,
            "left": null,
            "margin": null,
            "max_height": null,
            "max_width": null,
            "min_height": null,
            "min_width": null,
            "object_fit": null,
            "object_position": null,
            "order": null,
            "overflow": null,
            "overflow_x": null,
            "overflow_y": null,
            "padding": null,
            "right": null,
            "top": null,
            "visibility": "hidden",
            "width": null
          }
        },
        "314f20acbd43437ab42a261da1de5b7a": {
          "model_module": "@jupyter-widgets/base",
          "model_name": "LayoutModel",
          "model_module_version": "1.2.0",
          "state": {
            "_model_module": "@jupyter-widgets/base",
            "_model_module_version": "1.2.0",
            "_model_name": "LayoutModel",
            "_view_count": null,
            "_view_module": "@jupyter-widgets/base",
            "_view_module_version": "1.2.0",
            "_view_name": "LayoutView",
            "align_content": null,
            "align_items": null,
            "align_self": null,
            "border": null,
            "bottom": null,
            "display": null,
            "flex": null,
            "flex_flow": null,
            "grid_area": null,
            "grid_auto_columns": null,
            "grid_auto_flow": null,
            "grid_auto_rows": null,
            "grid_column": null,
            "grid_gap": null,
            "grid_row": null,
            "grid_template_areas": null,
            "grid_template_columns": null,
            "grid_template_rows": null,
            "height": null,
            "justify_content": null,
            "justify_items": null,
            "left": null,
            "margin": null,
            "max_height": null,
            "max_width": null,
            "min_height": null,
            "min_width": null,
            "object_fit": null,
            "object_position": null,
            "order": null,
            "overflow": null,
            "overflow_x": null,
            "overflow_y": null,
            "padding": null,
            "right": null,
            "top": null,
            "visibility": null,
            "width": null
          }
        },
        "ef33ded400c2470d8ae0ad2c1ba75f42": {
          "model_module": "@jupyter-widgets/controls",
          "model_name": "DescriptionStyleModel",
          "model_module_version": "1.5.0",
          "state": {
            "_model_module": "@jupyter-widgets/controls",
            "_model_module_version": "1.5.0",
            "_model_name": "DescriptionStyleModel",
            "_view_count": null,
            "_view_module": "@jupyter-widgets/base",
            "_view_module_version": "1.2.0",
            "_view_name": "StyleView",
            "description_width": ""
          }
        },
        "6343b8605b7645ab90129b17e3340ce7": {
          "model_module": "@jupyter-widgets/base",
          "model_name": "LayoutModel",
          "model_module_version": "1.2.0",
          "state": {
            "_model_module": "@jupyter-widgets/base",
            "_model_module_version": "1.2.0",
            "_model_name": "LayoutModel",
            "_view_count": null,
            "_view_module": "@jupyter-widgets/base",
            "_view_module_version": "1.2.0",
            "_view_name": "LayoutView",
            "align_content": null,
            "align_items": null,
            "align_self": null,
            "border": null,
            "bottom": null,
            "display": null,
            "flex": null,
            "flex_flow": null,
            "grid_area": null,
            "grid_auto_columns": null,
            "grid_auto_flow": null,
            "grid_auto_rows": null,
            "grid_column": null,
            "grid_gap": null,
            "grid_row": null,
            "grid_template_areas": null,
            "grid_template_columns": null,
            "grid_template_rows": null,
            "height": null,
            "justify_content": null,
            "justify_items": null,
            "left": null,
            "margin": null,
            "max_height": null,
            "max_width": null,
            "min_height": null,
            "min_width": null,
            "object_fit": null,
            "object_position": null,
            "order": null,
            "overflow": null,
            "overflow_x": null,
            "overflow_y": null,
            "padding": null,
            "right": null,
            "top": null,
            "visibility": null,
            "width": null
          }
        },
        "19a4ca81076b4023a239af797dc47540": {
          "model_module": "@jupyter-widgets/controls",
          "model_name": "ProgressStyleModel",
          "model_module_version": "1.5.0",
          "state": {
            "_model_module": "@jupyter-widgets/controls",
            "_model_module_version": "1.5.0",
            "_model_name": "ProgressStyleModel",
            "_view_count": null,
            "_view_module": "@jupyter-widgets/base",
            "_view_module_version": "1.2.0",
            "_view_name": "StyleView",
            "bar_color": null,
            "description_width": ""
          }
        },
        "512a349e8a2044ea98445f051b8b3331": {
          "model_module": "@jupyter-widgets/base",
          "model_name": "LayoutModel",
          "model_module_version": "1.2.0",
          "state": {
            "_model_module": "@jupyter-widgets/base",
            "_model_module_version": "1.2.0",
            "_model_name": "LayoutModel",
            "_view_count": null,
            "_view_module": "@jupyter-widgets/base",
            "_view_module_version": "1.2.0",
            "_view_name": "LayoutView",
            "align_content": null,
            "align_items": null,
            "align_self": null,
            "border": null,
            "bottom": null,
            "display": null,
            "flex": null,
            "flex_flow": null,
            "grid_area": null,
            "grid_auto_columns": null,
            "grid_auto_flow": null,
            "grid_auto_rows": null,
            "grid_column": null,
            "grid_gap": null,
            "grid_row": null,
            "grid_template_areas": null,
            "grid_template_columns": null,
            "grid_template_rows": null,
            "height": null,
            "justify_content": null,
            "justify_items": null,
            "left": null,
            "margin": null,
            "max_height": null,
            "max_width": null,
            "min_height": null,
            "min_width": null,
            "object_fit": null,
            "object_position": null,
            "order": null,
            "overflow": null,
            "overflow_x": null,
            "overflow_y": null,
            "padding": null,
            "right": null,
            "top": null,
            "visibility": null,
            "width": null
          }
        },
        "abdcbe2d86b940259668213522092451": {
          "model_module": "@jupyter-widgets/controls",
          "model_name": "DescriptionStyleModel",
          "model_module_version": "1.5.0",
          "state": {
            "_model_module": "@jupyter-widgets/controls",
            "_model_module_version": "1.5.0",
            "_model_name": "DescriptionStyleModel",
            "_view_count": null,
            "_view_module": "@jupyter-widgets/base",
            "_view_module_version": "1.2.0",
            "_view_name": "StyleView",
            "description_width": ""
          }
        },
        "e0f9c73b97c0494189a92c6d5fc39804": {
          "model_module": "@jupyter-widgets/controls",
          "model_name": "HBoxModel",
          "model_module_version": "1.5.0",
          "state": {
            "_dom_classes": [],
            "_model_module": "@jupyter-widgets/controls",
            "_model_module_version": "1.5.0",
            "_model_name": "HBoxModel",
            "_view_count": null,
            "_view_module": "@jupyter-widgets/controls",
            "_view_module_version": "1.5.0",
            "_view_name": "HBoxView",
            "box_style": "",
            "children": [
              "IPY_MODEL_237858368e0046c5907b7325b5d3959d",
              "IPY_MODEL_242f6c574e374c4fb7faa6634630ec02",
              "IPY_MODEL_ec28501044f247b7b6ead1c49d6cc259"
            ],
            "layout": "IPY_MODEL_7b9c5da70f114e19a6a0a516345df137"
          }
        },
        "237858368e0046c5907b7325b5d3959d": {
          "model_module": "@jupyter-widgets/controls",
          "model_name": "HTMLModel",
          "model_module_version": "1.5.0",
          "state": {
            "_dom_classes": [],
            "_model_module": "@jupyter-widgets/controls",
            "_model_module_version": "1.5.0",
            "_model_name": "HTMLModel",
            "_view_count": null,
            "_view_module": "@jupyter-widgets/controls",
            "_view_module_version": "1.5.0",
            "_view_name": "HTMLView",
            "description": "",
            "description_tooltip": null,
            "layout": "IPY_MODEL_7be1e432add5495bbade2f9bdf1bfa59",
            "placeholder": "​",
            "style": "IPY_MODEL_04bafba6b39a4ad686d1f0b912c5ac22",
            "value": "Generating train examples...: 100%"
          }
        },
        "242f6c574e374c4fb7faa6634630ec02": {
          "model_module": "@jupyter-widgets/controls",
          "model_name": "FloatProgressModel",
          "model_module_version": "1.5.0",
          "state": {
            "_dom_classes": [],
            "_model_module": "@jupyter-widgets/controls",
            "_model_module_version": "1.5.0",
            "_model_name": "FloatProgressModel",
            "_view_count": null,
            "_view_module": "@jupyter-widgets/controls",
            "_view_module_version": "1.5.0",
            "_view_name": "ProgressView",
            "bar_style": "",
            "description": "",
            "description_tooltip": null,
            "layout": "IPY_MODEL_f2f6120879074e35a604f26e0a135d4d",
            "max": 75750,
            "min": 0,
            "orientation": "horizontal",
            "style": "IPY_MODEL_b0196fceb04a4abcad804ebf183fe0c3",
            "value": 75750
          }
        },
        "ec28501044f247b7b6ead1c49d6cc259": {
          "model_module": "@jupyter-widgets/controls",
          "model_name": "HTMLModel",
          "model_module_version": "1.5.0",
          "state": {
            "_dom_classes": [],
            "_model_module": "@jupyter-widgets/controls",
            "_model_module_version": "1.5.0",
            "_model_name": "HTMLModel",
            "_view_count": null,
            "_view_module": "@jupyter-widgets/controls",
            "_view_module_version": "1.5.0",
            "_view_name": "HTMLView",
            "description": "",
            "description_tooltip": null,
            "layout": "IPY_MODEL_dd3a9b82ba824929a51fcbc7e1c658ba",
            "placeholder": "​",
            "style": "IPY_MODEL_e69846734d5447799f032964e4c6fb7d",
            "value": " 75696/75750 [01:54&lt;00:00, 782.28 examples/s]"
          }
        },
        "7b9c5da70f114e19a6a0a516345df137": {
          "model_module": "@jupyter-widgets/base",
          "model_name": "LayoutModel",
          "model_module_version": "1.2.0",
          "state": {
            "_model_module": "@jupyter-widgets/base",
            "_model_module_version": "1.2.0",
            "_model_name": "LayoutModel",
            "_view_count": null,
            "_view_module": "@jupyter-widgets/base",
            "_view_module_version": "1.2.0",
            "_view_name": "LayoutView",
            "align_content": null,
            "align_items": null,
            "align_self": null,
            "border": null,
            "bottom": null,
            "display": null,
            "flex": null,
            "flex_flow": null,
            "grid_area": null,
            "grid_auto_columns": null,
            "grid_auto_flow": null,
            "grid_auto_rows": null,
            "grid_column": null,
            "grid_gap": null,
            "grid_row": null,
            "grid_template_areas": null,
            "grid_template_columns": null,
            "grid_template_rows": null,
            "height": null,
            "justify_content": null,
            "justify_items": null,
            "left": null,
            "margin": null,
            "max_height": null,
            "max_width": null,
            "min_height": null,
            "min_width": null,
            "object_fit": null,
            "object_position": null,
            "order": null,
            "overflow": null,
            "overflow_x": null,
            "overflow_y": null,
            "padding": null,
            "right": null,
            "top": null,
            "visibility": "hidden",
            "width": null
          }
        },
        "7be1e432add5495bbade2f9bdf1bfa59": {
          "model_module": "@jupyter-widgets/base",
          "model_name": "LayoutModel",
          "model_module_version": "1.2.0",
          "state": {
            "_model_module": "@jupyter-widgets/base",
            "_model_module_version": "1.2.0",
            "_model_name": "LayoutModel",
            "_view_count": null,
            "_view_module": "@jupyter-widgets/base",
            "_view_module_version": "1.2.0",
            "_view_name": "LayoutView",
            "align_content": null,
            "align_items": null,
            "align_self": null,
            "border": null,
            "bottom": null,
            "display": null,
            "flex": null,
            "flex_flow": null,
            "grid_area": null,
            "grid_auto_columns": null,
            "grid_auto_flow": null,
            "grid_auto_rows": null,
            "grid_column": null,
            "grid_gap": null,
            "grid_row": null,
            "grid_template_areas": null,
            "grid_template_columns": null,
            "grid_template_rows": null,
            "height": null,
            "justify_content": null,
            "justify_items": null,
            "left": null,
            "margin": null,
            "max_height": null,
            "max_width": null,
            "min_height": null,
            "min_width": null,
            "object_fit": null,
            "object_position": null,
            "order": null,
            "overflow": null,
            "overflow_x": null,
            "overflow_y": null,
            "padding": null,
            "right": null,
            "top": null,
            "visibility": null,
            "width": null
          }
        },
        "04bafba6b39a4ad686d1f0b912c5ac22": {
          "model_module": "@jupyter-widgets/controls",
          "model_name": "DescriptionStyleModel",
          "model_module_version": "1.5.0",
          "state": {
            "_model_module": "@jupyter-widgets/controls",
            "_model_module_version": "1.5.0",
            "_model_name": "DescriptionStyleModel",
            "_view_count": null,
            "_view_module": "@jupyter-widgets/base",
            "_view_module_version": "1.2.0",
            "_view_name": "StyleView",
            "description_width": ""
          }
        },
        "f2f6120879074e35a604f26e0a135d4d": {
          "model_module": "@jupyter-widgets/base",
          "model_name": "LayoutModel",
          "model_module_version": "1.2.0",
          "state": {
            "_model_module": "@jupyter-widgets/base",
            "_model_module_version": "1.2.0",
            "_model_name": "LayoutModel",
            "_view_count": null,
            "_view_module": "@jupyter-widgets/base",
            "_view_module_version": "1.2.0",
            "_view_name": "LayoutView",
            "align_content": null,
            "align_items": null,
            "align_self": null,
            "border": null,
            "bottom": null,
            "display": null,
            "flex": null,
            "flex_flow": null,
            "grid_area": null,
            "grid_auto_columns": null,
            "grid_auto_flow": null,
            "grid_auto_rows": null,
            "grid_column": null,
            "grid_gap": null,
            "grid_row": null,
            "grid_template_areas": null,
            "grid_template_columns": null,
            "grid_template_rows": null,
            "height": null,
            "justify_content": null,
            "justify_items": null,
            "left": null,
            "margin": null,
            "max_height": null,
            "max_width": null,
            "min_height": null,
            "min_width": null,
            "object_fit": null,
            "object_position": null,
            "order": null,
            "overflow": null,
            "overflow_x": null,
            "overflow_y": null,
            "padding": null,
            "right": null,
            "top": null,
            "visibility": null,
            "width": null
          }
        },
        "b0196fceb04a4abcad804ebf183fe0c3": {
          "model_module": "@jupyter-widgets/controls",
          "model_name": "ProgressStyleModel",
          "model_module_version": "1.5.0",
          "state": {
            "_model_module": "@jupyter-widgets/controls",
            "_model_module_version": "1.5.0",
            "_model_name": "ProgressStyleModel",
            "_view_count": null,
            "_view_module": "@jupyter-widgets/base",
            "_view_module_version": "1.2.0",
            "_view_name": "StyleView",
            "bar_color": null,
            "description_width": ""
          }
        },
        "dd3a9b82ba824929a51fcbc7e1c658ba": {
          "model_module": "@jupyter-widgets/base",
          "model_name": "LayoutModel",
          "model_module_version": "1.2.0",
          "state": {
            "_model_module": "@jupyter-widgets/base",
            "_model_module_version": "1.2.0",
            "_model_name": "LayoutModel",
            "_view_count": null,
            "_view_module": "@jupyter-widgets/base",
            "_view_module_version": "1.2.0",
            "_view_name": "LayoutView",
            "align_content": null,
            "align_items": null,
            "align_self": null,
            "border": null,
            "bottom": null,
            "display": null,
            "flex": null,
            "flex_flow": null,
            "grid_area": null,
            "grid_auto_columns": null,
            "grid_auto_flow": null,
            "grid_auto_rows": null,
            "grid_column": null,
            "grid_gap": null,
            "grid_row": null,
            "grid_template_areas": null,
            "grid_template_columns": null,
            "grid_template_rows": null,
            "height": null,
            "justify_content": null,
            "justify_items": null,
            "left": null,
            "margin": null,
            "max_height": null,
            "max_width": null,
            "min_height": null,
            "min_width": null,
            "object_fit": null,
            "object_position": null,
            "order": null,
            "overflow": null,
            "overflow_x": null,
            "overflow_y": null,
            "padding": null,
            "right": null,
            "top": null,
            "visibility": null,
            "width": null
          }
        },
        "e69846734d5447799f032964e4c6fb7d": {
          "model_module": "@jupyter-widgets/controls",
          "model_name": "DescriptionStyleModel",
          "model_module_version": "1.5.0",
          "state": {
            "_model_module": "@jupyter-widgets/controls",
            "_model_module_version": "1.5.0",
            "_model_name": "DescriptionStyleModel",
            "_view_count": null,
            "_view_module": "@jupyter-widgets/base",
            "_view_module_version": "1.2.0",
            "_view_name": "StyleView",
            "description_width": ""
          }
        },
        "515a48b2137b4d69a1121dff10d708ed": {
          "model_module": "@jupyter-widgets/controls",
          "model_name": "HBoxModel",
          "model_module_version": "1.5.0",
          "state": {
            "_dom_classes": [],
            "_model_module": "@jupyter-widgets/controls",
            "_model_module_version": "1.5.0",
            "_model_name": "HBoxModel",
            "_view_count": null,
            "_view_module": "@jupyter-widgets/controls",
            "_view_module_version": "1.5.0",
            "_view_name": "HBoxView",
            "box_style": "",
            "children": [
              "IPY_MODEL_e78b9a14a146423e8d7d816f48244af7",
              "IPY_MODEL_ebba65a8c061432b9f43da607c0f0e98",
              "IPY_MODEL_1af6f0a3e076485b9dea4b48d1cedfd7"
            ],
            "layout": "IPY_MODEL_767b93058d734493bc405b7278451f5d"
          }
        },
        "e78b9a14a146423e8d7d816f48244af7": {
          "model_module": "@jupyter-widgets/controls",
          "model_name": "HTMLModel",
          "model_module_version": "1.5.0",
          "state": {
            "_dom_classes": [],
            "_model_module": "@jupyter-widgets/controls",
            "_model_module_version": "1.5.0",
            "_model_name": "HTMLModel",
            "_view_count": null,
            "_view_module": "@jupyter-widgets/controls",
            "_view_module_version": "1.5.0",
            "_view_name": "HTMLView",
            "description": "",
            "description_tooltip": null,
            "layout": "IPY_MODEL_f127dc442fae4ad982dc4fb0b662e1cf",
            "placeholder": "​",
            "style": "IPY_MODEL_eb5b78fec4914f708448885d740e24f8",
            "value": "Shuffling ~/tensorflow_datasets/food101/2.0.0.incompleteHR6O16/food101-train.tfrecord*...: 100%"
          }
        },
        "ebba65a8c061432b9f43da607c0f0e98": {
          "model_module": "@jupyter-widgets/controls",
          "model_name": "FloatProgressModel",
          "model_module_version": "1.5.0",
          "state": {
            "_dom_classes": [],
            "_model_module": "@jupyter-widgets/controls",
            "_model_module_version": "1.5.0",
            "_model_name": "FloatProgressModel",
            "_view_count": null,
            "_view_module": "@jupyter-widgets/controls",
            "_view_module_version": "1.5.0",
            "_view_name": "ProgressView",
            "bar_style": "",
            "description": "",
            "description_tooltip": null,
            "layout": "IPY_MODEL_cd1bee1692684f66ad776db4479dc372",
            "max": 75750,
            "min": 0,
            "orientation": "horizontal",
            "style": "IPY_MODEL_5cd8d2f35b194ef6bc8cf92cf10cbeb0",
            "value": 75750
          }
        },
        "1af6f0a3e076485b9dea4b48d1cedfd7": {
          "model_module": "@jupyter-widgets/controls",
          "model_name": "HTMLModel",
          "model_module_version": "1.5.0",
          "state": {
            "_dom_classes": [],
            "_model_module": "@jupyter-widgets/controls",
            "_model_module_version": "1.5.0",
            "_model_name": "HTMLModel",
            "_view_count": null,
            "_view_module": "@jupyter-widgets/controls",
            "_view_module_version": "1.5.0",
            "_view_name": "HTMLView",
            "description": "",
            "description_tooltip": null,
            "layout": "IPY_MODEL_17e9426d42c64cf4ae9c8129a1186b6f",
            "placeholder": "​",
            "style": "IPY_MODEL_0d0224d0586f42f8841075850877a97a",
            "value": " 75601/75750 [00:31&lt;00:00, 2604.90 examples/s]"
          }
        },
        "767b93058d734493bc405b7278451f5d": {
          "model_module": "@jupyter-widgets/base",
          "model_name": "LayoutModel",
          "model_module_version": "1.2.0",
          "state": {
            "_model_module": "@jupyter-widgets/base",
            "_model_module_version": "1.2.0",
            "_model_name": "LayoutModel",
            "_view_count": null,
            "_view_module": "@jupyter-widgets/base",
            "_view_module_version": "1.2.0",
            "_view_name": "LayoutView",
            "align_content": null,
            "align_items": null,
            "align_self": null,
            "border": null,
            "bottom": null,
            "display": null,
            "flex": null,
            "flex_flow": null,
            "grid_area": null,
            "grid_auto_columns": null,
            "grid_auto_flow": null,
            "grid_auto_rows": null,
            "grid_column": null,
            "grid_gap": null,
            "grid_row": null,
            "grid_template_areas": null,
            "grid_template_columns": null,
            "grid_template_rows": null,
            "height": null,
            "justify_content": null,
            "justify_items": null,
            "left": null,
            "margin": null,
            "max_height": null,
            "max_width": null,
            "min_height": null,
            "min_width": null,
            "object_fit": null,
            "object_position": null,
            "order": null,
            "overflow": null,
            "overflow_x": null,
            "overflow_y": null,
            "padding": null,
            "right": null,
            "top": null,
            "visibility": "hidden",
            "width": null
          }
        },
        "f127dc442fae4ad982dc4fb0b662e1cf": {
          "model_module": "@jupyter-widgets/base",
          "model_name": "LayoutModel",
          "model_module_version": "1.2.0",
          "state": {
            "_model_module": "@jupyter-widgets/base",
            "_model_module_version": "1.2.0",
            "_model_name": "LayoutModel",
            "_view_count": null,
            "_view_module": "@jupyter-widgets/base",
            "_view_module_version": "1.2.0",
            "_view_name": "LayoutView",
            "align_content": null,
            "align_items": null,
            "align_self": null,
            "border": null,
            "bottom": null,
            "display": null,
            "flex": null,
            "flex_flow": null,
            "grid_area": null,
            "grid_auto_columns": null,
            "grid_auto_flow": null,
            "grid_auto_rows": null,
            "grid_column": null,
            "grid_gap": null,
            "grid_row": null,
            "grid_template_areas": null,
            "grid_template_columns": null,
            "grid_template_rows": null,
            "height": null,
            "justify_content": null,
            "justify_items": null,
            "left": null,
            "margin": null,
            "max_height": null,
            "max_width": null,
            "min_height": null,
            "min_width": null,
            "object_fit": null,
            "object_position": null,
            "order": null,
            "overflow": null,
            "overflow_x": null,
            "overflow_y": null,
            "padding": null,
            "right": null,
            "top": null,
            "visibility": null,
            "width": null
          }
        },
        "eb5b78fec4914f708448885d740e24f8": {
          "model_module": "@jupyter-widgets/controls",
          "model_name": "DescriptionStyleModel",
          "model_module_version": "1.5.0",
          "state": {
            "_model_module": "@jupyter-widgets/controls",
            "_model_module_version": "1.5.0",
            "_model_name": "DescriptionStyleModel",
            "_view_count": null,
            "_view_module": "@jupyter-widgets/base",
            "_view_module_version": "1.2.0",
            "_view_name": "StyleView",
            "description_width": ""
          }
        },
        "cd1bee1692684f66ad776db4479dc372": {
          "model_module": "@jupyter-widgets/base",
          "model_name": "LayoutModel",
          "model_module_version": "1.2.0",
          "state": {
            "_model_module": "@jupyter-widgets/base",
            "_model_module_version": "1.2.0",
            "_model_name": "LayoutModel",
            "_view_count": null,
            "_view_module": "@jupyter-widgets/base",
            "_view_module_version": "1.2.0",
            "_view_name": "LayoutView",
            "align_content": null,
            "align_items": null,
            "align_self": null,
            "border": null,
            "bottom": null,
            "display": null,
            "flex": null,
            "flex_flow": null,
            "grid_area": null,
            "grid_auto_columns": null,
            "grid_auto_flow": null,
            "grid_auto_rows": null,
            "grid_column": null,
            "grid_gap": null,
            "grid_row": null,
            "grid_template_areas": null,
            "grid_template_columns": null,
            "grid_template_rows": null,
            "height": null,
            "justify_content": null,
            "justify_items": null,
            "left": null,
            "margin": null,
            "max_height": null,
            "max_width": null,
            "min_height": null,
            "min_width": null,
            "object_fit": null,
            "object_position": null,
            "order": null,
            "overflow": null,
            "overflow_x": null,
            "overflow_y": null,
            "padding": null,
            "right": null,
            "top": null,
            "visibility": null,
            "width": null
          }
        },
        "5cd8d2f35b194ef6bc8cf92cf10cbeb0": {
          "model_module": "@jupyter-widgets/controls",
          "model_name": "ProgressStyleModel",
          "model_module_version": "1.5.0",
          "state": {
            "_model_module": "@jupyter-widgets/controls",
            "_model_module_version": "1.5.0",
            "_model_name": "ProgressStyleModel",
            "_view_count": null,
            "_view_module": "@jupyter-widgets/base",
            "_view_module_version": "1.2.0",
            "_view_name": "StyleView",
            "bar_color": null,
            "description_width": ""
          }
        },
        "17e9426d42c64cf4ae9c8129a1186b6f": {
          "model_module": "@jupyter-widgets/base",
          "model_name": "LayoutModel",
          "model_module_version": "1.2.0",
          "state": {
            "_model_module": "@jupyter-widgets/base",
            "_model_module_version": "1.2.0",
            "_model_name": "LayoutModel",
            "_view_count": null,
            "_view_module": "@jupyter-widgets/base",
            "_view_module_version": "1.2.0",
            "_view_name": "LayoutView",
            "align_content": null,
            "align_items": null,
            "align_self": null,
            "border": null,
            "bottom": null,
            "display": null,
            "flex": null,
            "flex_flow": null,
            "grid_area": null,
            "grid_auto_columns": null,
            "grid_auto_flow": null,
            "grid_auto_rows": null,
            "grid_column": null,
            "grid_gap": null,
            "grid_row": null,
            "grid_template_areas": null,
            "grid_template_columns": null,
            "grid_template_rows": null,
            "height": null,
            "justify_content": null,
            "justify_items": null,
            "left": null,
            "margin": null,
            "max_height": null,
            "max_width": null,
            "min_height": null,
            "min_width": null,
            "object_fit": null,
            "object_position": null,
            "order": null,
            "overflow": null,
            "overflow_x": null,
            "overflow_y": null,
            "padding": null,
            "right": null,
            "top": null,
            "visibility": null,
            "width": null
          }
        },
        "0d0224d0586f42f8841075850877a97a": {
          "model_module": "@jupyter-widgets/controls",
          "model_name": "DescriptionStyleModel",
          "model_module_version": "1.5.0",
          "state": {
            "_model_module": "@jupyter-widgets/controls",
            "_model_module_version": "1.5.0",
            "_model_name": "DescriptionStyleModel",
            "_view_count": null,
            "_view_module": "@jupyter-widgets/base",
            "_view_module_version": "1.2.0",
            "_view_name": "StyleView",
            "description_width": ""
          }
        },
        "329df91e708344f4bc7ccb0fba359b08": {
          "model_module": "@jupyter-widgets/controls",
          "model_name": "HBoxModel",
          "model_module_version": "1.5.0",
          "state": {
            "_dom_classes": [],
            "_model_module": "@jupyter-widgets/controls",
            "_model_module_version": "1.5.0",
            "_model_name": "HBoxModel",
            "_view_count": null,
            "_view_module": "@jupyter-widgets/controls",
            "_view_module_version": "1.5.0",
            "_view_name": "HBoxView",
            "box_style": "",
            "children": [
              "IPY_MODEL_1a8c05b8d7544a1a89ab469ba1d16e2b",
              "IPY_MODEL_829bbdf6303e4572aa9fd359fa056ab1",
              "IPY_MODEL_79bd11e5742c40d285997dbba04c1152"
            ],
            "layout": "IPY_MODEL_b10dd42438b140b9914fd1790a69d768"
          }
        },
        "1a8c05b8d7544a1a89ab469ba1d16e2b": {
          "model_module": "@jupyter-widgets/controls",
          "model_name": "HTMLModel",
          "model_module_version": "1.5.0",
          "state": {
            "_dom_classes": [],
            "_model_module": "@jupyter-widgets/controls",
            "_model_module_version": "1.5.0",
            "_model_name": "HTMLModel",
            "_view_count": null,
            "_view_module": "@jupyter-widgets/controls",
            "_view_module_version": "1.5.0",
            "_view_name": "HTMLView",
            "description": "",
            "description_tooltip": null,
            "layout": "IPY_MODEL_9daffdabbca946babf51080a7b857eaa",
            "placeholder": "​",
            "style": "IPY_MODEL_4ba449b682894aaaaba32ace9213826b",
            "value": "Generating validation examples...: 100%"
          }
        },
        "829bbdf6303e4572aa9fd359fa056ab1": {
          "model_module": "@jupyter-widgets/controls",
          "model_name": "FloatProgressModel",
          "model_module_version": "1.5.0",
          "state": {
            "_dom_classes": [],
            "_model_module": "@jupyter-widgets/controls",
            "_model_module_version": "1.5.0",
            "_model_name": "FloatProgressModel",
            "_view_count": null,
            "_view_module": "@jupyter-widgets/controls",
            "_view_module_version": "1.5.0",
            "_view_name": "ProgressView",
            "bar_style": "",
            "description": "",
            "description_tooltip": null,
            "layout": "IPY_MODEL_104d9b89059f4080b720f359a1fb82b2",
            "max": 25250,
            "min": 0,
            "orientation": "horizontal",
            "style": "IPY_MODEL_c7213d5b0f12463e838168350e5eeb3a",
            "value": 25250
          }
        },
        "79bd11e5742c40d285997dbba04c1152": {
          "model_module": "@jupyter-widgets/controls",
          "model_name": "HTMLModel",
          "model_module_version": "1.5.0",
          "state": {
            "_dom_classes": [],
            "_model_module": "@jupyter-widgets/controls",
            "_model_module_version": "1.5.0",
            "_model_name": "HTMLModel",
            "_view_count": null,
            "_view_module": "@jupyter-widgets/controls",
            "_view_module_version": "1.5.0",
            "_view_name": "HTMLView",
            "description": "",
            "description_tooltip": null,
            "layout": "IPY_MODEL_46a965c040924a87838215743dcadd36",
            "placeholder": "​",
            "style": "IPY_MODEL_c0033f1f164d4b9a9420e4596d1e6343",
            "value": " 25239/25250 [01:01&lt;00:00, 401.99 examples/s]"
          }
        },
        "b10dd42438b140b9914fd1790a69d768": {
          "model_module": "@jupyter-widgets/base",
          "model_name": "LayoutModel",
          "model_module_version": "1.2.0",
          "state": {
            "_model_module": "@jupyter-widgets/base",
            "_model_module_version": "1.2.0",
            "_model_name": "LayoutModel",
            "_view_count": null,
            "_view_module": "@jupyter-widgets/base",
            "_view_module_version": "1.2.0",
            "_view_name": "LayoutView",
            "align_content": null,
            "align_items": null,
            "align_self": null,
            "border": null,
            "bottom": null,
            "display": null,
            "flex": null,
            "flex_flow": null,
            "grid_area": null,
            "grid_auto_columns": null,
            "grid_auto_flow": null,
            "grid_auto_rows": null,
            "grid_column": null,
            "grid_gap": null,
            "grid_row": null,
            "grid_template_areas": null,
            "grid_template_columns": null,
            "grid_template_rows": null,
            "height": null,
            "justify_content": null,
            "justify_items": null,
            "left": null,
            "margin": null,
            "max_height": null,
            "max_width": null,
            "min_height": null,
            "min_width": null,
            "object_fit": null,
            "object_position": null,
            "order": null,
            "overflow": null,
            "overflow_x": null,
            "overflow_y": null,
            "padding": null,
            "right": null,
            "top": null,
            "visibility": "hidden",
            "width": null
          }
        },
        "9daffdabbca946babf51080a7b857eaa": {
          "model_module": "@jupyter-widgets/base",
          "model_name": "LayoutModel",
          "model_module_version": "1.2.0",
          "state": {
            "_model_module": "@jupyter-widgets/base",
            "_model_module_version": "1.2.0",
            "_model_name": "LayoutModel",
            "_view_count": null,
            "_view_module": "@jupyter-widgets/base",
            "_view_module_version": "1.2.0",
            "_view_name": "LayoutView",
            "align_content": null,
            "align_items": null,
            "align_self": null,
            "border": null,
            "bottom": null,
            "display": null,
            "flex": null,
            "flex_flow": null,
            "grid_area": null,
            "grid_auto_columns": null,
            "grid_auto_flow": null,
            "grid_auto_rows": null,
            "grid_column": null,
            "grid_gap": null,
            "grid_row": null,
            "grid_template_areas": null,
            "grid_template_columns": null,
            "grid_template_rows": null,
            "height": null,
            "justify_content": null,
            "justify_items": null,
            "left": null,
            "margin": null,
            "max_height": null,
            "max_width": null,
            "min_height": null,
            "min_width": null,
            "object_fit": null,
            "object_position": null,
            "order": null,
            "overflow": null,
            "overflow_x": null,
            "overflow_y": null,
            "padding": null,
            "right": null,
            "top": null,
            "visibility": null,
            "width": null
          }
        },
        "4ba449b682894aaaaba32ace9213826b": {
          "model_module": "@jupyter-widgets/controls",
          "model_name": "DescriptionStyleModel",
          "model_module_version": "1.5.0",
          "state": {
            "_model_module": "@jupyter-widgets/controls",
            "_model_module_version": "1.5.0",
            "_model_name": "DescriptionStyleModel",
            "_view_count": null,
            "_view_module": "@jupyter-widgets/base",
            "_view_module_version": "1.2.0",
            "_view_name": "StyleView",
            "description_width": ""
          }
        },
        "104d9b89059f4080b720f359a1fb82b2": {
          "model_module": "@jupyter-widgets/base",
          "model_name": "LayoutModel",
          "model_module_version": "1.2.0",
          "state": {
            "_model_module": "@jupyter-widgets/base",
            "_model_module_version": "1.2.0",
            "_model_name": "LayoutModel",
            "_view_count": null,
            "_view_module": "@jupyter-widgets/base",
            "_view_module_version": "1.2.0",
            "_view_name": "LayoutView",
            "align_content": null,
            "align_items": null,
            "align_self": null,
            "border": null,
            "bottom": null,
            "display": null,
            "flex": null,
            "flex_flow": null,
            "grid_area": null,
            "grid_auto_columns": null,
            "grid_auto_flow": null,
            "grid_auto_rows": null,
            "grid_column": null,
            "grid_gap": null,
            "grid_row": null,
            "grid_template_areas": null,
            "grid_template_columns": null,
            "grid_template_rows": null,
            "height": null,
            "justify_content": null,
            "justify_items": null,
            "left": null,
            "margin": null,
            "max_height": null,
            "max_width": null,
            "min_height": null,
            "min_width": null,
            "object_fit": null,
            "object_position": null,
            "order": null,
            "overflow": null,
            "overflow_x": null,
            "overflow_y": null,
            "padding": null,
            "right": null,
            "top": null,
            "visibility": null,
            "width": null
          }
        },
        "c7213d5b0f12463e838168350e5eeb3a": {
          "model_module": "@jupyter-widgets/controls",
          "model_name": "ProgressStyleModel",
          "model_module_version": "1.5.0",
          "state": {
            "_model_module": "@jupyter-widgets/controls",
            "_model_module_version": "1.5.0",
            "_model_name": "ProgressStyleModel",
            "_view_count": null,
            "_view_module": "@jupyter-widgets/base",
            "_view_module_version": "1.2.0",
            "_view_name": "StyleView",
            "bar_color": null,
            "description_width": ""
          }
        },
        "46a965c040924a87838215743dcadd36": {
          "model_module": "@jupyter-widgets/base",
          "model_name": "LayoutModel",
          "model_module_version": "1.2.0",
          "state": {
            "_model_module": "@jupyter-widgets/base",
            "_model_module_version": "1.2.0",
            "_model_name": "LayoutModel",
            "_view_count": null,
            "_view_module": "@jupyter-widgets/base",
            "_view_module_version": "1.2.0",
            "_view_name": "LayoutView",
            "align_content": null,
            "align_items": null,
            "align_self": null,
            "border": null,
            "bottom": null,
            "display": null,
            "flex": null,
            "flex_flow": null,
            "grid_area": null,
            "grid_auto_columns": null,
            "grid_auto_flow": null,
            "grid_auto_rows": null,
            "grid_column": null,
            "grid_gap": null,
            "grid_row": null,
            "grid_template_areas": null,
            "grid_template_columns": null,
            "grid_template_rows": null,
            "height": null,
            "justify_content": null,
            "justify_items": null,
            "left": null,
            "margin": null,
            "max_height": null,
            "max_width": null,
            "min_height": null,
            "min_width": null,
            "object_fit": null,
            "object_position": null,
            "order": null,
            "overflow": null,
            "overflow_x": null,
            "overflow_y": null,
            "padding": null,
            "right": null,
            "top": null,
            "visibility": null,
            "width": null
          }
        },
        "c0033f1f164d4b9a9420e4596d1e6343": {
          "model_module": "@jupyter-widgets/controls",
          "model_name": "DescriptionStyleModel",
          "model_module_version": "1.5.0",
          "state": {
            "_model_module": "@jupyter-widgets/controls",
            "_model_module_version": "1.5.0",
            "_model_name": "DescriptionStyleModel",
            "_view_count": null,
            "_view_module": "@jupyter-widgets/base",
            "_view_module_version": "1.2.0",
            "_view_name": "StyleView",
            "description_width": ""
          }
        },
        "1bec0593cda2420f86464e5c843e6f7b": {
          "model_module": "@jupyter-widgets/controls",
          "model_name": "HBoxModel",
          "model_module_version": "1.5.0",
          "state": {
            "_dom_classes": [],
            "_model_module": "@jupyter-widgets/controls",
            "_model_module_version": "1.5.0",
            "_model_name": "HBoxModel",
            "_view_count": null,
            "_view_module": "@jupyter-widgets/controls",
            "_view_module_version": "1.5.0",
            "_view_name": "HBoxView",
            "box_style": "",
            "children": [
              "IPY_MODEL_1837a61e568f411593b115ba07d91df3",
              "IPY_MODEL_8d17a394eddd440eaf9daa362a35db01",
              "IPY_MODEL_2e243a3799c94d25b53058dacfa5e5ef"
            ],
            "layout": "IPY_MODEL_ce518c5c8346449c9297d24928552401"
          }
        },
        "1837a61e568f411593b115ba07d91df3": {
          "model_module": "@jupyter-widgets/controls",
          "model_name": "HTMLModel",
          "model_module_version": "1.5.0",
          "state": {
            "_dom_classes": [],
            "_model_module": "@jupyter-widgets/controls",
            "_model_module_version": "1.5.0",
            "_model_name": "HTMLModel",
            "_view_count": null,
            "_view_module": "@jupyter-widgets/controls",
            "_view_module_version": "1.5.0",
            "_view_name": "HTMLView",
            "description": "",
            "description_tooltip": null,
            "layout": "IPY_MODEL_de4704d56770482abd70390908a876d4",
            "placeholder": "​",
            "style": "IPY_MODEL_9fd65dafc11246b9843568f928841474",
            "value": "Shuffling ~/tensorflow_datasets/food101/2.0.0.incompleteHR6O16/food101-validation.tfrecord*...: 100%"
          }
        },
        "8d17a394eddd440eaf9daa362a35db01": {
          "model_module": "@jupyter-widgets/controls",
          "model_name": "FloatProgressModel",
          "model_module_version": "1.5.0",
          "state": {
            "_dom_classes": [],
            "_model_module": "@jupyter-widgets/controls",
            "_model_module_version": "1.5.0",
            "_model_name": "FloatProgressModel",
            "_view_count": null,
            "_view_module": "@jupyter-widgets/controls",
            "_view_module_version": "1.5.0",
            "_view_name": "ProgressView",
            "bar_style": "",
            "description": "",
            "description_tooltip": null,
            "layout": "IPY_MODEL_f6ae712dde3e41669abf0191c0662b7c",
            "max": 25250,
            "min": 0,
            "orientation": "horizontal",
            "style": "IPY_MODEL_7307d6e8ce964b40bd588ab690193395",
            "value": 25250
          }
        },
        "2e243a3799c94d25b53058dacfa5e5ef": {
          "model_module": "@jupyter-widgets/controls",
          "model_name": "HTMLModel",
          "model_module_version": "1.5.0",
          "state": {
            "_dom_classes": [],
            "_model_module": "@jupyter-widgets/controls",
            "_model_module_version": "1.5.0",
            "_model_name": "HTMLModel",
            "_view_count": null,
            "_view_module": "@jupyter-widgets/controls",
            "_view_module_version": "1.5.0",
            "_view_name": "HTMLView",
            "description": "",
            "description_tooltip": null,
            "layout": "IPY_MODEL_0a06d82c34274e358f0390f184582955",
            "placeholder": "​",
            "style": "IPY_MODEL_b015829d9b3747a0a6285cfa09334a7e",
            "value": " 25207/25250 [00:04&lt;00:00, 5084.91 examples/s]"
          }
        },
        "ce518c5c8346449c9297d24928552401": {
          "model_module": "@jupyter-widgets/base",
          "model_name": "LayoutModel",
          "model_module_version": "1.2.0",
          "state": {
            "_model_module": "@jupyter-widgets/base",
            "_model_module_version": "1.2.0",
            "_model_name": "LayoutModel",
            "_view_count": null,
            "_view_module": "@jupyter-widgets/base",
            "_view_module_version": "1.2.0",
            "_view_name": "LayoutView",
            "align_content": null,
            "align_items": null,
            "align_self": null,
            "border": null,
            "bottom": null,
            "display": null,
            "flex": null,
            "flex_flow": null,
            "grid_area": null,
            "grid_auto_columns": null,
            "grid_auto_flow": null,
            "grid_auto_rows": null,
            "grid_column": null,
            "grid_gap": null,
            "grid_row": null,
            "grid_template_areas": null,
            "grid_template_columns": null,
            "grid_template_rows": null,
            "height": null,
            "justify_content": null,
            "justify_items": null,
            "left": null,
            "margin": null,
            "max_height": null,
            "max_width": null,
            "min_height": null,
            "min_width": null,
            "object_fit": null,
            "object_position": null,
            "order": null,
            "overflow": null,
            "overflow_x": null,
            "overflow_y": null,
            "padding": null,
            "right": null,
            "top": null,
            "visibility": "hidden",
            "width": null
          }
        },
        "de4704d56770482abd70390908a876d4": {
          "model_module": "@jupyter-widgets/base",
          "model_name": "LayoutModel",
          "model_module_version": "1.2.0",
          "state": {
            "_model_module": "@jupyter-widgets/base",
            "_model_module_version": "1.2.0",
            "_model_name": "LayoutModel",
            "_view_count": null,
            "_view_module": "@jupyter-widgets/base",
            "_view_module_version": "1.2.0",
            "_view_name": "LayoutView",
            "align_content": null,
            "align_items": null,
            "align_self": null,
            "border": null,
            "bottom": null,
            "display": null,
            "flex": null,
            "flex_flow": null,
            "grid_area": null,
            "grid_auto_columns": null,
            "grid_auto_flow": null,
            "grid_auto_rows": null,
            "grid_column": null,
            "grid_gap": null,
            "grid_row": null,
            "grid_template_areas": null,
            "grid_template_columns": null,
            "grid_template_rows": null,
            "height": null,
            "justify_content": null,
            "justify_items": null,
            "left": null,
            "margin": null,
            "max_height": null,
            "max_width": null,
            "min_height": null,
            "min_width": null,
            "object_fit": null,
            "object_position": null,
            "order": null,
            "overflow": null,
            "overflow_x": null,
            "overflow_y": null,
            "padding": null,
            "right": null,
            "top": null,
            "visibility": null,
            "width": null
          }
        },
        "9fd65dafc11246b9843568f928841474": {
          "model_module": "@jupyter-widgets/controls",
          "model_name": "DescriptionStyleModel",
          "model_module_version": "1.5.0",
          "state": {
            "_model_module": "@jupyter-widgets/controls",
            "_model_module_version": "1.5.0",
            "_model_name": "DescriptionStyleModel",
            "_view_count": null,
            "_view_module": "@jupyter-widgets/base",
            "_view_module_version": "1.2.0",
            "_view_name": "StyleView",
            "description_width": ""
          }
        },
        "f6ae712dde3e41669abf0191c0662b7c": {
          "model_module": "@jupyter-widgets/base",
          "model_name": "LayoutModel",
          "model_module_version": "1.2.0",
          "state": {
            "_model_module": "@jupyter-widgets/base",
            "_model_module_version": "1.2.0",
            "_model_name": "LayoutModel",
            "_view_count": null,
            "_view_module": "@jupyter-widgets/base",
            "_view_module_version": "1.2.0",
            "_view_name": "LayoutView",
            "align_content": null,
            "align_items": null,
            "align_self": null,
            "border": null,
            "bottom": null,
            "display": null,
            "flex": null,
            "flex_flow": null,
            "grid_area": null,
            "grid_auto_columns": null,
            "grid_auto_flow": null,
            "grid_auto_rows": null,
            "grid_column": null,
            "grid_gap": null,
            "grid_row": null,
            "grid_template_areas": null,
            "grid_template_columns": null,
            "grid_template_rows": null,
            "height": null,
            "justify_content": null,
            "justify_items": null,
            "left": null,
            "margin": null,
            "max_height": null,
            "max_width": null,
            "min_height": null,
            "min_width": null,
            "object_fit": null,
            "object_position": null,
            "order": null,
            "overflow": null,
            "overflow_x": null,
            "overflow_y": null,
            "padding": null,
            "right": null,
            "top": null,
            "visibility": null,
            "width": null
          }
        },
        "7307d6e8ce964b40bd588ab690193395": {
          "model_module": "@jupyter-widgets/controls",
          "model_name": "ProgressStyleModel",
          "model_module_version": "1.5.0",
          "state": {
            "_model_module": "@jupyter-widgets/controls",
            "_model_module_version": "1.5.0",
            "_model_name": "ProgressStyleModel",
            "_view_count": null,
            "_view_module": "@jupyter-widgets/base",
            "_view_module_version": "1.2.0",
            "_view_name": "StyleView",
            "bar_color": null,
            "description_width": ""
          }
        },
        "0a06d82c34274e358f0390f184582955": {
          "model_module": "@jupyter-widgets/base",
          "model_name": "LayoutModel",
          "model_module_version": "1.2.0",
          "state": {
            "_model_module": "@jupyter-widgets/base",
            "_model_module_version": "1.2.0",
            "_model_name": "LayoutModel",
            "_view_count": null,
            "_view_module": "@jupyter-widgets/base",
            "_view_module_version": "1.2.0",
            "_view_name": "LayoutView",
            "align_content": null,
            "align_items": null,
            "align_self": null,
            "border": null,
            "bottom": null,
            "display": null,
            "flex": null,
            "flex_flow": null,
            "grid_area": null,
            "grid_auto_columns": null,
            "grid_auto_flow": null,
            "grid_auto_rows": null,
            "grid_column": null,
            "grid_gap": null,
            "grid_row": null,
            "grid_template_areas": null,
            "grid_template_columns": null,
            "grid_template_rows": null,
            "height": null,
            "justify_content": null,
            "justify_items": null,
            "left": null,
            "margin": null,
            "max_height": null,
            "max_width": null,
            "min_height": null,
            "min_width": null,
            "object_fit": null,
            "object_position": null,
            "order": null,
            "overflow": null,
            "overflow_x": null,
            "overflow_y": null,
            "padding": null,
            "right": null,
            "top": null,
            "visibility": null,
            "width": null
          }
        },
        "b015829d9b3747a0a6285cfa09334a7e": {
          "model_module": "@jupyter-widgets/controls",
          "model_name": "DescriptionStyleModel",
          "model_module_version": "1.5.0",
          "state": {
            "_model_module": "@jupyter-widgets/controls",
            "_model_module_version": "1.5.0",
            "_model_name": "DescriptionStyleModel",
            "_view_count": null,
            "_view_module": "@jupyter-widgets/base",
            "_view_module_version": "1.2.0",
            "_view_name": "StyleView",
            "description_width": ""
          }
        }
      }
    }
  },
  "cells": [
    {
      "cell_type": "markdown",
      "metadata": {
        "id": "view-in-github",
        "colab_type": "text"
      },
      "source": [
        "<a href=\"https://colab.research.google.com/github/sholaypompey/project-sampling/blob/main/07_Food_Vision_Milestone_project_1.ipynb\" target=\"_parent\"><img src=\"https://colab.research.google.com/assets/colab-badge.svg\" alt=\"Open In Colab\"/></a>"
      ]
    },
    {
      "cell_type": "code",
      "execution_count": null,
      "metadata": {
        "id": "ojNZ4BX_3T0h"
      },
      "outputs": [],
      "source": [
        "import tensorflow as tf\n",
        "import tensorflow_datasets as tfds\n",
        "import matplotlib.pyplot as plt\n",
        "import matplotlib.image as mpimg\n",
        "import pandas as pd\n",
        "import numpy as np\n",
        "import sklearn\n",
        "from tensorflow.keras import layers\n",
        "from tensorflow.keras.models import Sequential\n",
        "from tensorflow.keras.layers.experimental import preprocessing"
      ]
    },
    {
      "cell_type": "code",
      "source": [
        "# Get helper functions file\n",
        "!wget https://raw.githubusercontent.com/mrdbourke/tensorflow-deep-learning/main/extras/helper_functions.py"
      ],
      "metadata": {
        "colab": {
          "base_uri": "https://localhost:8080/"
        },
        "id": "VCZUM1Fu4ll-",
        "outputId": "f1e55588-d10f-45af-c4f6-170f64926505"
      },
      "execution_count": null,
      "outputs": [
        {
          "output_type": "stream",
          "name": "stdout",
          "text": [
            "--2022-11-11 15:23:47--  https://raw.githubusercontent.com/mrdbourke/tensorflow-deep-learning/main/extras/helper_functions.py\n",
            "Resolving raw.githubusercontent.com (raw.githubusercontent.com)... 185.199.109.133, 185.199.111.133, 185.199.108.133, ...\n",
            "Connecting to raw.githubusercontent.com (raw.githubusercontent.com)|185.199.109.133|:443... connected.\n",
            "HTTP request sent, awaiting response... 200 OK\n",
            "Length: 10246 (10K) [text/plain]\n",
            "Saving to: ‘helper_functions.py’\n",
            "\n",
            "\rhelper_functions.py   0%[                    ]       0  --.-KB/s               \rhelper_functions.py 100%[===================>]  10.01K  --.-KB/s    in 0s      \n",
            "\n",
            "2022-11-11 15:23:48 (106 MB/s) - ‘helper_functions.py’ saved [10246/10246]\n",
            "\n"
          ]
        }
      ]
    },
    {
      "cell_type": "code",
      "source": [
        "from helper_functions import create_tensorboard_callback , walk_through_dir, unzip_data, plot_loss_curves,compare_historys"
      ],
      "metadata": {
        "id": "v4aUN4yI5ud1"
      },
      "execution_count": null,
      "outputs": []
    },
    {
      "cell_type": "code",
      "source": [
        "# Check if the data we want to work on is in tensorflow datasets list\n",
        "datasets_list = tfds.list_builders()\n",
        "print(\"food101\" in datasets_list)"
      ],
      "metadata": {
        "colab": {
          "base_uri": "https://localhost:8080/"
        },
        "id": "CqXFqOU77yEG",
        "outputId": "d0064eab-0071-469b-9121-dcc04a8dc44b"
      },
      "execution_count": null,
      "outputs": [
        {
          "output_type": "stream",
          "name": "stdout",
          "text": [
            "True\n"
          ]
        }
      ]
    },
    {
      "cell_type": "code",
      "source": [
        "(train_data, test_data), ds_info = tfds.load(name = \"food101\",\n",
        "                                             split = [\"train\", \"validation\"],\n",
        "                                             shuffle_files = True,\n",
        "                                             as_supervised= True,\n",
        "                                             with_info = True)"
      ],
      "metadata": {
        "colab": {
          "base_uri": "https://localhost:8080/",
          "height": 169,
          "referenced_widgets": [
            "f92e396cd8754000b3b5c162306f60f7",
            "9aec99f4ebb94761b9b32dca8a6914c6",
            "182c75956d95440fb5e8edc5443128a7",
            "dde1084095b646178d70ec69a1fc45f8",
            "9f5516fdfff341879f4c01ea52519777",
            "c5c0f9fb17e34924a5ca9a687a53ead9",
            "37a9686a34b04552959a20c83b4db705",
            "824abef77eaa4ed9a0d9fef87f24680a",
            "ebaeef1342cd4daf958afc30ef840946",
            "7270647a14954f149eb6972a1e73354a",
            "428390c1a2134adf9014f810a3551ee4",
            "37b9bbf31af04407b12e7b3406c03cb0",
            "eb1281a37a9e43eea3de7c7597d995a3",
            "fc642f37c5ea46749dc5a9565a6f1df5",
            "58ece000f6c84334a05fd8b914553572",
            "003ab74d106d45aea0c244f9b39bc68e",
            "b1239df275a846dd8ac6b77683bc0f4b",
            "25f3f75f8cd94801b98f195bc571bc9d",
            "d88c55c96794413bac4b5d291811e735",
            "ebaa68db39ae483086703d2fe4513803",
            "7d69b8db9bcd47bd8cfa360d3e9a1906",
            "dade01cb85a04114bd46c8ecdb6358e2",
            "b905c87ebcf14394abb864f6fa49df0f",
            "6d99b8175d5d4949ae556da2ff66114b",
            "46e266d1feb141709ac7a5b417311fa2",
            "73785be430fc4147b97e69ff5a1ceac5",
            "87740e8d3fa14148bf5a2a9d8e050bb1",
            "a84ee072ef16479b8b5b5b3c6b628248",
            "6cbd8437d42e475fb584fdf6330ce1b5",
            "9e989da3706747258fca5bccec4ea970",
            "3dff8ada5ee4455e9cb38d8ab8e9cab9",
            "f6afc4c79c9f47d289615fd7389a0ce1",
            "396cb0f1fcdb4018874d5245fe5e602a",
            "fb2bb23cd1ba42e698b3447e5437851a",
            "5125615b1afd4ef6b8b4bdaed7acaea7",
            "0490dec57be943a2a97f575c6a2e2f72",
            "f05ecdaf735c4b339b77fd9266347698",
            "58d4f06750bf460ea8790b091e770557",
            "314f20acbd43437ab42a261da1de5b7a",
            "ef33ded400c2470d8ae0ad2c1ba75f42",
            "6343b8605b7645ab90129b17e3340ce7",
            "19a4ca81076b4023a239af797dc47540",
            "512a349e8a2044ea98445f051b8b3331",
            "abdcbe2d86b940259668213522092451",
            "e0f9c73b97c0494189a92c6d5fc39804",
            "237858368e0046c5907b7325b5d3959d",
            "242f6c574e374c4fb7faa6634630ec02",
            "ec28501044f247b7b6ead1c49d6cc259",
            "7b9c5da70f114e19a6a0a516345df137",
            "7be1e432add5495bbade2f9bdf1bfa59",
            "04bafba6b39a4ad686d1f0b912c5ac22",
            "f2f6120879074e35a604f26e0a135d4d",
            "b0196fceb04a4abcad804ebf183fe0c3",
            "dd3a9b82ba824929a51fcbc7e1c658ba",
            "e69846734d5447799f032964e4c6fb7d",
            "515a48b2137b4d69a1121dff10d708ed",
            "e78b9a14a146423e8d7d816f48244af7",
            "ebba65a8c061432b9f43da607c0f0e98",
            "1af6f0a3e076485b9dea4b48d1cedfd7",
            "767b93058d734493bc405b7278451f5d",
            "f127dc442fae4ad982dc4fb0b662e1cf",
            "eb5b78fec4914f708448885d740e24f8",
            "cd1bee1692684f66ad776db4479dc372",
            "5cd8d2f35b194ef6bc8cf92cf10cbeb0",
            "17e9426d42c64cf4ae9c8129a1186b6f",
            "0d0224d0586f42f8841075850877a97a",
            "329df91e708344f4bc7ccb0fba359b08",
            "1a8c05b8d7544a1a89ab469ba1d16e2b",
            "829bbdf6303e4572aa9fd359fa056ab1",
            "79bd11e5742c40d285997dbba04c1152",
            "b10dd42438b140b9914fd1790a69d768",
            "9daffdabbca946babf51080a7b857eaa",
            "4ba449b682894aaaaba32ace9213826b",
            "104d9b89059f4080b720f359a1fb82b2",
            "c7213d5b0f12463e838168350e5eeb3a",
            "46a965c040924a87838215743dcadd36",
            "c0033f1f164d4b9a9420e4596d1e6343",
            "1bec0593cda2420f86464e5c843e6f7b",
            "1837a61e568f411593b115ba07d91df3",
            "8d17a394eddd440eaf9daa362a35db01",
            "2e243a3799c94d25b53058dacfa5e5ef",
            "ce518c5c8346449c9297d24928552401",
            "de4704d56770482abd70390908a876d4",
            "9fd65dafc11246b9843568f928841474",
            "f6ae712dde3e41669abf0191c0662b7c",
            "7307d6e8ce964b40bd588ab690193395",
            "0a06d82c34274e358f0390f184582955",
            "b015829d9b3747a0a6285cfa09334a7e"
          ]
        },
        "id": "QuwA11XztjQi",
        "outputId": "9dc5154a-dc03-4295-d760-ef5d04543253"
      },
      "execution_count": null,
      "outputs": [
        {
          "output_type": "stream",
          "name": "stdout",
          "text": [
            "Downloading and preparing dataset 4.65 GiB (download: 4.65 GiB, generated: Unknown size, total: 4.65 GiB) to ~/tensorflow_datasets/food101/2.0.0...\n"
          ]
        },
        {
          "output_type": "display_data",
          "data": {
            "text/plain": [
              "Dl Completed...: 0 url [00:00, ? url/s]"
            ],
            "application/vnd.jupyter.widget-view+json": {
              "version_major": 2,
              "version_minor": 0,
              "model_id": "f92e396cd8754000b3b5c162306f60f7"
            }
          },
          "metadata": {}
        },
        {
          "output_type": "display_data",
          "data": {
            "text/plain": [
              "Dl Size...: 0 MiB [00:00, ? MiB/s]"
            ],
            "application/vnd.jupyter.widget-view+json": {
              "version_major": 2,
              "version_minor": 0,
              "model_id": "37b9bbf31af04407b12e7b3406c03cb0"
            }
          },
          "metadata": {}
        },
        {
          "output_type": "display_data",
          "data": {
            "text/plain": [
              "Extraction completed...: 0 file [00:00, ? file/s]"
            ],
            "application/vnd.jupyter.widget-view+json": {
              "version_major": 2,
              "version_minor": 0,
              "model_id": "b905c87ebcf14394abb864f6fa49df0f"
            }
          },
          "metadata": {}
        },
        {
          "output_type": "display_data",
          "data": {
            "text/plain": [
              "Generating splits...:   0%|          | 0/2 [00:00<?, ? splits/s]"
            ],
            "application/vnd.jupyter.widget-view+json": {
              "version_major": 2,
              "version_minor": 0,
              "model_id": "fb2bb23cd1ba42e698b3447e5437851a"
            }
          },
          "metadata": {}
        },
        {
          "output_type": "display_data",
          "data": {
            "text/plain": [
              "Generating train examples...:   0%|          | 0/75750 [00:00<?, ? examples/s]"
            ],
            "application/vnd.jupyter.widget-view+json": {
              "version_major": 2,
              "version_minor": 0,
              "model_id": "e0f9c73b97c0494189a92c6d5fc39804"
            }
          },
          "metadata": {}
        },
        {
          "output_type": "display_data",
          "data": {
            "text/plain": [
              "Shuffling ~/tensorflow_datasets/food101/2.0.0.incompleteHR6O16/food101-train.tfrecord*...:   0%|          | 0/…"
            ],
            "application/vnd.jupyter.widget-view+json": {
              "version_major": 2,
              "version_minor": 0,
              "model_id": "515a48b2137b4d69a1121dff10d708ed"
            }
          },
          "metadata": {}
        },
        {
          "output_type": "display_data",
          "data": {
            "text/plain": [
              "Generating validation examples...:   0%|          | 0/25250 [00:00<?, ? examples/s]"
            ],
            "application/vnd.jupyter.widget-view+json": {
              "version_major": 2,
              "version_minor": 0,
              "model_id": "329df91e708344f4bc7ccb0fba359b08"
            }
          },
          "metadata": {}
        },
        {
          "output_type": "display_data",
          "data": {
            "text/plain": [
              "Shuffling ~/tensorflow_datasets/food101/2.0.0.incompleteHR6O16/food101-validation.tfrecord*...:   0%|         …"
            ],
            "application/vnd.jupyter.widget-view+json": {
              "version_major": 2,
              "version_minor": 0,
              "model_id": "1bec0593cda2420f86464e5c843e6f7b"
            }
          },
          "metadata": {}
        },
        {
          "output_type": "stream",
          "name": "stdout",
          "text": [
            "Dataset food101 downloaded and prepared to ~/tensorflow_datasets/food101/2.0.0. Subsequent calls will reuse this data.\n"
          ]
        }
      ]
    },
    {
      "cell_type": "code",
      "source": [
        "ds_info.features"
      ],
      "metadata": {
        "colab": {
          "base_uri": "https://localhost:8080/"
        },
        "id": "8_35PwIhvNWO",
        "outputId": "cb22bdd2-9c35-46c2-85d2-b08a938605ba"
      },
      "execution_count": null,
      "outputs": [
        {
          "output_type": "execute_result",
          "data": {
            "text/plain": [
              "FeaturesDict({\n",
              "    'image': Image(shape=(None, None, 3), dtype=tf.uint8),\n",
              "    'label': ClassLabel(shape=(), dtype=tf.int64, num_classes=101),\n",
              "})"
            ]
          },
          "metadata": {},
          "execution_count": 6
        }
      ]
    },
    {
      "cell_type": "code",
      "source": [
        "class_names = ds_info.features[\"label\"].names\n",
        "class_names[:10]"
      ],
      "metadata": {
        "colab": {
          "base_uri": "https://localhost:8080/"
        },
        "id": "0wXXxFNAxmFY",
        "outputId": "ffa88717-dbce-49f2-c21c-2dd5aacb8fd4"
      },
      "execution_count": null,
      "outputs": [
        {
          "output_type": "execute_result",
          "data": {
            "text/plain": [
              "['apple_pie',\n",
              " 'baby_back_ribs',\n",
              " 'baklava',\n",
              " 'beef_carpaccio',\n",
              " 'beef_tartare',\n",
              " 'beet_salad',\n",
              " 'beignets',\n",
              " 'bibimbap',\n",
              " 'bread_pudding',\n",
              " 'breakfast_burrito']"
            ]
          },
          "metadata": {},
          "execution_count": 7
        }
      ]
    },
    {
      "cell_type": "markdown",
      "source": [
        "# Explore Food101 data from tensorflow datasets"
      ],
      "metadata": {
        "id": "YjbY4-5QyIml"
      }
    },
    {
      "cell_type": "code",
      "source": [
        "# Let's take one sample\n",
        "train_one_sample = train_data.take(1)\n",
        "train_one_sample"
      ],
      "metadata": {
        "colab": {
          "base_uri": "https://localhost:8080/"
        },
        "id": "cURyyD3rx2ET",
        "outputId": "095a102c-3065-459d-827f-3961490e00c6"
      },
      "execution_count": null,
      "outputs": [
        {
          "output_type": "execute_result",
          "data": {
            "text/plain": [
              "<TakeDataset element_spec=(TensorSpec(shape=(None, None, 3), dtype=tf.uint8, name=None), TensorSpec(shape=(), dtype=tf.int64, name=None))>"
            ]
          },
          "metadata": {},
          "execution_count": 8
        }
      ]
    },
    {
      "cell_type": "code",
      "source": [
        "for image, label in train_one_sample:\n",
        "  print(f\"\"\"\n",
        "  image_shape: {image.shape},\n",
        "  image_dtype: {image.dtype},\n",
        "  Target class from Food101 (tensor form): {label},\n",
        "  class name (str form): {class_names[label.numpy()]}\n",
        "\"\"\")"
      ],
      "metadata": {
        "colab": {
          "base_uri": "https://localhost:8080/"
        },
        "id": "lEV-0d3lycr-",
        "outputId": "50f65559-e75a-4211-efb9-7b3762d8bb99"
      },
      "execution_count": null,
      "outputs": [
        {
          "output_type": "stream",
          "name": "stdout",
          "text": [
            "\n",
            "  image_shape: (512, 512, 3),\n",
            "  image_dtype: <dtype: 'uint8'>,\n",
            "  Target class from Food101 (tensor form): 18,\n",
            "  class name (str form): chicken_curry\n",
            "\n"
          ]
        }
      ]
    },
    {
      "cell_type": "code",
      "source": [
        "tf.reduce_min(image), tf.reduce_max(image)"
      ],
      "metadata": {
        "colab": {
          "base_uri": "https://localhost:8080/"
        },
        "id": "xcsqb8ee0IcL",
        "outputId": "512c372e-924a-4163-e1aa-aa725f97d7a6"
      },
      "execution_count": null,
      "outputs": [
        {
          "output_type": "execute_result",
          "data": {
            "text/plain": [
              "(<tf.Tensor: shape=(), dtype=uint8, numpy=5>,\n",
              " <tf.Tensor: shape=(), dtype=uint8, numpy=255>)"
            ]
          },
          "metadata": {},
          "execution_count": 10
        }
      ]
    },
    {
      "cell_type": "markdown",
      "source": [
        "## Plot an image from tensorflow datasets"
      ],
      "metadata": {
        "id": "5Ic9em7Q09hx"
      }
    },
    {
      "cell_type": "code",
      "source": [
        "def plot_image(image):\n",
        "  image = plt.imshow(image)\n",
        "  plt.title(class_names[label.numpy()])\n",
        "  plt.axis(\"off\")\n",
        "  return image\n",
        "\n"
      ],
      "metadata": {
        "id": "NwCoRQwB0uXj"
      },
      "execution_count": null,
      "outputs": []
    },
    {
      "cell_type": "code",
      "source": [
        "plot_image(image)"
      ],
      "metadata": {
        "colab": {
          "base_uri": "https://localhost:8080/",
          "height": 282
        },
        "id": "ciiIfw6x6KMz",
        "outputId": "d504c2b0-74c1-4578-d667-14e7b5348298"
      },
      "execution_count": null,
      "outputs": [
        {
          "output_type": "execute_result",
          "data": {
            "text/plain": [
              "<matplotlib.image.AxesImage at 0x7f0ca2da7d10>"
            ]
          },
          "metadata": {},
          "execution_count": 12
        },
        {
          "output_type": "display_data",
          "data": {
            "text/plain": [
              "<Figure size 432x288 with 1 Axes>"
            ],
            "image/png": "[encoded data removed]"
          },
          "metadata": {
            "needs_background": "light"
          }
        }
      ]
    },
    {
      "cell_type": "markdown",
      "source": [
        "## Preprocess our image for usage"
      ],
      "metadata": {
        "id": "OZyxtd5I2Ur5"
      }
    },
    {
      "cell_type": "code",
      "source": [
        "def preprocess_img(image, label, image_shape = 224):\n",
        "  image = tf.image.resize(image, [image_shape, image_shape])\n",
        "  return tf.cast(image, tf.float32), label # This will return (image, label) tuple  \n"
      ],
      "metadata": {
        "id": "FdRvEksx1SAF"
      },
      "execution_count": null,
      "outputs": []
    },
    {
      "cell_type": "code",
      "source": [
        "prep_image = preprocess_img(image, label)[0]"
      ],
      "metadata": {
        "id": "ZQPZPU8p27dp"
      },
      "execution_count": null,
      "outputs": []
    },
    {
      "cell_type": "code",
      "source": [
        "# Preprocess a single sample image and check the outputs\n",
        "print(f\"Image before preprocessing: {image[:1]}.... \\n {image.shape}.... \\n {image.dtype}\")\n",
        "print(f\"Image after preprocessing: {prep_image[:1]}... \\n {prep_image.shape}.... \\n {prep_image.dtype}\")"
      ],
      "metadata": {
        "colab": {
          "base_uri": "https://localhost:8080/"
        },
        "id": "XxlRNeDS3HRG",
        "outputId": "38ea5289-f082-42a3-9a28-c333359d7e96"
      },
      "execution_count": null,
      "outputs": [
        {
          "output_type": "stream",
          "name": "stdout",
          "text": [
            "Image before preprocessing: [[[170 193 165]\n",
            "  [175 198 170]\n",
            "  [187 209 186]\n",
            "  ...\n",
            "  [253 255 249]\n",
            "  [253 255 249]\n",
            "  [253 255 249]]].... \n",
            " (512, 512, 3).... \n",
            " <dtype: 'uint8'>\n",
            "Image after preprocessing: [[[170.5051   188.59184  163.11736 ]\n",
            "  [187.9898   206.82143  186.91837 ]\n",
            "  [208.97958  225.69388  212.7653  ]\n",
            "  [218.14285  235.14285  226.14285 ]\n",
            "  [214.11224  233.46939  223.11224 ]\n",
            "  [194.85204  216.92346  203.70917 ]\n",
            "  [171.12753  194.12753  176.12753 ]\n",
            "  [146.3265   168.04079  148.68365 ]\n",
            "  [141.19897  156.39287  136.70409 ]\n",
            "  [140.40306  150.03061  127.76021 ]\n",
            "  [115.28566  125.28567   96.78566 ]\n",
            "  [100.44898  116.80613   81.29592 ]\n",
            "  [130.25513  158.34698  114.72962 ]\n",
            "  [151.87244  188.81633  139.05612 ]\n",
            "  [138.68877  178.22958  125.68877 ]\n",
            "  [127.16325  167.11734  114.11733 ]\n",
            "  [113.556114 156.14285  100.709175]\n",
            "  [ 94.82143  136.67857   85.      ]\n",
            "  [ 90.29081  129.5204    84.80102 ]\n",
            "  [ 94.341835 129.25      96.510216]\n",
            "  [115.2347   148.00511  121.69389 ]\n",
            "  [168.0154   199.08682  171.44395 ]\n",
            "  [216.45412  243.66328  217.45412 ]\n",
            "  [207.92853  227.60202  207.93874 ]\n",
            "  [132.82129  148.82129  129.82127 ]\n",
            "  [ 89.65303  103.081604  84.86731 ]\n",
            "  [ 75.58673   90.58673   70.78061 ]\n",
            "  [ 87.98982  103.37248   81.07146 ]\n",
            "  [ 92.382645 109.556114  85.443855]\n",
            "  [110.821465 123.12758   89.15308 ]\n",
            "  [157.0153   164.36224  121.65306 ]\n",
            "  [154.64285  158.71428  115.      ]\n",
            "  [121.78047  129.34682   93.703995]\n",
            "  [ 76.89793   90.87244   70.826546]\n",
            "  [ 70.16836   89.05612   79.64286 ]\n",
            "  [ 65.255104  82.255104  72.96938 ]\n",
            "  [ 62.36224   79.36224   72.55612 ]\n",
            "  [ 61.739796  75.37755   74.96429 ]\n",
            "  [ 60.89286   71.89286   74.892876]\n",
            "  [ 67.64287   77.85715   80.285706]\n",
            "  [ 65.4286    75.4286    76.4286  ]\n",
            "  [ 68.12242   76.836716  78.47957 ]\n",
            "  [ 66.158165  79.443886  79.443886]\n",
            "  [ 64.36224   80.36224   80.36224 ]\n",
            "  [ 70.57654   89.790825  84.29082 ]\n",
            "  [ 84.035866 105.53587   86.17867 ]\n",
            "  [142.20938  163.91855  130.93382 ]\n",
            "  [197.73485  218.092    180.37772 ]\n",
            "  [241.4796   255.       225.90819 ]\n",
            "  [239.92856  251.83162  242.01532 ]\n",
            "  [212.77036  230.55098  216.79077 ]\n",
            "  [153.55609  176.98468  156.69385 ]\n",
            "  [153.03584  182.21442  160.85728 ]\n",
            "  [183.3623   215.93375  198.71948 ]\n",
            "  [172.2652   204.07132  195.81113 ]\n",
            "  [132.03561  163.80603  159.52031 ]\n",
            "  [ 82.576416 113.576416 108.16315 ]\n",
            "  [ 73.418365 104.32653   96.5153  ]\n",
            "  [ 74.83677  105.39799   94.68879 ]\n",
            "  [ 75.5      104.        93.5     ]\n",
            "  [ 85.85207  112.85207  106.99496 ]\n",
            "  [ 90.877525 114.877525 114.877525]\n",
            "  [ 87.21428  111.21428  113.21428 ]\n",
            "  [ 92.341866 113.341866 118.341866]\n",
            "  [ 98.831635 119.831635 122.16837 ]\n",
            "  [103.50512  125.50512  123.42859 ]\n",
            "  [106.75     128.92857  125.39286 ]\n",
            "  [104.801025 127.801025 121.801025]\n",
            "  [111.2857   134.23978  128.37755 ]\n",
            "  [110.974495 132.9745   129.9745  ]\n",
            "  [109.81632  134.81633  131.81633 ]\n",
            "  [102.60203  127.60203  124.60203 ]\n",
            "  [107.99489  131.99489  131.99489 ]\n",
            "  [102.46429  124.96429  126.46429 ]\n",
            "  [106.98982  127.98982  130.98982 ]\n",
            "  [113.734695 134.7347   139.7347  ]\n",
            "  [118.4592   138.1735   143.10205 ]\n",
            "  [130.26036  153.83183  152.26036 ]\n",
            "  [142.98979  163.32143  160.32654 ]\n",
            "  [151.82658  167.83165  162.03062 ]\n",
            "  [184.4288   196.25018  189.39305 ]\n",
            "  [224.45929  233.67357  228.03073 ]\n",
            "  [242.3112   252.97957  249.3112  ]\n",
            "  [239.27042  249.85716  247.91327 ]\n",
            "  [236.71426  251.64287  239.94385 ]\n",
            "  [239.23979  251.64285  241.64285 ]\n",
            "  [243.9388   251.35204  243.28572 ]\n",
            "  [247.46432  251.4643   244.4643  ]\n",
            "  [249.64285  252.64285  245.64285 ]\n",
            "  [251.66837  254.66837  245.66837 ]\n",
            "  [253.       255.       247.      ]\n",
            "  [254.       254.       246.      ]\n",
            "  [254.       254.       246.      ]\n",
            "  [254.2143   254.2143   246.2143  ]\n",
            "  [255.       255.       247.      ]\n",
            "  [255.       255.       247.      ]\n",
            "  [255.       255.       247.      ]\n",
            "  [255.       255.       247.      ]\n",
            "  [255.       255.       247.      ]\n",
            "  [255.       255.       247.      ]\n",
            "  [255.       255.       247.      ]\n",
            "  [255.       255.       247.      ]\n",
            "  [255.       255.       247.      ]\n",
            "  [255.       255.       247.      ]\n",
            "  [255.       255.       247.      ]\n",
            "  [255.       255.       247.      ]\n",
            "  [255.       255.       247.      ]\n",
            "  [255.       255.       247.      ]\n",
            "  [255.       255.       247.      ]\n",
            "  [255.       255.       247.      ]\n",
            "  [255.       255.       247.      ]\n",
            "  [255.       255.       247.      ]\n",
            "  [255.       255.       247.      ]\n",
            "  [255.       255.       247.      ]\n",
            "  [255.       255.       247.      ]\n",
            "  [255.       255.       247.      ]\n",
            "  [255.       255.       247.      ]\n",
            "  [255.       255.       247.      ]\n",
            "  [255.       255.       247.      ]\n",
            "  [255.       255.       247.      ]\n",
            "  [255.       255.       247.      ]\n",
            "  [255.       255.       247.      ]\n",
            "  [255.       255.       247.      ]\n",
            "  [255.       255.       247.      ]\n",
            "  [255.       255.       247.      ]\n",
            "  [255.       255.       247.      ]\n",
            "  [255.       255.       247.      ]\n",
            "  [255.       255.       247.      ]\n",
            "  [255.       255.       247.      ]\n",
            "  [254.5      255.       247.      ]\n",
            "  [253.21426  254.21426  246.21426 ]\n",
            "  [253.       254.       246.      ]\n",
            "  [253.       254.       246.      ]\n",
            "  [252.       255.       248.      ]\n",
            "  [251.07141  254.07141  247.07141 ]\n",
            "  [248.56122  253.       246.2143  ]\n",
            "  [245.85715  253.32143  248.5     ]\n",
            "  [245.35715  255.       254.43373 ]\n",
            "  [236.07132  251.42853  254.28564 ]\n",
            "  [216.32649  237.11223  240.39793 ]\n",
            "  [200.77037  231.28572  234.18369 ]\n",
            "  [206.23988  237.23988  239.23988 ]\n",
            "  [219.93881  247.85715  250.79083 ]\n",
            "  [218.42857  241.42857  244.92857 ]\n",
            "  [199.06105  218.48958  222.27531 ]\n",
            "  [189.37753  207.37753  211.37753 ]\n",
            "  [190.91327  206.98471  211.62756 ]\n",
            "  [201.92865  225.50018  229.8573  ]\n",
            "  [198.73969  229.52545  232.59686 ]\n",
            "  [199.66846  233.81128  238.02557 ]\n",
            "  [217.3216   244.32147  248.50006 ]\n",
            "  [232.6532   251.29599  253.51025 ]\n",
            "  [241.09695  255.       252.81119 ]\n",
            "  [241.61734  255.       247.61734 ]\n",
            "  [244.       255.       249.      ]\n",
            "  [245.9745   255.       247.9745  ]\n",
            "  [245.2908   255.       247.93369 ]\n",
            "  [242.49997  254.49997  251.14291 ]\n",
            "  [208.64752  229.36194  227.5762  ]\n",
            "  [196.66841  226.95418  228.95418 ]\n",
            "  [196.64795  231.64795  237.64795 ]\n",
            "  [184.54579  213.90291  221.90291 ]\n",
            "  [169.33151  199.28561  207.28561 ]\n",
            "  [154.79588  185.51527  191.3571  ]\n",
            "  [158.71458  186.2502   190.2502  ]\n",
            "  [215.42915  236.0056   238.06172 ]\n",
            "  [242.597    254.33675  254.21938 ]\n",
            "  [249.07144  253.64285  251.2857  ]\n",
            "  [254.       253.71423  248.71423 ]\n",
            "  [253.       254.       248.      ]\n",
            "  [252.       255.       246.      ]\n",
            "  [251.49991  255.       246.49997 ]\n",
            "  [250.78574  255.       248.35721 ]\n",
            "  [252.92856  254.92856  249.92856 ]\n",
            "  [249.92856  253.35715  250.7143  ]\n",
            "  [240.60185  255.       255.      ]\n",
            "  [225.59679  245.52538  243.52538 ]\n",
            "  [221.29597  243.86739  238.08168 ]\n",
            "  [234.46442  252.96426  248.96432 ]\n",
            "  [238.       254.       252.57147 ]\n",
            "  [230.8316   252.18881  253.04593 ]\n",
            "  [222.14282  252.92856  252.      ]\n",
            "  [194.58122  236.15276  244.43852 ]\n",
            "  [168.57127  208.57127  218.57127 ]\n",
            "  [156.09691  195.45403  208.3112  ]\n",
            "  [148.89273  185.3927   200.39264 ]\n",
            "  [153.21951  187.64804  200.07657 ]\n",
            "  [163.57147  197.57147  207.57147 ]\n",
            "  [167.73979  201.73979  211.38264 ]\n",
            "  [158.17851  193.17851  195.89275 ]\n",
            "  [165.5052   200.5052   202.5052  ]\n",
            "  [163.3469   198.77548  203.20407 ]\n",
            "  [159.07133  197.0714   202.57137 ]\n",
            "  [159.06636  200.06636  205.63783 ]\n",
            "  [163.86226  209.1021   214.03065 ]\n",
            "  [163.54077  212.7959   217.66833 ]\n",
            "  [168.8011   217.8011   224.8011  ]\n",
            "  [168.653    214.79074  219.53052 ]\n",
            "  [178.57152  220.19905  221.48985 ]\n",
            "  [200.32198  237.17899  235.00047 ]\n",
            "  [218.41849  249.86232  245.21432 ]\n",
            "  [229.66837  255.       252.66837 ]\n",
            "  [229.41324  255.       252.41324 ]\n",
            "  [223.45909  251.77037  247.99995 ]\n",
            "  [224.21431  250.21431  247.21431 ]\n",
            "  [232.449    254.86224  251.79593 ]\n",
            "  [237.00012  254.67859  252.17856 ]\n",
            "  [241.49495  254.21426  250.42853 ]\n",
            "  [244.       255.       251.      ]\n",
            "  [245.64285  254.77042  251.05606 ]\n",
            "  [243.35712  255.       247.25508 ]\n",
            "  [244.       255.       247.      ]\n",
            "  [244.2143   255.       247.      ]\n",
            "  [246.00006  254.49997  247.      ]\n",
            "  [248.57147  254.       247.78574 ]\n",
            "  [249.       254.       248.      ]\n",
            "  [251.       253.       248.      ]\n",
            "  [252.       255.       248.      ]\n",
            "  [252.       255.       248.      ]\n",
            "  [252.2143   255.       248.2143  ]\n",
            "  [253.       255.       249.      ]\n",
            "  [253.       255.       249.      ]\n",
            "  [253.       255.       249.      ]\n",
            "  [253.       255.       249.      ]]]... \n",
            " (224, 224, 3).... \n",
            " <dtype: 'float32'>\n"
          ]
        }
      ]
    },
    {
      "cell_type": "code",
      "source": [
        "plot_image(prep_image/255.)"
      ],
      "metadata": {
        "colab": {
          "base_uri": "https://localhost:8080/",
          "height": 282
        },
        "id": "qtLn3cik5K_1",
        "outputId": "2e40826b-d3e0-4842-98c8-b29a69a479fa"
      },
      "execution_count": null,
      "outputs": [
        {
          "output_type": "execute_result",
          "data": {
            "text/plain": [
              "<matplotlib.image.AxesImage at 0x7f0c9e37a890>"
            ]
          },
          "metadata": {},
          "execution_count": 16
        },
        {
          "output_type": "display_data",
          "data": {
            "text/plain": [
              "<Figure size 432x288 with 1 Axes>"
            ],
            "image/png": "[encoded data removed]"
          },
          "metadata": {
            "needs_background": "light"
          }
        }
      ]
    },
    {
      "cell_type": "markdown",
      "source": [
        "# Batch and prepare image"
      ],
      "metadata": {
        "id": "r__z5l_y7_Ef"
      }
    },
    {
      "cell_type": "code",
      "source": [
        "# Map preprocessing function to training data\n",
        "train_data = train_data.map(map_func= preprocess_img, num_parallel_calls = tf.data.AUTOTUNE)\n",
        "# batch train_data and prefecth it\n",
        "train_data = train_data.shuffle(buffer_size = 1000).batch(batch_size = 32).prefetch(buffer_size = tf.data.AUTOTUNE)\n",
        "\n",
        "test_data = test_data.map(map_func = preprocess_img, num_parallel_calls= tf.data.AUTOTUNE).batch(batch_size = 32).prefetch(buffer_size= tf.data.AUTOTUNE)"
      ],
      "metadata": {
        "id": "CtpGMMxu7GYn"
      },
      "execution_count": null,
      "outputs": []
    },
    {
      "cell_type": "code",
      "source": [
        "train_data, test_data"
      ],
      "metadata": {
        "colab": {
          "base_uri": "https://localhost:8080/"
        },
        "id": "ND76UOOBxDbE",
        "outputId": "9d5d2b5d-4dc4-4ea4-993b-000a1f82659a"
      },
      "execution_count": null,
      "outputs": [
        {
          "output_type": "execute_result",
          "data": {
            "text/plain": [
              "(<PrefetchDataset element_spec=(TensorSpec(shape=(None, 224, 224, 3), dtype=tf.float32, name=None), TensorSpec(shape=(None,), dtype=tf.int64, name=None))>,\n",
              " <PrefetchDataset element_spec=(TensorSpec(shape=(None, 224, 224, 3), dtype=tf.float32, name=None), TensorSpec(shape=(None,), dtype=tf.int64, name=None))>)"
            ]
          },
          "metadata": {},
          "execution_count": 18
        }
      ]
    },
    {
      "cell_type": "markdown",
      "source": [
        "## Create Modelling Callbacks"
      ],
      "metadata": {
        "id": "e6oj4rt8xlJ8"
      }
    },
    {
      "cell_type": "code",
      "source": [
        "checkpoint_path = \"checkpointmodelcallbacks/cp.ckpt\"\n",
        "model_checkpoint = tf.keras.callbacks.ModelCheckpoint(checkpoint_path,\n",
        "                                                      monitor = \"val_accuracy\",\n",
        "                                                      save_weights_only = True,\n",
        "                                                      save_best_only = True,\n",
        "                                                      verbose = 0)"
      ],
      "metadata": {
        "id": "sU3ELTZPxkMg"
      },
      "execution_count": null,
      "outputs": []
    },
    {
      "cell_type": "markdown",
      "source": [
        "## Set Mixed Precision Training"
      ],
      "metadata": {
        "id": "3xO7Njdh2BBn"
      }
    },
    {
      "cell_type": "code",
      "source": [
        "from tensorflow.keras import mixed_precision\n",
        "mixed_precision.set_global_policy(\"mixed_float16\")"
      ],
      "metadata": {
        "id": "WwLt_omP1U_W"
      },
      "execution_count": null,
      "outputs": []
    },
    {
      "cell_type": "code",
      "source": [
        "mixed_precision.global_policy"
      ],
      "metadata": {
        "colab": {
          "base_uri": "https://localhost:8080/"
        },
        "id": "rClkAwPz2hRy",
        "outputId": "548c96fc-b6c8-49be-d842-4024deaa2315"
      },
      "execution_count": null,
      "outputs": [
        {
          "output_type": "execute_result",
          "data": {
            "text/plain": [
              "<function keras.mixed_precision.policy.global_policy()>"
            ]
          },
          "metadata": {},
          "execution_count": 21
        }
      ]
    },
    {
      "cell_type": "markdown",
      "source": [
        "# Build feature extraction model"
      ],
      "metadata": {
        "id": "uQXyTMLE2rct"
      }
    },
    {
      "cell_type": "code",
      "source": [
        "input_shape = (224, 224, 3)\n",
        "base_model = tf.keras.applications.ResNet50V2(include_top=False)\n",
        "base_model.trainable = False\n",
        "\n",
        "inputs = layers.Input(shape = input_shape, name = \"input_layer\")\n",
        "x = base_model(inputs, training = False)\n",
        "x = layers.Rescaling(1/255.)(x)\n",
        "x = layers.GlobalAveragePooling2D(name= \"global_average_pooling_layer\")(x)\n",
        "x = layers.Dense(len(class_names))(x)\n",
        "\n",
        "outputs = layers.Activation(\"softmax\", dtype= tf.float32, name= \"output_layers\")(x)\n",
        "model = tf.keras.Model(inputs, outputs)\n",
        "\n",
        "# Compile model\n",
        "model.compile(loss= \"sparse_categorical_crossentropy\",\n",
        "              optimizer= tf.keras.optimizers.Adam(),\n",
        "              metrics= [\"accuracy\"])\n"
      ],
      "metadata": {
        "colab": {
          "base_uri": "https://localhost:8080/"
        },
        "id": "PSMsVw5l2oUK",
        "outputId": "da43f517-7ba3-43cc-8b34-f77cc77dc30b"
      },
      "execution_count": null,
      "outputs": [
        {
          "output_type": "stream",
          "name": "stdout",
          "text": [
            "Downloading data from https://storage.googleapis.com/tensorflow/keras-applications/resnet/resnet50v2_weights_tf_dim_ordering_tf_kernels_notop.h5\n",
            "94668760/94668760 [==============================] - 1s 0us/step\n"
          ]
        }
      ]
    },
    {
      "cell_type": "code",
      "source": [
        "model.summary()"
      ],
      "metadata": {
        "colab": {
          "base_uri": "https://localhost:8080/"
        },
        "id": "4_qJmcV4EM0n",
        "outputId": "88da8788-276b-4126-a684-3ef0cb65518b"
      },
      "execution_count": null,
      "outputs": [
        {
          "output_type": "stream",
          "name": "stdout",
          "text": [
            "Model: \"model\"\n",
            "_________________________________________________________________\n",
            " Layer (type)                Output Shape              Param #   \n",
            "=================================================================\n",
            " input_layer (InputLayer)    [(None, 224, 224, 3)]     0         \n",
            "                                                                 \n",
            " resnet50v2 (Functional)     (None, None, None, 2048)  23564800  \n",
            "                                                                 \n",
            " rescaling (Rescaling)       (None, 7, 7, 2048)        0         \n",
            "                                                                 \n",
            " global_average_pooling_laye  (None, 2048)             0         \n",
            " r (GlobalAveragePooling2D)                                      \n",
            "                                                                 \n",
            " dense (Dense)               (None, 101)               206949    \n",
            "                                                                 \n",
            " output_layers (Activation)  (None, 101)               0         \n",
            "                                                                 \n",
            "=================================================================\n",
            "Total params: 23,771,749\n",
            "Trainable params: 206,949\n",
            "Non-trainable params: 23,564,800\n",
            "_________________________________________________________________\n"
          ]
        }
      ]
    },
    {
      "cell_type": "markdown",
      "source": [
        "## Check layers dtype to confirm if we are using mixed precision"
      ],
      "metadata": {
        "id": "YkzNCMlKExK9"
      }
    },
    {
      "cell_type": "code",
      "source": [
        "for layer in model.layers:\n",
        "  print(layer.name, layer.trainable, layer.dtype, layer.dtype_policy)"
      ],
      "metadata": {
        "colab": {
          "base_uri": "https://localhost:8080/"
        },
        "id": "DtgH94PeEwbG",
        "outputId": "c832bd45-511b-4f24-9b90-1f5d7861497b"
      },
      "execution_count": null,
      "outputs": [
        {
          "output_type": "stream",
          "name": "stdout",
          "text": [
            "input_layer True float32 <Policy \"float32\">\n",
            "resnet50v2 False float32 <Policy \"mixed_float16\">\n",
            "rescaling True float32 <Policy \"mixed_float16\">\n",
            "global_average_pooling_layer True float32 <Policy \"mixed_float16\">\n",
            "dense True float32 <Policy \"mixed_float16\">\n",
            "output_layers True float32 <Policy \"float32\">\n"
          ]
        }
      ]
    },
    {
      "cell_type": "code",
      "source": [
        "for layer in model.layers[1].layers[:10]:\n",
        "  print(layer.name, layer.trainable, layer.dtype, layer.dtype_policy)"
      ],
      "metadata": {
        "colab": {
          "base_uri": "https://localhost:8080/"
        },
        "id": "bZEAwLieEZCU",
        "outputId": "f10caa1d-e020-4ad7-c6df-c43d82ffbd4b"
      },
      "execution_count": null,
      "outputs": [
        {
          "output_type": "stream",
          "name": "stdout",
          "text": [
            "input_1 False float32 <Policy \"float32\">\n",
            "conv1_pad False float32 <Policy \"mixed_float16\">\n",
            "conv1_conv False float32 <Policy \"mixed_float16\">\n",
            "pool1_pad False float32 <Policy \"mixed_float16\">\n",
            "pool1_pool False float32 <Policy \"mixed_float16\">\n",
            "conv2_block1_preact_bn False float32 <Policy \"mixed_float16\">\n",
            "conv2_block1_preact_relu False float32 <Policy \"mixed_float16\">\n",
            "conv2_block1_1_conv False float32 <Policy \"mixed_float16\">\n",
            "conv2_block1_1_bn False float32 <Policy \"mixed_float16\">\n",
            "conv2_block1_1_relu False float32 <Policy \"mixed_float16\">\n"
          ]
        }
      ]
    },
    {
      "cell_type": "code",
      "source": [
        "history_101_food_classes_mixed_precision = model.fit(train_data,\n",
        "                                    epochs = 3,\n",
        "                                    steps_per_epoch = len(train_data),\n",
        "                                    validation_data = test_data,\n",
        "                                    validation_split = int(0.15 * len(test_data)),\n",
        "                                    callbacks = [create_tensorboard_callback(\"training_logs\", \"Resnet_callback\"), model_checkpoint])"
      ],
      "metadata": {
        "id": "iB6xM3IiFy8p",
        "colab": {
          "base_uri": "https://localhost:8080/"
        },
        "outputId": "e0447c44-508b-41c0-e2e3-3fe57f162457"
      },
      "execution_count": null,
      "outputs": [
        {
          "output_type": "stream",
          "name": "stdout",
          "text": [
            "Saving TensorBoard log files to: training_logs/Resnet_callback/20221111-153317\n",
            "Epoch 1/3\n",
            "2368/2368 [==============================] - 255s 102ms/step - loss: 4.3948 - accuracy: 0.0478 - val_loss: 4.2099 - val_accuracy: 0.0737\n",
            "Epoch 2/3\n",
            "2368/2368 [==============================] - 271s 114ms/step - loss: 4.2079 - accuracy: 0.0759 - val_loss: 4.1257 - val_accuracy: 0.0846\n",
            "Epoch 3/3\n",
            "2368/2368 [==============================] - 266s 111ms/step - loss: 4.1246 - accuracy: 0.0876 - val_loss: 4.0572 - val_accuracy: 0.0966\n"
          ]
        }
      ]
    },
    {
      "cell_type": "markdown",
      "source": [
        "## Build another model"
      ],
      "metadata": {
        "id": "TB6uCG81bdee"
      }
    },
    {
      "cell_type": "code",
      "source": [
        "input_shape = (224, 224, 3)\n",
        "base_model = tf.keras.applications.EfficientNetV2S(include_top=False)\n",
        "base_model.trainable = False\n",
        "\n",
        "inputs = layers.Input(shape = input_shape, name = \"input_layer\")\n",
        "x = base_model(inputs, training = False)\n",
        "x = layers.GlobalAveragePooling2D(name= \"global_average_pooling_layer\")(x)\n",
        "x = layers.Dense(len(class_names))(x)\n",
        "\n",
        "outputs = layers.Activation(\"softmax\", dtype= tf.float32, name= \"output_layers\")(x)\n",
        "model_1 = tf.keras.Model(inputs, outputs)\n",
        "\n",
        "# Compile model\n",
        "model_1.compile(loss= \"sparse_categorical_crossentropy\",\n",
        "              optimizer= tf.keras.optimizers.Adam(),\n",
        "              metrics= [\"accuracy\"])"
      ],
      "metadata": {
        "id": "bfD99NChSdeL",
        "colab": {
          "base_uri": "https://localhost:8080/"
        },
        "outputId": "5534da81-7986-4625-d498-44c379901e58"
      },
      "execution_count": null,
      "outputs": [
        {
          "output_type": "stream",
          "name": "stdout",
          "text": [
            "Downloading data from https://storage.googleapis.com/tensorflow/keras-applications/efficientnet_v2/efficientnetv2-s_notop.h5\n",
            "82420632/82420632 [==============================] - 1s 0us/step\n"
          ]
        }
      ]
    },
    {
      "cell_type": "code",
      "source": [
        "model_1.summary()"
      ],
      "metadata": {
        "colab": {
          "base_uri": "https://localhost:8080/"
        },
        "id": "K3zVaUgxcSqO",
        "outputId": "84c12cec-1a25-4113-c2ff-057679340b9f"
      },
      "execution_count": null,
      "outputs": [
        {
          "output_type": "stream",
          "name": "stdout",
          "text": [
            "Model: \"model_1\"\n",
            "_________________________________________________________________\n",
            " Layer (type)                Output Shape              Param #   \n",
            "=================================================================\n",
            " input_layer (InputLayer)    [(None, 224, 224, 3)]     0         \n",
            "                                                                 \n",
            " efficientnetv2-s (Functiona  (None, None, None, 1280)  20331360 \n",
            " l)                                                              \n",
            "                                                                 \n",
            " global_average_pooling_laye  (None, 1280)             0         \n",
            " r (GlobalAveragePooling2D)                                      \n",
            "                                                                 \n",
            " dense_1 (Dense)             (None, 101)               129381    \n",
            "                                                                 \n",
            " output_layers (Activation)  (None, 101)               0         \n",
            "                                                                 \n",
            "=================================================================\n",
            "Total params: 20,460,741\n",
            "Trainable params: 129,381\n",
            "Non-trainable params: 20,331,360\n",
            "_________________________________________________________________\n"
          ]
        }
      ]
    },
    {
      "cell_type": "code",
      "source": [
        "history_101_food_classes_efficentnet_model = model_1.fit(train_data,\n",
        "                                    epochs = 3,\n",
        "                                    steps_per_epoch = len(train_data),\n",
        "                                    validation_data = test_data,\n",
        "                                    validation_split = int(0.15 * len(test_data)),\n",
        "                                    callbacks = [create_tensorboard_callback(\"training_logs\", \"efficeintnet_model\"), model_checkpoint])"
      ],
      "metadata": {
        "colab": {
          "base_uri": "https://localhost:8080/"
        },
        "id": "iI2r334GcVVZ",
        "outputId": "5d2fe9fa-1c64-4b91-f26d-595e24372c0d"
      },
      "execution_count": null,
      "outputs": [
        {
          "output_type": "stream",
          "name": "stdout",
          "text": [
            "Saving TensorBoard log files to: training_logs/efficeintnet_model/20221111-154636\n",
            "Epoch 1/3\n",
            "2368/2368 [==============================] - 297s 119ms/step - loss: 1.7700 - accuracy: 0.5618 - val_loss: 1.2095 - val_accuracy: 0.6762\n",
            "Epoch 2/3\n",
            "2368/2368 [==============================] - 326s 137ms/step - loss: 1.2873 - accuracy: 0.6668 - val_loss: 1.0932 - val_accuracy: 0.7070\n",
            "Epoch 3/3\n",
            "2368/2368 [==============================] - 266s 112ms/step - loss: 1.1568 - accuracy: 0.6970 - val_loss: 1.0486 - val_accuracy: 0.7154\n"
          ]
        }
      ]
    },
    {
      "cell_type": "code",
      "source": [
        "result_feature_extraction_model = model_1.evaluate(test_data)\n",
        "result_feature_extraction_model"
      ],
      "metadata": {
        "colab": {
          "base_uri": "https://localhost:8080/"
        },
        "id": "GWCnFhAymBFw",
        "outputId": "dd9af9cb-2e68-46dc-80a0-8f794bf0bf59"
      },
      "execution_count": null,
      "outputs": [
        {
          "output_type": "stream",
          "name": "stdout",
          "text": [
            "790/790 [==============================] - 73s 92ms/step - loss: 1.0486 - accuracy: 0.7154\n"
          ]
        },
        {
          "output_type": "execute_result",
          "data": {
            "text/plain": [
              "[1.0486059188842773, 0.7153663635253906]"
            ]
          },
          "metadata": {},
          "execution_count": 30
        }
      ]
    },
    {
      "cell_type": "markdown",
      "source": [
        "# Load and evaluate checkpoint weights"
      ],
      "metadata": {
        "id": "n2RR1IH-mzIk"
      }
    },
    {
      "cell_type": "code",
      "source": [
        "clone_model = tf.keras.models.clone_model(model_1)\n",
        "clone_model.summary()"
      ],
      "metadata": {
        "colab": {
          "base_uri": "https://localhost:8080/"
        },
        "id": "vBDF6mGAmO1e",
        "outputId": "82e677eb-58a9-4b4b-ffe0-30a954fda949"
      },
      "execution_count": null,
      "outputs": [
        {
          "output_type": "stream",
          "name": "stdout",
          "text": [
            "Model: \"model_1\"\n",
            "_________________________________________________________________\n",
            " Layer (type)                Output Shape              Param #   \n",
            "=================================================================\n",
            " input_layer (InputLayer)    [(None, 224, 224, 3)]     0         \n",
            "                                                                 \n",
            " efficientnetv2-s (Functiona  (None, None, None, 1280)  20331360 \n",
            " l)                                                              \n",
            "                                                                 \n",
            " global_average_pooling_laye  (None, 1280)             0         \n",
            " r (GlobalAveragePooling2D)                                      \n",
            "                                                                 \n",
            " dense_1 (Dense)             (None, 101)               129381    \n",
            "                                                                 \n",
            " output_layers (Activation)  (None, 101)               0         \n",
            "                                                                 \n",
            "=================================================================\n",
            "Total params: 20,460,741\n",
            "Trainable params: 129,381\n",
            "Non-trainable params: 20,331,360\n",
            "_________________________________________________________________\n"
          ]
        }
      ]
    },
    {
      "cell_type": "code",
      "source": [
        "clone_model.load_weights(checkpoint_path)"
      ],
      "metadata": {
        "colab": {
          "base_uri": "https://localhost:8080/"
        },
        "id": "ue5psZu9opMZ",
        "outputId": "2eae8db9-dc5e-4eab-a00f-069c1c534964"
      },
      "execution_count": null,
      "outputs": [
        {
          "output_type": "execute_result",
          "data": {
            "text/plain": [
              "<tensorflow.python.training.tracking.util.CheckpointLoadStatus at 0x7f0c90194fd0>"
            ]
          },
          "metadata": {},
          "execution_count": 32
        }
      ]
    },
    {
      "cell_type": "code",
      "source": [
        "# Recompile the model\n",
        "clone_model.compile(loss= \"sparse_categorical_crossentropy\",\n",
        "                    optimizer= tf.keras.optimizers.Adam(),\n",
        "                    metrics = [\"accuracy\"])"
      ],
      "metadata": {
        "id": "YqdcNNaFp1Rt"
      },
      "execution_count": null,
      "outputs": []
    },
    {
      "cell_type": "code",
      "source": [
        "result_loaded_model_with_clone_weight = clone_model.evaluate(test_data)\n",
        "result_loaded_model_with_clone_weight"
      ],
      "metadata": {
        "colab": {
          "base_uri": "https://localhost:8080/"
        },
        "id": "epYgBrRJqybH",
        "outputId": "498d40f9-8eec-4281-8746-e9be74966907"
      },
      "execution_count": null,
      "outputs": [
        {
          "output_type": "stream",
          "name": "stdout",
          "text": [
            "790/790 [==============================] - 61s 71ms/step - loss: 1.0486 - accuracy: 0.7154\n"
          ]
        },
        {
          "output_type": "execute_result",
          "data": {
            "text/plain": [
              "[1.0486055612564087, 0.7153663635253906]"
            ]
          },
          "metadata": {},
          "execution_count": 34
        }
      ]
    },
    {
      "cell_type": "code",
      "source": [
        "np.isclose(result_feature_extraction_model, result_loaded_model_with_clone_weight)"
      ],
      "metadata": {
        "colab": {
          "base_uri": "https://localhost:8080/"
        },
        "id": "cbuH8uX0rK67",
        "outputId": "5f3d6088-afee-4ce9-cfc2-0fcc8ac6f571"
      },
      "execution_count": null,
      "outputs": [
        {
          "output_type": "execute_result",
          "data": {
            "text/plain": [
              "array([ True,  True])"
            ]
          },
          "metadata": {},
          "execution_count": 35
        }
      ]
    },
    {
      "cell_type": "markdown",
      "source": [
        "## Save the model"
      ],
      "metadata": {
        "id": "hNnoLT6bvDH-"
      }
    },
    {
      "cell_type": "code",
      "source": [
        "save_dir = \"/content/drive/MyDrive/tensorflow/food101/Efficientnetv2/model\"\n",
        "model_1.save(save_dir)"
      ],
      "metadata": {
        "colab": {
          "base_uri": "https://localhost:8080/"
        },
        "id": "oygQGpFWsVQc",
        "outputId": "d7380126-2419-4135-a4fa-5eafa7ab6cc1"
      },
      "execution_count": null,
      "outputs": [
        {
          "output_type": "stream",
          "name": "stderr",
          "text": [
            "WARNING:absl:Found untraced functions such as _jit_compiled_convolution_op, _jit_compiled_convolution_op, _jit_compiled_convolution_op, _jit_compiled_convolution_op, _jit_compiled_convolution_op while saving (showing 5 of 170). These functions will not be directly callable after loading.\n"
          ]
        }
      ]
    },
    {
      "cell_type": "code",
      "source": [
        "loaded_save_model = tf.keras.models.load_model(save_dir)"
      ],
      "metadata": {
        "id": "50E1caFYxOV3"
      },
      "execution_count": null,
      "outputs": []
    },
    {
      "cell_type": "code",
      "source": [
        "for layer in loaded_save_model.layers:\n",
        "  print(layer.name, layer.dtype, layer.dtype_policy)"
      ],
      "metadata": {
        "colab": {
          "base_uri": "https://localhost:8080/"
        },
        "id": "zFaj542eyRK8",
        "outputId": "8ba97e07-19d8-4c5c-8a74-110ef4af02cc"
      },
      "execution_count": null,
      "outputs": [
        {
          "output_type": "stream",
          "name": "stdout",
          "text": [
            "input_layer float32 <Policy \"float32\">\n",
            "efficientnetv2-s float32 <Policy \"mixed_float16\">\n",
            "global_average_pooling_layer float32 <Policy \"mixed_float16\">\n",
            "dense_1 float32 <Policy \"mixed_float16\">\n",
            "output_layers float32 <Policy \"float32\">\n"
          ]
        }
      ]
    },
    {
      "cell_type": "markdown",
      "source": [
        "## Evaluate our loaded saved model"
      ],
      "metadata": {
        "id": "TlsMunXozOg7"
      }
    },
    {
      "cell_type": "code",
      "source": [
        "result_loaded_saved_model = loaded_save_model.evaluate(test_data)\n",
        "result_loaded_saved_model"
      ],
      "metadata": {
        "colab": {
          "base_uri": "https://localhost:8080/"
        },
        "id": "a37VUT3By9Lm",
        "outputId": "18c71964-304b-424b-b834-552a3d8c8f37"
      },
      "execution_count": null,
      "outputs": [
        {
          "output_type": "stream",
          "name": "stdout",
          "text": [
            "790/790 [==============================] - 62s 74ms/step - loss: 1.0486 - accuracy: 0.7154\n"
          ]
        },
        {
          "output_type": "execute_result",
          "data": {
            "text/plain": [
              "[1.048606038093567, 0.7153663635253906]"
            ]
          },
          "metadata": {},
          "execution_count": 39
        }
      ]
    },
    {
      "cell_type": "code",
      "source": [
        "np.isclose(result_feature_extraction_model, result_loaded_saved_model)"
      ],
      "metadata": {
        "colab": {
          "base_uri": "https://localhost:8080/"
        },
        "id": "wlSZJKtbzkto",
        "outputId": "cd011fd1-0f24-4b78-b5f3-3db705227540"
      },
      "execution_count": null,
      "outputs": [
        {
          "output_type": "execute_result",
          "data": {
            "text/plain": [
              "array([ True,  True])"
            ]
          },
          "metadata": {},
          "execution_count": 40
        }
      ]
    },
    {
      "cell_type": "markdown",
      "source": [
        "# Preparing our model for fine tunning"
      ],
      "metadata": {
        "id": "DRTv3WeI2QFG"
      }
    },
    {
      "cell_type": "code",
      "source": [
        "for layer in loaded_save_model.layers:\n",
        "  print(layer.name, layer.trainable, layer.dtype, layer.dtype_policy)"
      ],
      "metadata": {
        "colab": {
          "base_uri": "https://localhost:8080/"
        },
        "id": "xMITgHlq3WZk",
        "outputId": "0eec8575-949f-4a5f-8efe-b4d55534ed31"
      },
      "execution_count": null,
      "outputs": [
        {
          "output_type": "execute_result",
          "data": {
            "text/plain": [
              "[<keras.engine.input_layer.InputLayer at 0x7f0c0b33ed10>,\n",
              " <keras.engine.functional.Functional at 0x7f0c02173e90>,\n",
              " <keras.layers.pooling.global_average_pooling2d.GlobalAveragePooling2D at 0x7f0c0bb46750>,\n",
              " <keras.layers.core.dense.Dense at 0x7f0c0b154990>,\n",
              " <keras.layers.core.activation.Activation at 0x7f0c0bbbf550>]"
            ]
          },
          "metadata": {},
          "execution_count": 41
        }
      ]
    },
    {
      "cell_type": "code",
      "source": [
        "for layer in loaded_save_model.layers:\n",
        "  layer.trainable = True\n",
        "  print(layer.name, layer.trainable, layer.dtype, layer.dtype_policy)"
      ],
      "metadata": {
        "id": "51soGebz0-y4",
        "colab": {
          "base_uri": "https://localhost:8080/"
        },
        "outputId": "9d21b23d-542b-4354-90a3-ea146aed50b5"
      },
      "execution_count": null,
      "outputs": [
        {
          "output_type": "stream",
          "name": "stdout",
          "text": [
            "input_layer True float32 <Policy \"float32\">\n",
            "efficientnetv2-s True float32 <Policy \"mixed_float16\">\n",
            "global_average_pooling_layer True float32 <Policy \"mixed_float16\">\n",
            "dense_1 True float32 <Policy \"mixed_float16\">\n",
            "output_layers True float32 <Policy \"float32\">\n"
          ]
        }
      ]
    },
    {
      "cell_type": "markdown",
      "source": [
        "## A couple more callbacks"
      ],
      "metadata": {
        "id": "Cnm49WRHXLSY"
      }
    },
    {
      "cell_type": "code",
      "source": [
        " Earlystopping_callback = tf.keras.callbacks.EarlyStopping(monitor = \"val_loss\",\n",
        "                                                                   patience = 3)\n",
        " checkpoint_path_1 = \"fine_tune_checkpoint/cp.ckpt/\"\n",
        " checkpoint_finetune_callback = tf.keras.callbacks.ModelCheckpoint(checkpoint_path_1,\n",
        "                                                                           monitor = \"val_loss\",\n",
        "                                                                           save_best_only = True)\n",
        " reduce_lr = tf.keras.callbacks.ReduceLROnPlateau(monitor = \"val_loss\",\n",
        "                                                  factor = 0.2,\n",
        "                                                  min_lr = 1e-7,\n",
        "                                                  patience = 2,\n",
        "                                                  verbose = 1)"
      ],
      "metadata": {
        "id": "_wBJMOjJXKry"
      },
      "execution_count": null,
      "outputs": []
    },
    {
      "cell_type": "code",
      "source": [
        "loaded_save_model.compile(loss = \"sparse_categorical_crossentropy\",\n",
        "                          optimizer= tf.keras.optimizers.Adam(0.0001),\n",
        "                          metrics= [\"accuracy\"])"
      ],
      "metadata": {
        "id": "_45K1iHcakbx"
      },
      "execution_count": null,
      "outputs": []
    },
    {
      "cell_type": "code",
      "source": [
        "history_food101_all_classes_fine_tune = loaded_save_model.fit(train_data,\n",
        "                                                              epochs = 100,\n",
        "                                                              steps_per_epoch = len(train_data),\n",
        "                                                              validation_data = test_data,\n",
        "                                                              validation_split = int(0.15 * len(test_data)),\n",
        "                                                              callbacks= [create_tensorboard_callback(\"fine_tune_food101_class\", \"efficientnetv2s\"),\n",
        "                                                                          Earlystopping_callback,\n",
        "                                                                          checkpoint_finetune_callback,\n",
        "                                                                          reduce_lr])"
      ],
      "metadata": {
        "id": "5ugS8xQ9dcdH",
        "colab": {
          "base_uri": "https://localhost:8080/"
        },
        "outputId": "49ef73be-558b-4eed-d9df-ee86a0fa3b06"
      },
      "execution_count": null,
      "outputs": [
        {
          "output_type": "stream",
          "name": "stdout",
          "text": [
            "Saving TensorBoard log files to: fine_tune_food101_class/efficientnetv2s/20221111-162214\n",
            "Epoch 1/100\n",
            "2368/2368 [==============================] - ETA: 0s - loss: 0.8987 - accuracy: 0.7575"
          ]
        },
        {
          "output_type": "stream",
          "name": "stderr",
          "text": [
            "WARNING:absl:Found untraced functions such as _jit_compiled_convolution_op, _jit_compiled_convolution_op, _jit_compiled_convolution_op, _jit_compiled_convolution_op, _jit_compiled_convolution_op while saving (showing 5 of 170). These functions will not be directly callable after loading.\n"
          ]
        },
        {
          "output_type": "stream",
          "name": "stdout",
          "text": [
            "\b\b\b\b\b\b\b\b\b\b\b\b\b\b\b\b\b\b\b\b\b\b\b\b\b\b\b\b\b\b\b\b\b\b\b\b\b\b\b\b\b\b\b\b\b\b\b\b\b\b\b\b\b\b\b\b\b\b\b\b\b\b\b\b\b\b\b\b\b\b\b\b\b\b\b\b\b\b\b\b\b\b\b\b\b\b\r2368/2368 [==============================] - 780s 315ms/step - loss: 0.8987 - accuracy: 0.7575 - val_loss: 0.6130 - val_accuracy: 0.8251 - lr: 1.0000e-04\n",
            "Epoch 2/100\n",
            "2368/2368 [==============================] - ETA: 0s - loss: 0.4003 - accuracy: 0.8855"
          ]
        },
        {
          "output_type": "stream",
          "name": "stderr",
          "text": [
            "WARNING:absl:Found untraced functions such as _jit_compiled_convolution_op, _jit_compiled_convolution_op, _jit_compiled_convolution_op, _jit_compiled_convolution_op, _jit_compiled_convolution_op while saving (showing 5 of 170). These functions will not be directly callable after loading.\n"
          ]
        },
        {
          "output_type": "stream",
          "name": "stdout",
          "text": [
            "\b\b\b\b\b\b\b\b\b\b\b\b\b\b\b\b\b\b\b\b\b\b\b\b\b\b\b\b\b\b\b\b\b\b\b\b\b\b\b\b\b\b\b\b\b\b\b\b\b\b\b\b\b\b\b\b\b\b\b\b\b\b\b\b\b\b\b\b\b\b\b\b\b\b\b\b\b\b\b\b\b\b\b\b\b\b\r2368/2368 [==============================] - 717s 301ms/step - loss: 0.4003 - accuracy: 0.8855 - val_loss: 0.6024 - val_accuracy: 0.8353 - lr: 1.0000e-04\n",
            "Epoch 3/100\n",
            "2368/2368 [==============================] - 609s 256ms/step - loss: 0.1638 - accuracy: 0.9500 - val_loss: 0.7072 - val_accuracy: 0.8200 - lr: 1.0000e-04\n",
            "Epoch 4/100\n",
            "2368/2368 [==============================] - ETA: 0s - loss: 0.1068 - accuracy: 0.9657\n",
            "Epoch 4: ReduceLROnPlateau reducing learning rate to 1.9999999494757503e-05.\n",
            "2368/2368 [==============================] - 618s 260ms/step - loss: 0.1068 - accuracy: 0.9657 - val_loss: 0.8081 - val_accuracy: 0.8159 - lr: 1.0000e-04\n",
            "Epoch 5/100\n",
            "2368/2368 [==============================] - 642s 270ms/step - loss: 0.0166 - accuracy: 0.9957 - val_loss: 0.7601 - val_accuracy: 0.8533 - lr: 2.0000e-05\n"
          ]
        }
      ]
    },
    {
      "cell_type": "code",
      "source": [
        "loaded_save_model.save(\"/content/drive/efficientnetbv2s_model\")"
      ],
      "metadata": {
        "id": "dnkjFAZ-qRQC"
      },
      "execution_count": null,
      "outputs": []
    },
    {
      "cell_type": "code",
      "source": [],
      "metadata": {
        "id": "acaHNgiOfwON"
      },
      "execution_count": null,
      "outputs": []
    }
  ]
}