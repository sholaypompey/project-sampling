{
  "cells": [
    {
      "cell_type": "markdown",
      "metadata": {
        "id": "view-in-github",
        "colab_type": "text"
      },
      "source": [
        "<a href=\"https://colab.research.google.com/github/sholaypompey/project-sampling/blob/main/09_Skimlit_NLP_Milestone_Project.ipynb\" target=\"_parent\"><img src=\"https://colab.research.google.com/assets/colab-badge.svg\" alt=\"Open In Colab\"/></a>"
      ]
    },
    {
      "cell_type": "code",
      "execution_count": 1,
      "metadata": {
        "colab": {
          "base_uri": "https://localhost:8080/"
        },
        "id": "M7jE1P3yAoFm",
        "outputId": "9575b688-06f7-4b06-f8df-c0f232da3310"
      },
      "outputs": [
        {
          "output_type": "stream",
          "name": "stdout",
          "text": [
            "GPU 0: Tesla T4 (UUID: GPU-ddebae87-4a32-9d0d-f83c-91df8f8653b3)\n"
          ]
        }
      ],
      "source": [
        "# Check GPU access\n",
        "!nvidia-smi -L"
      ]
    },
    {
      "cell_type": "markdown",
      "metadata": {
        "id": "GF0eH0YzBSN9"
      },
      "source": [
        "# Get Data"
      ]
    },
    {
      "cell_type": "code",
      "execution_count": 2,
      "metadata": {
        "colab": {
          "base_uri": "https://localhost:8080/"
        },
        "id": "sr-MzuajBN9y",
        "outputId": "0d275e2b-9251-429d-ebfe-2cc5ea81b26b"
      },
      "outputs": [
        {
          "output_type": "stream",
          "name": "stdout",
          "text": [
            "fatal: destination path 'pubmed-rct' already exists and is not an empty directory.\n",
            "PubMed_200k_RCT\n",
            "PubMed_200k_RCT_numbers_replaced_with_at_sign\n",
            "PubMed_20k_RCT\n",
            "PubMed_20k_RCT_numbers_replaced_with_at_sign\n",
            "README.md\n"
          ]
        }
      ],
      "source": [
        "!git clone https://github.com/Franck-Dernoncourt/pubmed-rct.git\n",
        "!ls pubmed-rct"
      ]
    },
    {
      "cell_type": "code",
      "execution_count": 3,
      "metadata": {
        "colab": {
          "base_uri": "https://localhost:8080/"
        },
        "id": "nKb1TCRIBYxD",
        "outputId": "21ebd50a-bb45-4393-d6e3-67a659d8aa62"
      },
      "outputs": [
        {
          "output_type": "stream",
          "name": "stdout",
          "text": [
            "dev.txt  test.txt  train.txt\n"
          ]
        }
      ],
      "source": [
        "!ls pubmed-rct/PubMed_20k_RCT_numbers_replaced_with_at_sign"
      ]
    },
    {
      "cell_type": "code",
      "execution_count": 4,
      "metadata": {
        "id": "7E59pxkoBz5q"
      },
      "outputs": [],
      "source": [
        "data_dir = \"pubmed-rct/PubMed_20k_RCT_numbers_replaced_with_at_sign/\""
      ]
    },
    {
      "cell_type": "code",
      "execution_count": 5,
      "metadata": {
        "colab": {
          "base_uri": "https://localhost:8080/"
        },
        "id": "W_1reTQgCUNt",
        "outputId": "ec6e00d1-c118-423f-ab65-c83b3f96cbff"
      },
      "outputs": [
        {
          "output_type": "execute_result",
          "data": {
            "text/plain": [
              "['pubmed-rct/PubMed_20k_RCT_numbers_replaced_with_at_sign/train.txt',\n",
              " 'pubmed-rct/PubMed_20k_RCT_numbers_replaced_with_at_sign/dev.txt',\n",
              " 'pubmed-rct/PubMed_20k_RCT_numbers_replaced_with_at_sign/test.txt']"
            ]
          },
          "metadata": {},
          "execution_count": 5
        }
      ],
      "source": [
        "# View all the files in data_dir\n",
        "import os\n",
        "filenames = [data_dir + filename for filename in os.listdir(data_dir)]\n",
        "filenames"
      ]
    },
    {
      "cell_type": "markdown",
      "metadata": {
        "id": "mqWGb1YiDWFF"
      },
      "source": [
        "# Preprocess Data"
      ]
    },
    {
      "cell_type": "code",
      "execution_count": 6,
      "metadata": {
        "id": "T_vn27vwCsgW"
      },
      "outputs": [],
      "source": [
        "# Create a function to read lines in filename\n",
        "def get_lines(filename):\n",
        "  with open(filename, 'r') as f:\n",
        "    return f.readlines()"
      ]
    },
    {
      "cell_type": "code",
      "execution_count": 7,
      "metadata": {
        "colab": {
          "base_uri": "https://localhost:8080/"
        },
        "id": "F_CvW-dbECOL",
        "outputId": "e3cedc43-7b0e-4c16-bbfa-80f14a6fe417"
      },
      "outputs": [
        {
          "output_type": "execute_result",
          "data": {
            "text/plain": [
              "['###24293578\\n',\n",
              " 'OBJECTIVE\\tTo investigate the efficacy of @ weeks of daily low-dose oral prednisolone in improving pain , mobility , and systemic low-grade inflammation in the short term and whether the effect would be sustained at @ weeks in older adults with moderate to severe knee osteoarthritis ( OA ) .\\n',\n",
              " 'METHODS\\tA total of @ patients with primary knee OA were randomized @:@ ; @ received @ mg/day of prednisolone and @ received placebo for @ weeks .\\n',\n",
              " 'METHODS\\tOutcome measures included pain reduction and improvement in function scores and systemic inflammation markers .\\n',\n",
              " 'METHODS\\tPain was assessed using the visual analog pain scale ( @-@ mm ) .\\n',\n",
              " 'METHODS\\tSecondary outcome measures included the Western Ontario and McMaster Universities Osteoarthritis Index scores , patient global assessment ( PGA ) of the severity of knee OA , and @-min walk distance ( @MWD ) .\\n',\n",
              " 'METHODS\\tSerum levels of interleukin @ ( IL-@ ) , IL-@ , tumor necrosis factor ( TNF ) - , and high-sensitivity C-reactive protein ( hsCRP ) were measured .\\n',\n",
              " 'RESULTS\\tThere was a clinically relevant reduction in the intervention group compared to the placebo group for knee pain , physical function , PGA , and @MWD at @ weeks .\\n',\n",
              " 'RESULTS\\tThe mean difference between treatment arms ( @ % CI ) was @ ( @-@ @ ) , p < @ ; @ ( @-@ @ ) , p < @ ; @ ( @-@ @ ) , p < @ ; and @ ( @-@ @ ) , p < @ , respectively .\\n',\n",
              " 'RESULTS\\tFurther , there was a clinically relevant reduction in the serum levels of IL-@ , IL-@ , TNF - , and hsCRP at @ weeks in the intervention group when compared to the placebo group .\\n',\n",
              " 'RESULTS\\tThese differences remained significant at @ weeks .\\n',\n",
              " 'RESULTS\\tThe Outcome Measures in Rheumatology Clinical Trials-Osteoarthritis Research Society International responder rate was @ % in the intervention group and @ % in the placebo group ( p < @ ) .\\n',\n",
              " 'CONCLUSIONS\\tLow-dose oral prednisolone had both a short-term and a longer sustained effect resulting in less knee pain , better physical function , and attenuation of systemic inflammation in older patients with knee OA ( ClinicalTrials.gov identifier NCT@ ) .\\n',\n",
              " '\\n']"
            ]
          },
          "metadata": {},
          "execution_count": 7
        }
      ],
      "source": [
        "train_lines = get_lines(data_dir + \"train.txt\")\n",
        "train_lines[:14]"
      ]
    },
    {
      "cell_type": "code",
      "execution_count": 8,
      "metadata": {
        "id": "eTBt1-0qEMrD"
      },
      "outputs": [],
      "source": [
        "# Create a function to preprocess our data\n",
        "def preprocess_text_with_line_number(filename):\n",
        "  input_lines = get_lines(filename)\n",
        "  abstract_lines = \"\"\n",
        "  abstract_samples = []\n",
        "\n",
        "  for line in input_lines:\n",
        "    if line.startswith(\"###\"):\n",
        "      abstract_id = line\n",
        "      abstract_lines = \"\"\n",
        "    elif line.isspace():\n",
        "      abstract_line_split = abstract_lines.splitlines()\n",
        "\n",
        "      for abstract_line_number, abstract_line in enumerate(abstract_line_split):\n",
        "        line_data = {}\n",
        "        target_text_split = abstract_line.split(\"\\t\")\n",
        "        line_data[\"target\"] = target_text_split[0]\n",
        "        line_data[\"text\"] = target_text_split[1].lower()\n",
        "        line_data[\"line_number\"] = abstract_line_number\n",
        "        line_data[\"total_lines\"] = len(abstract_line_split) - 1\n",
        "        abstract_samples.append(line_data)\n",
        "\n",
        "    else:\n",
        "       abstract_lines += line\n",
        "  return abstract_samples   "
      ]
    },
    {
      "cell_type": "code",
      "execution_count": 9,
      "metadata": {
        "colab": {
          "base_uri": "https://localhost:8080/"
        },
        "id": "Pjr_7yIOWAWV",
        "outputId": "c444b114-f4cf-4b91-9000-7e1fc49f91c7"
      },
      "outputs": [
        {
          "output_type": "execute_result",
          "data": {
            "text/plain": [
              "(180040, 30135, 30212)"
            ]
          },
          "metadata": {},
          "execution_count": 9
        }
      ],
      "source": [
        "train_samples = preprocess_text_with_line_number(data_dir + \"train.txt\")\n",
        "test_samples = preprocess_text_with_line_number(data_dir + \"test.txt\")\n",
        "val_samples = preprocess_text_with_line_number(data_dir + \"dev.txt\")\n",
        "len(train_samples), len(test_samples), len(val_samples)"
      ]
    },
    {
      "cell_type": "code",
      "execution_count": 10,
      "metadata": {
        "colab": {
          "base_uri": "https://localhost:8080/"
        },
        "id": "1hYisI324lek",
        "outputId": "c87a0bf5-0c00-4d05-b197-f63ba8e755b2"
      },
      "outputs": [
        {
          "output_type": "execute_result",
          "data": {
            "text/plain": [
              "[{'target': 'OBJECTIVE',\n",
              "  'text': 'to investigate the efficacy of @ weeks of daily low-dose oral prednisolone in improving pain , mobility , and systemic low-grade inflammation in the short term and whether the effect would be sustained at @ weeks in older adults with moderate to severe knee osteoarthritis ( oa ) .',\n",
              "  'line_number': 0,\n",
              "  'total_lines': 11},\n",
              " {'target': 'METHODS',\n",
              "  'text': 'a total of @ patients with primary knee oa were randomized @:@ ; @ received @ mg/day of prednisolone and @ received placebo for @ weeks .',\n",
              "  'line_number': 1,\n",
              "  'total_lines': 11},\n",
              " {'target': 'METHODS',\n",
              "  'text': 'outcome measures included pain reduction and improvement in function scores and systemic inflammation markers .',\n",
              "  'line_number': 2,\n",
              "  'total_lines': 11},\n",
              " {'target': 'METHODS',\n",
              "  'text': 'pain was assessed using the visual analog pain scale ( @-@ mm ) .',\n",
              "  'line_number': 3,\n",
              "  'total_lines': 11},\n",
              " {'target': 'METHODS',\n",
              "  'text': 'secondary outcome measures included the western ontario and mcmaster universities osteoarthritis index scores , patient global assessment ( pga ) of the severity of knee oa , and @-min walk distance ( @mwd ) .',\n",
              "  'line_number': 4,\n",
              "  'total_lines': 11},\n",
              " {'target': 'METHODS',\n",
              "  'text': 'serum levels of interleukin @ ( il-@ ) , il-@ , tumor necrosis factor ( tnf ) - , and high-sensitivity c-reactive protein ( hscrp ) were measured .',\n",
              "  'line_number': 5,\n",
              "  'total_lines': 11},\n",
              " {'target': 'RESULTS',\n",
              "  'text': 'there was a clinically relevant reduction in the intervention group compared to the placebo group for knee pain , physical function , pga , and @mwd at @ weeks .',\n",
              "  'line_number': 6,\n",
              "  'total_lines': 11},\n",
              " {'target': 'RESULTS',\n",
              "  'text': 'the mean difference between treatment arms ( @ % ci ) was @ ( @-@ @ ) , p < @ ; @ ( @-@ @ ) , p < @ ; @ ( @-@ @ ) , p < @ ; and @ ( @-@ @ ) , p < @ , respectively .',\n",
              "  'line_number': 7,\n",
              "  'total_lines': 11},\n",
              " {'target': 'RESULTS',\n",
              "  'text': 'further , there was a clinically relevant reduction in the serum levels of il-@ , il-@ , tnf - , and hscrp at @ weeks in the intervention group when compared to the placebo group .',\n",
              "  'line_number': 8,\n",
              "  'total_lines': 11},\n",
              " {'target': 'RESULTS',\n",
              "  'text': 'these differences remained significant at @ weeks .',\n",
              "  'line_number': 9,\n",
              "  'total_lines': 11},\n",
              " {'target': 'RESULTS',\n",
              "  'text': 'the outcome measures in rheumatology clinical trials-osteoarthritis research society international responder rate was @ % in the intervention group and @ % in the placebo group ( p < @ ) .',\n",
              "  'line_number': 10,\n",
              "  'total_lines': 11},\n",
              " {'target': 'CONCLUSIONS',\n",
              "  'text': 'low-dose oral prednisolone had both a short-term and a longer sustained effect resulting in less knee pain , better physical function , and attenuation of systemic inflammation in older patients with knee oa ( clinicaltrials.gov identifier nct@ ) .',\n",
              "  'line_number': 11,\n",
              "  'total_lines': 11},\n",
              " {'target': 'BACKGROUND',\n",
              "  'text': 'emotional eating is associated with overeating and the development of obesity .',\n",
              "  'line_number': 0,\n",
              "  'total_lines': 10},\n",
              " {'target': 'BACKGROUND',\n",
              "  'text': 'yet , empirical evidence for individual ( trait ) differences in emotional eating and cognitive mechanisms that contribute to eating during sad mood remain equivocal .',\n",
              "  'line_number': 1,\n",
              "  'total_lines': 10}]"
            ]
          },
          "metadata": {},
          "execution_count": 10
        }
      ],
      "source": [
        "train_samples[:14]"
      ]
    },
    {
      "cell_type": "code",
      "execution_count": 11,
      "metadata": {
        "colab": {
          "base_uri": "https://localhost:8080/",
          "height": 206
        },
        "id": "cZMeM5ca-nWz",
        "outputId": "c1510b8e-6cbf-415a-fd82-75daddd507d1"
      },
      "outputs": [
        {
          "output_type": "execute_result",
          "data": {
            "text/plain": [
              "      target                                               text  line_number  \\\n",
              "0  OBJECTIVE  to investigate the efficacy of @ weeks of dail...            0   \n",
              "1    METHODS  a total of @ patients with primary knee oa wer...            1   \n",
              "2    METHODS  outcome measures included pain reduction and i...            2   \n",
              "3    METHODS  pain was assessed using the visual analog pain...            3   \n",
              "4    METHODS  secondary outcome measures included the wester...            4   \n",
              "\n",
              "   total_lines  \n",
              "0           11  \n",
              "1           11  \n",
              "2           11  \n",
              "3           11  \n",
              "4           11  "
            ],
            "text/html": [
              "\n",
              "  <div id=\"df-d4e63aa1-68a8-4a89-912e-b1d94feb87bc\">\n",
              "    <div class=\"colab-df-container\">\n",
              "      <div>\n",
              "<style scoped>\n",
              "    .dataframe tbody tr th:only-of-type {\n",
              "        vertical-align: middle;\n",
              "    }\n",
              "\n",
              "    .dataframe tbody tr th {\n",
              "        vertical-align: top;\n",
              "    }\n",
              "\n",
              "    .dataframe thead th {\n",
              "        text-align: right;\n",
              "    }\n",
              "</style>\n",
              "<table border=\"1\" class=\"dataframe\">\n",
              "  <thead>\n",
              "    <tr style=\"text-align: right;\">\n",
              "      <th></th>\n",
              "      <th>target</th>\n",
              "      <th>text</th>\n",
              "      <th>line_number</th>\n",
              "      <th>total_lines</th>\n",
              "    </tr>\n",
              "  </thead>\n",
              "  <tbody>\n",
              "    <tr>\n",
              "      <th>0</th>\n",
              "      <td>OBJECTIVE</td>\n",
              "      <td>to investigate the efficacy of @ weeks of dail...</td>\n",
              "      <td>0</td>\n",
              "      <td>11</td>\n",
              "    </tr>\n",
              "    <tr>\n",
              "      <th>1</th>\n",
              "      <td>METHODS</td>\n",
              "      <td>a total of @ patients with primary knee oa wer...</td>\n",
              "      <td>1</td>\n",
              "      <td>11</td>\n",
              "    </tr>\n",
              "    <tr>\n",
              "      <th>2</th>\n",
              "      <td>METHODS</td>\n",
              "      <td>outcome measures included pain reduction and i...</td>\n",
              "      <td>2</td>\n",
              "      <td>11</td>\n",
              "    </tr>\n",
              "    <tr>\n",
              "      <th>3</th>\n",
              "      <td>METHODS</td>\n",
              "      <td>pain was assessed using the visual analog pain...</td>\n",
              "      <td>3</td>\n",
              "      <td>11</td>\n",
              "    </tr>\n",
              "    <tr>\n",
              "      <th>4</th>\n",
              "      <td>METHODS</td>\n",
              "      <td>secondary outcome measures included the wester...</td>\n",
              "      <td>4</td>\n",
              "      <td>11</td>\n",
              "    </tr>\n",
              "  </tbody>\n",
              "</table>\n",
              "</div>\n",
              "      <button class=\"colab-df-convert\" onclick=\"convertToInteractive('df-d4e63aa1-68a8-4a89-912e-b1d94feb87bc')\"\n",
              "              title=\"Convert this dataframe to an interactive table.\"\n",
              "              style=\"display:none;\">\n",
              "        \n",
              "  <svg xmlns=\"http://www.w3.org/2000/svg\" height=\"24px\"viewBox=\"0 0 24 24\"\n",
              "       width=\"24px\">\n",
              "    <path d=\"M0 0h24v24H0V0z\" fill=\"none\"/>\n",
              "    <path d=\"M18.56 5.44l.94 2.06.94-2.06 2.06-.94-2.06-.94-.94-2.06-.94 2.06-2.06.94zm-11 1L8.5 8.5l.94-2.06 2.06-.94-2.06-.94L8.5 2.5l-.94 2.06-2.06.94zm10 10l.94 2.06.94-2.06 2.06-.94-2.06-.94-.94-2.06-.94 2.06-2.06.94z\"/><path d=\"M17.41 7.96l-1.37-1.37c-.4-.4-.92-.59-1.43-.59-.52 0-1.04.2-1.43.59L10.3 9.45l-7.72 7.72c-.78.78-.78 2.05 0 2.83L4 21.41c.39.39.9.59 1.41.59.51 0 1.02-.2 1.41-.59l7.78-7.78 2.81-2.81c.8-.78.8-2.07 0-2.86zM5.41 20L4 18.59l7.72-7.72 1.47 1.35L5.41 20z\"/>\n",
              "  </svg>\n",
              "      </button>\n",
              "      \n",
              "  <style>\n",
              "    .colab-df-container {\n",
              "      display:flex;\n",
              "      flex-wrap:wrap;\n",
              "      gap: 12px;\n",
              "    }\n",
              "\n",
              "    .colab-df-convert {\n",
              "      background-color: #E8F0FE;\n",
              "      border: none;\n",
              "      border-radius: 50%;\n",
              "      cursor: pointer;\n",
              "      display: none;\n",
              "      fill: #1967D2;\n",
              "      height: 32px;\n",
              "      padding: 0 0 0 0;\n",
              "      width: 32px;\n",
              "    }\n",
              "\n",
              "    .colab-df-convert:hover {\n",
              "      background-color: #E2EBFA;\n",
              "      box-shadow: 0px 1px 2px rgba(60, 64, 67, 0.3), 0px 1px 3px 1px rgba(60, 64, 67, 0.15);\n",
              "      fill: #174EA6;\n",
              "    }\n",
              "\n",
              "    [theme=dark] .colab-df-convert {\n",
              "      background-color: #3B4455;\n",
              "      fill: #D2E3FC;\n",
              "    }\n",
              "\n",
              "    [theme=dark] .colab-df-convert:hover {\n",
              "      background-color: #434B5C;\n",
              "      box-shadow: 0px 1px 3px 1px rgba(0, 0, 0, 0.15);\n",
              "      filter: drop-shadow(0px 1px 2px rgba(0, 0, 0, 0.3));\n",
              "      fill: #FFFFFF;\n",
              "    }\n",
              "  </style>\n",
              "\n",
              "      <script>\n",
              "        const buttonEl =\n",
              "          document.querySelector('#df-d4e63aa1-68a8-4a89-912e-b1d94feb87bc button.colab-df-convert');\n",
              "        buttonEl.style.display =\n",
              "          google.colab.kernel.accessAllowed ? 'block' : 'none';\n",
              "\n",
              "        async function convertToInteractive(key) {\n",
              "          const element = document.querySelector('#df-d4e63aa1-68a8-4a89-912e-b1d94feb87bc');\n",
              "          const dataTable =\n",
              "            await google.colab.kernel.invokeFunction('convertToInteractive',\n",
              "                                                     [key], {});\n",
              "          if (!dataTable) return;\n",
              "\n",
              "          const docLinkHtml = 'Like what you see? Visit the ' +\n",
              "            '<a target=\"_blank\" href=https://colab.research.google.com/notebooks/data_table.ipynb>data table notebook</a>'\n",
              "            + ' to learn more about interactive tables.';\n",
              "          element.innerHTML = '';\n",
              "          dataTable['output_type'] = 'display_data';\n",
              "          await google.colab.output.renderOutput(dataTable, element);\n",
              "          const docLink = document.createElement('div');\n",
              "          docLink.innerHTML = docLinkHtml;\n",
              "          element.appendChild(docLink);\n",
              "        }\n",
              "      </script>\n",
              "    </div>\n",
              "  </div>\n",
              "  "
            ]
          },
          "metadata": {},
          "execution_count": 11
        }
      ],
      "source": [
        "# Turn our list of dictionaries into DataFrame\n",
        "import pandas as pd\n",
        "train_df = pd.DataFrame(train_samples)\n",
        "val_df = pd.DataFrame(val_samples)\n",
        "test_df = pd.DataFrame(test_samples)\n",
        "train_df[:5]"
      ]
    },
    {
      "cell_type": "code",
      "execution_count": 12,
      "metadata": {
        "colab": {
          "base_uri": "https://localhost:8080/"
        },
        "id": "syA7Um0K_hM3",
        "outputId": "5d3421cc-c9ae-4f9d-85f8-bc4d9990bbe1"
      },
      "outputs": [
        {
          "output_type": "execute_result",
          "data": {
            "text/plain": [
              "METHODS        59353\n",
              "RESULTS        57953\n",
              "CONCLUSIONS    27168\n",
              "BACKGROUND     21727\n",
              "OBJECTIVE      13839\n",
              "Name: target, dtype: int64"
            ]
          },
          "metadata": {},
          "execution_count": 12
        }
      ],
      "source": [
        "# Distribution of labels in training data\n",
        "train_df.target.value_counts()"
      ]
    },
    {
      "cell_type": "code",
      "execution_count": 13,
      "metadata": {
        "colab": {
          "base_uri": "https://localhost:8080/",
          "height": 285
        },
        "id": "N3VX1iwTAFDl",
        "outputId": "82df50af-4c23-4d01-e1e5-b669c810578c"
      },
      "outputs": [
        {
          "output_type": "execute_result",
          "data": {
            "text/plain": [
              "<matplotlib.axes._subplots.AxesSubplot at 0x7f9a74e068e0>"
            ]
          },
          "metadata": {},
          "execution_count": 13
        },
        {
          "output_type": "display_data",
          "data": {
            "text/plain": [
              "<Figure size 432x288 with 1 Axes>"
            ],
            "image/png": "[encoded data removed]"
          },
          "metadata": {
            "needs_background": "light"
          }
        }
      ],
      "source": [
        "train_df.total_lines.plot.hist()"
      ]
    },
    {
      "cell_type": "markdown",
      "metadata": {
        "id": "marJd3LwBJxo"
      },
      "source": [
        "# **Get list of sentences**"
      ]
    },
    {
      "cell_type": "code",
      "execution_count": 14,
      "metadata": {
        "colab": {
          "base_uri": "https://localhost:8080/"
        },
        "id": "caKVEIRNAg5G",
        "outputId": "7ce0f05f-8196-4f85-eab1-71da0641facd"
      },
      "outputs": [
        {
          "output_type": "execute_result",
          "data": {
            "text/plain": [
              "(180040, 30212, 30135)"
            ]
          },
          "metadata": {},
          "execution_count": 14
        }
      ],
      "source": [
        "train_sentences = train_df[\"text\"].to_list()\n",
        "val_sentences = val_df[\"text\"].to_list()\n",
        "test_sentences = test_df[\"text\"].to_list()\n",
        "len(train_sentences), len(val_sentences), len(test_sentences)"
      ]
    },
    {
      "cell_type": "code",
      "execution_count": 15,
      "metadata": {
        "colab": {
          "base_uri": "https://localhost:8080/"
        },
        "id": "4LWumUxNB8K2",
        "outputId": "c9e1f97c-e1e8-4474-8c02-e4ddd49bed96"
      },
      "outputs": [
        {
          "output_type": "execute_result",
          "data": {
            "text/plain": [
              "['to investigate the efficacy of @ weeks of daily low-dose oral prednisolone in improving pain , mobility , and systemic low-grade inflammation in the short term and whether the effect would be sustained at @ weeks in older adults with moderate to severe knee osteoarthritis ( oa ) .',\n",
              " 'a total of @ patients with primary knee oa were randomized @:@ ; @ received @ mg/day of prednisolone and @ received placebo for @ weeks .',\n",
              " 'outcome measures included pain reduction and improvement in function scores and systemic inflammation markers .',\n",
              " 'pain was assessed using the visual analog pain scale ( @-@ mm ) .',\n",
              " 'secondary outcome measures included the western ontario and mcmaster universities osteoarthritis index scores , patient global assessment ( pga ) of the severity of knee oa , and @-min walk distance ( @mwd ) .',\n",
              " 'serum levels of interleukin @ ( il-@ ) , il-@ , tumor necrosis factor ( tnf ) - , and high-sensitivity c-reactive protein ( hscrp ) were measured .',\n",
              " 'there was a clinically relevant reduction in the intervention group compared to the placebo group for knee pain , physical function , pga , and @mwd at @ weeks .',\n",
              " 'the mean difference between treatment arms ( @ % ci ) was @ ( @-@ @ ) , p < @ ; @ ( @-@ @ ) , p < @ ; @ ( @-@ @ ) , p < @ ; and @ ( @-@ @ ) , p < @ , respectively .',\n",
              " 'further , there was a clinically relevant reduction in the serum levels of il-@ , il-@ , tnf - , and hscrp at @ weeks in the intervention group when compared to the placebo group .',\n",
              " 'these differences remained significant at @ weeks .',\n",
              " 'the outcome measures in rheumatology clinical trials-osteoarthritis research society international responder rate was @ % in the intervention group and @ % in the placebo group ( p < @ ) .',\n",
              " 'low-dose oral prednisolone had both a short-term and a longer sustained effect resulting in less knee pain , better physical function , and attenuation of systemic inflammation in older patients with knee oa ( clinicaltrials.gov identifier nct@ ) .',\n",
              " 'emotional eating is associated with overeating and the development of obesity .',\n",
              " 'yet , empirical evidence for individual ( trait ) differences in emotional eating and cognitive mechanisms that contribute to eating during sad mood remain equivocal .']"
            ]
          },
          "metadata": {},
          "execution_count": 15
        }
      ],
      "source": [
        "train_sentences[:14]"
      ]
    },
    {
      "cell_type": "markdown",
      "metadata": {
        "id": "jreMCjhMCND-"
      },
      "source": [
        "# Make numeric labels(ML models requires numeric labels):\n",
        "To encode labels, we will use sckit-learn's one hot enconder and label encoder."
      ]
    },
    {
      "cell_type": "code",
      "execution_count": 16,
      "metadata": {
        "colab": {
          "base_uri": "https://localhost:8080/"
        },
        "id": "J_JiA_5wCCa_",
        "outputId": "e39b4a67-6fb3-4237-f97e-6d711ed9bdb3"
      },
      "outputs": [
        {
          "output_type": "execute_result",
          "data": {
            "text/plain": [
              "array([[0., 0., 0., 1., 0.],\n",
              "       [0., 0., 1., 0., 0.],\n",
              "       [0., 0., 1., 0., 0.],\n",
              "       ...,\n",
              "       [0., 0., 0., 0., 1.],\n",
              "       [0., 1., 0., 0., 0.],\n",
              "       [0., 1., 0., 0., 0.]])"
            ]
          },
          "metadata": {},
          "execution_count": 16
        }
      ],
      "source": [
        "# One hot encode labels\n",
        "from sklearn.preprocessing import OneHotEncoder\n",
        "one_hot_encoder = OneHotEncoder(sparse = False)\n",
        "train_labels_one_hot = one_hot_encoder.fit_transform(train_df[\"target\"].to_numpy().reshape(-1, 1))\n",
        "val_labels_one_hot = one_hot_encoder.transform(val_df[\"target\"].to_numpy().reshape(-1,1))\n",
        "test_labels_one_hot = one_hot_encoder.transform(test_df[\"target\"].to_numpy().reshape(-1,1))\n",
        "train_labels_one_hot"
      ]
    },
    {
      "cell_type": "code",
      "execution_count": 17,
      "metadata": {
        "colab": {
          "base_uri": "https://localhost:8080/"
        },
        "id": "V74eM5PpEML1",
        "outputId": "cceea732-f82a-490c-91f6-934eb24efd2a"
      },
      "outputs": [
        {
          "output_type": "stream",
          "name": "stderr",
          "text": [
            "/usr/local/lib/python3.8/dist-packages/sklearn/preprocessing/_label.py:115: DataConversionWarning: A column-vector y was passed when a 1d array was expected. Please change the shape of y to (n_samples, ), for example using ravel().\n",
            "  y = column_or_1d(y, warn=True)\n",
            "/usr/local/lib/python3.8/dist-packages/sklearn/preprocessing/_label.py:133: DataConversionWarning: A column-vector y was passed when a 1d array was expected. Please change the shape of y to (n_samples, ), for example using ravel().\n",
            "  y = column_or_1d(y, warn=True)\n"
          ]
        },
        {
          "output_type": "execute_result",
          "data": {
            "text/plain": [
              "array([3, 2, 2, ..., 4, 1, 1])"
            ]
          },
          "metadata": {},
          "execution_count": 17
        }
      ],
      "source": [
        "# Label encoder\n",
        "from sklearn.preprocessing import LabelEncoder\n",
        "label_encoder = LabelEncoder()\n",
        "train_labels_encoded = label_encoder.fit_transform(train_df[\"target\"].to_numpy().reshape(-1, 1))\n",
        "val_labels_encoded = label_encoder.transform(val_df[\"target\"].to_numpy().reshape(-1, 1))\n",
        "test_labels_encoded = label_encoder.transform(test_df[\"target\"].to_numpy().reshape(-1, 1))\n",
        "train_labels_encoded"
      ]
    },
    {
      "cell_type": "code",
      "execution_count": 18,
      "metadata": {
        "colab": {
          "base_uri": "https://localhost:8080/"
        },
        "id": "gCudbXEp5L9q",
        "outputId": "15c47c1e-389f-4128-ca5d-4c5930eaae3c"
      },
      "outputs": [
        {
          "output_type": "execute_result",
          "data": {
            "text/plain": [
              "(5, array(['BACKGROUND', 'CONCLUSIONS', 'METHODS', 'OBJECTIVE', 'RESULTS'],\n",
              "       dtype=object))"
            ]
          },
          "metadata": {},
          "execution_count": 18
        }
      ],
      "source": [
        "# Get class names and number of classes names from the label encoder instances\n",
        "num_classes = len(label_encoder.classes_)\n",
        "class_names = label_encoder.classes_\n",
        "num_classes, class_names"
      ]
    },
    {
      "cell_type": "markdown",
      "metadata": {
        "id": "m39kLghX6j1N"
      },
      "source": [
        "# **Creating a series of model experiments**"
      ]
    },
    {
      "cell_type": "markdown",
      "metadata": {
        "id": "Q34tEcmc6676"
      },
      "source": [
        "## Model 0: Baseline model"
      ]
    },
    {
      "cell_type": "code",
      "execution_count": 19,
      "metadata": {
        "colab": {
          "base_uri": "https://localhost:8080/"
        },
        "id": "ZOw-QAAU6WAv",
        "outputId": "7665a6cf-44fa-4152-c4e1-cfe1b9234841"
      },
      "outputs": [
        {
          "output_type": "execute_result",
          "data": {
            "text/plain": [
              "Pipeline(steps=[('Tfidf', TfidfVectorizer()), ('clf', MultinomialNB())])"
            ]
          },
          "metadata": {},
          "execution_count": 19
        }
      ],
      "source": [
        "from sklearn.feature_extraction.text import TfidfVectorizer\n",
        "from sklearn.naive_bayes import MultinomialNB\n",
        "from sklearn.pipeline import Pipeline\n",
        "\n",
        "model_0 = Pipeline([\n",
        "    (\"Tfidf\", TfidfVectorizer()),\n",
        "    (\"clf\", MultinomialNB())\n",
        "])\n",
        "model_0.fit(train_sentences, train_labels_encoded)"
      ]
    },
    {
      "cell_type": "code",
      "execution_count": 20,
      "metadata": {
        "colab": {
          "base_uri": "https://localhost:8080/"
        },
        "id": "t163QvCf9nE9",
        "outputId": "9c5b163e-cce9-4934-99f8-4c30870336eb"
      },
      "outputs": [
        {
          "output_type": "execute_result",
          "data": {
            "text/plain": [
              "0.7218323844829869"
            ]
          },
          "metadata": {},
          "execution_count": 20
        }
      ],
      "source": [
        "model_0.score(val_sentences, val_labels_encoded)"
      ]
    },
    {
      "cell_type": "code",
      "execution_count": 21,
      "metadata": {
        "colab": {
          "base_uri": "https://localhost:8080/"
        },
        "id": "EaJAMT_V9xlY",
        "outputId": "e5ae9955-72c4-4220-df2e-d84194acea1d"
      },
      "outputs": [
        {
          "output_type": "execute_result",
          "data": {
            "text/plain": [
              "array([4, 1, 3, ..., 4, 4, 1])"
            ]
          },
          "metadata": {},
          "execution_count": 21
        }
      ],
      "source": [
        "# Make predictions on model\n",
        "baseline_preds = model_0.predict(val_sentences)\n",
        "baseline_preds"
      ]
    },
    {
      "cell_type": "code",
      "execution_count": 22,
      "metadata": {
        "colab": {
          "base_uri": "https://localhost:8080/"
        },
        "id": "_24t9sm--QsE",
        "outputId": "76dc238e-8506-438b-d377-28d6a6e6174d"
      },
      "outputs": [
        {
          "output_type": "stream",
          "name": "stdout",
          "text": [
            "--2022-12-06 12:50:28--  https://raw.githubusercontent.com/mrdbourke/tensorflow-deep-learning/main/extras/helper_functions.py\n",
            "Resolving raw.githubusercontent.com (raw.githubusercontent.com)... 185.199.108.133, 185.199.109.133, 185.199.110.133, ...\n",
            "Connecting to raw.githubusercontent.com (raw.githubusercontent.com)|185.199.108.133|:443... connected.\n",
            "HTTP request sent, awaiting response... 200 OK\n",
            "Length: 10246 (10K) [text/plain]\n",
            "Saving to: ‘helper_functions.py.1’\n",
            "\n",
            "\rhelper_functions.py   0%[                    ]       0  --.-KB/s               \rhelper_functions.py 100%[===================>]  10.01K  --.-KB/s    in 0.001s  \n",
            "\n",
            "2022-12-06 12:50:29 (14.5 MB/s) - ‘helper_functions.py.1’ saved [10246/10246]\n",
            "\n"
          ]
        }
      ],
      "source": [
        "# Let's import help functions to further evaluate our predictions\n",
        "# Download helper functions script\n",
        "!wget https://raw.githubusercontent.com/mrdbourke/tensorflow-deep-learning/main/extras/helper_functions.py"
      ]
    },
    {
      "cell_type": "code",
      "execution_count": 23,
      "metadata": {
        "colab": {
          "base_uri": "https://localhost:8080/"
        },
        "id": "zhzBypR--r0R",
        "outputId": "939b76e0-cfde-46cb-e92f-c82453375b73"
      },
      "outputs": [
        {
          "output_type": "execute_result",
          "data": {
            "text/plain": [
              "{'accuracy': 72.1832384482987,\n",
              " 'precision': 0.7186466952323352,\n",
              " 'recall': 0.7218323844829869,\n",
              " 'f1': 0.6989250353450294}"
            ]
          },
          "metadata": {},
          "execution_count": 23
        }
      ],
      "source": [
        "from helper_functions import calculate_results, compare_historys\n",
        "\n",
        "baseline_results = calculate_results(val_labels_encoded, baseline_preds)\n",
        "baseline_results"
      ]
    },
    {
      "cell_type": "markdown",
      "metadata": {
        "id": "XFt29Jk0_g6Q"
      },
      "source": [
        "# Preparing our data for deep sequence models"
      ]
    },
    {
      "cell_type": "code",
      "execution_count": 24,
      "metadata": {
        "id": "-KGU99aK_EWY"
      },
      "outputs": [],
      "source": [
        "import numpy as np\n",
        "import tensorflow as tf\n",
        "from tensorflow.keras import layers"
      ]
    },
    {
      "cell_type": "code",
      "execution_count": 25,
      "metadata": {
        "colab": {
          "base_uri": "https://localhost:8080/"
        },
        "id": "fqlZePApIoee",
        "outputId": "e84d223e-d739-410d-a592-8dadb4d1355f"
      },
      "outputs": [
        {
          "output_type": "execute_result",
          "data": {
            "text/plain": [
              "26.338269273494777"
            ]
          },
          "metadata": {},
          "execution_count": 25
        }
      ],
      "source": [
        "# Let's write some codes to know the average length of words(tokens) in our training sentences\n",
        "sent_len = [len(sentences.split()) for sentences in train_sentences]\n",
        "avg_sent_len = np.mean(sent_len)\n",
        "avg_sent_len"
      ]
    },
    {
      "cell_type": "code",
      "execution_count": 26,
      "metadata": {
        "colab": {
          "base_uri": "https://localhost:8080/",
          "height": 265
        },
        "id": "Ty_M3h6JKUvg",
        "outputId": "1b4b1ab5-7e8c-4c10-f842-56d1026b3f53"
      },
      "outputs": [
        {
          "output_type": "display_data",
          "data": {
            "text/plain": [
              "<Figure size 432x288 with 1 Axes>"
            ],
            "image/png": "[encoded data removed]"
          },
          "metadata": {
            "needs_background": "light"
          }
        }
      ],
      "source": [
        "# Let's check the distributions\n",
        "import matplotlib.pyplot as plt\n",
        "plt.hist(sent_len); "
      ]
    },
    {
      "cell_type": "code",
      "execution_count": 27,
      "metadata": {
        "colab": {
          "base_uri": "https://localhost:8080/"
        },
        "id": "Zjug_vXwKjtv",
        "outputId": "e2cb4247-927e-4c34-a7b4-dbc2cf540ce4"
      },
      "outputs": [
        {
          "output_type": "execute_result",
          "data": {
            "text/plain": [
              "[55.0]"
            ]
          },
          "metadata": {},
          "execution_count": 27
        }
      ],
      "source": [
        "# Let's use numpy percentile to look for sentences that cover 95% of the words(tokens) length\n",
        "output_seq_len = [np.percentile(sent_len, 95)] # We can make do with sentences with 95% tokens(words) length\n",
        "output_seq_len"
      ]
    },
    {
      "cell_type": "code",
      "execution_count": 28,
      "metadata": {
        "colab": {
          "base_uri": "https://localhost:8080/"
        },
        "id": "tUqHYWnPMP3T",
        "outputId": "2d3c6c3c-8e75-43f1-c48e-251930b9864f"
      },
      "outputs": [
        {
          "output_type": "execute_result",
          "data": {
            "text/plain": [
              "296"
            ]
          },
          "metadata": {},
          "execution_count": 28
        }
      ],
      "source": [
        "# Let's check the max sentences length\n",
        "max(sent_len)"
      ]
    },
    {
      "cell_type": "markdown",
      "metadata": {
        "id": "7jVR3mLyOWtW"
      },
      "source": [
        "# Create text vectorizer"
      ]
    },
    {
      "cell_type": "code",
      "execution_count": 29,
      "metadata": {
        "id": "mbWGwimINfFC"
      },
      "outputs": [],
      "source": [
        "# According to the Pub Med paper, we have 68,000 words(tokens) in our vocabulary\n",
        "max_tokens = 68000"
      ]
    },
    {
      "cell_type": "code",
      "execution_count": 30,
      "metadata": {
        "id": "Fwce4TiYO9ZH"
      },
      "outputs": [],
      "source": [
        "# Now let's create our text vectorizer\n",
        "from tensorflow.keras.layers.experimental.preprocessing import TextVectorization\n",
        "text_vectorizer = TextVectorization(max_tokens=max_tokens,\n",
        "    output_sequence_length=55)"
      ]
    },
    {
      "cell_type": "code",
      "execution_count": 31,
      "metadata": {
        "id": "HxTTWQqSSMce"
      },
      "outputs": [],
      "source": [
        "# Adapt our text vectorizer to our train sentences\n",
        "text_vectorizer.adapt(train_sentences)"
      ]
    },
    {
      "cell_type": "code",
      "execution_count": 32,
      "metadata": {
        "colab": {
          "base_uri": "https://localhost:8080/"
        },
        "id": "TRIl9NBNSx5K",
        "outputId": "953c02fe-3917-4b21-ae8e-33ff375c4449"
      },
      "outputs": [
        {
          "output_type": "stream",
          "name": "stdout",
          "text": [
            "Original text: in the slb group , pi , gi , and pd values increased significantly ( p < @ ) .\n",
            "\n",
            "Length of text: 78\n",
            "\n",
            "Length of words: 20\n",
            "\n",
            "Vectorized text: [[    5     2 24577    13  2439  1832     3   868   334    96    39    14\n",
            "      0     0     0     0     0     0     0     0     0     0     0     0\n",
            "      0     0     0     0     0     0     0     0     0     0     0     0\n",
            "      0     0     0     0     0     0     0     0     0     0     0     0\n",
            "      0     0     0     0     0     0     0]]\n"
          ]
        }
      ],
      "source": [
        "import random\n",
        "random_sentence = random.choice(train_sentences)\n",
        "print(f\"Original text: {random_sentence}\")\n",
        "print(f\"\\nLength of text: {len(random_sentence)}\")\n",
        "print(f\"\\nLength of words: {len(random_sentence.split())}\")\n",
        "print(f\"\\nVectorized text: {text_vectorizer([random_sentence])}\")"
      ]
    },
    {
      "cell_type": "code",
      "execution_count": 33,
      "metadata": {
        "colab": {
          "base_uri": "https://localhost:8080/"
        },
        "id": "3vslnhCOTm57",
        "outputId": "64c7df4f-f195-4c20-ffc6-d18250c9901e"
      },
      "outputs": [
        {
          "output_type": "stream",
          "name": "stdout",
          "text": [
            "Number of words in our vocab: 64841\n",
            "\n",
            "5 most common words in our vocab: ['', '[UNK]', 'the', 'and', 'of']\n",
            "\n",
            "5 least common words in our vocab: ['aainduced', 'aaigroup', 'aachener', 'aachen', 'aaacp']\n"
          ]
        }
      ],
      "source": [
        "# Using the get_vocabulary() method find the number of words in our vocabulary\n",
        "rct_20k_get_vocab = text_vectorizer.get_vocabulary()\n",
        "print(f\"Number of words in our vocab: {len(rct_20k_get_vocab)}\")\n",
        "print(f\"\\n5 most common words in our vocab: {rct_20k_get_vocab[:5]}\")\n",
        "print(f\"\\n5 least common words in our vocab: {rct_20k_get_vocab[-5:]}\")"
      ]
    },
    {
      "cell_type": "code",
      "execution_count": 34,
      "metadata": {
        "colab": {
          "base_uri": "https://localhost:8080/"
        },
        "id": "lzgK3ml_YUPn",
        "outputId": "b6760854-d0f0-41ad-f541-c3939d0f1fb5"
      },
      "outputs": [
        {
          "output_type": "execute_result",
          "data": {
            "text/plain": [
              "{'name': 'text_vectorization',\n",
              " 'trainable': True,\n",
              " 'batch_input_shape': (None,),\n",
              " 'dtype': 'string',\n",
              " 'max_tokens': 68000,\n",
              " 'standardize': 'lower_and_strip_punctuation',\n",
              " 'split': 'whitespace',\n",
              " 'ngrams': None,\n",
              " 'output_mode': 'int',\n",
              " 'output_sequence_length': 55,\n",
              " 'pad_to_max_tokens': False,\n",
              " 'sparse': False,\n",
              " 'ragged': False,\n",
              " 'vocabulary': None,\n",
              " 'idf_weights': None}"
            ]
          },
          "metadata": {},
          "execution_count": 34
        }
      ],
      "source": [
        "text_vectorizer.get_config()"
      ]
    },
    {
      "cell_type": "markdown",
      "metadata": {
        "id": "zDkod9C3Y6zM"
      },
      "source": [
        "# Create custom text embedding"
      ]
    },
    {
      "cell_type": "code",
      "execution_count": 35,
      "metadata": {
        "id": "bCmUE1vlYu-t"
      },
      "outputs": [],
      "source": [
        "token_embed = layers.Embedding(input_dim = max_tokens,\n",
        "                               output_dim = 128,\n",
        "                               name = \"token_embeddings\")"
      ]
    },
    {
      "cell_type": "code",
      "execution_count": 36,
      "metadata": {
        "colab": {
          "base_uri": "https://localhost:8080/"
        },
        "id": "TIhsf9hgafYu",
        "outputId": "adf101a6-76cb-417e-c8d1-bbdf82302163"
      },
      "outputs": [
        {
          "output_type": "stream",
          "name": "stdout",
          "text": [
            "Sentence before vectorization: in the slb group , pi , gi , and pd values increased significantly ( p < @ ) .\n",
            "\n",
            "Length of random sentence: 78\n",
            "\n",
            "Length of words in random sentence: 20\n",
            "\n",
            "Vectorized sentence: [[    5     2 24577    13  2439  1832     3   868   334    96    39    14\n",
            "      0     0     0     0     0     0     0     0     0     0     0     0\n",
            "      0     0     0     0     0     0     0     0     0     0     0     0\n",
            "      0     0     0     0     0     0     0     0     0     0     0     0\n",
            "      0     0     0     0     0     0     0]]\n",
            "\n",
            "Embedded sentence: [[[-0.00168028  0.04480517 -0.04308144 ... -0.00172492 -0.00506506\n",
            "   -0.01963282]\n",
            "  [ 0.01439767  0.01020003 -0.00255623 ... -0.01007793  0.02626086\n",
            "    0.04235351]\n",
            "  [ 0.00957991 -0.02688544 -0.03213163 ... -0.01085439 -0.01466126\n",
            "   -0.01021521]\n",
            "  ...\n",
            "  [-0.03663852  0.03432877 -0.01464568 ...  0.03396087 -0.0088421\n",
            "    0.04413645]\n",
            "  [-0.03663852  0.03432877 -0.01464568 ...  0.03396087 -0.0088421\n",
            "    0.04413645]\n",
            "  [-0.03663852  0.03432877 -0.01464568 ...  0.03396087 -0.0088421\n",
            "    0.04413645]]]\n",
            "\n",
            "Embedded layer shape: (1, 55, 128)\n"
          ]
        }
      ],
      "source": [
        "print(f\"Sentence before vectorization: {random_sentence}\")\n",
        "print(f\"\\nLength of random sentence: {len(random_sentence)}\")\n",
        "print(f\"\\nLength of words in random sentence: {len(random_sentence.split())}\")\n",
        "print(f\"\\nVectorized sentence: {text_vectorizer([random_sentence])}\")\n",
        "print(f\"\\nEmbedded sentence: {token_embed(text_vectorizer([random_sentence]))}\")\n",
        "print(f\"\\nEmbedded layer shape: {token_embed(text_vectorizer([random_sentence])).shape}\")"
      ]
    },
    {
      "cell_type": "markdown",
      "metadata": {
        "id": "LSeJaby5cfDG"
      },
      "source": [
        "# Create datasets(as fast as possible)"
      ]
    },
    {
      "cell_type": "code",
      "execution_count": 37,
      "metadata": {
        "colab": {
          "base_uri": "https://localhost:8080/"
        },
        "id": "rjxUrz_fcMaj",
        "outputId": "906c4310-82aa-4108-b872-ae9fe67ce26c"
      },
      "outputs": [
        {
          "output_type": "execute_result",
          "data": {
            "text/plain": [
              "<TensorSliceDataset element_spec=(TensorSpec(shape=(), dtype=tf.string, name=None), TensorSpec(shape=(5,), dtype=tf.float64, name=None))>"
            ]
          },
          "metadata": {},
          "execution_count": 37
        }
      ],
      "source": [
        "train_datasets = tf.data.Dataset.from_tensor_slices((train_sentences, train_labels_one_hot))\n",
        "val_datasets = tf.data.Dataset.from_tensor_slices((val_sentences, val_labels_one_hot))\n",
        "test_datasets = tf.data.Dataset.from_tensor_slices((test_sentences, test_labels_one_hot))\n",
        "train_datasets"
      ]
    },
    {
      "cell_type": "code",
      "execution_count": 38,
      "metadata": {
        "colab": {
          "base_uri": "https://localhost:8080/"
        },
        "id": "6m6USpY-eI6X",
        "outputId": "ad4ede91-fe4d-4283-b42c-e65ce4607222"
      },
      "outputs": [
        {
          "output_type": "execute_result",
          "data": {
            "text/plain": [
              "<PrefetchDataset element_spec=(TensorSpec(shape=(None,), dtype=tf.string, name=None), TensorSpec(shape=(None, 5), dtype=tf.float64, name=None))>"
            ]
          },
          "metadata": {},
          "execution_count": 38
        }
      ],
      "source": [
        "train_datasets = train_datasets.batch(32).prefetch(tf.data.AUTOTUNE)\n",
        "val_datasets = val_datasets.batch(32).prefetch(tf.data.AUTOTUNE)\n",
        "test_datasets = test_datasets.batch(32).prefetch(tf.data.AUTOTUNE)\n",
        "train_datasets"
      ]
    },
    {
      "cell_type": "code",
      "execution_count": 39,
      "metadata": {
        "colab": {
          "base_uri": "https://localhost:8080/"
        },
        "id": "6yCvzSQifPhr",
        "outputId": "5b3b7cd2-b39e-474a-942f-1cd21a7567d7"
      },
      "outputs": [
        {
          "output_type": "execute_result",
          "data": {
            "text/plain": [
              "<TensorSliceDataset element_spec=(TensorSpec(shape=(), dtype=tf.string, name=None), TensorSpec(shape=(), dtype=tf.int64, name=None))>"
            ]
          },
          "metadata": {},
          "execution_count": 39
        }
      ],
      "source": [
        "# Creating datasets using label encoded \n",
        "train_datasets_1 = tf.data.Dataset.from_tensor_slices((train_sentences, train_labels_encoded))\n",
        "val_datasets_1 = tf.data.Dataset.from_tensor_slices((val_sentences, val_labels_encoded))\n",
        "test_datasets_1 = tf.data.Dataset.from_tensor_slices((test_sentences, test_labels_encoded))\n",
        "train_datasets_1"
      ]
    },
    {
      "cell_type": "code",
      "execution_count": 40,
      "metadata": {
        "colab": {
          "base_uri": "https://localhost:8080/"
        },
        "id": "7SsicvR4f2ZH",
        "outputId": "2d163a66-b53e-44fc-f480-07eee19280c1"
      },
      "outputs": [
        {
          "output_type": "execute_result",
          "data": {
            "text/plain": [
              "<PrefetchDataset element_spec=(TensorSpec(shape=(None,), dtype=tf.string, name=None), TensorSpec(shape=(None,), dtype=tf.int64, name=None))>"
            ]
          },
          "metadata": {},
          "execution_count": 40
        }
      ],
      "source": [
        "# Prefect our label encoded datasets\n",
        "train_datasets_1 = train_datasets_1.batch(32).prefetch(tf.data.AUTOTUNE)\n",
        "val_datasets_1 = val_datasets_1.batch(32).prefetch(tf.data.AUTOTUNE)\n",
        "test_datasets_1 = test_datasets_1.batch(32).prefetch(tf.data.AUTOTUNE)\n",
        "train_datasets_1"
      ]
    },
    {
      "cell_type": "markdown",
      "metadata": {
        "id": "J6J99xtkgfqF"
      },
      "source": [
        "## Model 1: Conv1D with token embeddings"
      ]
    },
    {
      "cell_type": "code",
      "execution_count": 41,
      "metadata": {
        "id": "uHCbvSh-gNMC"
      },
      "outputs": [],
      "source": [
        "from tensorflow.keras import layers\n",
        "inputs = layers.Input(shape=(1,), dtype=tf.string)\n",
        "vectorizer = text_vectorizer(inputs)\n",
        "embedded = token_embed(vectorizer)\n",
        "x = layers.Conv1D(64, kernel_size = 5, padding= \"same\", name = \"conv1d_layer\")(embedded)\n",
        "x = layers.GlobalAveragePooling1D()(x)\n",
        "outputs = layers.Dense(5, activation= \"softmax\", name = \"output_layer\")(x)\n",
        "model_1 = tf.keras.Model(inputs, outputs, name= \"model_1_Conv1D\")"
      ]
    },
    {
      "cell_type": "code",
      "execution_count": 42,
      "metadata": {
        "colab": {
          "base_uri": "https://localhost:8080/"
        },
        "id": "yU8RADq4Q0W3",
        "outputId": "35c2d69e-ccc9-4008-f29e-c487193f711c"
      },
      "outputs": [
        {
          "output_type": "stream",
          "name": "stdout",
          "text": [
            "Epoch 1/5\n",
            "562/562 [==============================] - 8s 9ms/step - loss: 0.9005 - accuracy: 0.6425 - val_loss: 0.6718 - val_accuracy: 0.7420\n",
            "Epoch 2/5\n",
            "562/562 [==============================] - 5s 9ms/step - loss: 0.6547 - accuracy: 0.7558 - val_loss: 0.6293 - val_accuracy: 0.7643\n",
            "Epoch 3/5\n",
            "562/562 [==============================] - 5s 9ms/step - loss: 0.6209 - accuracy: 0.7720 - val_loss: 0.5983 - val_accuracy: 0.7716\n",
            "Epoch 4/5\n",
            "562/562 [==============================] - 5s 9ms/step - loss: 0.5948 - accuracy: 0.7831 - val_loss: 0.5795 - val_accuracy: 0.7829\n",
            "Epoch 5/5\n",
            "562/562 [==============================] - 5s 9ms/step - loss: 0.5996 - accuracy: 0.7851 - val_loss: 0.5717 - val_accuracy: 0.7975\n"
          ]
        }
      ],
      "source": [
        "# Compile the model\n",
        "model_1.compile(loss= \"categorical_crossentropy\",\n",
        "                optimizer = tf.keras.optimizers.Adam(),\n",
        "                metrics = [\"accuracy\"])\n",
        "\n",
        "# Fit the model\n",
        "history_model_1 = model_1.fit(train_datasets,\n",
        "                              epochs = 5,\n",
        "                              steps_per_epoch = int(0.1 * len(train_datasets)),\n",
        "                              validation_data = val_datasets,\n",
        "                              validation_steps = int(0.1 * len(val_datasets)))"
      ]
    },
    {
      "cell_type": "code",
      "execution_count": 43,
      "metadata": {
        "colab": {
          "base_uri": "https://localhost:8080/"
        },
        "id": "D7NIy03_Sbyr",
        "outputId": "75fd6562-3cf1-479d-d00a-af36f8e3a4dc"
      },
      "outputs": [
        {
          "output_type": "stream",
          "name": "stdout",
          "text": [
            "Model: \"model_1_Conv1D\"\n",
            "_________________________________________________________________\n",
            " Layer (type)                Output Shape              Param #   \n",
            "=================================================================\n",
            " input_1 (InputLayer)        [(None, 1)]               0         \n",
            "                                                                 \n",
            " text_vectorization (TextVec  (None, 55)               0         \n",
            " torization)                                                     \n",
            "                                                                 \n",
            " token_embeddings (Embedding  (None, 55, 128)          8704000   \n",
            " )                                                               \n",
            "                                                                 \n",
            " conv1d_layer (Conv1D)       (None, 55, 64)            41024     \n",
            "                                                                 \n",
            " global_average_pooling1d (G  (None, 64)               0         \n",
            " lobalAveragePooling1D)                                          \n",
            "                                                                 \n",
            " output_layer (Dense)        (None, 5)                 325       \n",
            "                                                                 \n",
            "=================================================================\n",
            "Total params: 8,745,349\n",
            "Trainable params: 8,745,349\n",
            "Non-trainable params: 0\n",
            "_________________________________________________________________\n"
          ]
        }
      ],
      "source": [
        "model_1.summary()"
      ]
    },
    {
      "cell_type": "code",
      "execution_count": 44,
      "metadata": {
        "id": "PdIJo4XXS8Zs",
        "colab": {
          "base_uri": "https://localhost:8080/"
        },
        "outputId": "8b5d4ac4-e7be-4771-de81-aaf2e1bb64ee"
      },
      "outputs": [
        {
          "output_type": "stream",
          "name": "stdout",
          "text": [
            "945/945 [==============================] - 3s 3ms/step - loss: 0.5728 - accuracy: 0.7950\n"
          ]
        },
        {
          "output_type": "execute_result",
          "data": {
            "text/plain": [
              "[0.5728365778923035, 0.7950152158737183]"
            ]
          },
          "metadata": {},
          "execution_count": 44
        }
      ],
      "source": [
        "# Evaluate on the whole validation datasets\n",
        "model_1.evaluate(val_datasets)"
      ]
    },
    {
      "cell_type": "code",
      "execution_count": 45,
      "metadata": {
        "id": "JvmDrUrxUIvJ",
        "colab": {
          "base_uri": "https://localhost:8080/"
        },
        "outputId": "b263c340-7154-4e9f-bae0-cdab7d5628d5"
      },
      "outputs": [
        {
          "output_type": "stream",
          "name": "stdout",
          "text": [
            "945/945 [==============================] - 2s 2ms/step\n"
          ]
        },
        {
          "output_type": "execute_result",
          "data": {
            "text/plain": [
              "array([[5.90627193e-01, 1.55445412e-01, 4.77285162e-02, 1.46380559e-01,\n",
              "        5.98182864e-02],\n",
              "       [5.06729841e-01, 3.34179580e-01, 1.18827028e-02, 1.16510056e-01,\n",
              "        3.06978915e-02],\n",
              "       [1.99264959e-01, 5.83230099e-03, 1.24037196e-03, 7.93639660e-01,\n",
              "        2.27511282e-05],\n",
              "       ...,\n",
              "       [4.03581980e-05, 1.01803709e-03, 8.09507258e-03, 7.91898201e-05,\n",
              "        9.90767300e-01],\n",
              "       [1.56110838e-01, 2.34376341e-01, 1.41979218e-01, 8.21760446e-02,\n",
              "        3.85357618e-01],\n",
              "       [1.50935143e-01, 7.82342792e-01, 4.80619557e-02, 4.52137971e-03,\n",
              "        1.41387293e-02]], dtype=float32)"
            ]
          },
          "metadata": {},
          "execution_count": 45
        }
      ],
      "source": [
        "# Make predictions\n",
        "model_1_pred_probs = model_1.predict(val_datasets, val_labels_one_hot)\n",
        "model_1_pred_probs"
      ]
    },
    {
      "cell_type": "code",
      "execution_count": 46,
      "metadata": {
        "id": "ZFgnD3oUUyLz",
        "colab": {
          "base_uri": "https://localhost:8080/"
        },
        "outputId": "55fb47da-ac74-42ce-f954-92aa033aa2a2"
      },
      "outputs": [
        {
          "output_type": "execute_result",
          "data": {
            "text/plain": [
              "<tf.Tensor: shape=(30212,), dtype=int64, numpy=array([0, 0, 3, ..., 4, 4, 1])>"
            ]
          },
          "metadata": {},
          "execution_count": 46
        }
      ],
      "source": [
        "# Turn predictions probabilities into classes\n",
        "model_1_preds = tf.argmax(model_1_pred_probs, axis = 1)\n",
        "model_1_preds"
      ]
    },
    {
      "cell_type": "code",
      "execution_count": 47,
      "metadata": {
        "id": "jGM2pxl-VowR",
        "colab": {
          "base_uri": "https://localhost:8080/"
        },
        "outputId": "1b8256ea-60f9-4653-935e-ec3409072e2f"
      },
      "outputs": [
        {
          "output_type": "execute_result",
          "data": {
            "text/plain": [
              "{'accuracy': 79.50152257381174,\n",
              " 'precision': 0.8012214368425248,\n",
              " 'recall': 0.7950152257381173,\n",
              " 'f1': 0.7936983701606162}"
            ]
          },
          "metadata": {},
          "execution_count": 47
        }
      ],
      "source": [
        "model_1_results = calculate_results(val_labels_encoded, model_1_preds)\n",
        "model_1_results"
      ]
    },
    {
      "cell_type": "markdown",
      "metadata": {
        "id": "CCghLyjXWkEr"
      },
      "source": [
        "## Model 2: Feature extraction with pretrained token embeddings."
      ]
    },
    {
      "cell_type": "code",
      "execution_count": 48,
      "metadata": {
        "id": "pTFJmG9JWTsV"
      },
      "outputs": [],
      "source": [
        "# Download pretrained TensorFlow Hub USE\n",
        "import tensorflow_hub as hub\n",
        "tf_hub_embedding_layer = hub.KerasLayer(\"https://tfhub.dev/google/universal-sentence-encoder/4\",\n",
        "                                        trainable=False,\n",
        "                                        name=\"universal_sentence_encoder\")"
      ]
    },
    {
      "cell_type": "code",
      "execution_count": 49,
      "metadata": {
        "id": "TLyEEBGbVHyv",
        "colab": {
          "base_uri": "https://localhost:8080/"
        },
        "outputId": "8d4b5166-9fad-47ce-d48f-b00efc488ebe"
      },
      "outputs": [
        {
          "output_type": "stream",
          "name": "stdout",
          "text": [
            "Sample sentence: the incidence of ald was highest in individuals who had a high level of occupation .\n",
            "\n",
            "Length of sample sentence: 84\n",
            "\n",
            "Length of words in sample sentence: 16\n",
            "\n",
            "Sentece after embedding: [-0.01031055  0.08304296 -0.00809841 -0.0761607  -0.0069743  -0.0470448\n",
            " -0.00866646 -0.06188558  0.04059891  0.0374044   0.07564595  0.0836136\n",
            "  0.03189113  0.00156685  0.05315244 -0.00513731 -0.05694176 -0.00306948\n",
            "  0.03098164 -0.05633783 -0.09414957  0.06023163 -0.04442834 -0.03179179\n",
            "  0.00866139  0.01683432  0.00340282  0.00742084 -0.0406187  -0.03419758]\n",
            "\n",
            "Embedded sentence length: 1\n",
            "\n",
            "Shape of embed sentence: (1, 512)\n"
          ]
        }
      ],
      "source": [
        "# Check out the samples of our pretrained embeddings\n",
        "sample_sentence = random.choice(train_sentences)\n",
        "print(f\"Sample sentence: {sample_sentence}\")\n",
        "print(f\"\\nLength of sample sentence: {len(sample_sentence)}\")\n",
        "print(f\"\\nLength of words in sample sentence: {len(sample_sentence.split())}\")\n",
        "embed_sentence = tf_hub_embedding_layer([sample_sentence])\n",
        "print(f\"\\nSentece after embedding: {embed_sentence[0][:30]}\")\n",
        "print(f\"\\nEmbedded sentence length: {len(embed_sentence)}\")\n",
        "print(f\"\\nShape of embed sentence: {embed_sentence.shape}\")"
      ]
    },
    {
      "cell_type": "code",
      "execution_count": 50,
      "metadata": {
        "id": "LZ9Ei6LPXZ-Y",
        "colab": {
          "base_uri": "https://localhost:8080/"
        },
        "outputId": "af91e68b-9117-4e81-acce-b4ba6086df78"
      },
      "outputs": [
        {
          "output_type": "stream",
          "name": "stdout",
          "text": [
            "Model: \"use_model_2\"\n",
            "_________________________________________________________________\n",
            " Layer (type)                Output Shape              Param #   \n",
            "=================================================================\n",
            " input_2 (InputLayer)        [(None,)]                 0         \n",
            "                                                                 \n",
            " universal_sentence_encoder   (None, 512)              256797824 \n",
            " (KerasLayer)                                                    \n",
            "                                                                 \n",
            " dense (Dense)               (None, 128)               65664     \n",
            "                                                                 \n",
            " use_output_layer (Dense)    (None, 5)                 645       \n",
            "                                                                 \n",
            "=================================================================\n",
            "Total params: 256,864,133\n",
            "Trainable params: 66,309\n",
            "Non-trainable params: 256,797,824\n",
            "_________________________________________________________________\n"
          ]
        }
      ],
      "source": [
        "# Now let's build a feature exytraction embedded model\n",
        "inputs = layers.Input(shape= [], dtype= \"string\")\n",
        "embedded_layer = tf_hub_embedding_layer(inputs)\n",
        "x = layers.Dense(128, activation=\"relu\")(embedded_layer)\n",
        "outputs = layers.Dense(5, activation = \"softmax\", name= \"use_output_layer\")(x)\n",
        "model_2 = tf.keras.Model(inputs, outputs, name=\"use_model_2\")\n",
        "\n",
        "# Compile the model\n",
        "model_2.compile(loss=\"categorical_crossentropy\",\n",
        "                optimizer= tf.keras.optimizers.Adam(),\n",
        "                metrics = [\"accuracy\"])\n",
        "\n",
        "model_2.summary()\n"
      ]
    },
    {
      "cell_type": "code",
      "execution_count": 51,
      "metadata": {
        "id": "0US-C09cZqec",
        "colab": {
          "base_uri": "https://localhost:8080/"
        },
        "outputId": "7fdf4785-05e4-42a9-abd0-e80521ac5d9b"
      },
      "outputs": [
        {
          "output_type": "stream",
          "name": "stdout",
          "text": [
            "Epoch 1/3\n",
            "562/562 [==============================] - 10s 13ms/step - loss: 0.9174 - accuracy: 0.6499 - val_loss: 0.7973 - val_accuracy: 0.6865\n",
            "Epoch 2/3\n",
            "562/562 [==============================] - 7s 13ms/step - loss: 0.7703 - accuracy: 0.7011 - val_loss: 0.7573 - val_accuracy: 0.7045\n",
            "Epoch 3/3\n",
            "562/562 [==============================] - 9s 15ms/step - loss: 0.7546 - accuracy: 0.7114 - val_loss: 0.7419 - val_accuracy: 0.7148\n"
          ]
        }
      ],
      "source": [
        "# Fit the model\n",
        "history_model_2 = model_2.fit(train_datasets,\n",
        "                              epochs= 3,\n",
        "                              steps_per_epoch = int(0.1 * len(train_datasets)),\n",
        "                              validation_data = val_datasets,\n",
        "                              validation_steps = int(0.1 * len(val_datasets)))"
      ]
    },
    {
      "cell_type": "code",
      "execution_count": 52,
      "metadata": {
        "id": "6ZRKNs5Sblba",
        "colab": {
          "base_uri": "https://localhost:8080/"
        },
        "outputId": "764cdbc2-fe20-4efd-8f18-38665c5f497b"
      },
      "outputs": [
        {
          "output_type": "stream",
          "name": "stdout",
          "text": [
            "945/945 [==============================] - 10s 11ms/step - loss: 0.7428 - accuracy: 0.7121\n"
          ]
        },
        {
          "output_type": "execute_result",
          "data": {
            "text/plain": [
              "[0.7427949905395508, 0.7120680809020996]"
            ]
          },
          "metadata": {},
          "execution_count": 52
        }
      ],
      "source": [
        "# Evaluate model\n",
        "model_2.evaluate(val_datasets)"
      ]
    },
    {
      "cell_type": "code",
      "execution_count": 53,
      "metadata": {
        "id": "Rmg_fFo0c9aY",
        "colab": {
          "base_uri": "https://localhost:8080/"
        },
        "outputId": "868e99bf-dc97-42bc-8e01-4531c67817dd"
      },
      "outputs": [
        {
          "output_type": "stream",
          "name": "stdout",
          "text": [
            "945/945 [==============================] - 10s 10ms/step\n"
          ]
        },
        {
          "output_type": "execute_result",
          "data": {
            "text/plain": [
              "array([[0.43957424, 0.37272757, 0.00260463, 0.1759214 , 0.00917227],\n",
              "       [0.3505692 , 0.49742317, 0.00443767, 0.14344737, 0.00412264],\n",
              "       [0.21613075, 0.13583492, 0.02027388, 0.5897237 , 0.03803677],\n",
              "       ...,\n",
              "       [0.00187719, 0.00635747, 0.05103503, 0.00114965, 0.9395807 ],\n",
              "       [0.0037999 , 0.05079923, 0.19793092, 0.00162636, 0.74584365],\n",
              "       [0.17189421, 0.25442377, 0.48831034, 0.00681067, 0.07856106]],\n",
              "      dtype=float32)"
            ]
          },
          "metadata": {},
          "execution_count": 53
        }
      ],
      "source": [
        "model_2_preds_probs = model_2.predict(val_datasets)\n",
        "model_2_preds_probs"
      ]
    },
    {
      "cell_type": "code",
      "execution_count": 54,
      "metadata": {
        "id": "Ahaj9Y5ydQGs",
        "colab": {
          "base_uri": "https://localhost:8080/"
        },
        "outputId": "b9014c94-bd9a-429b-f9bc-2558ee2a5330"
      },
      "outputs": [
        {
          "output_type": "execute_result",
          "data": {
            "text/plain": [
              "<tf.Tensor: shape=(30212,), dtype=int64, numpy=array([0, 1, 3, ..., 4, 4, 2])>"
            ]
          },
          "metadata": {},
          "execution_count": 54
        }
      ],
      "source": [
        "# Turn model prediction probabilities into classes\n",
        "model_2_preds = tf.argmax(model_2_preds_probs, axis = 1)\n",
        "model_2_preds"
      ]
    },
    {
      "cell_type": "code",
      "execution_count": 55,
      "metadata": {
        "id": "nKGH-BoHdoyD",
        "colab": {
          "base_uri": "https://localhost:8080/"
        },
        "outputId": "1fbdec4b-ee83-4023-812d-aaf85103a663"
      },
      "outputs": [
        {
          "output_type": "execute_result",
          "data": {
            "text/plain": [
              "{'accuracy': 71.20680524294983,\n",
              " 'precision': 0.7129241431318561,\n",
              " 'recall': 0.7120680524294982,\n",
              " 'f1': 0.7093160105501288}"
            ]
          },
          "metadata": {},
          "execution_count": 55
        }
      ],
      "source": [
        "model_2_results = calculate_results(val_labels_encoded, model_2_preds)\n",
        "model_2_results"
      ]
    },
    {
      "cell_type": "markdown",
      "metadata": {
        "id": "OFA3saUOeRW7"
      },
      "source": [
        "## Model 3: Conv1D with character embeddings"
      ]
    },
    {
      "cell_type": "code",
      "execution_count": 56,
      "metadata": {
        "id": "AduPBqrAeDaN"
      },
      "outputs": [],
      "source": [
        "# Create a fuction to split text\n",
        "def split_chars(text):\n",
        "  return \" \".join(list(text))"
      ]
    },
    {
      "cell_type": "code",
      "execution_count": 57,
      "metadata": {
        "id": "tStBI7Z2jjjX",
        "colab": {
          "base_uri": "https://localhost:8080/"
        },
        "outputId": "a291c36c-f351-4de2-b1d1-c98f8b151b6c"
      },
      "outputs": [
        {
          "output_type": "execute_result",
          "data": {
            "text/plain": [
              "('t h e   i n c i d e n c e   o f   a l d   w a s   h i g h e s t   i n   i n d i v i d u a l s   w h o   h a d   a   h i g h   l e v e l   o f   o c c u p a t i o n   .',\n",
              " 167)"
            ]
          },
          "metadata": {},
          "execution_count": 57
        }
      ],
      "source": [
        "split_chars(sample_sentence), len(split_chars(sample_sentence))"
      ]
    },
    {
      "cell_type": "code",
      "execution_count": 58,
      "metadata": {
        "id": "c0IPSoXZjpJp",
        "colab": {
          "base_uri": "https://localhost:8080/"
        },
        "outputId": "cb7faa87-20e3-4426-efea-4c69313dd225"
      },
      "outputs": [
        {
          "output_type": "execute_result",
          "data": {
            "text/plain": [
              "('i n   t h e   s l b   g r o u p   ,   p i   ,   g i   ,   a n d   p d   v a l u e s   i n c r e a s e d   s i g n i f i c a n t l y   (   p   <   @   )   .',\n",
              " 155)"
            ]
          },
          "metadata": {},
          "execution_count": 58
        }
      ],
      "source": [
        "split_chars(random_sentence), len(split_chars(random_sentence))"
      ]
    },
    {
      "cell_type": "code",
      "execution_count": 59,
      "metadata": {
        "id": "CZC_-eC5koqX",
        "colab": {
          "base_uri": "https://localhost:8080/",
          "height": 90
        },
        "outputId": "0f39628d-3319-4152-9a61-d03faf3911f4"
      },
      "outputs": [
        {
          "output_type": "execute_result",
          "data": {
            "text/plain": [
              "'t o   i n v e s t i g a t e   t h e   e f f i c a c y   o f   @   w e e k s   o f   d a i l y   l o w - d o s e   o r a l   p r e d n i s o l o n e   i n   i m p r o v i n g   p a i n   ,   m o b i l i t y   ,   a n d   s y s t e m i c   l o w - g r a d e   i n f l a m m a t i o n   i n   t h e   s h o r t   t e r m   a n d   w h e t h e r   t h e   e f f e c t   w o u l d   b e   s u s t a i n e d   a t   @   w e e k s   i n   o l d e r   a d u l t s   w i t h   m o d e r a t e   t o   s e v e r e   k n e e   o s t e o a r t h r i t i s   (   o a   )   .'"
            ],
            "application/vnd.google.colaboratory.intrinsic+json": {
              "type": "string"
            }
          },
          "metadata": {},
          "execution_count": 59
        }
      ],
      "source": [
        "# Split data into character level\n",
        "train_chars = [split_chars(sentence) for sentence in train_sentences]\n",
        "val_chars = [split_chars(sentence) for sentence in val_sentences]\n",
        "test_chars = [split_chars(sentence) for sentence in test_sentences]\n",
        "train_chars[0]"
      ]
    },
    {
      "cell_type": "code",
      "execution_count": 60,
      "metadata": {
        "id": "IcksNMDKkL_j",
        "colab": {
          "base_uri": "https://localhost:8080/"
        },
        "outputId": "565d01ff-54d1-429a-dc08-0a4a88adfefa"
      },
      "outputs": [
        {
          "output_type": "execute_result",
          "data": {
            "text/plain": [
              "(149.3662574983337, [281, 137, 111, 65, 209])"
            ]
          },
          "metadata": {},
          "execution_count": 60
        }
      ],
      "source": [
        "chars_len = [len(sentence) for sentence in train_sentences]\n",
        "mean_chars_len = np.mean(chars_len)\n",
        "mean_chars_len, chars_len[:5]"
      ]
    },
    {
      "cell_type": "code",
      "execution_count": 61,
      "metadata": {
        "id": "oZgZhlTzocgF",
        "colab": {
          "base_uri": "https://localhost:8080/",
          "height": 265
        },
        "outputId": "b75a25aa-70da-4b1e-a8d4-aaf80d7da37a"
      },
      "outputs": [
        {
          "output_type": "display_data",
          "data": {
            "text/plain": [
              "<Figure size 432x288 with 1 Axes>"
            ],
            "image/png": "[encoded data removed]"
          },
          "metadata": {
            "needs_background": "light"
          }
        }
      ],
      "source": [
        "plt.hist(chars_len);"
      ]
    },
    {
      "cell_type": "code",
      "execution_count": 62,
      "metadata": {
        "id": "h02zF6WSpdAA",
        "colab": {
          "base_uri": "https://localhost:8080/"
        },
        "outputId": "ef99f90c-22c3-4849-eff0-70d1bc25739f"
      },
      "outputs": [
        {
          "output_type": "execute_result",
          "data": {
            "text/plain": [
              "290"
            ]
          },
          "metadata": {},
          "execution_count": 62
        }
      ],
      "source": [
        "# Let's use numpy percentile to know the sentence with highest of characters\n",
        "chars_output_sequence_len = int(np.percentile(chars_len, 95))\n",
        "chars_output_sequence_len"
      ]
    },
    {
      "cell_type": "code",
      "execution_count": 63,
      "metadata": {
        "id": "akKOlBqUp_v2",
        "colab": {
          "base_uri": "https://localhost:8080/",
          "height": 36
        },
        "outputId": "b22e552d-d743-4197-a91b-d5bfd53cc243"
      },
      "outputs": [
        {
          "output_type": "execute_result",
          "data": {
            "text/plain": [
              "'abcdefghijklmnopqrstuvwxyz0123456789!\"#$%&\\'()*+,-./:;<=>?@[\\\\]^_`{|}~'"
            ],
            "application/vnd.google.colaboratory.intrinsic+json": {
              "type": "string"
            }
          },
          "metadata": {},
          "execution_count": 63
        }
      ],
      "source": [
        "from string import punctuation\n",
        "from string import ascii_lowercase\n",
        "# From the above output, we can deduce that the average length of characters in each of the training sentence is 290.\n",
        "import string\n",
        "alphabet = string.ascii_lowercase + string.digits + string.punctuation\n",
        "alphabet"
      ]
    },
    {
      "cell_type": "code",
      "execution_count": 64,
      "metadata": {
        "id": "uwXutqlqrgBu",
        "colab": {
          "base_uri": "https://localhost:8080/"
        },
        "outputId": "cb378769-2257-4fcc-b73f-586671917584"
      },
      "outputs": [
        {
          "output_type": "execute_result",
          "data": {
            "text/plain": [
              "70"
            ]
          },
          "metadata": {},
          "execution_count": 64
        }
      ],
      "source": [
        "max_chars_token = len(alphabet) + 2 # OOV(Out Of Vocabulary or unknown tokens)\n",
        "max_chars_token"
      ]
    },
    {
      "cell_type": "code",
      "execution_count": 65,
      "metadata": {
        "id": "h7MrzxIysbbE"
      },
      "outputs": [],
      "source": [
        "# Create a character level token vectorizer instance\n",
        "chars_vectorizer = TextVectorization(max_tokens= max_chars_token,\n",
        "                                     output_sequence_length = chars_output_sequence_len,\n",
        "                                     name = \"char_vectorizer\")\n",
        "\n",
        "# Adapt chars vectorizers to our trainning sentences\n",
        "chars_vectorizer.adapt(train_chars)"
      ]
    },
    {
      "cell_type": "code",
      "execution_count": 66,
      "metadata": {
        "id": "b7OXJppMt3eg",
        "colab": {
          "base_uri": "https://localhost:8080/"
        },
        "outputId": "28f82b3d-f8ab-4ba6-bfbd-a4ca047aa609"
      },
      "outputs": [
        {
          "output_type": "stream",
          "name": "stdout",
          "text": [
            "Length of chars vocab: 28\n",
            "\n",
            "5 common words in chars vocab: ['', '[UNK]', 'e', 't', 'i']\n",
            "\n",
            "5 least words in chars vocab: ['k', 'x', 'z', 'q', 'j']\n"
          ]
        }
      ],
      "source": [
        "# Now that we have adapt our chars vectorizer to our train characters, let's use get vocabulary method to fish out some features\n",
        "chars_vocab = chars_vectorizer.get_vocabulary()\n",
        "print(f\"Length of chars vocab: {len(chars_vocab)}\")\n",
        "print(f\"\\n5 common words in chars vocab: {chars_vocab[:5]}\")\n",
        "print(f\"\\n5 least words in chars vocab: {chars_vocab[-5:]}\")"
      ]
    },
    {
      "cell_type": "code",
      "execution_count": 67,
      "metadata": {
        "id": "pYhJD5g8wXqt",
        "colab": {
          "base_uri": "https://localhost:8080/"
        },
        "outputId": "5a6afc65-ab50-4aee-c8b9-b4b51bdf553d"
      },
      "outputs": [
        {
          "output_type": "stream",
          "name": "stdout",
          "text": [
            "Charified text: d i s c o n t i n u a t i o n   r a t e s   w e r e   @   %   ,   @   %   ,   @   %   ,   @   %   ,   @   %   ,   @   %   a n d   @   %   (   y e a r s   @ - @   r e s p e c t i v e l y   )   .\n",
            "\n",
            "Length of charified text: 193\n",
            "\n",
            "Length of each word in charified text: 69\n",
            "\n",
            "Vectorized chars: [[10  4  9 11  7  6  3  4  6 16  5  3  4  7  6  8  5  3  2  9 20  2  8  2\n",
            "   5  6 10 19  2  5  8  9  8  2  9 14  2 11  3  4 21  2 12 19  0  0  0  0\n",
            "   0  0  0  0  0  0  0  0  0  0  0  0  0  0  0  0  0  0  0  0  0  0  0  0\n",
            "   0  0  0  0  0  0  0  0  0  0  0  0  0  0  0  0  0  0  0  0  0  0  0  0\n",
            "   0  0  0  0  0  0  0  0  0  0  0  0  0  0  0  0  0  0  0  0  0  0  0  0\n",
            "   0  0  0  0  0  0  0  0  0  0  0  0  0  0  0  0  0  0  0  0  0  0  0  0\n",
            "   0  0  0  0  0  0  0  0  0  0  0  0  0  0  0  0  0  0  0  0  0  0  0  0\n",
            "   0  0  0  0  0  0  0  0  0  0  0  0  0  0  0  0  0  0  0  0  0  0  0  0\n",
            "   0  0  0  0  0  0  0  0  0  0  0  0  0  0  0  0  0  0  0  0  0  0  0  0\n",
            "   0  0  0  0  0  0  0  0  0  0  0  0  0  0  0  0  0  0  0  0  0  0  0  0\n",
            "   0  0  0  0  0  0  0  0  0  0  0  0  0  0  0  0  0  0  0  0  0  0  0  0\n",
            "   0  0  0  0  0  0  0  0  0  0  0  0  0  0  0  0  0  0  0  0  0  0  0  0\n",
            "   0  0]]\n",
            "\n",
            "Length of vectorized chars: 290\n"
          ]
        }
      ],
      "source": [
        "#  Let's experiment with our chars_vectorizers\n",
        "random_chars = random.choice(train_chars)\n",
        "print(f\"Charified text: {random_chars}\")\n",
        "print(f\"\\nLength of charified text: {len(random_chars)}\")\n",
        "print(f\"\\nLength of each word in charified text: {len(random_chars.split())}\")\n",
        "vectorized_chars = chars_vectorizer([random_chars])\n",
        "print(f\"\\nVectorized chars: {vectorized_chars}\")\n",
        "print(f\"\\nLength of vectorized chars: {len(vectorized_chars[0])}\")"
      ]
    },
    {
      "cell_type": "markdown",
      "metadata": {
        "id": "oew4fJ4_zncq"
      },
      "source": [
        "# Create a charater level embeddings"
      ]
    },
    {
      "cell_type": "code",
      "execution_count": 68,
      "metadata": {
        "id": "Xpz9FOUdzMJN"
      },
      "outputs": [],
      "source": [
        "chars_embed = layers.Embedding(input_dim = max_chars_token,\n",
        "                               output_dim = 25,\n",
        "                               name = \"chars_embed\")"
      ]
    },
    {
      "cell_type": "code",
      "execution_count": 69,
      "metadata": {
        "id": "wV7RnISr2cFi",
        "colab": {
          "base_uri": "https://localhost:8080/"
        },
        "outputId": "7d485e2e-0b3a-4450-9646-507d4977f41b"
      },
      "outputs": [
        {
          "output_type": "stream",
          "name": "stdout",
          "text": [
            "Charified text: d i s c o n t i n u a t i o n   r a t e s   w e r e   @   %   ,   @   %   ,   @   %   ,   @   %   ,   @   %   ,   @   %   a n d   @   %   (   y e a r s   @ - @   r e s p e c t i v e l y   )   .\n",
            "\n",
            "embedded chars: [[[ 0.02849013  0.03911891  0.01561895 ...  0.01301369 -0.00498489\n",
            "    0.0492486 ]\n",
            "  [-0.0429543   0.03582114 -0.0154429  ... -0.03685337 -0.03692391\n",
            "   -0.01875645]\n",
            "  [-0.03055502  0.00043584  0.04023335 ...  0.02060673  0.00162423\n",
            "   -0.04516464]\n",
            "  ...\n",
            "  [-0.01165741 -0.0314309  -0.03175117 ... -0.04460311  0.00672815\n",
            "   -0.04195106]\n",
            "  [-0.01165741 -0.0314309  -0.03175117 ... -0.04460311  0.00672815\n",
            "   -0.04195106]\n",
            "  [-0.01165741 -0.0314309  -0.03175117 ... -0.04460311  0.00672815\n",
            "   -0.04195106]]]\n",
            "\n",
            "Embedded chars shape: (1, 290, 25)\n"
          ]
        }
      ],
      "source": [
        "print(f\"Charified text: {random_chars}\")\n",
        "embed_chars = chars_embed(chars_vectorizer([random_chars]))\n",
        "print(f\"\\nembedded chars: {embed_chars}\")\n",
        "print(f\"\\nEmbedded chars shape: {embed_chars.shape}\")"
      ]
    },
    {
      "cell_type": "code",
      "execution_count": 70,
      "metadata": {
        "id": "48SDZeT93ZKc",
        "colab": {
          "base_uri": "https://localhost:8080/"
        },
        "outputId": "378fa2cb-2429-46f3-8e89-bd5cdb431c2a"
      },
      "outputs": [
        {
          "output_type": "stream",
          "name": "stdout",
          "text": [
            "Model: \"chars_conv1D_model\"\n",
            "_________________________________________________________________\n",
            " Layer (type)                Output Shape              Param #   \n",
            "=================================================================\n",
            " input_3 (InputLayer)        [(None, 1)]               0         \n",
            "                                                                 \n",
            " char_vectorizer (TextVector  (None, 290)              0         \n",
            " ization)                                                        \n",
            "                                                                 \n",
            " chars_embed (Embedding)     (None, 290, 25)           1750      \n",
            "                                                                 \n",
            " conv1d (Conv1D)             (None, 290, 64)           8064      \n",
            "                                                                 \n",
            " global_max_pooling1d (Globa  (None, 64)               0         \n",
            " lMaxPooling1D)                                                  \n",
            "                                                                 \n",
            " output_layer (Dense)        (None, 5)                 325       \n",
            "                                                                 \n",
            "=================================================================\n",
            "Total params: 10,139\n",
            "Trainable params: 10,139\n",
            "Non-trainable params: 0\n",
            "_________________________________________________________________\n"
          ]
        }
      ],
      "source": [
        "# Build model\n",
        "inputs = layers.Input(shape=(1,), dtype = tf.string)\n",
        "char_vector = chars_vectorizer(inputs)\n",
        "char_embed = chars_embed(char_vector)\n",
        "x = layers.Conv1D(64, kernel_size = 5, padding= \"same\", activation= \"relu\")(char_embed)\n",
        "x = layers.GlobalMaxPooling1D()(x)\n",
        "outputs = layers.Dense(num_classes, activation= \"softmax\", name= \"output_layer\")(x)\n",
        "model_3 = tf.keras.Model(inputs, outputs, name=\"chars_conv1D_model\")\n",
        "\n",
        "# Compile the model\n",
        "model_3.compile(loss= \"categorical_crossentropy\",\n",
        "                optimizer= tf.keras.optimizers.Adam(),\n",
        "                metrics= [\"accuracy\"])\n",
        "\n",
        "# Summarize the model\n",
        "model_3.summary()"
      ]
    },
    {
      "cell_type": "code",
      "execution_count": 71,
      "metadata": {
        "id": "o8PNNg5u7NvN",
        "colab": {
          "base_uri": "https://localhost:8080/"
        },
        "outputId": "2bb6ec41-919c-4c84-ec4d-6cd5a34d7830"
      },
      "outputs": [
        {
          "output_type": "execute_result",
          "data": {
            "text/plain": [
              "<PrefetchDataset element_spec=(TensorSpec(shape=(None,), dtype=tf.string, name=None), TensorSpec(shape=(None, 5), dtype=tf.float64, name=None))>"
            ]
          },
          "metadata": {},
          "execution_count": 71
        }
      ],
      "source": [
        "# Let's create a prefectched datasets for our character level data to enable efficient model fitting.\n",
        "# Create char datasets\n",
        "train_chars_dataset = tf.data.Dataset.from_tensor_slices((train_chars, train_labels_one_hot)).batch(32).prefetch(tf.data.AUTOTUNE)\n",
        "val_chars_dataset = tf.data.Dataset.from_tensor_slices((val_chars, val_labels_one_hot)).batch(32).prefetch(tf.data.AUTOTUNE)\n",
        "test_chars_dataset = tf.data.Dataset.from_tensor_slices((test_chars, test_labels_one_hot)).batch(32).prefetch(tf.data.AUTOTUNE)\n",
        "\n",
        "train_chars_dataset"
      ]
    },
    {
      "cell_type": "code",
      "execution_count": 72,
      "metadata": {
        "id": "a62pSNt68rs0",
        "colab": {
          "base_uri": "https://localhost:8080/"
        },
        "outputId": "a1a5d7a6-2401-4d8a-d736-f55de2718873"
      },
      "outputs": [
        {
          "output_type": "stream",
          "name": "stdout",
          "text": [
            "Epoch 1/3\n",
            "562/562 [==============================] - 4s 6ms/step - loss: 1.2656 - accuracy: 0.4799 - val_loss: 1.0561 - val_accuracy: 0.5795\n",
            "Epoch 2/3\n",
            "562/562 [==============================] - 3s 6ms/step - loss: 1.0145 - accuracy: 0.5972 - val_loss: 0.9319 - val_accuracy: 0.6253\n",
            "Epoch 3/3\n",
            "562/562 [==============================] - 3s 6ms/step - loss: 0.9159 - accuracy: 0.6418 - val_loss: 0.8617 - val_accuracy: 0.6712\n"
          ]
        }
      ],
      "source": [
        "# Let's fit the model\n",
        "history_model_3 = model_3.fit(train_chars_dataset,\n",
        "            epochs = 3,\n",
        "            steps_per_epoch= int(0.1 * len(train_chars_dataset)),\n",
        "            validation_data = val_chars_dataset,\n",
        "            validation_steps = int(0.1 * len(val_chars_dataset)))"
      ]
    },
    {
      "cell_type": "code",
      "execution_count": 73,
      "metadata": {
        "id": "vmrAZfIB9rhf",
        "colab": {
          "base_uri": "https://localhost:8080/"
        },
        "outputId": "41d17994-d073-4ac2-9217-eb20c17eb7a1"
      },
      "outputs": [
        {
          "output_type": "stream",
          "name": "stdout",
          "text": [
            "945/945 [==============================] - 4s 4ms/step - loss: 0.8847 - accuracy: 0.6594\n"
          ]
        },
        {
          "output_type": "execute_result",
          "data": {
            "text/plain": [
              "[0.8846790194511414, 0.6594399809837341]"
            ]
          },
          "metadata": {},
          "execution_count": 73
        }
      ],
      "source": [
        "model_3.evaluate(val_chars_dataset)"
      ]
    },
    {
      "cell_type": "code",
      "execution_count": 74,
      "metadata": {
        "id": "_CwN26EC-uzJ",
        "colab": {
          "base_uri": "https://localhost:8080/"
        },
        "outputId": "975a542f-a97a-4671-ea12-3d68d22352d3"
      },
      "outputs": [
        {
          "output_type": "stream",
          "name": "stdout",
          "text": [
            "945/945 [==============================] - 2s 3ms/step\n"
          ]
        },
        {
          "output_type": "execute_result",
          "data": {
            "text/plain": [
              "array([[0.17416368, 0.35166737, 0.09959193, 0.32905158, 0.04552538],\n",
              "       [0.15888993, 0.23611295, 0.01745864, 0.5708956 , 0.01664283],\n",
              "       [0.11135267, 0.1229167 , 0.04033456, 0.70967555, 0.01572054],\n",
              "       ...,\n",
              "       [0.0387352 , 0.02169434, 0.07863089, 0.02848242, 0.8324572 ],\n",
              "       [0.05604789, 0.15877509, 0.37291205, 0.07393428, 0.33833072],\n",
              "       [0.38818657, 0.49499148, 0.06566931, 0.0461924 , 0.00496019]],\n",
              "      dtype=float32)"
            ]
          },
          "metadata": {},
          "execution_count": 74
        }
      ],
      "source": [
        "model_3_pred_probs = model_3.predict(val_chars_dataset)\n",
        "model_3_pred_probs"
      ]
    },
    {
      "cell_type": "code",
      "execution_count": 75,
      "metadata": {
        "id": "CPHdfEID--i1",
        "colab": {
          "base_uri": "https://localhost:8080/"
        },
        "outputId": "b580961a-7c27-4c01-925b-645b81345808"
      },
      "outputs": [
        {
          "output_type": "execute_result",
          "data": {
            "text/plain": [
              "<tf.Tensor: shape=(30212,), dtype=int64, numpy=array([1, 3, 3, ..., 4, 2, 1])>"
            ]
          },
          "metadata": {},
          "execution_count": 75
        }
      ],
      "source": [
        "model_3_preds = tf.argmax(model_3_pred_probs, axis = 1)\n",
        "model_3_preds"
      ]
    },
    {
      "cell_type": "code",
      "execution_count": 76,
      "metadata": {
        "id": "SSArmSlQ_MCx",
        "colab": {
          "base_uri": "https://localhost:8080/"
        },
        "outputId": "914f0622-7821-40d5-a4ac-d055767ed8af"
      },
      "outputs": [
        {
          "output_type": "execute_result",
          "data": {
            "text/plain": [
              "{'accuracy': 65.94399576327287,\n",
              " 'precision': 0.6594020292084175,\n",
              " 'recall': 0.6594399576327287,\n",
              " 'f1': 0.6511163308033616}"
            ]
          },
          "metadata": {},
          "execution_count": 76
        }
      ],
      "source": [
        "model_3_results = calculate_results(val_labels_encoded, model_3_preds)\n",
        "model_3_results"
      ]
    },
    {
      "cell_type": "markdown",
      "metadata": {
        "id": "hRaRyQHTAMdp"
      },
      "source": [
        "## Model 4: Combining pretrained token embeddings and character embeddings(hybrid embeddings)"
      ]
    },
    {
      "cell_type": "code",
      "execution_count": 77,
      "metadata": {
        "id": "IbUsLved_grs"
      },
      "outputs": [],
      "source": [
        "from typing_extensions import Concatenate\n",
        "# Set up token inputs\n",
        "token_inputs = layers.Input(shape=[], dtype=tf.string)\n",
        "token_embeddings = tf_hub_embedding_layer(token_inputs)\n",
        "token_outputs = layers.Dense(128, activation= \"relu\")(token_embeddings)\n",
        "token_model = tf.keras.Model(token_inputs, token_outputs, name= \"token_embedded_layer\")\n",
        "\n",
        "# Set up character embeddings\n",
        "char_inputs = layers.Input(shape=(1,), dtype = tf.string)\n",
        "char_vector = chars_vectorizer(char_inputs)\n",
        "char_embed = chars_embed(char_vector)\n",
        "char_bi_lstm = layers.Bidirectional(layers.LSTM(25,name= \"bi_lstm_layer\"))(char_embed)\n",
        "char_model = tf.keras.Model(char_inputs, char_bi_lstm, name = \"char_model\")\n",
        "\n",
        "# Concatenate token and char models\n",
        "token_char_concat = layers.Concatenate(name=\"token_char_hybrid\")([token_model.output, char_model.output])\n",
        "\n",
        "# Set a drop out\n",
        "dropout_layer = layers.Dropout(0.5)(token_char_concat)\n",
        "combined_dense = layers.Dense(200, activation=\"relu\", name=\"combined_dense_output\")(dropout_layer)\n",
        "final_dropout = layers.Dropout(0.5)(combined_dense)\n",
        "output_layer = layers.Dense(5, activation= \"softmax\", name=\"concat_output_layer\")(final_dropout)\n",
        "\n",
        "# Construct model with char and token inputs\n",
        "model_4 = tf.keras.Model([token_model.input, char_model.input],\n",
        "                         output_layer,\n",
        "                         name= \"model_4_concat\")"
      ]
    },
    {
      "cell_type": "code",
      "execution_count": 78,
      "metadata": {
        "id": "Xcs7sAE7Nial",
        "colab": {
          "base_uri": "https://localhost:8080/"
        },
        "outputId": "ed954056-312c-416b-eecb-3066c2ad5700"
      },
      "outputs": [
        {
          "output_type": "stream",
          "name": "stdout",
          "text": [
            "Model: \"model_4_concat\"\n",
            "__________________________________________________________________________________________________\n",
            " Layer (type)                   Output Shape         Param #     Connected to                     \n",
            "==================================================================================================\n",
            " input_5 (InputLayer)           [(None, 1)]          0           []                               \n",
            "                                                                                                  \n",
            " input_4 (InputLayer)           [(None,)]            0           []                               \n",
            "                                                                                                  \n",
            " char_vectorizer (TextVectoriza  (None, 290)         0           ['input_5[0][0]']                \n",
            " tion)                                                                                            \n",
            "                                                                                                  \n",
            " universal_sentence_encoder (Ke  (None, 512)         256797824   ['input_4[0][0]']                \n",
            " rasLayer)                                                                                        \n",
            "                                                                                                  \n",
            " chars_embed (Embedding)        (None, 290, 25)      1750        ['char_vectorizer[1][0]']        \n",
            "                                                                                                  \n",
            " dense_1 (Dense)                (None, 128)          65664       ['universal_sentence_encoder[1][0\n",
            "                                                                 ]']                              \n",
            "                                                                                                  \n",
            " bidirectional (Bidirectional)  (None, 50)           10200       ['chars_embed[1][0]']            \n",
            "                                                                                                  \n",
            " token_char_hybrid (Concatenate  (None, 178)         0           ['dense_1[0][0]',                \n",
            " )                                                                'bidirectional[0][0]']          \n",
            "                                                                                                  \n",
            " dropout (Dropout)              (None, 178)          0           ['token_char_hybrid[0][0]']      \n",
            "                                                                                                  \n",
            " combined_dense_output (Dense)  (None, 200)          35800       ['dropout[0][0]']                \n",
            "                                                                                                  \n",
            " dropout_1 (Dropout)            (None, 200)          0           ['combined_dense_output[0][0]']  \n",
            "                                                                                                  \n",
            " concat_output_layer (Dense)    (None, 5)            1005        ['dropout_1[0][0]']              \n",
            "                                                                                                  \n",
            "==================================================================================================\n",
            "Total params: 256,912,243\n",
            "Trainable params: 114,419\n",
            "Non-trainable params: 256,797,824\n",
            "__________________________________________________________________________________________________\n"
          ]
        }
      ],
      "source": [
        "model_4.summary()"
      ]
    },
    {
      "cell_type": "code",
      "execution_count": 79,
      "metadata": {
        "id": "-fZ-CzYwOm3d",
        "colab": {
          "base_uri": "https://localhost:8080/",
          "height": 856
        },
        "outputId": "23de3071-36db-4ad8-f154-0b2deb112be2"
      },
      "outputs": [
        {
          "output_type": "execute_result",
          "data": {
            "image/png": "[encoded data removed]",
            "text/plain": [
              "<IPython.core.display.Image object>"
            ]
          },
          "metadata": {},
          "execution_count": 79
        }
      ],
      "source": [
        "from tensorflow.keras.utils import plot_model\n",
        "plot_model(model_4)"
      ]
    },
    {
      "cell_type": "code",
      "execution_count": 80,
      "metadata": {
        "id": "P1iS5GeHO-yw"
      },
      "outputs": [],
      "source": [
        "# Compile the model \n",
        "model_4.compile(loss=\"categorical_crossentropy\",\n",
        "                optimizer= tf.keras.optimizers.Adam(),\n",
        "                metrics = [\"accuracy\"])"
      ]
    },
    {
      "cell_type": "markdown",
      "metadata": {
        "id": "05EsT-b_SXxm"
      },
      "source": [
        "# Combine token and charater data into tf.data datasets"
      ]
    },
    {
      "cell_type": "code",
      "execution_count": 81,
      "metadata": {
        "id": "ygXlTj3_Pvbh"
      },
      "outputs": [],
      "source": [
        "train_token_char_data = tf.data.Dataset.from_tensor_slices((train_sentences, train_chars))\n",
        "train_token_char_label = tf.data.Dataset.from_tensor_slices((train_labels_one_hot))\n",
        "train_token_char_dataset = tf.data.Dataset.zip((train_token_char_data, train_token_char_label))\n",
        "\n",
        "train_token_char_dataset = train_token_char_dataset.batch(32).prefetch(tf.data.AUTOTUNE)\n",
        "\n",
        "# Do same for validation datasets\n",
        "val_token_char_data = tf.data.Dataset.from_tensor_slices((val_sentences, val_chars))\n",
        "val_token_char_label = tf.data.Dataset.from_tensor_slices((val_labels_one_hot))\n",
        "val_token_char_dataset = tf.data.Dataset.zip((val_token_char_data, val_token_char_label))\n",
        "\n",
        "val_token_char_dataset = val_token_char_dataset.batch(32).prefetch(tf.data.AUTOTUNE)"
      ]
    },
    {
      "cell_type": "code",
      "execution_count": 82,
      "metadata": {
        "id": "IfaKgYTKUI6d",
        "colab": {
          "base_uri": "https://localhost:8080/"
        },
        "outputId": "ec003299-e9d5-4a2a-d21d-088a2379a7aa"
      },
      "outputs": [
        {
          "output_type": "execute_result",
          "data": {
            "text/plain": [
              "(<PrefetchDataset element_spec=((TensorSpec(shape=(None,), dtype=tf.string, name=None), TensorSpec(shape=(None,), dtype=tf.string, name=None)), TensorSpec(shape=(None, 5), dtype=tf.float64, name=None))>,\n",
              " <PrefetchDataset element_spec=((TensorSpec(shape=(None,), dtype=tf.string, name=None), TensorSpec(shape=(None,), dtype=tf.string, name=None)), TensorSpec(shape=(None, 5), dtype=tf.float64, name=None))>)"
            ]
          },
          "metadata": {},
          "execution_count": 82
        }
      ],
      "source": [
        "train_token_char_dataset, val_token_char_dataset"
      ]
    },
    {
      "cell_type": "code",
      "execution_count": 83,
      "metadata": {
        "id": "ITtK4P8CUeuk",
        "colab": {
          "base_uri": "https://localhost:8080/"
        },
        "outputId": "743badd3-0750-4618-c44a-687701c0c75a"
      },
      "outputs": [
        {
          "output_type": "stream",
          "name": "stdout",
          "text": [
            "Epoch 1/3\n",
            "562/562 [==============================] - 25s 38ms/step - loss: 0.9798 - accuracy: 0.6089 - val_loss: 0.7795 - val_accuracy: 0.7011\n",
            "Epoch 2/3\n",
            "562/562 [==============================] - 19s 35ms/step - loss: 0.7986 - accuracy: 0.6927 - val_loss: 0.7221 - val_accuracy: 0.7287\n",
            "Epoch 3/3\n",
            "562/562 [==============================] - 19s 35ms/step - loss: 0.7706 - accuracy: 0.7061 - val_loss: 0.6924 - val_accuracy: 0.7410\n"
          ]
        }
      ],
      "source": [
        "# Now let's fit our model\n",
        "history_model_4 = model_4.fit(train_token_char_dataset,\n",
        "                              epochs = 3,\n",
        "                              steps_per_epoch = int(0.1 * len(train_token_char_dataset)),\n",
        "                              validation_data = val_token_char_dataset,\n",
        "                              validation_steps = int(0.1 * len(val_token_char_dataset)))"
      ]
    },
    {
      "cell_type": "code",
      "execution_count": 84,
      "metadata": {
        "id": "r6F6zENhVQZ9",
        "colab": {
          "base_uri": "https://localhost:8080/"
        },
        "outputId": "21a8831d-5f3b-417c-da49-8fb5679d942d"
      },
      "outputs": [
        {
          "output_type": "stream",
          "name": "stdout",
          "text": [
            "945/945 [==============================] - 20s 21ms/step - loss: 0.6955 - accuracy: 0.7332\n"
          ]
        },
        {
          "output_type": "execute_result",
          "data": {
            "text/plain": [
              "[0.6955434679985046, 0.7331854701042175]"
            ]
          },
          "metadata": {},
          "execution_count": 84
        }
      ],
      "source": [
        "model_4.evaluate(val_token_char_dataset)"
      ]
    },
    {
      "cell_type": "code",
      "execution_count": 85,
      "metadata": {
        "id": "pN2DHCCgX6sX",
        "colab": {
          "base_uri": "https://localhost:8080/"
        },
        "outputId": "89c90816-28b7-41f1-c343-72fec89d3da0"
      },
      "outputs": [
        {
          "output_type": "stream",
          "name": "stdout",
          "text": [
            "945/945 [==============================] - 20s 20ms/step\n"
          ]
        },
        {
          "output_type": "execute_result",
          "data": {
            "text/plain": [
              "array([[4.4116423e-01, 3.1800660e-01, 3.2085951e-03, 2.3086336e-01,\n",
              "        6.7571993e-03],\n",
              "       [3.5138494e-01, 4.6920192e-01, 3.7711826e-03, 1.7364305e-01,\n",
              "        1.9987987e-03],\n",
              "       [2.4466172e-01, 5.1137611e-02, 1.4403410e-02, 6.7792279e-01,\n",
              "        1.1874428e-02],\n",
              "       ...,\n",
              "       [4.4049026e-04, 5.9465505e-03, 5.8047041e-02, 1.7950025e-04,\n",
              "        9.3538642e-01],\n",
              "       [7.0137233e-03, 3.9743587e-02, 2.0376331e-01, 3.9894427e-03,\n",
              "        7.4548995e-01],\n",
              "       [3.5373393e-01, 3.8956565e-01, 1.9992824e-01, 2.9668367e-02,\n",
              "        2.7103778e-02]], dtype=float32)"
            ]
          },
          "metadata": {},
          "execution_count": 85
        }
      ],
      "source": [
        "model_4_pred_probs = model_4.predict(val_token_char_dataset)\n",
        "model_4_pred_probs"
      ]
    },
    {
      "cell_type": "code",
      "execution_count": 86,
      "metadata": {
        "id": "umcMCtgxYKxH",
        "colab": {
          "base_uri": "https://localhost:8080/"
        },
        "outputId": "fbd3242e-4446-46d7-e86c-4f6cd91bb81b"
      },
      "outputs": [
        {
          "output_type": "execute_result",
          "data": {
            "text/plain": [
              "<tf.Tensor: shape=(30212,), dtype=int64, numpy=array([0, 1, 3, ..., 4, 4, 1])>"
            ]
          },
          "metadata": {},
          "execution_count": 86
        }
      ],
      "source": [
        "model_4_preds = tf.argmax(model_4_pred_probs, axis = 1)\n",
        "model_4_preds"
      ]
    },
    {
      "cell_type": "code",
      "execution_count": 87,
      "metadata": {
        "id": "Q1QPZnqVYcAl",
        "colab": {
          "base_uri": "https://localhost:8080/"
        },
        "outputId": "1da8e3b0-885f-43d0-8ac4-5fdf5bbcb816"
      },
      "outputs": [
        {
          "output_type": "execute_result",
          "data": {
            "text/plain": [
              "{'accuracy': 73.31854892095856,\n",
              " 'precision': 0.7330744177140472,\n",
              " 'recall': 0.7331854892095856,\n",
              " 'f1': 0.7302181167096032}"
            ]
          },
          "metadata": {},
          "execution_count": 87
        }
      ],
      "source": [
        "model_4_results = calculate_results(val_labels_encoded, model_4_preds)\n",
        "model_4_results"
      ]
    },
    {
      "cell_type": "markdown",
      "metadata": {
        "id": "6iGaghYDY8Z6"
      },
      "source": [
        "## Model 5: Transfer learning with pre-trained token embedding + characters embedding + positional embeddings."
      ]
    },
    {
      "cell_type": "markdown",
      "metadata": {
        "id": "nCKdKwF0vfFi"
      },
      "source": [
        "# Create positional embeddings"
      ]
    },
    {
      "cell_type": "code",
      "execution_count": 88,
      "metadata": {
        "id": "CXXh_2j0Y5w1",
        "colab": {
          "base_uri": "https://localhost:8080/",
          "height": 206
        },
        "outputId": "fa93137f-f934-4082-c1f0-9b120e9fb796"
      },
      "outputs": [
        {
          "output_type": "execute_result",
          "data": {
            "text/plain": [
              "      target                                               text  line_number  \\\n",
              "0  OBJECTIVE  to investigate the efficacy of @ weeks of dail...            0   \n",
              "1    METHODS  a total of @ patients with primary knee oa wer...            1   \n",
              "2    METHODS  outcome measures included pain reduction and i...            2   \n",
              "3    METHODS  pain was assessed using the visual analog pain...            3   \n",
              "4    METHODS  secondary outcome measures included the wester...            4   \n",
              "\n",
              "   total_lines  \n",
              "0           11  \n",
              "1           11  \n",
              "2           11  \n",
              "3           11  \n",
              "4           11  "
            ],
            "text/html": [
              "\n",
              "  <div id=\"df-97d8fdfb-4696-4204-9e58-beb720fc6099\">\n",
              "    <div class=\"colab-df-container\">\n",
              "      <div>\n",
              "<style scoped>\n",
              "    .dataframe tbody tr th:only-of-type {\n",
              "        vertical-align: middle;\n",
              "    }\n",
              "\n",
              "    .dataframe tbody tr th {\n",
              "        vertical-align: top;\n",
              "    }\n",
              "\n",
              "    .dataframe thead th {\n",
              "        text-align: right;\n",
              "    }\n",
              "</style>\n",
              "<table border=\"1\" class=\"dataframe\">\n",
              "  <thead>\n",
              "    <tr style=\"text-align: right;\">\n",
              "      <th></th>\n",
              "      <th>target</th>\n",
              "      <th>text</th>\n",
              "      <th>line_number</th>\n",
              "      <th>total_lines</th>\n",
              "    </tr>\n",
              "  </thead>\n",
              "  <tbody>\n",
              "    <tr>\n",
              "      <th>0</th>\n",
              "      <td>OBJECTIVE</td>\n",
              "      <td>to investigate the efficacy of @ weeks of dail...</td>\n",
              "      <td>0</td>\n",
              "      <td>11</td>\n",
              "    </tr>\n",
              "    <tr>\n",
              "      <th>1</th>\n",
              "      <td>METHODS</td>\n",
              "      <td>a total of @ patients with primary knee oa wer...</td>\n",
              "      <td>1</td>\n",
              "      <td>11</td>\n",
              "    </tr>\n",
              "    <tr>\n",
              "      <th>2</th>\n",
              "      <td>METHODS</td>\n",
              "      <td>outcome measures included pain reduction and i...</td>\n",
              "      <td>2</td>\n",
              "      <td>11</td>\n",
              "    </tr>\n",
              "    <tr>\n",
              "      <th>3</th>\n",
              "      <td>METHODS</td>\n",
              "      <td>pain was assessed using the visual analog pain...</td>\n",
              "      <td>3</td>\n",
              "      <td>11</td>\n",
              "    </tr>\n",
              "    <tr>\n",
              "      <th>4</th>\n",
              "      <td>METHODS</td>\n",
              "      <td>secondary outcome measures included the wester...</td>\n",
              "      <td>4</td>\n",
              "      <td>11</td>\n",
              "    </tr>\n",
              "  </tbody>\n",
              "</table>\n",
              "</div>\n",
              "      <button class=\"colab-df-convert\" onclick=\"convertToInteractive('df-97d8fdfb-4696-4204-9e58-beb720fc6099')\"\n",
              "              title=\"Convert this dataframe to an interactive table.\"\n",
              "              style=\"display:none;\">\n",
              "        \n",
              "  <svg xmlns=\"http://www.w3.org/2000/svg\" height=\"24px\"viewBox=\"0 0 24 24\"\n",
              "       width=\"24px\">\n",
              "    <path d=\"M0 0h24v24H0V0z\" fill=\"none\"/>\n",
              "    <path d=\"M18.56 5.44l.94 2.06.94-2.06 2.06-.94-2.06-.94-.94-2.06-.94 2.06-2.06.94zm-11 1L8.5 8.5l.94-2.06 2.06-.94-2.06-.94L8.5 2.5l-.94 2.06-2.06.94zm10 10l.94 2.06.94-2.06 2.06-.94-2.06-.94-.94-2.06-.94 2.06-2.06.94z\"/><path d=\"M17.41 7.96l-1.37-1.37c-.4-.4-.92-.59-1.43-.59-.52 0-1.04.2-1.43.59L10.3 9.45l-7.72 7.72c-.78.78-.78 2.05 0 2.83L4 21.41c.39.39.9.59 1.41.59.51 0 1.02-.2 1.41-.59l7.78-7.78 2.81-2.81c.8-.78.8-2.07 0-2.86zM5.41 20L4 18.59l7.72-7.72 1.47 1.35L5.41 20z\"/>\n",
              "  </svg>\n",
              "      </button>\n",
              "      \n",
              "  <style>\n",
              "    .colab-df-container {\n",
              "      display:flex;\n",
              "      flex-wrap:wrap;\n",
              "      gap: 12px;\n",
              "    }\n",
              "\n",
              "    .colab-df-convert {\n",
              "      background-color: #E8F0FE;\n",
              "      border: none;\n",
              "      border-radius: 50%;\n",
              "      cursor: pointer;\n",
              "      display: none;\n",
              "      fill: #1967D2;\n",
              "      height: 32px;\n",
              "      padding: 0 0 0 0;\n",
              "      width: 32px;\n",
              "    }\n",
              "\n",
              "    .colab-df-convert:hover {\n",
              "      background-color: #E2EBFA;\n",
              "      box-shadow: 0px 1px 2px rgba(60, 64, 67, 0.3), 0px 1px 3px 1px rgba(60, 64, 67, 0.15);\n",
              "      fill: #174EA6;\n",
              "    }\n",
              "\n",
              "    [theme=dark] .colab-df-convert {\n",
              "      background-color: #3B4455;\n",
              "      fill: #D2E3FC;\n",
              "    }\n",
              "\n",
              "    [theme=dark] .colab-df-convert:hover {\n",
              "      background-color: #434B5C;\n",
              "      box-shadow: 0px 1px 3px 1px rgba(0, 0, 0, 0.15);\n",
              "      filter: drop-shadow(0px 1px 2px rgba(0, 0, 0, 0.3));\n",
              "      fill: #FFFFFF;\n",
              "    }\n",
              "  </style>\n",
              "\n",
              "      <script>\n",
              "        const buttonEl =\n",
              "          document.querySelector('#df-97d8fdfb-4696-4204-9e58-beb720fc6099 button.colab-df-convert');\n",
              "        buttonEl.style.display =\n",
              "          google.colab.kernel.accessAllowed ? 'block' : 'none';\n",
              "\n",
              "        async function convertToInteractive(key) {\n",
              "          const element = document.querySelector('#df-97d8fdfb-4696-4204-9e58-beb720fc6099');\n",
              "          const dataTable =\n",
              "            await google.colab.kernel.invokeFunction('convertToInteractive',\n",
              "                                                     [key], {});\n",
              "          if (!dataTable) return;\n",
              "\n",
              "          const docLinkHtml = 'Like what you see? Visit the ' +\n",
              "            '<a target=\"_blank\" href=https://colab.research.google.com/notebooks/data_table.ipynb>data table notebook</a>'\n",
              "            + ' to learn more about interactive tables.';\n",
              "          element.innerHTML = '';\n",
              "          dataTable['output_type'] = 'display_data';\n",
              "          await google.colab.output.renderOutput(dataTable, element);\n",
              "          const docLink = document.createElement('div');\n",
              "          docLink.innerHTML = docLinkHtml;\n",
              "          element.appendChild(docLink);\n",
              "        }\n",
              "      </script>\n",
              "    </div>\n",
              "  </div>\n",
              "  "
            ]
          },
          "metadata": {},
          "execution_count": 88
        }
      ],
      "source": [
        "train_df[:5]"
      ]
    },
    {
      "cell_type": "code",
      "execution_count": 89,
      "metadata": {
        "id": "jt_ELJwwvlO6",
        "colab": {
          "base_uri": "https://localhost:8080/"
        },
        "outputId": "76516a9d-6906-4451-e553-5089eb25e691"
      },
      "outputs": [
        {
          "output_type": "execute_result",
          "data": {
            "text/plain": [
              "0     15000\n",
              "1     15000\n",
              "2     15000\n",
              "3     15000\n",
              "4     14992\n",
              "5     14949\n",
              "6     14758\n",
              "7     14279\n",
              "8     13346\n",
              "9     11981\n",
              "10    10041\n",
              "11     7892\n",
              "12     5853\n",
              "13     4152\n",
              "14     2835\n",
              "15     1861\n",
              "16     1188\n",
              "17      751\n",
              "18      462\n",
              "19      286\n",
              "20      162\n",
              "21      101\n",
              "22       66\n",
              "23       33\n",
              "24       22\n",
              "25       14\n",
              "26        7\n",
              "27        4\n",
              "28        3\n",
              "29        1\n",
              "30        1\n",
              "Name: line_number, dtype: int64"
            ]
          },
          "metadata": {},
          "execution_count": 89
        }
      ],
      "source": [
        "train_df.line_number.value_counts()"
      ]
    },
    {
      "cell_type": "code",
      "execution_count": 90,
      "metadata": {
        "id": "VNPsVIC0vvoz",
        "colab": {
          "base_uri": "https://localhost:8080/",
          "height": 283
        },
        "outputId": "b04c4ae1-0e2a-40fd-fa1c-55975c9c0e8f"
      },
      "outputs": [
        {
          "output_type": "execute_result",
          "data": {
            "text/plain": [
              "<matplotlib.axes._subplots.AxesSubplot at 0x7f99ade559d0>"
            ]
          },
          "metadata": {},
          "execution_count": 90
        },
        {
          "output_type": "display_data",
          "data": {
            "text/plain": [
              "<Figure size 432x288 with 1 Axes>"
            ],
            "image/png": "[encoded data removed]"
          },
          "metadata": {
            "needs_background": "light"
          }
        }
      ],
      "source": [
        "# Check the distribution of our line number\n",
        "train_df.line_number.plot.hist()"
      ]
    },
    {
      "cell_type": "code",
      "execution_count": 91,
      "metadata": {
        "id": "XeUUoostwHOy",
        "colab": {
          "base_uri": "https://localhost:8080/"
        },
        "outputId": "f89ef1b4-6ad1-43f8-c3c6-c39cb902376c"
      },
      "outputs": [
        {
          "output_type": "execute_result",
          "data": {
            "text/plain": [
              "(<tf.Tensor: shape=(180040, 15), dtype=float32, numpy=\n",
              " array([[1., 0., 0., ..., 0., 0., 0.],\n",
              "        [0., 1., 0., ..., 0., 0., 0.],\n",
              "        [0., 0., 1., ..., 0., 0., 0.],\n",
              "        ...,\n",
              "        [0., 0., 0., ..., 0., 0., 0.],\n",
              "        [0., 0., 0., ..., 0., 0., 0.],\n",
              "        [0., 0., 0., ..., 0., 0., 0.]], dtype=float32)>,\n",
              " TensorShape([180040, 15]))"
            ]
          },
          "metadata": {},
          "execution_count": 91
        }
      ],
      "source": [
        "# From our distribution, we can tell that most of our value falls between 0 and 15, so we can set our depth of line number to 15\n",
        "train_line_number_one_hot = tf.one_hot(train_df[\"line_number\"].to_numpy(), depth = 15)\n",
        "val_line_number_one_hot = tf.one_hot(val_df[\"line_number\"].to_numpy(), depth = 15)\n",
        "test_line_number_one_hot = tf.one_hot(test_df[\"line_number\"].to_numpy(), depth = 15)\n",
        "\n",
        "train_line_number_one_hot, train_line_number_one_hot.shape"
      ]
    },
    {
      "cell_type": "code",
      "execution_count": 92,
      "metadata": {
        "id": "cFpJ57fbMCo2",
        "colab": {
          "base_uri": "https://localhost:8080/"
        },
        "outputId": "9375ce40-d019-4e83-df87-cc4a31f06da1"
      },
      "outputs": [
        {
          "output_type": "execute_result",
          "data": {
            "text/plain": [
              "<tf.Tensor: shape=(30212, 15), dtype=float32, numpy=\n",
              "array([[1., 0., 0., ..., 0., 0., 0.],\n",
              "       [0., 1., 0., ..., 0., 0., 0.],\n",
              "       [0., 0., 1., ..., 0., 0., 0.],\n",
              "       ...,\n",
              "       [0., 0., 0., ..., 0., 0., 0.],\n",
              "       [0., 0., 0., ..., 1., 0., 0.],\n",
              "       [0., 0., 0., ..., 0., 1., 0.]], dtype=float32)>"
            ]
          },
          "metadata": {},
          "execution_count": 92
        }
      ],
      "source": [
        "val_line_number_one_hot"
      ]
    },
    {
      "cell_type": "code",
      "execution_count": 93,
      "metadata": {
        "id": "QTe3oFocxdfT",
        "colab": {
          "base_uri": "https://localhost:8080/"
        },
        "outputId": "c8a9ecd2-16c7-481c-84f0-766a0e9f8094"
      },
      "outputs": [
        {
          "output_type": "execute_result",
          "data": {
            "text/plain": [
              "11    24468\n",
              "10    23639\n",
              "12    22113\n",
              "9     19400\n",
              "13    18438\n",
              "14    14610\n",
              "8     12285\n",
              "15    10768\n",
              "7      7464\n",
              "16     7429\n",
              "17     5202\n",
              "6      3353\n",
              "18     3344\n",
              "19     2480\n",
              "20     1281\n",
              "5      1146\n",
              "21      770\n",
              "22      759\n",
              "23      264\n",
              "4       215\n",
              "24      200\n",
              "25      182\n",
              "26       81\n",
              "28       58\n",
              "3        32\n",
              "30       31\n",
              "27       28\n",
              "Name: total_lines, dtype: int64"
            ]
          },
          "metadata": {},
          "execution_count": 93
        }
      ],
      "source": [
        "# Let's create one hot tensor embeddings for total lines \n",
        "train_df[\"total_lines\"].value_counts()"
      ]
    },
    {
      "cell_type": "code",
      "execution_count": 94,
      "metadata": {
        "id": "plwcQUgWyXBY",
        "colab": {
          "base_uri": "https://localhost:8080/",
          "height": 285
        },
        "outputId": "e0cdb57d-7d5d-4ac5-bb59-c837a011b393"
      },
      "outputs": [
        {
          "output_type": "execute_result",
          "data": {
            "text/plain": [
              "<matplotlib.axes._subplots.AxesSubplot at 0x7f99ade556a0>"
            ]
          },
          "metadata": {},
          "execution_count": 94
        },
        {
          "output_type": "display_data",
          "data": {
            "text/plain": [
              "<Figure size 432x288 with 1 Axes>"
            ],
            "image/png": "[encoded data removed]"
          },
          "metadata": {
            "needs_background": "light"
          }
        }
      ],
      "source": [
        "# Let's check the distribution of total lines\n",
        "train_df.total_lines.plot.hist()"
      ]
    },
    {
      "cell_type": "code",
      "execution_count": 95,
      "metadata": {
        "id": "Xw-0NsZkytDH",
        "colab": {
          "base_uri": "https://localhost:8080/"
        },
        "outputId": "cf01bab7-4ca3-4ea9-ee94-9f09b346d980"
      },
      "outputs": [
        {
          "output_type": "execute_result",
          "data": {
            "text/plain": [
              "20.0"
            ]
          },
          "metadata": {},
          "execution_count": 95
        }
      ],
      "source": [
        "# From the distribution we can deduce that most of our value falls between 0 and 20, let's use percentile method to confirm our claim.\n",
        "np.percentile(train_df[\"total_lines\"], 98)"
      ]
    },
    {
      "cell_type": "code",
      "execution_count": 96,
      "metadata": {
        "id": "8Wj_GbpEzYvc",
        "colab": {
          "base_uri": "https://localhost:8080/"
        },
        "outputId": "865af223-2b97-4155-e0af-1b0799904a20"
      },
      "outputs": [
        {
          "output_type": "execute_result",
          "data": {
            "text/plain": [
              "<tf.Tensor: shape=(180040, 20), dtype=float32, numpy=\n",
              "array([[0., 0., 0., ..., 0., 0., 0.],\n",
              "       [0., 0., 0., ..., 0., 0., 0.],\n",
              "       [0., 0., 0., ..., 0., 0., 0.],\n",
              "       ...,\n",
              "       [0., 0., 0., ..., 0., 0., 0.],\n",
              "       [0., 0., 0., ..., 0., 0., 0.],\n",
              "       [0., 0., 0., ..., 0., 0., 0.]], dtype=float32)>"
            ]
          },
          "metadata": {},
          "execution_count": 96
        }
      ],
      "source": [
        "# So we can use 20 as our depth when creating one hot tensor for total lines\n",
        "train_total_lines_one_hot = tf.one_hot(train_df[\"total_lines\"].to_numpy(), depth = 20)\n",
        "val_total_lines_one_hot = tf.one_hot(val_df[\"total_lines\"].to_numpy(), depth = 20)\n",
        "test_total_lines_one_hot = tf.one_hot(test_df[\"total_lines\"].to_numpy(), depth = 20)\n",
        "\n",
        "train_total_lines_one_hot"
      ]
    },
    {
      "cell_type": "code",
      "execution_count": 97,
      "metadata": {
        "id": "OqXyHejWMRmz",
        "colab": {
          "base_uri": "https://localhost:8080/"
        },
        "outputId": "53ffedc3-cc28-4089-93b5-7a8c3ac7330f"
      },
      "outputs": [
        {
          "output_type": "execute_result",
          "data": {
            "text/plain": [
              "<tf.Tensor: shape=(30212, 20), dtype=float32, numpy=\n",
              "array([[0., 0., 0., ..., 0., 0., 0.],\n",
              "       [0., 0., 0., ..., 0., 0., 0.],\n",
              "       [0., 0., 0., ..., 0., 0., 0.],\n",
              "       ...,\n",
              "       [0., 0., 0., ..., 0., 0., 0.],\n",
              "       [0., 0., 0., ..., 0., 0., 0.],\n",
              "       [0., 0., 0., ..., 0., 0., 0.]], dtype=float32)>"
            ]
          },
          "metadata": {},
          "execution_count": 97
        }
      ],
      "source": [
        "val_total_lines_one_hot"
      ]
    },
    {
      "cell_type": "markdown",
      "metadata": {
        "id": "pzZW3gkp0ttP"
      },
      "source": [
        "### Build a tribrid embeddings model"
      ]
    },
    {
      "cell_type": "code",
      "execution_count": 98,
      "metadata": {
        "id": "tHAItl_HWybn"
      },
      "outputs": [],
      "source": [
        "# 1. Token inputs\n",
        "token_inputs = layers.Input(shape=[], dtype=\"string\", name=\"token_inputs\")\n",
        "token_embeddings = tf_hub_embedding_layer(token_inputs)\n",
        "token_outputs = layers.Dense(128, activation=\"relu\")(token_embeddings)\n",
        "token_model = tf.keras.Model(inputs=token_inputs,\n",
        "                             outputs=token_outputs)\n",
        "\n",
        "# 2. Char inputs\n",
        "char_inputs = layers.Input(shape=(1,), dtype=\"string\", name=\"char_inputs\")\n",
        "char_vectors = chars_vectorizer(char_inputs)\n",
        "char_embeddings = chars_embed(char_vectors)\n",
        "char_bi_lstm = layers.Bidirectional(layers.LSTM(32))(char_embeddings)\n",
        "char_model = tf.keras.Model(inputs=char_inputs,\n",
        "                            outputs=char_bi_lstm)\n",
        "\n",
        "# 3. Line numbers inputs\n",
        "line_number_inputs = layers.Input(shape=(15,), dtype=tf.int32, name=\"line_number_input\")\n",
        "x = layers.Dense(32, activation=\"relu\")(line_number_inputs)\n",
        "line_number_model = tf.keras.Model(inputs=line_number_inputs,\n",
        "                                   outputs=x)\n",
        "\n",
        "# 4. Total lines inputs\n",
        "total_lines_inputs = layers.Input(shape=(20,), dtype=tf.int32, name=\"total_lines_input\")\n",
        "y = layers.Dense(32, activation=\"relu\")(total_lines_inputs)\n",
        "total_line_model = tf.keras.Model(inputs=total_lines_inputs,\n",
        "                                  outputs=y)\n",
        "\n",
        "# 5. Combine token and char embeddings into a hybrid embedding\n",
        "combined_embeddings = layers.Concatenate(name=\"token_char_hybrid_embedding\")([token_model.output, \n",
        "                                                                              char_model.output])\n",
        "z = layers.Dense(256, activation=\"relu\")(combined_embeddings)\n",
        "z = layers.Dropout(0.5)(z)\n",
        "\n",
        "# 6. Combine positional embeddings with combined token and char embeddings into a tribrid embedding\n",
        "z = layers.Concatenate(name=\"token_char_positional_embedding\")([line_number_model.output,\n",
        "                                                                total_line_model.output,\n",
        "                                                                z])\n",
        "\n",
        "# 7. Create output layer\n",
        "output_layer = layers.Dense(5, activation=\"softmax\", name=\"output_layer\")(z)\n",
        "\n",
        "# 8. Put together model\n",
        "model_5 = tf.keras.Model(inputs=[line_number_model.input,\n",
        "                                 total_line_model.input,\n",
        "                                 token_model.input, \n",
        "                                 char_model.input],\n",
        "                         outputs=output_layer)\n",
        "     "
      ]
    },
    {
      "cell_type": "code",
      "execution_count": 99,
      "metadata": {
        "id": "H-uAiD8E-X2h",
        "colab": {
          "base_uri": "https://localhost:8080/"
        },
        "outputId": "7ff50e06-eab1-41f0-e214-8668658bb8f1"
      },
      "outputs": [
        {
          "output_type": "stream",
          "name": "stdout",
          "text": [
            "Model: \"model_4\"\n",
            "__________________________________________________________________________________________________\n",
            " Layer (type)                   Output Shape         Param #     Connected to                     \n",
            "==================================================================================================\n",
            " char_inputs (InputLayer)       [(None, 1)]          0           []                               \n",
            "                                                                                                  \n",
            " token_inputs (InputLayer)      [(None,)]            0           []                               \n",
            "                                                                                                  \n",
            " char_vectorizer (TextVectoriza  (None, 290)         0           ['char_inputs[0][0]']            \n",
            " tion)                                                                                            \n",
            "                                                                                                  \n",
            " universal_sentence_encoder (Ke  (None, 512)         256797824   ['token_inputs[0][0]']           \n",
            " rasLayer)                                                                                        \n",
            "                                                                                                  \n",
            " chars_embed (Embedding)        (None, 290, 25)      1750        ['char_vectorizer[2][0]']        \n",
            "                                                                                                  \n",
            " dense_2 (Dense)                (None, 128)          65664       ['universal_sentence_encoder[2][0\n",
            "                                                                 ]']                              \n",
            "                                                                                                  \n",
            " bidirectional_1 (Bidirectional  (None, 64)          14848       ['chars_embed[2][0]']            \n",
            " )                                                                                                \n",
            "                                                                                                  \n",
            " token_char_hybrid_embedding (C  (None, 192)         0           ['dense_2[0][0]',                \n",
            " oncatenate)                                                      'bidirectional_1[0][0]']        \n",
            "                                                                                                  \n",
            " line_number_input (InputLayer)  [(None, 15)]        0           []                               \n",
            "                                                                                                  \n",
            " total_lines_input (InputLayer)  [(None, 20)]        0           []                               \n",
            "                                                                                                  \n",
            " dense_5 (Dense)                (None, 256)          49408       ['token_char_hybrid_embedding[0][\n",
            "                                                                 0]']                             \n",
            "                                                                                                  \n",
            " dense_3 (Dense)                (None, 32)           512         ['line_number_input[0][0]']      \n",
            "                                                                                                  \n",
            " dense_4 (Dense)                (None, 32)           672         ['total_lines_input[0][0]']      \n",
            "                                                                                                  \n",
            " dropout_2 (Dropout)            (None, 256)          0           ['dense_5[0][0]']                \n",
            "                                                                                                  \n",
            " token_char_positional_embeddin  (None, 320)         0           ['dense_3[0][0]',                \n",
            " g (Concatenate)                                                  'dense_4[0][0]',                \n",
            "                                                                  'dropout_2[0][0]']              \n",
            "                                                                                                  \n",
            " output_layer (Dense)           (None, 5)            1605        ['token_char_positional_embedding\n",
            "                                                                 [0][0]']                         \n",
            "                                                                                                  \n",
            "==================================================================================================\n",
            "Total params: 256,932,283\n",
            "Trainable params: 134,459\n",
            "Non-trainable params: 256,797,824\n",
            "__________________________________________________________________________________________________\n"
          ]
        }
      ],
      "source": [
        "model_5.summary()"
      ]
    },
    {
      "cell_type": "code",
      "execution_count": 100,
      "metadata": {
        "id": "hkl_qePSBmPx",
        "colab": {
          "base_uri": "https://localhost:8080/",
          "height": 856
        },
        "outputId": "0680078f-1156-4f16-d06b-96bad3b62775"
      },
      "outputs": [
        {
          "output_type": "execute_result",
          "data": {
            "image/png": "[encoded data removed]",
            "text/plain": [
              "<IPython.core.display.Image object>"
            ]
          },
          "metadata": {},
          "execution_count": 100
        }
      ],
      "source": [
        "# Plot our model \n",
        "from tensorflow.keras.utils import plot_model\n",
        "plot_model(model_5)"
      ]
    },
    {
      "cell_type": "code",
      "execution_count": 101,
      "metadata": {
        "id": "45SZc84VGv_X",
        "colab": {
          "base_uri": "https://localhost:8080/"
        },
        "outputId": "aa9681dd-8997-4b3b-b688-635ab6698248"
      },
      "outputs": [
        {
          "output_type": "stream",
          "name": "stdout",
          "text": [
            "<keras.engine.input_layer.InputLayer object at 0x7f99ad5be730> True\n",
            "<keras.engine.input_layer.InputLayer object at 0x7f99ad5be3d0> True\n",
            "<keras.layers.preprocessing.text_vectorization.TextVectorization object at 0x7f99865b7580> True\n",
            "<tensorflow_hub.keras_layer.KerasLayer object at 0x7f999a31b610> False\n",
            "<keras.layers.core.embedding.Embedding object at 0x7f98a42d02e0> True\n",
            "<keras.layers.core.dense.Dense object at 0x7f99ad5be5e0> True\n",
            "<keras.layers.rnn.bidirectional.Bidirectional object at 0x7f99ad534610> True\n",
            "<keras.layers.merging.concatenate.Concatenate object at 0x7f99ad4c8c10> True\n",
            "<keras.engine.input_layer.InputLayer object at 0x7f99ad51c2b0> True\n",
            "<keras.engine.input_layer.InputLayer object at 0x7f99ad56a250> True\n",
            "<keras.layers.core.dense.Dense object at 0x7f99ad4e4ca0> True\n",
            "<keras.layers.core.dense.Dense object at 0x7f99ad515be0> True\n",
            "<keras.layers.core.dense.Dense object at 0x7f99ad53ce80> True\n",
            "<keras.layers.regularization.dropout.Dropout object at 0x7f99ad5158e0> True\n",
            "<keras.layers.merging.concatenate.Concatenate object at 0x7f99ad507190> True\n",
            "<keras.layers.core.dense.Dense object at 0x7f99ad431e80> True\n"
          ]
        }
      ],
      "source": [
        "# Check layers of our model that is trainable or not\n",
        "for layer in model_5.layers:\n",
        "  print(layer, layer.trainable)"
      ]
    },
    {
      "cell_type": "markdown",
      "metadata": {
        "id": "db8kBS45HzEW"
      },
      "source": [
        "# Create tribrid embeddings datasets and fit tribrid model"
      ]
    },
    {
      "cell_type": "code",
      "execution_count": 103,
      "metadata": {
        "id": "n2Juxp1MYjH7",
        "colab": {
          "base_uri": "https://localhost:8080/"
        },
        "outputId": "a3d713ea-7204-42ef-e999-52f54b896a03"
      },
      "outputs": [
        {
          "output_type": "execute_result",
          "data": {
            "text/plain": [
              "(<PrefetchDataset element_spec=((TensorSpec(shape=(None, 15), dtype=tf.float32, name=None), TensorSpec(shape=(None, 20), dtype=tf.float32, name=None), TensorSpec(shape=(None,), dtype=tf.string, name=None), TensorSpec(shape=(None,), dtype=tf.string, name=None)), TensorSpec(shape=(None, 5), dtype=tf.float64, name=None))>,\n",
              " <PrefetchDataset element_spec=((TensorSpec(shape=(None, 15), dtype=tf.float32, name=None), TensorSpec(shape=(None, 20), dtype=tf.float32, name=None), TensorSpec(shape=(None,), dtype=tf.string, name=None), TensorSpec(shape=(None,), dtype=tf.string, name=None)), TensorSpec(shape=(None, 5), dtype=tf.float64, name=None))>)"
            ]
          },
          "metadata": {},
          "execution_count": 103
        }
      ],
      "source": [
        "# Create training and validation datasets (all four kinds of inputs)\n",
        "train_pos_char_token_data = tf.data.Dataset.from_tensor_slices((train_line_number_one_hot, # line numbers\n",
        "                                                                train_total_lines_one_hot, # total lines\n",
        "                                                                train_sentences, # train tokens\n",
        "                                                                train_chars)) # train chars\n",
        "train_pos_char_token_labels = tf.data.Dataset.from_tensor_slices(train_labels_one_hot) # train labels\n",
        "train_pos_char_token_dataset = tf.data.Dataset.zip((train_pos_char_token_data, train_pos_char_token_labels)) # combine data and labels\n",
        "train_pos_char_token_dataset = train_pos_char_token_dataset.batch(32).prefetch(tf.data.AUTOTUNE) # turn into batches and prefetch appropriately\n",
        "\n",
        "# Validation dataset\n",
        "val_pos_char_token_data = tf.data.Dataset.from_tensor_slices((val_line_number_one_hot,\n",
        "                                                              val_total_lines_one_hot,\n",
        "                                                              val_sentences,\n",
        "                                                              val_chars))\n",
        "val_pos_char_token_labels = tf.data.Dataset.from_tensor_slices(val_labels_one_hot)\n",
        "val_pos_char_token_dataset = tf.data.Dataset.zip((val_pos_char_token_data, val_pos_char_token_labels))\n",
        "val_pos_char_token_dataset = val_pos_char_token_dataset.batch(32).prefetch(tf.data.AUTOTUNE) # turn into batches and prefetch appropriately\n",
        "\n",
        "# Check input shapes\n",
        "train_pos_char_token_dataset, val_pos_char_token_dataset"
      ]
    },
    {
      "cell_type": "code",
      "execution_count": 104,
      "metadata": {
        "id": "JxU_MUOGQ39m"
      },
      "outputs": [],
      "source": [
        "# Compile the model\n",
        "model_5.compile(loss= tf.keras.losses.CategoricalCrossentropy(label_smoothing = 0.2),\n",
        "                optimizer = tf.keras.optimizers.Adam(),\n",
        "                metrics = [\"accuracy\"])"
      ]
    },
    {
      "cell_type": "code",
      "execution_count": 105,
      "metadata": {
        "id": "ZYVb9YlycOAh",
        "colab": {
          "base_uri": "https://localhost:8080/"
        },
        "outputId": "79755d19-335b-4870-cd06-153191d24665"
      },
      "outputs": [
        {
          "output_type": "stream",
          "name": "stdout",
          "text": [
            "Epoch 1/3\n",
            "562/562 [==============================] - 26s 39ms/step - loss: 1.1001 - accuracy: 0.7188 - val_loss: 0.9801 - val_accuracy: 0.8062\n",
            "Epoch 2/3\n",
            "562/562 [==============================] - 20s 36ms/step - loss: 0.9687 - accuracy: 0.8137 - val_loss: 0.9484 - val_accuracy: 0.8281\n",
            "Epoch 3/3\n",
            "562/562 [==============================] - 20s 35ms/step - loss: 0.9500 - accuracy: 0.8243 - val_loss: 0.9391 - val_accuracy: 0.8321\n"
          ]
        }
      ],
      "source": [
        "history_model_5 = model_5.fit(train_pos_char_token_dataset,\n",
        "                              steps_per_epoch = int(0.1 * len(train_pos_char_token_dataset)),\n",
        "                              epochs = 3,\n",
        "                              validation_data = val_pos_char_token_dataset,\n",
        "                              validation_steps = int(0.1 * len(val_pos_char_token_dataset)))"
      ]
    },
    {
      "cell_type": "code",
      "execution_count": 106,
      "metadata": {
        "id": "wTj4EQYxeB4y",
        "colab": {
          "base_uri": "https://localhost:8080/"
        },
        "outputId": "52fcb25e-eede-460e-adba-3f3be3b0c407"
      },
      "outputs": [
        {
          "output_type": "stream",
          "name": "stdout",
          "text": [
            "945/945 [==============================] - 27s 29ms/step - loss: 0.9376 - accuracy: 0.8331\n"
          ]
        },
        {
          "output_type": "execute_result",
          "data": {
            "text/plain": [
              "[0.9375562071800232, 0.8331126570701599]"
            ]
          },
          "metadata": {},
          "execution_count": 106
        }
      ],
      "source": [
        "# Evaluate model\n",
        "model_5.evaluate(val_pos_char_token_dataset)"
      ]
    },
    {
      "cell_type": "code",
      "source": [
        "# Make predictions\n",
        "model_5_pred_probs = model_5.predict(val_pos_char_token_dataset)\n",
        "model_5_pred_probs"
      ],
      "metadata": {
        "colab": {
          "base_uri": "https://localhost:8080/"
        },
        "id": "cvZxQicQhSjX",
        "outputId": "42c02cbd-3df5-487e-89d1-14d247c739d0"
      },
      "execution_count": 107,
      "outputs": [
        {
          "output_type": "stream",
          "name": "stdout",
          "text": [
            "945/945 [==============================] - 21s 21ms/step\n"
          ]
        },
        {
          "output_type": "execute_result",
          "data": {
            "text/plain": [
              "array([[0.45846298, 0.13485901, 0.01151026, 0.37666467, 0.01850314],\n",
              "       [0.53234243, 0.10520124, 0.04997445, 0.3029264 , 0.00955552],\n",
              "       [0.26859352, 0.10881855, 0.12712672, 0.41571507, 0.07974613],\n",
              "       ...,\n",
              "       [0.04184232, 0.10177517, 0.03985272, 0.03435542, 0.7821744 ],\n",
              "       [0.03012766, 0.26548076, 0.08253033, 0.02703466, 0.59482664],\n",
              "       [0.21305604, 0.5782049 , 0.11149088, 0.03597493, 0.0612733 ]],\n",
              "      dtype=float32)"
            ]
          },
          "metadata": {},
          "execution_count": 107
        }
      ]
    },
    {
      "cell_type": "code",
      "source": [
        "model_5_preds = tf.argmax(model_5_pred_probs, axis = 1)\n",
        "model_5_preds"
      ],
      "metadata": {
        "colab": {
          "base_uri": "https://localhost:8080/"
        },
        "id": "eIh5WnP4hltY",
        "outputId": "0a9e158f-e4b9-42f6-e246-e88efb77668c"
      },
      "execution_count": 108,
      "outputs": [
        {
          "output_type": "execute_result",
          "data": {
            "text/plain": [
              "<tf.Tensor: shape=(30212,), dtype=int64, numpy=array([0, 0, 3, ..., 4, 4, 1])>"
            ]
          },
          "metadata": {},
          "execution_count": 108
        }
      ]
    },
    {
      "cell_type": "code",
      "source": [
        "model_5_results = calculate_results(val_labels_encoded, model_5_preds)\n",
        "model_5_results"
      ],
      "metadata": {
        "colab": {
          "base_uri": "https://localhost:8080/"
        },
        "id": "OQ5-NX08h3ce",
        "outputId": "d474c54a-49ad-48fa-df86-04046ea50338"
      },
      "execution_count": 109,
      "outputs": [
        {
          "output_type": "execute_result",
          "data": {
            "text/plain": [
              "{'accuracy': 83.31126704620681,\n",
              " 'precision': 0.832285599244386,\n",
              " 'recall': 0.833112670462068,\n",
              " 'f1': 0.8321348501056913}"
            ]
          },
          "metadata": {},
          "execution_count": 109
        }
      ]
    },
    {
      "cell_type": "markdown",
      "source": [
        "# Compare Results"
      ],
      "metadata": {
        "id": "QH6FbsadiN2J"
      }
    },
    {
      "cell_type": "code",
      "source": [
        "import pandas as pd\n",
        "all_model_results = pd.DataFrame({\n",
        "    \"baseline_model\": baseline_results,\n",
        "    \"Conv1D_model\": model_1_results,\n",
        "    \"Feature_extraction_model\": model_2_results,\n",
        "    \"Conv1D_embeddded_model\": model_3_results,\n",
        "    \"hybrid_embedding_model\": model_4_results,\n",
        "    \"tribid_embeddings_model\": model_5_results\n",
        "})\n",
        "all_model_results = all_model_results.transpose()\n",
        "all_model_results"
      ],
      "metadata": {
        "colab": {
          "base_uri": "https://localhost:8080/",
          "height": 237
        },
        "id": "W066rThxiLRE",
        "outputId": "6dac6137-54d6-47b6-8b94-accdd36f2d02"
      },
      "execution_count": 118,
      "outputs": [
        {
          "output_type": "execute_result",
          "data": {
            "text/plain": [
              "                           accuracy  precision    recall        f1\n",
              "baseline_model            72.183238   0.718647  0.721832  0.698925\n",
              "Conv1D_model              79.501523   0.801221  0.795015  0.793698\n",
              "Feature_extraction_model  71.206805   0.712924  0.712068  0.709316\n",
              "Conv1D_embeddded_model    65.943996   0.659402  0.659440  0.651116\n",
              "hybrid_embedding_model    73.318549   0.733074  0.733185  0.730218\n",
              "tribid_embeddings_model   83.311267   0.832286  0.833113  0.832135"
            ],
            "text/html": [
              "\n",
              "  <div id=\"df-eeacf335-dfab-4d6e-a34e-7cdaa806ff45\">\n",
              "    <div class=\"colab-df-container\">\n",
              "      <div>\n",
              "<style scoped>\n",
              "    .dataframe tbody tr th:only-of-type {\n",
              "        vertical-align: middle;\n",
              "    }\n",
              "\n",
              "    .dataframe tbody tr th {\n",
              "        vertical-align: top;\n",
              "    }\n",
              "\n",
              "    .dataframe thead th {\n",
              "        text-align: right;\n",
              "    }\n",
              "</style>\n",
              "<table border=\"1\" class=\"dataframe\">\n",
              "  <thead>\n",
              "    <tr style=\"text-align: right;\">\n",
              "      <th></th>\n",
              "      <th>accuracy</th>\n",
              "      <th>precision</th>\n",
              "      <th>recall</th>\n",
              "      <th>f1</th>\n",
              "    </tr>\n",
              "  </thead>\n",
              "  <tbody>\n",
              "    <tr>\n",
              "      <th>baseline_model</th>\n",
              "      <td>72.183238</td>\n",
              "      <td>0.718647</td>\n",
              "      <td>0.721832</td>\n",
              "      <td>0.698925</td>\n",
              "    </tr>\n",
              "    <tr>\n",
              "      <th>Conv1D_model</th>\n",
              "      <td>79.501523</td>\n",
              "      <td>0.801221</td>\n",
              "      <td>0.795015</td>\n",
              "      <td>0.793698</td>\n",
              "    </tr>\n",
              "    <tr>\n",
              "      <th>Feature_extraction_model</th>\n",
              "      <td>71.206805</td>\n",
              "      <td>0.712924</td>\n",
              "      <td>0.712068</td>\n",
              "      <td>0.709316</td>\n",
              "    </tr>\n",
              "    <tr>\n",
              "      <th>Conv1D_embeddded_model</th>\n",
              "      <td>65.943996</td>\n",
              "      <td>0.659402</td>\n",
              "      <td>0.659440</td>\n",
              "      <td>0.651116</td>\n",
              "    </tr>\n",
              "    <tr>\n",
              "      <th>hybrid_embedding_model</th>\n",
              "      <td>73.318549</td>\n",
              "      <td>0.733074</td>\n",
              "      <td>0.733185</td>\n",
              "      <td>0.730218</td>\n",
              "    </tr>\n",
              "    <tr>\n",
              "      <th>tribid_embeddings_model</th>\n",
              "      <td>83.311267</td>\n",
              "      <td>0.832286</td>\n",
              "      <td>0.833113</td>\n",
              "      <td>0.832135</td>\n",
              "    </tr>\n",
              "  </tbody>\n",
              "</table>\n",
              "</div>\n",
              "      <button class=\"colab-df-convert\" onclick=\"convertToInteractive('df-eeacf335-dfab-4d6e-a34e-7cdaa806ff45')\"\n",
              "              title=\"Convert this dataframe to an interactive table.\"\n",
              "              style=\"display:none;\">\n",
              "        \n",
              "  <svg xmlns=\"http://www.w3.org/2000/svg\" height=\"24px\"viewBox=\"0 0 24 24\"\n",
              "       width=\"24px\">\n",
              "    <path d=\"M0 0h24v24H0V0z\" fill=\"none\"/>\n",
              "    <path d=\"M18.56 5.44l.94 2.06.94-2.06 2.06-.94-2.06-.94-.94-2.06-.94 2.06-2.06.94zm-11 1L8.5 8.5l.94-2.06 2.06-.94-2.06-.94L8.5 2.5l-.94 2.06-2.06.94zm10 10l.94 2.06.94-2.06 2.06-.94-2.06-.94-.94-2.06-.94 2.06-2.06.94z\"/><path d=\"M17.41 7.96l-1.37-1.37c-.4-.4-.92-.59-1.43-.59-.52 0-1.04.2-1.43.59L10.3 9.45l-7.72 7.72c-.78.78-.78 2.05 0 2.83L4 21.41c.39.39.9.59 1.41.59.51 0 1.02-.2 1.41-.59l7.78-7.78 2.81-2.81c.8-.78.8-2.07 0-2.86zM5.41 20L4 18.59l7.72-7.72 1.47 1.35L5.41 20z\"/>\n",
              "  </svg>\n",
              "      </button>\n",
              "      \n",
              "  <style>\n",
              "    .colab-df-container {\n",
              "      display:flex;\n",
              "      flex-wrap:wrap;\n",
              "      gap: 12px;\n",
              "    }\n",
              "\n",
              "    .colab-df-convert {\n",
              "      background-color: #E8F0FE;\n",
              "      border: none;\n",
              "      border-radius: 50%;\n",
              "      cursor: pointer;\n",
              "      display: none;\n",
              "      fill: #1967D2;\n",
              "      height: 32px;\n",
              "      padding: 0 0 0 0;\n",
              "      width: 32px;\n",
              "    }\n",
              "\n",
              "    .colab-df-convert:hover {\n",
              "      background-color: #E2EBFA;\n",
              "      box-shadow: 0px 1px 2px rgba(60, 64, 67, 0.3), 0px 1px 3px 1px rgba(60, 64, 67, 0.15);\n",
              "      fill: #174EA6;\n",
              "    }\n",
              "\n",
              "    [theme=dark] .colab-df-convert {\n",
              "      background-color: #3B4455;\n",
              "      fill: #D2E3FC;\n",
              "    }\n",
              "\n",
              "    [theme=dark] .colab-df-convert:hover {\n",
              "      background-color: #434B5C;\n",
              "      box-shadow: 0px 1px 3px 1px rgba(0, 0, 0, 0.15);\n",
              "      filter: drop-shadow(0px 1px 2px rgba(0, 0, 0, 0.3));\n",
              "      fill: #FFFFFF;\n",
              "    }\n",
              "  </style>\n",
              "\n",
              "      <script>\n",
              "        const buttonEl =\n",
              "          document.querySelector('#df-eeacf335-dfab-4d6e-a34e-7cdaa806ff45 button.colab-df-convert');\n",
              "        buttonEl.style.display =\n",
              "          google.colab.kernel.accessAllowed ? 'block' : 'none';\n",
              "\n",
              "        async function convertToInteractive(key) {\n",
              "          const element = document.querySelector('#df-eeacf335-dfab-4d6e-a34e-7cdaa806ff45');\n",
              "          const dataTable =\n",
              "            await google.colab.kernel.invokeFunction('convertToInteractive',\n",
              "                                                     [key], {});\n",
              "          if (!dataTable) return;\n",
              "\n",
              "          const docLinkHtml = 'Like what you see? Visit the ' +\n",
              "            '<a target=\"_blank\" href=https://colab.research.google.com/notebooks/data_table.ipynb>data table notebook</a>'\n",
              "            + ' to learn more about interactive tables.';\n",
              "          element.innerHTML = '';\n",
              "          dataTable['output_type'] = 'display_data';\n",
              "          await google.colab.output.renderOutput(dataTable, element);\n",
              "          const docLink = document.createElement('div');\n",
              "          docLink.innerHTML = docLinkHtml;\n",
              "          element.appendChild(docLink);\n",
              "        }\n",
              "      </script>\n",
              "    </div>\n",
              "  </div>\n",
              "  "
            ]
          },
          "metadata": {},
          "execution_count": 118
        }
      ]
    },
    {
      "cell_type": "code",
      "source": [
        "all_model_results[\"accuracy\"] = all_model_results[\"accuracy\"]/100\n",
        "all_model_results"
      ],
      "metadata": {
        "colab": {
          "base_uri": "https://localhost:8080/",
          "height": 237
        },
        "id": "AiAgeWkLj_h0",
        "outputId": "05c1ee42-faac-46be-d83b-453aa7551710"
      },
      "execution_count": 119,
      "outputs": [
        {
          "output_type": "execute_result",
          "data": {
            "text/plain": [
              "                          accuracy  precision    recall        f1\n",
              "baseline_model            0.721832   0.718647  0.721832  0.698925\n",
              "Conv1D_model              0.795015   0.801221  0.795015  0.793698\n",
              "Feature_extraction_model  0.712068   0.712924  0.712068  0.709316\n",
              "Conv1D_embeddded_model    0.659440   0.659402  0.659440  0.651116\n",
              "hybrid_embedding_model    0.733185   0.733074  0.733185  0.730218\n",
              "tribid_embeddings_model   0.833113   0.832286  0.833113  0.832135"
            ],
            "text/html": [
              "\n",
              "  <div id=\"df-41c63c2d-59f2-494d-a850-42c4ea105894\">\n",
              "    <div class=\"colab-df-container\">\n",
              "      <div>\n",
              "<style scoped>\n",
              "    .dataframe tbody tr th:only-of-type {\n",
              "        vertical-align: middle;\n",
              "    }\n",
              "\n",
              "    .dataframe tbody tr th {\n",
              "        vertical-align: top;\n",
              "    }\n",
              "\n",
              "    .dataframe thead th {\n",
              "        text-align: right;\n",
              "    }\n",
              "</style>\n",
              "<table border=\"1\" class=\"dataframe\">\n",
              "  <thead>\n",
              "    <tr style=\"text-align: right;\">\n",
              "      <th></th>\n",
              "      <th>accuracy</th>\n",
              "      <th>precision</th>\n",
              "      <th>recall</th>\n",
              "      <th>f1</th>\n",
              "    </tr>\n",
              "  </thead>\n",
              "  <tbody>\n",
              "    <tr>\n",
              "      <th>baseline_model</th>\n",
              "      <td>0.721832</td>\n",
              "      <td>0.718647</td>\n",
              "      <td>0.721832</td>\n",
              "      <td>0.698925</td>\n",
              "    </tr>\n",
              "    <tr>\n",
              "      <th>Conv1D_model</th>\n",
              "      <td>0.795015</td>\n",
              "      <td>0.801221</td>\n",
              "      <td>0.795015</td>\n",
              "      <td>0.793698</td>\n",
              "    </tr>\n",
              "    <tr>\n",
              "      <th>Feature_extraction_model</th>\n",
              "      <td>0.712068</td>\n",
              "      <td>0.712924</td>\n",
              "      <td>0.712068</td>\n",
              "      <td>0.709316</td>\n",
              "    </tr>\n",
              "    <tr>\n",
              "      <th>Conv1D_embeddded_model</th>\n",
              "      <td>0.659440</td>\n",
              "      <td>0.659402</td>\n",
              "      <td>0.659440</td>\n",
              "      <td>0.651116</td>\n",
              "    </tr>\n",
              "    <tr>\n",
              "      <th>hybrid_embedding_model</th>\n",
              "      <td>0.733185</td>\n",
              "      <td>0.733074</td>\n",
              "      <td>0.733185</td>\n",
              "      <td>0.730218</td>\n",
              "    </tr>\n",
              "    <tr>\n",
              "      <th>tribid_embeddings_model</th>\n",
              "      <td>0.833113</td>\n",
              "      <td>0.832286</td>\n",
              "      <td>0.833113</td>\n",
              "      <td>0.832135</td>\n",
              "    </tr>\n",
              "  </tbody>\n",
              "</table>\n",
              "</div>\n",
              "      <button class=\"colab-df-convert\" onclick=\"convertToInteractive('df-41c63c2d-59f2-494d-a850-42c4ea105894')\"\n",
              "              title=\"Convert this dataframe to an interactive table.\"\n",
              "              style=\"display:none;\">\n",
              "        \n",
              "  <svg xmlns=\"http://www.w3.org/2000/svg\" height=\"24px\"viewBox=\"0 0 24 24\"\n",
              "       width=\"24px\">\n",
              "    <path d=\"M0 0h24v24H0V0z\" fill=\"none\"/>\n",
              "    <path d=\"M18.56 5.44l.94 2.06.94-2.06 2.06-.94-2.06-.94-.94-2.06-.94 2.06-2.06.94zm-11 1L8.5 8.5l.94-2.06 2.06-.94-2.06-.94L8.5 2.5l-.94 2.06-2.06.94zm10 10l.94 2.06.94-2.06 2.06-.94-2.06-.94-.94-2.06-.94 2.06-2.06.94z\"/><path d=\"M17.41 7.96l-1.37-1.37c-.4-.4-.92-.59-1.43-.59-.52 0-1.04.2-1.43.59L10.3 9.45l-7.72 7.72c-.78.78-.78 2.05 0 2.83L4 21.41c.39.39.9.59 1.41.59.51 0 1.02-.2 1.41-.59l7.78-7.78 2.81-2.81c.8-.78.8-2.07 0-2.86zM5.41 20L4 18.59l7.72-7.72 1.47 1.35L5.41 20z\"/>\n",
              "  </svg>\n",
              "      </button>\n",
              "      \n",
              "  <style>\n",
              "    .colab-df-container {\n",
              "      display:flex;\n",
              "      flex-wrap:wrap;\n",
              "      gap: 12px;\n",
              "    }\n",
              "\n",
              "    .colab-df-convert {\n",
              "      background-color: #E8F0FE;\n",
              "      border: none;\n",
              "      border-radius: 50%;\n",
              "      cursor: pointer;\n",
              "      display: none;\n",
              "      fill: #1967D2;\n",
              "      height: 32px;\n",
              "      padding: 0 0 0 0;\n",
              "      width: 32px;\n",
              "    }\n",
              "\n",
              "    .colab-df-convert:hover {\n",
              "      background-color: #E2EBFA;\n",
              "      box-shadow: 0px 1px 2px rgba(60, 64, 67, 0.3), 0px 1px 3px 1px rgba(60, 64, 67, 0.15);\n",
              "      fill: #174EA6;\n",
              "    }\n",
              "\n",
              "    [theme=dark] .colab-df-convert {\n",
              "      background-color: #3B4455;\n",
              "      fill: #D2E3FC;\n",
              "    }\n",
              "\n",
              "    [theme=dark] .colab-df-convert:hover {\n",
              "      background-color: #434B5C;\n",
              "      box-shadow: 0px 1px 3px 1px rgba(0, 0, 0, 0.15);\n",
              "      filter: drop-shadow(0px 1px 2px rgba(0, 0, 0, 0.3));\n",
              "      fill: #FFFFFF;\n",
              "    }\n",
              "  </style>\n",
              "\n",
              "      <script>\n",
              "        const buttonEl =\n",
              "          document.querySelector('#df-41c63c2d-59f2-494d-a850-42c4ea105894 button.colab-df-convert');\n",
              "        buttonEl.style.display =\n",
              "          google.colab.kernel.accessAllowed ? 'block' : 'none';\n",
              "\n",
              "        async function convertToInteractive(key) {\n",
              "          const element = document.querySelector('#df-41c63c2d-59f2-494d-a850-42c4ea105894');\n",
              "          const dataTable =\n",
              "            await google.colab.kernel.invokeFunction('convertToInteractive',\n",
              "                                                     [key], {});\n",
              "          if (!dataTable) return;\n",
              "\n",
              "          const docLinkHtml = 'Like what you see? Visit the ' +\n",
              "            '<a target=\"_blank\" href=https://colab.research.google.com/notebooks/data_table.ipynb>data table notebook</a>'\n",
              "            + ' to learn more about interactive tables.';\n",
              "          element.innerHTML = '';\n",
              "          dataTable['output_type'] = 'display_data';\n",
              "          await google.colab.output.renderOutput(dataTable, element);\n",
              "          const docLink = document.createElement('div');\n",
              "          docLink.innerHTML = docLinkHtml;\n",
              "          element.appendChild(docLink);\n",
              "        }\n",
              "      </script>\n",
              "    </div>\n",
              "  </div>\n",
              "  "
            ]
          },
          "metadata": {},
          "execution_count": 119
        }
      ]
    },
    {
      "cell_type": "code",
      "source": [
        "from mpl_toolkits.mplot3d.axes3d import Bbox\n",
        "all_model_results.plot(kind= \"bar\", figsize=(10,7)).legend(bbox_to_anchor = (1.0,1.0))"
      ],
      "metadata": {
        "colab": {
          "base_uri": "https://localhost:8080/",
          "height": 576
        },
        "id": "WXUjQV5TlKAk",
        "outputId": "d4078991-ed95-4bc4-f2b0-1c57201049af"
      },
      "execution_count": 120,
      "outputs": [
        {
          "output_type": "execute_result",
          "data": {
            "text/plain": [
              "<matplotlib.legend.Legend at 0x7f9883eab160>"
            ]
          },
          "metadata": {},
          "execution_count": 120
        },
        {
          "output_type": "display_data",
          "data": {
            "text/plain": [
              "<Figure size 720x504 with 1 Axes>"
            ],
            "image/png": "[encoded data removed]"
          },
          "metadata": {
            "needs_background": "light"
          }
        }
      ]
    },
    {
      "cell_type": "code",
      "source": [
        "# Sort by f1\n",
        "all_model_results.sort_values(\"f1\", ascending=False)[\"f1\"].plot(kind= \"bar\", figsize=(10, 7))"
      ],
      "metadata": {
        "colab": {
          "base_uri": "https://localhost:8080/",
          "height": 576
        },
        "id": "9jBUbJbjlqyC",
        "outputId": "e50e67fc-8869-402d-90b6-e81960bacb5c"
      },
      "execution_count": 121,
      "outputs": [
        {
          "output_type": "execute_result",
          "data": {
            "text/plain": [
              "<matplotlib.axes._subplots.AxesSubplot at 0x7f9883cc5910>"
            ]
          },
          "metadata": {},
          "execution_count": 121
        },
        {
          "output_type": "display_data",
          "data": {
            "text/plain": [
              "<Figure size 720x504 with 1 Axes>"
            ],
            "image/png": "[encoded data removed]"
          },
          "metadata": {
            "needs_background": "light"
          }
        }
      ]
    },
    {
      "cell_type": "markdown",
      "source": [
        "# Save and load best performing model"
      ],
      "metadata": {
        "id": "3m3zURHXoFyc"
      }
    },
    {
      "cell_type": "code",
      "source": [
        "model_5.save(\"skimlit_tribid_model\")"
      ],
      "metadata": {
        "colab": {
          "base_uri": "https://localhost:8080/"
        },
        "id": "1QJrCH8hnvoS",
        "outputId": "77abfa32-6aff-44e8-834b-4a3763b13fac"
      },
      "execution_count": 122,
      "outputs": [
        {
          "output_type": "stream",
          "name": "stderr",
          "text": [
            "WARNING:absl:Found untraced functions such as lstm_cell_4_layer_call_fn, lstm_cell_4_layer_call_and_return_conditional_losses, lstm_cell_5_layer_call_fn, lstm_cell_5_layer_call_and_return_conditional_losses while saving (showing 4 of 4). These functions will not be directly callable after loading.\n"
          ]
        }
      ]
    },
    {
      "cell_type": "code",
      "source": [
        "from google.colab import files\n",
        "files.download(\"skimlit_tribid_model\")\n",
        "     "
      ],
      "metadata": {
        "colab": {
          "base_uri": "https://localhost:8080/",
          "height": 34
        },
        "id": "H5f2kPoSobqT",
        "outputId": "f9e0ff98-dda3-48f3-f624-63a4f3e93b0b"
      },
      "execution_count": 125,
      "outputs": [
        {
          "output_type": "display_data",
          "data": {
            "text/plain": [
              "<IPython.core.display.Javascript object>"
            ],
            "application/javascript": [
              "\n",
              "    async function download(id, filename, size) {\n",
              "      if (!google.colab.kernel.accessAllowed) {\n",
              "        return;\n",
              "      }\n",
              "      const div = document.createElement('div');\n",
              "      const label = document.createElement('label');\n",
              "      label.textContent = `Downloading \"${filename}\": `;\n",
              "      div.appendChild(label);\n",
              "      const progress = document.createElement('progress');\n",
              "      progress.max = size;\n",
              "      div.appendChild(progress);\n",
              "      document.body.appendChild(div);\n",
              "\n",
              "      const buffers = [];\n",
              "      let downloaded = 0;\n",
              "\n",
              "      const channel = await google.colab.kernel.comms.open(id);\n",
              "      // Send a message to notify the kernel that we're ready.\n",
              "      channel.send({})\n",
              "\n",
              "      for await (const message of channel.messages) {\n",
              "        // Send a message to notify the kernel that we're ready.\n",
              "        channel.send({})\n",
              "        if (message.buffers) {\n",
              "          for (const buffer of message.buffers) {\n",
              "            buffers.push(buffer);\n",
              "            downloaded += buffer.byteLength;\n",
              "            progress.value = downloaded;\n",
              "          }\n",
              "        }\n",
              "      }\n",
              "      const blob = new Blob(buffers, {type: 'application/binary'});\n",
              "      const a = document.createElement('a');\n",
              "      a.href = window.URL.createObjectURL(blob);\n",
              "      a.download = filename;\n",
              "      div.appendChild(a);\n",
              "      a.click();\n",
              "      div.remove();\n",
              "    }\n",
              "  "
            ]
          },
          "metadata": {}
        },
        {
          "output_type": "display_data",
          "data": {
            "text/plain": [
              "<IPython.core.display.Javascript object>"
            ],
            "application/javascript": [
              "download(\"download_d3648386-1ffe-46b7-9dad-e34141782b9e\", \"skimlit_tribid_model\", 4096)"
            ]
          },
          "metadata": {}
        }
      ]
    },
    {
      "cell_type": "code",
      "source": [
        "loaded_model = tf.keras.models.load_model(\"skimlit_tribid_model\")\n",
        "loaded_model"
      ],
      "metadata": {
        "colab": {
          "base_uri": "https://localhost:8080/"
        },
        "id": "HE_ucgZ-qKN5",
        "outputId": "00449245-bb20-427d-fc50-d1c81afe3d19"
      },
      "execution_count": 126,
      "outputs": [
        {
          "output_type": "execute_result",
          "data": {
            "text/plain": [
              "<keras.engine.functional.Functional at 0x7f9881881700>"
            ]
          },
          "metadata": {},
          "execution_count": 126
        }
      ]
    },
    {
      "cell_type": "code",
      "source": [
        "# Make predictions with the loaded model on validation dataset\n",
        "loaded_pred_probs = loaded_model.predict(val_pos_char_token_dataset)\n",
        "loaded_pred_probs"
      ],
      "metadata": {
        "colab": {
          "base_uri": "https://localhost:8080/"
        },
        "id": "1OK8B0sJsxh0",
        "outputId": "8001e1e7-f612-4c28-c757-349b24a16777"
      },
      "execution_count": 130,
      "outputs": [
        {
          "output_type": "stream",
          "name": "stdout",
          "text": [
            "945/945 [==============================] - 23s 25ms/step\n"
          ]
        },
        {
          "output_type": "execute_result",
          "data": {
            "text/plain": [
              "array([[0.45846298, 0.13485901, 0.01151025, 0.37666467, 0.01850314],\n",
              "       [0.5323424 , 0.10520127, 0.04997445, 0.3029264 , 0.00955552],\n",
              "       [0.2685935 , 0.10881853, 0.12712672, 0.41571507, 0.07974613],\n",
              "       ...,\n",
              "       [0.04184232, 0.10177517, 0.03985272, 0.03435542, 0.7821744 ],\n",
              "       [0.03012765, 0.26548076, 0.08253032, 0.02703466, 0.5948266 ],\n",
              "       [0.21305604, 0.5782049 , 0.11149088, 0.03597493, 0.0612733 ]],\n",
              "      dtype=float32)"
            ]
          },
          "metadata": {},
          "execution_count": 130
        }
      ]
    },
    {
      "cell_type": "code",
      "source": [
        "loaded_preds = tf.argmax(loaded_pred_probs, axis = 1)\n",
        "loaded_preds"
      ],
      "metadata": {
        "colab": {
          "base_uri": "https://localhost:8080/"
        },
        "id": "0Du0VwhMtN89",
        "outputId": "710a1327-7b21-4d6a-8c61-1a7f832d16b1"
      },
      "execution_count": 131,
      "outputs": [
        {
          "output_type": "execute_result",
          "data": {
            "text/plain": [
              "<tf.Tensor: shape=(30212,), dtype=int64, numpy=array([0, 0, 3, ..., 4, 4, 1])>"
            ]
          },
          "metadata": {},
          "execution_count": 131
        }
      ]
    },
    {
      "cell_type": "code",
      "source": [
        "loaded_model_results = calculate_results(val_labels_encoded, loaded_preds)\n",
        "loaded_model_results"
      ],
      "metadata": {
        "colab": {
          "base_uri": "https://localhost:8080/"
        },
        "id": "HLRaVQicteGH",
        "outputId": "b7013e3d-fd9c-4954-b7e2-e7665c909096"
      },
      "execution_count": 132,
      "outputs": [
        {
          "output_type": "execute_result",
          "data": {
            "text/plain": [
              "{'accuracy': 83.31126704620681,\n",
              " 'precision': 0.832285599244386,\n",
              " 'recall': 0.833112670462068,\n",
              " 'f1': 0.8321348501056913}"
            ]
          },
          "metadata": {},
          "execution_count": 132
        }
      ]
    },
    {
      "cell_type": "code",
      "source": [
        "# Compare loaded and original model\n",
        "model_5_results == loaded_model_results"
      ],
      "metadata": {
        "colab": {
          "base_uri": "https://localhost:8080/"
        },
        "id": "DvOYtAbLua0C",
        "outputId": "7eac7c4e-5885-42d8-d048-1662cc06aeb4"
      },
      "execution_count": 133,
      "outputs": [
        {
          "output_type": "execute_result",
          "data": {
            "text/plain": [
              "True"
            ]
          },
          "metadata": {},
          "execution_count": 133
        }
      ]
    },
    {
      "cell_type": "code",
      "source": [
        "!cp skimlit_tribid_model -r /content/drive/MyDrive/tensorflow"
      ],
      "metadata": {
        "id": "J-iUJsqPux6p"
      },
      "execution_count": 134,
      "outputs": []
    },
    {
      "cell_type": "markdown",
      "source": [
        "# Evaluate model on test datasets"
      ],
      "metadata": {
        "id": "BaiyxgVexxFR"
      }
    },
    {
      "cell_type": "code",
      "source": [
        "# Create test dataset batch and prefetched\n",
        "test_pos_char_token_data = tf.data.Dataset.from_tensor_slices((test_line_number_one_hot,\n",
        "                                                               test_total_lines_one_hot,\n",
        "                                                               test_sentences,\n",
        "                                                               test_chars))\n",
        "test_pos_char_token_labels = tf.data.Dataset.from_tensor_slices(test_labels_one_hot)\n",
        "test_pos_char_token_dataset = tf.data.Dataset.zip((test_pos_char_token_data, test_pos_char_token_labels))\n",
        "test_pos_char_token_dataset = test_pos_char_token_dataset.batch(32).prefetch(tf.data.AUTOTUNE)\n",
        "\n",
        "# Check shapes\n",
        "test_pos_char_token_dataset"
      ],
      "metadata": {
        "colab": {
          "base_uri": "https://localhost:8080/"
        },
        "id": "XCk0LYM_wqs6",
        "outputId": "f6eef8aa-4333-4eb7-a5ab-5c1d82758426"
      },
      "execution_count": 136,
      "outputs": [
        {
          "output_type": "execute_result",
          "data": {
            "text/plain": [
              "<PrefetchDataset element_spec=((TensorSpec(shape=(None, 15), dtype=tf.float32, name=None), TensorSpec(shape=(None, 20), dtype=tf.float32, name=None), TensorSpec(shape=(None,), dtype=tf.string, name=None), TensorSpec(shape=(None,), dtype=tf.string, name=None)), TensorSpec(shape=(None, 5), dtype=tf.float64, name=None))>"
            ]
          },
          "metadata": {},
          "execution_count": 136
        }
      ]
    },
    {
      "cell_type": "code",
      "source": [
        "# Make predictions on the test dataset\n",
        "test_pred_probs = loaded_model.predict(test_pos_char_token_dataset,\n",
        "                                       verbose=1)\n",
        "test_preds = tf.argmax(test_pred_probs, axis=1)\n",
        "test_preds[:10]\n",
        "     "
      ],
      "metadata": {
        "colab": {
          "base_uri": "https://localhost:8080/"
        },
        "id": "Bbq6uP11yQ8-",
        "outputId": "2cda9926-3356-49fe-ad46-7bdbfd4adbbb"
      },
      "execution_count": 137,
      "outputs": [
        {
          "output_type": "stream",
          "name": "stdout",
          "text": [
            "942/942 [==============================] - 21s 22ms/step\n"
          ]
        },
        {
          "output_type": "execute_result",
          "data": {
            "text/plain": [
              "<tf.Tensor: shape=(10,), dtype=int64, numpy=array([3, 3, 2, 2, 4, 4, 4, 1, 4, 0])>"
            ]
          },
          "metadata": {},
          "execution_count": 137
        }
      ]
    },
    {
      "cell_type": "code",
      "source": [
        "# Evaluate loaded model test predictions\n",
        "loaded_model_test_results = calculate_results(y_true=test_labels_encoded,\n",
        "                                              y_pred=test_preds)\n",
        "loaded_model_test_results"
      ],
      "metadata": {
        "colab": {
          "base_uri": "https://localhost:8080/"
        },
        "id": "y5gLy_o_ynZB",
        "outputId": "a0559348-01e2-4329-9c34-18305e4e1042"
      },
      "execution_count": 138,
      "outputs": [
        {
          "output_type": "execute_result",
          "data": {
            "text/plain": [
              "{'accuracy': 82.83391405342626,\n",
              " 'precision': 0.8271211860861042,\n",
              " 'recall': 0.8283391405342625,\n",
              " 'f1': 0.8272453037561313}"
            ]
          },
          "metadata": {},
          "execution_count": 138
        }
      ]
    },
    {
      "cell_type": "markdown",
      "source": [
        "# Find the most wrong"
      ],
      "metadata": {
        "id": "rEhc2N0Vy5nP"
      }
    },
    {
      "cell_type": "code",
      "source": [
        "test_preds"
      ],
      "metadata": {
        "colab": {
          "base_uri": "https://localhost:8080/"
        },
        "id": "VP_PdwbRy2lG",
        "outputId": "6a29e270-4dcb-4d4d-ebce-abeb6052ee5e"
      },
      "execution_count": 139,
      "outputs": [
        {
          "output_type": "execute_result",
          "data": {
            "text/plain": [
              "<tf.Tensor: shape=(30135,), dtype=int64, numpy=array([3, 3, 2, ..., 4, 4, 1])>"
            ]
          },
          "metadata": {},
          "execution_count": 139
        }
      ]
    },
    {
      "cell_type": "code",
      "source": [
        "label_encoder.classes_"
      ],
      "metadata": {
        "colab": {
          "base_uri": "https://localhost:8080/"
        },
        "id": "uISy69NHB0Hz",
        "outputId": "335480f1-53cf-47f1-ec00-3253a398e298"
      },
      "execution_count": 145,
      "outputs": [
        {
          "output_type": "execute_result",
          "data": {
            "text/plain": [
              "array(['BACKGROUND', 'CONCLUSIONS', 'METHODS', 'OBJECTIVE', 'RESULTS'],\n",
              "      dtype=object)"
            ]
          },
          "metadata": {},
          "execution_count": 145
        }
      ]
    },
    {
      "cell_type": "code",
      "source": [
        "%%time\n",
        "test_pred_classes = [label_encoder.classes_[pred] for pred in test_preds]\n",
        "test_pred_classes"
      ],
      "metadata": {
        "colab": {
          "base_uri": "https://localhost:8080/"
        },
        "id": "xHNuwcRI8t2Z",
        "outputId": "01f2e056-8e01-4fd9-bdbd-815a480f14ac"
      },
      "execution_count": 142,
      "outputs": [
        {
          "output_type": "stream",
          "name": "stdout",
          "text": [
            "CPU times: user 12.3 s, sys: 1.07 s, total: 13.4 s\n",
            "Wall time: 11.8 s\n"
          ]
        },
        {
          "output_type": "execute_result",
          "data": {
            "text/plain": [
              "['OBJECTIVE',\n",
              " 'OBJECTIVE',\n",
              " 'METHODS',\n",
              " 'METHODS',\n",
              " 'RESULTS',\n",
              " 'RESULTS',\n",
              " 'RESULTS',\n",
              " 'CONCLUSIONS',\n",
              " 'RESULTS',\n",
              " 'BACKGROUND',\n",
              " 'BACKGROUND',\n",
              " 'METHODS',\n",
              " 'METHODS',\n",
              " 'METHODS',\n",
              " 'RESULTS',\n",
              " 'RESULTS',\n",
              " 'RESULTS',\n",
              " 'RESULTS',\n",
              " 'RESULTS',\n",
              " 'RESULTS',\n",
              " 'CONCLUSIONS',\n",
              " 'CONCLUSIONS',\n",
              " 'BACKGROUND',\n",
              " 'OBJECTIVE',\n",
              " 'METHODS',\n",
              " 'METHODS',\n",
              " 'RESULTS',\n",
              " 'RESULTS',\n",
              " 'RESULTS',\n",
              " 'CONCLUSIONS',\n",
              " 'CONCLUSIONS',\n",
              " 'BACKGROUND',\n",
              " 'METHODS',\n",
              " 'BACKGROUND',\n",
              " 'METHODS',\n",
              " 'METHODS',\n",
              " 'METHODS',\n",
              " 'METHODS',\n",
              " 'RESULTS',\n",
              " 'RESULTS',\n",
              " 'RESULTS',\n",
              " 'RESULTS',\n",
              " 'CONCLUSIONS',\n",
              " 'CONCLUSIONS',\n",
              " 'BACKGROUND',\n",
              " 'BACKGROUND',\n",
              " 'BACKGROUND',\n",
              " 'OBJECTIVE',\n",
              " 'METHODS',\n",
              " 'METHODS',\n",
              " 'METHODS',\n",
              " 'METHODS',\n",
              " 'METHODS',\n",
              " 'METHODS',\n",
              " 'RESULTS',\n",
              " 'RESULTS',\n",
              " 'CONCLUSIONS',\n",
              " 'CONCLUSIONS',\n",
              " 'OBJECTIVE',\n",
              " 'METHODS',\n",
              " 'METHODS',\n",
              " 'METHODS',\n",
              " 'METHODS',\n",
              " 'METHODS',\n",
              " 'RESULTS',\n",
              " 'RESULTS',\n",
              " 'RESULTS',\n",
              " 'RESULTS',\n",
              " 'RESULTS',\n",
              " 'OBJECTIVE',\n",
              " 'METHODS',\n",
              " 'METHODS',\n",
              " 'METHODS',\n",
              " 'RESULTS',\n",
              " 'METHODS',\n",
              " 'RESULTS',\n",
              " 'RESULTS',\n",
              " 'RESULTS',\n",
              " 'RESULTS',\n",
              " 'CONCLUSIONS',\n",
              " 'CONCLUSIONS',\n",
              " 'BACKGROUND',\n",
              " 'OBJECTIVE',\n",
              " 'METHODS',\n",
              " 'METHODS',\n",
              " 'METHODS',\n",
              " 'METHODS',\n",
              " 'METHODS',\n",
              " 'METHODS',\n",
              " 'METHODS',\n",
              " 'RESULTS',\n",
              " 'RESULTS',\n",
              " 'RESULTS',\n",
              " 'CONCLUSIONS',\n",
              " 'BACKGROUND',\n",
              " 'OBJECTIVE',\n",
              " 'METHODS',\n",
              " 'RESULTS',\n",
              " 'RESULTS',\n",
              " 'RESULTS',\n",
              " 'CONCLUSIONS',\n",
              " 'OBJECTIVE',\n",
              " 'METHODS',\n",
              " 'METHODS',\n",
              " 'METHODS',\n",
              " 'METHODS',\n",
              " 'METHODS',\n",
              " 'METHODS',\n",
              " 'METHODS',\n",
              " 'RESULTS',\n",
              " 'RESULTS',\n",
              " 'RESULTS',\n",
              " 'CONCLUSIONS',\n",
              " 'BACKGROUND',\n",
              " 'BACKGROUND',\n",
              " 'METHODS',\n",
              " 'METHODS',\n",
              " 'METHODS',\n",
              " 'METHODS',\n",
              " 'METHODS',\n",
              " 'METHODS',\n",
              " 'BACKGROUND',\n",
              " 'RESULTS',\n",
              " 'RESULTS',\n",
              " 'RESULTS',\n",
              " 'RESULTS',\n",
              " 'RESULTS',\n",
              " 'CONCLUSIONS',\n",
              " 'BACKGROUND',\n",
              " 'OBJECTIVE',\n",
              " 'METHODS',\n",
              " 'METHODS',\n",
              " 'RESULTS',\n",
              " 'METHODS',\n",
              " 'RESULTS',\n",
              " 'RESULTS',\n",
              " 'RESULTS',\n",
              " 'RESULTS',\n",
              " 'OBJECTIVE',\n",
              " 'METHODS',\n",
              " 'METHODS',\n",
              " 'METHODS',\n",
              " 'RESULTS',\n",
              " 'RESULTS',\n",
              " 'RESULTS',\n",
              " 'RESULTS',\n",
              " 'RESULTS',\n",
              " 'RESULTS',\n",
              " 'CONCLUSIONS',\n",
              " 'CONCLUSIONS',\n",
              " 'BACKGROUND',\n",
              " 'BACKGROUND',\n",
              " 'METHODS',\n",
              " 'BACKGROUND',\n",
              " 'METHODS',\n",
              " 'METHODS',\n",
              " 'METHODS',\n",
              " 'METHODS',\n",
              " 'METHODS',\n",
              " 'METHODS',\n",
              " 'CONCLUSIONS',\n",
              " 'CONCLUSIONS',\n",
              " 'RESULTS',\n",
              " 'BACKGROUND',\n",
              " 'CONCLUSIONS',\n",
              " 'BACKGROUND',\n",
              " 'BACKGROUND',\n",
              " 'OBJECTIVE',\n",
              " 'METHODS',\n",
              " 'METHODS',\n",
              " 'RESULTS',\n",
              " 'RESULTS',\n",
              " 'RESULTS',\n",
              " 'RESULTS',\n",
              " 'RESULTS',\n",
              " 'CONCLUSIONS',\n",
              " 'BACKGROUND',\n",
              " 'OBJECTIVE',\n",
              " 'METHODS',\n",
              " 'METHODS',\n",
              " 'METHODS',\n",
              " 'RESULTS',\n",
              " 'RESULTS',\n",
              " 'RESULTS',\n",
              " 'RESULTS',\n",
              " 'RESULTS',\n",
              " 'RESULTS',\n",
              " 'RESULTS',\n",
              " 'CONCLUSIONS',\n",
              " 'OBJECTIVE',\n",
              " 'BACKGROUND',\n",
              " 'METHODS',\n",
              " 'METHODS',\n",
              " 'METHODS',\n",
              " 'METHODS',\n",
              " 'BACKGROUND',\n",
              " 'RESULTS',\n",
              " 'RESULTS',\n",
              " 'BACKGROUND',\n",
              " 'RESULTS',\n",
              " 'RESULTS',\n",
              " 'CONCLUSIONS',\n",
              " 'CONCLUSIONS',\n",
              " 'CONCLUSIONS',\n",
              " 'OBJECTIVE',\n",
              " 'METHODS',\n",
              " 'METHODS',\n",
              " 'METHODS',\n",
              " 'METHODS',\n",
              " 'RESULTS',\n",
              " 'RESULTS',\n",
              " 'RESULTS',\n",
              " 'RESULTS',\n",
              " 'CONCLUSIONS',\n",
              " 'BACKGROUND',\n",
              " 'METHODS',\n",
              " 'METHODS',\n",
              " 'METHODS',\n",
              " 'METHODS',\n",
              " 'METHODS',\n",
              " 'RESULTS',\n",
              " 'RESULTS',\n",
              " 'RESULTS',\n",
              " 'RESULTS',\n",
              " 'CONCLUSIONS',\n",
              " 'RESULTS',\n",
              " 'RESULTS',\n",
              " 'BACKGROUND',\n",
              " 'OBJECTIVE',\n",
              " 'BACKGROUND',\n",
              " 'METHODS',\n",
              " 'METHODS',\n",
              " 'RESULTS',\n",
              " 'METHODS',\n",
              " 'METHODS',\n",
              " 'RESULTS',\n",
              " 'RESULTS',\n",
              " 'CONCLUSIONS',\n",
              " 'OBJECTIVE',\n",
              " 'OBJECTIVE',\n",
              " 'OBJECTIVE',\n",
              " 'METHODS',\n",
              " 'METHODS',\n",
              " 'METHODS',\n",
              " 'RESULTS',\n",
              " 'RESULTS',\n",
              " 'RESULTS',\n",
              " 'CONCLUSIONS',\n",
              " 'CONCLUSIONS',\n",
              " 'BACKGROUND',\n",
              " 'METHODS',\n",
              " 'METHODS',\n",
              " 'METHODS',\n",
              " 'RESULTS',\n",
              " 'RESULTS',\n",
              " 'RESULTS',\n",
              " 'RESULTS',\n",
              " 'RESULTS',\n",
              " 'CONCLUSIONS',\n",
              " 'CONCLUSIONS',\n",
              " 'BACKGROUND',\n",
              " 'OBJECTIVE',\n",
              " 'METHODS',\n",
              " 'METHODS',\n",
              " 'METHODS',\n",
              " 'METHODS',\n",
              " 'METHODS',\n",
              " 'METHODS',\n",
              " 'RESULTS',\n",
              " 'METHODS',\n",
              " 'RESULTS',\n",
              " 'RESULTS',\n",
              " 'RESULTS',\n",
              " 'RESULTS',\n",
              " 'RESULTS',\n",
              " 'CONCLUSIONS',\n",
              " 'METHODS',\n",
              " 'CONCLUSIONS',\n",
              " 'BACKGROUND',\n",
              " 'OBJECTIVE',\n",
              " 'METHODS',\n",
              " 'METHODS',\n",
              " 'METHODS',\n",
              " 'METHODS',\n",
              " 'METHODS',\n",
              " 'RESULTS',\n",
              " 'METHODS',\n",
              " 'CONCLUSIONS',\n",
              " 'BACKGROUND',\n",
              " 'OBJECTIVE',\n",
              " 'METHODS',\n",
              " 'METHODS',\n",
              " 'METHODS',\n",
              " 'METHODS',\n",
              " 'RESULTS',\n",
              " 'RESULTS',\n",
              " 'RESULTS',\n",
              " 'RESULTS',\n",
              " 'CONCLUSIONS',\n",
              " 'CONCLUSIONS',\n",
              " 'BACKGROUND',\n",
              " 'OBJECTIVE',\n",
              " 'METHODS',\n",
              " 'METHODS',\n",
              " 'METHODS',\n",
              " 'RESULTS',\n",
              " 'RESULTS',\n",
              " 'RESULTS',\n",
              " 'CONCLUSIONS',\n",
              " 'CONCLUSIONS',\n",
              " 'CONCLUSIONS',\n",
              " 'OBJECTIVE',\n",
              " 'METHODS',\n",
              " 'METHODS',\n",
              " 'METHODS',\n",
              " 'RESULTS',\n",
              " 'RESULTS',\n",
              " 'RESULTS',\n",
              " 'RESULTS',\n",
              " 'RESULTS',\n",
              " 'RESULTS',\n",
              " 'BACKGROUND',\n",
              " 'BACKGROUND',\n",
              " 'METHODS',\n",
              " 'RESULTS',\n",
              " 'RESULTS',\n",
              " 'RESULTS',\n",
              " 'RESULTS',\n",
              " 'CONCLUSIONS',\n",
              " 'BACKGROUND',\n",
              " 'BACKGROUND',\n",
              " 'METHODS',\n",
              " 'METHODS',\n",
              " 'RESULTS',\n",
              " 'RESULTS',\n",
              " 'RESULTS',\n",
              " 'RESULTS',\n",
              " 'RESULTS',\n",
              " 'RESULTS',\n",
              " 'CONCLUSIONS',\n",
              " 'CONCLUSIONS',\n",
              " 'OBJECTIVE',\n",
              " 'METHODS',\n",
              " 'METHODS',\n",
              " 'METHODS',\n",
              " 'METHODS',\n",
              " 'RESULTS',\n",
              " 'RESULTS',\n",
              " 'RESULTS',\n",
              " 'RESULTS',\n",
              " 'RESULTS',\n",
              " 'CONCLUSIONS',\n",
              " 'RESULTS',\n",
              " 'BACKGROUND',\n",
              " 'BACKGROUND',\n",
              " 'BACKGROUND',\n",
              " 'METHODS',\n",
              " 'METHODS',\n",
              " 'METHODS',\n",
              " 'METHODS',\n",
              " 'RESULTS',\n",
              " 'RESULTS',\n",
              " 'RESULTS',\n",
              " 'RESULTS',\n",
              " 'RESULTS',\n",
              " 'RESULTS',\n",
              " 'RESULTS',\n",
              " 'RESULTS',\n",
              " 'CONCLUSIONS',\n",
              " 'CONCLUSIONS',\n",
              " 'CONCLUSIONS',\n",
              " 'BACKGROUND',\n",
              " 'BACKGROUND',\n",
              " 'BACKGROUND',\n",
              " 'METHODS',\n",
              " 'METHODS',\n",
              " 'RESULTS',\n",
              " 'METHODS',\n",
              " 'METHODS',\n",
              " 'RESULTS',\n",
              " 'RESULTS',\n",
              " 'RESULTS',\n",
              " 'RESULTS',\n",
              " 'RESULTS',\n",
              " 'CONCLUSIONS',\n",
              " 'CONCLUSIONS',\n",
              " 'BACKGROUND',\n",
              " 'OBJECTIVE',\n",
              " 'RESULTS',\n",
              " 'RESULTS',\n",
              " 'METHODS',\n",
              " 'RESULTS',\n",
              " 'RESULTS',\n",
              " 'RESULTS',\n",
              " 'RESULTS',\n",
              " 'RESULTS',\n",
              " 'CONCLUSIONS',\n",
              " 'CONCLUSIONS',\n",
              " 'OBJECTIVE',\n",
              " 'OBJECTIVE',\n",
              " 'METHODS',\n",
              " 'METHODS',\n",
              " 'METHODS',\n",
              " 'METHODS',\n",
              " 'RESULTS',\n",
              " 'RESULTS',\n",
              " 'RESULTS',\n",
              " 'CONCLUSIONS',\n",
              " 'OBJECTIVE',\n",
              " 'METHODS',\n",
              " 'METHODS',\n",
              " 'METHODS',\n",
              " 'RESULTS',\n",
              " 'RESULTS',\n",
              " 'RESULTS',\n",
              " 'RESULTS',\n",
              " 'RESULTS',\n",
              " 'CONCLUSIONS',\n",
              " 'CONCLUSIONS',\n",
              " 'OBJECTIVE',\n",
              " 'METHODS',\n",
              " 'METHODS',\n",
              " 'METHODS',\n",
              " 'RESULTS',\n",
              " 'RESULTS',\n",
              " 'RESULTS',\n",
              " 'RESULTS',\n",
              " 'RESULTS',\n",
              " 'RESULTS',\n",
              " 'RESULTS',\n",
              " 'CONCLUSIONS',\n",
              " 'BACKGROUND',\n",
              " 'OBJECTIVE',\n",
              " 'METHODS',\n",
              " 'RESULTS',\n",
              " 'RESULTS',\n",
              " 'RESULTS',\n",
              " 'RESULTS',\n",
              " 'METHODS',\n",
              " 'RESULTS',\n",
              " 'BACKGROUND',\n",
              " 'BACKGROUND',\n",
              " 'METHODS',\n",
              " 'METHODS',\n",
              " 'RESULTS',\n",
              " 'RESULTS',\n",
              " 'RESULTS',\n",
              " 'RESULTS',\n",
              " 'CONCLUSIONS',\n",
              " 'CONCLUSIONS',\n",
              " 'CONCLUSIONS',\n",
              " 'BACKGROUND',\n",
              " 'BACKGROUND',\n",
              " 'BACKGROUND',\n",
              " 'OBJECTIVE',\n",
              " 'METHODS',\n",
              " 'METHODS',\n",
              " 'METHODS',\n",
              " 'RESULTS',\n",
              " 'CONCLUSIONS',\n",
              " 'METHODS',\n",
              " 'CONCLUSIONS',\n",
              " 'BACKGROUND',\n",
              " 'BACKGROUND',\n",
              " 'BACKGROUND',\n",
              " 'BACKGROUND',\n",
              " 'METHODS',\n",
              " 'METHODS',\n",
              " 'METHODS',\n",
              " 'RESULTS',\n",
              " 'RESULTS',\n",
              " 'RESULTS',\n",
              " 'RESULTS',\n",
              " 'CONCLUSIONS',\n",
              " 'CONCLUSIONS',\n",
              " 'CONCLUSIONS',\n",
              " 'CONCLUSIONS',\n",
              " 'BACKGROUND',\n",
              " 'BACKGROUND',\n",
              " 'BACKGROUND',\n",
              " 'METHODS',\n",
              " 'METHODS',\n",
              " 'METHODS',\n",
              " 'METHODS',\n",
              " 'RESULTS',\n",
              " 'RESULTS',\n",
              " 'RESULTS',\n",
              " 'RESULTS',\n",
              " 'CONCLUSIONS',\n",
              " 'CONCLUSIONS',\n",
              " 'CONCLUSIONS',\n",
              " 'BACKGROUND',\n",
              " 'BACKGROUND',\n",
              " 'BACKGROUND',\n",
              " 'OBJECTIVE',\n",
              " 'METHODS',\n",
              " 'METHODS',\n",
              " 'RESULTS',\n",
              " 'RESULTS',\n",
              " 'RESULTS',\n",
              " 'CONCLUSIONS',\n",
              " 'CONCLUSIONS',\n",
              " 'BACKGROUND',\n",
              " 'BACKGROUND',\n",
              " 'METHODS',\n",
              " 'METHODS',\n",
              " 'RESULTS',\n",
              " 'RESULTS',\n",
              " 'RESULTS',\n",
              " 'RESULTS',\n",
              " 'RESULTS',\n",
              " 'CONCLUSIONS',\n",
              " 'CONCLUSIONS',\n",
              " 'BACKGROUND',\n",
              " 'OBJECTIVE',\n",
              " 'METHODS',\n",
              " 'METHODS',\n",
              " 'METHODS',\n",
              " 'RESULTS',\n",
              " 'RESULTS',\n",
              " 'RESULTS',\n",
              " 'RESULTS',\n",
              " 'RESULTS',\n",
              " 'CONCLUSIONS',\n",
              " 'CONCLUSIONS',\n",
              " 'BACKGROUND',\n",
              " 'OBJECTIVE',\n",
              " 'METHODS',\n",
              " 'METHODS',\n",
              " 'METHODS',\n",
              " 'RESULTS',\n",
              " 'RESULTS',\n",
              " 'CONCLUSIONS',\n",
              " 'CONCLUSIONS',\n",
              " 'OBJECTIVE',\n",
              " 'METHODS',\n",
              " 'METHODS',\n",
              " 'RESULTS',\n",
              " 'RESULTS',\n",
              " 'RESULTS',\n",
              " 'RESULTS',\n",
              " 'RESULTS',\n",
              " 'CONCLUSIONS',\n",
              " 'BACKGROUND',\n",
              " 'BACKGROUND',\n",
              " 'METHODS',\n",
              " 'METHODS',\n",
              " 'METHODS',\n",
              " 'RESULTS',\n",
              " 'RESULTS',\n",
              " 'RESULTS',\n",
              " 'RESULTS',\n",
              " 'RESULTS',\n",
              " 'RESULTS',\n",
              " 'CONCLUSIONS',\n",
              " 'BACKGROUND',\n",
              " 'BACKGROUND',\n",
              " 'BACKGROUND',\n",
              " 'BACKGROUND',\n",
              " 'OBJECTIVE',\n",
              " 'METHODS',\n",
              " 'METHODS',\n",
              " 'METHODS',\n",
              " 'METHODS',\n",
              " 'METHODS',\n",
              " 'RESULTS',\n",
              " 'RESULTS',\n",
              " 'RESULTS',\n",
              " 'CONCLUSIONS',\n",
              " 'CONCLUSIONS',\n",
              " 'OBJECTIVE',\n",
              " 'OBJECTIVE',\n",
              " 'METHODS',\n",
              " 'METHODS',\n",
              " 'METHODS',\n",
              " 'RESULTS',\n",
              " 'RESULTS',\n",
              " 'CONCLUSIONS',\n",
              " 'CONCLUSIONS',\n",
              " 'BACKGROUND',\n",
              " 'BACKGROUND',\n",
              " 'BACKGROUND',\n",
              " 'METHODS',\n",
              " 'METHODS',\n",
              " 'METHODS',\n",
              " 'METHODS',\n",
              " 'METHODS',\n",
              " 'METHODS',\n",
              " 'RESULTS',\n",
              " 'METHODS',\n",
              " 'RESULTS',\n",
              " 'CONCLUSIONS',\n",
              " 'METHODS',\n",
              " 'CONCLUSIONS',\n",
              " 'RESULTS',\n",
              " 'RESULTS',\n",
              " 'CONCLUSIONS',\n",
              " 'RESULTS',\n",
              " 'BACKGROUND',\n",
              " 'OBJECTIVE',\n",
              " 'METHODS',\n",
              " 'METHODS',\n",
              " 'METHODS',\n",
              " 'RESULTS',\n",
              " 'METHODS',\n",
              " 'RESULTS',\n",
              " 'RESULTS',\n",
              " 'RESULTS',\n",
              " 'RESULTS',\n",
              " 'CONCLUSIONS',\n",
              " 'CONCLUSIONS',\n",
              " 'CONCLUSIONS',\n",
              " 'CONCLUSIONS',\n",
              " 'BACKGROUND',\n",
              " 'BACKGROUND',\n",
              " 'METHODS',\n",
              " 'METHODS',\n",
              " 'RESULTS',\n",
              " 'METHODS',\n",
              " 'METHODS',\n",
              " 'METHODS',\n",
              " 'RESULTS',\n",
              " 'RESULTS',\n",
              " 'CONCLUSIONS',\n",
              " 'CONCLUSIONS',\n",
              " 'CONCLUSIONS',\n",
              " 'BACKGROUND',\n",
              " 'BACKGROUND',\n",
              " 'OBJECTIVE',\n",
              " 'METHODS',\n",
              " 'METHODS',\n",
              " 'METHODS',\n",
              " 'RESULTS',\n",
              " 'RESULTS',\n",
              " 'RESULTS',\n",
              " 'RESULTS',\n",
              " 'RESULTS',\n",
              " 'CONCLUSIONS',\n",
              " 'CONCLUSIONS',\n",
              " 'OBJECTIVE',\n",
              " 'OBJECTIVE',\n",
              " 'METHODS',\n",
              " 'METHODS',\n",
              " 'RESULTS',\n",
              " 'RESULTS',\n",
              " 'RESULTS',\n",
              " 'CONCLUSIONS',\n",
              " 'CONCLUSIONS',\n",
              " 'OBJECTIVE',\n",
              " 'METHODS',\n",
              " 'METHODS',\n",
              " 'CONCLUSIONS',\n",
              " 'METHODS',\n",
              " 'RESULTS',\n",
              " 'RESULTS',\n",
              " 'OBJECTIVE',\n",
              " 'BACKGROUND',\n",
              " 'BACKGROUND',\n",
              " 'METHODS',\n",
              " 'METHODS',\n",
              " 'METHODS',\n",
              " 'METHODS',\n",
              " 'RESULTS',\n",
              " 'RESULTS',\n",
              " 'METHODS',\n",
              " 'METHODS',\n",
              " 'CONCLUSIONS',\n",
              " 'RESULTS',\n",
              " 'CONCLUSIONS',\n",
              " 'CONCLUSIONS',\n",
              " 'CONCLUSIONS',\n",
              " 'OBJECTIVE',\n",
              " 'METHODS',\n",
              " 'METHODS',\n",
              " 'RESULTS',\n",
              " 'RESULTS',\n",
              " 'METHODS',\n",
              " 'RESULTS',\n",
              " 'CONCLUSIONS',\n",
              " 'OBJECTIVE',\n",
              " 'BACKGROUND',\n",
              " 'METHODS',\n",
              " 'METHODS',\n",
              " 'METHODS',\n",
              " 'METHODS',\n",
              " 'RESULTS',\n",
              " 'RESULTS',\n",
              " 'RESULTS',\n",
              " 'RESULTS',\n",
              " 'RESULTS',\n",
              " 'RESULTS',\n",
              " 'CONCLUSIONS',\n",
              " 'CONCLUSIONS',\n",
              " 'BACKGROUND',\n",
              " 'BACKGROUND',\n",
              " 'BACKGROUND',\n",
              " 'METHODS',\n",
              " 'METHODS',\n",
              " 'METHODS',\n",
              " 'METHODS',\n",
              " 'RESULTS',\n",
              " 'METHODS',\n",
              " 'RESULTS',\n",
              " 'RESULTS',\n",
              " 'CONCLUSIONS',\n",
              " 'CONCLUSIONS',\n",
              " 'CONCLUSIONS',\n",
              " 'CONCLUSIONS',\n",
              " 'OBJECTIVE',\n",
              " 'METHODS',\n",
              " 'METHODS',\n",
              " 'METHODS',\n",
              " 'METHODS',\n",
              " 'METHODS',\n",
              " 'METHODS',\n",
              " 'RESULTS',\n",
              " 'RESULTS',\n",
              " 'RESULTS',\n",
              " 'RESULTS',\n",
              " 'RESULTS',\n",
              " 'RESULTS',\n",
              " 'CONCLUSIONS',\n",
              " 'CONCLUSIONS',\n",
              " 'BACKGROUND',\n",
              " 'METHODS',\n",
              " 'BACKGROUND',\n",
              " 'OBJECTIVE',\n",
              " 'METHODS',\n",
              " 'RESULTS',\n",
              " 'RESULTS',\n",
              " 'RESULTS',\n",
              " 'RESULTS',\n",
              " 'RESULTS',\n",
              " 'CONCLUSIONS',\n",
              " 'RESULTS',\n",
              " 'BACKGROUND',\n",
              " 'BACKGROUND',\n",
              " 'METHODS',\n",
              " 'METHODS',\n",
              " 'METHODS',\n",
              " 'RESULTS',\n",
              " 'RESULTS',\n",
              " 'RESULTS',\n",
              " 'RESULTS',\n",
              " 'RESULTS',\n",
              " 'RESULTS',\n",
              " 'CONCLUSIONS',\n",
              " 'CONCLUSIONS',\n",
              " 'BACKGROUND',\n",
              " 'BACKGROUND',\n",
              " 'BACKGROUND',\n",
              " 'OBJECTIVE',\n",
              " 'METHODS',\n",
              " 'METHODS',\n",
              " 'METHODS',\n",
              " 'METHODS',\n",
              " 'RESULTS',\n",
              " 'METHODS',\n",
              " 'RESULTS',\n",
              " 'RESULTS',\n",
              " 'RESULTS',\n",
              " 'RESULTS',\n",
              " 'RESULTS',\n",
              " 'RESULTS',\n",
              " 'RESULTS',\n",
              " 'RESULTS',\n",
              " 'RESULTS',\n",
              " 'CONCLUSIONS',\n",
              " 'CONCLUSIONS',\n",
              " 'BACKGROUND',\n",
              " 'OBJECTIVE',\n",
              " 'METHODS',\n",
              " 'METHODS',\n",
              " 'METHODS',\n",
              " 'METHODS',\n",
              " 'RESULTS',\n",
              " 'RESULTS',\n",
              " 'RESULTS',\n",
              " 'CONCLUSIONS',\n",
              " 'CONCLUSIONS',\n",
              " 'CONCLUSIONS',\n",
              " 'BACKGROUND',\n",
              " 'BACKGROUND',\n",
              " 'METHODS',\n",
              " 'METHODS',\n",
              " 'METHODS',\n",
              " 'METHODS',\n",
              " 'METHODS',\n",
              " 'METHODS',\n",
              " 'RESULTS',\n",
              " 'RESULTS',\n",
              " 'CONCLUSIONS',\n",
              " 'CONCLUSIONS',\n",
              " 'CONCLUSIONS',\n",
              " 'BACKGROUND',\n",
              " 'BACKGROUND',\n",
              " 'BACKGROUND',\n",
              " 'BACKGROUND',\n",
              " 'BACKGROUND',\n",
              " 'OBJECTIVE',\n",
              " 'METHODS',\n",
              " 'METHODS',\n",
              " 'RESULTS',\n",
              " 'RESULTS',\n",
              " 'RESULTS',\n",
              " 'CONCLUSIONS',\n",
              " 'CONCLUSIONS',\n",
              " 'BACKGROUND',\n",
              " 'BACKGROUND',\n",
              " 'BACKGROUND',\n",
              " 'BACKGROUND',\n",
              " 'METHODS',\n",
              " 'METHODS',\n",
              " 'RESULTS',\n",
              " 'METHODS',\n",
              " 'RESULTS',\n",
              " 'RESULTS',\n",
              " 'RESULTS',\n",
              " 'RESULTS',\n",
              " 'RESULTS',\n",
              " 'RESULTS',\n",
              " 'CONCLUSIONS',\n",
              " 'BACKGROUND',\n",
              " 'BACKGROUND',\n",
              " 'BACKGROUND',\n",
              " 'METHODS',\n",
              " 'METHODS',\n",
              " 'METHODS',\n",
              " 'RESULTS',\n",
              " 'METHODS',\n",
              " 'RESULTS',\n",
              " 'RESULTS',\n",
              " 'CONCLUSIONS',\n",
              " 'RESULTS',\n",
              " 'CONCLUSIONS',\n",
              " 'OBJECTIVE',\n",
              " 'BACKGROUND',\n",
              " 'METHODS',\n",
              " 'RESULTS',\n",
              " 'METHODS',\n",
              " 'RESULTS',\n",
              " 'RESULTS',\n",
              " 'RESULTS',\n",
              " 'CONCLUSIONS',\n",
              " 'RESULTS',\n",
              " 'RESULTS',\n",
              " 'CONCLUSIONS',\n",
              " 'BACKGROUND',\n",
              " 'OBJECTIVE',\n",
              " 'METHODS',\n",
              " 'METHODS',\n",
              " 'RESULTS',\n",
              " 'RESULTS',\n",
              " 'RESULTS',\n",
              " 'RESULTS',\n",
              " 'RESULTS',\n",
              " 'CONCLUSIONS',\n",
              " 'CONCLUSIONS',\n",
              " 'CONCLUSIONS',\n",
              " 'BACKGROUND',\n",
              " 'BACKGROUND',\n",
              " 'METHODS',\n",
              " 'METHODS',\n",
              " 'METHODS',\n",
              " 'METHODS',\n",
              " 'METHODS',\n",
              " 'RESULTS',\n",
              " 'RESULTS',\n",
              " 'RESULTS',\n",
              " 'CONCLUSIONS',\n",
              " 'CONCLUSIONS',\n",
              " 'OBJECTIVE',\n",
              " 'METHODS',\n",
              " 'METHODS',\n",
              " 'METHODS',\n",
              " 'METHODS',\n",
              " 'RESULTS',\n",
              " 'RESULTS',\n",
              " 'RESULTS',\n",
              " 'CONCLUSIONS',\n",
              " 'RESULTS',\n",
              " 'BACKGROUND',\n",
              " 'BACKGROUND',\n",
              " 'METHODS',\n",
              " 'METHODS',\n",
              " 'METHODS',\n",
              " 'METHODS',\n",
              " 'METHODS',\n",
              " 'RESULTS',\n",
              " 'RESULTS',\n",
              " 'RESULTS',\n",
              " 'RESULTS',\n",
              " 'RESULTS',\n",
              " 'CONCLUSIONS',\n",
              " 'BACKGROUND',\n",
              " 'METHODS',\n",
              " 'RESULTS',\n",
              " 'RESULTS',\n",
              " 'RESULTS',\n",
              " 'RESULTS',\n",
              " 'RESULTS',\n",
              " 'CONCLUSIONS',\n",
              " 'CONCLUSIONS',\n",
              " 'BACKGROUND',\n",
              " 'BACKGROUND',\n",
              " 'BACKGROUND',\n",
              " 'BACKGROUND',\n",
              " 'METHODS',\n",
              " 'METHODS',\n",
              " 'METHODS',\n",
              " 'METHODS',\n",
              " 'RESULTS',\n",
              " 'RESULTS',\n",
              " 'METHODS',\n",
              " 'RESULTS',\n",
              " 'RESULTS',\n",
              " 'CONCLUSIONS',\n",
              " 'CONCLUSIONS',\n",
              " 'BACKGROUND',\n",
              " 'BACKGROUND',\n",
              " 'METHODS',\n",
              " 'METHODS',\n",
              " 'METHODS',\n",
              " 'RESULTS',\n",
              " 'METHODS',\n",
              " 'METHODS',\n",
              " 'RESULTS',\n",
              " 'RESULTS',\n",
              " 'RESULTS',\n",
              " 'CONCLUSIONS',\n",
              " 'CONCLUSIONS',\n",
              " 'CONCLUSIONS',\n",
              " 'CONCLUSIONS',\n",
              " 'OBJECTIVE',\n",
              " 'METHODS',\n",
              " 'METHODS',\n",
              " 'RESULTS',\n",
              " 'METHODS',\n",
              " 'METHODS',\n",
              " 'RESULTS',\n",
              " 'RESULTS',\n",
              " 'RESULTS',\n",
              " 'RESULTS',\n",
              " 'RESULTS',\n",
              " 'RESULTS',\n",
              " 'CONCLUSIONS',\n",
              " 'CONCLUSIONS',\n",
              " 'METHODS',\n",
              " 'OBJECTIVE',\n",
              " 'METHODS',\n",
              " 'RESULTS',\n",
              " 'METHODS',\n",
              " 'RESULTS',\n",
              " 'RESULTS',\n",
              " 'RESULTS',\n",
              " 'RESULTS',\n",
              " 'RESULTS',\n",
              " 'CONCLUSIONS',\n",
              " 'CONCLUSIONS',\n",
              " 'BACKGROUND',\n",
              " 'BACKGROUND',\n",
              " 'BACKGROUND',\n",
              " 'OBJECTIVE',\n",
              " 'METHODS',\n",
              " 'METHODS',\n",
              " 'METHODS',\n",
              " 'METHODS',\n",
              " 'RESULTS',\n",
              " 'RESULTS',\n",
              " 'RESULTS',\n",
              " 'RESULTS',\n",
              " 'RESULTS',\n",
              " 'RESULTS',\n",
              " 'RESULTS',\n",
              " 'CONCLUSIONS',\n",
              " 'RESULTS',\n",
              " 'CONCLUSIONS',\n",
              " 'CONCLUSIONS',\n",
              " 'BACKGROUND',\n",
              " 'OBJECTIVE',\n",
              " 'METHODS',\n",
              " 'METHODS',\n",
              " 'METHODS',\n",
              " 'RESULTS',\n",
              " 'RESULTS',\n",
              " 'RESULTS',\n",
              " 'CONCLUSIONS',\n",
              " 'BACKGROUND',\n",
              " 'BACKGROUND',\n",
              " 'METHODS',\n",
              " 'METHODS',\n",
              " 'METHODS',\n",
              " 'METHODS',\n",
              " 'METHODS',\n",
              " 'METHODS',\n",
              " 'RESULTS',\n",
              " 'RESULTS',\n",
              " 'RESULTS',\n",
              " 'CONCLUSIONS',\n",
              " 'CONCLUSIONS',\n",
              " ...]"
            ]
          },
          "metadata": {},
          "execution_count": 142
        }
      ]
    },
    {
      "cell_type": "code",
      "source": [
        "# Cross check our test dataframe\n",
        "test_df[:10]"
      ],
      "metadata": {
        "colab": {
          "base_uri": "https://localhost:8080/",
          "height": 363
        },
        "id": "RZ9hhU_dBVYk",
        "outputId": "9abd7b02-0e6c-4cb7-b0f5-f02ab14126a0"
      },
      "execution_count": 144,
      "outputs": [
        {
          "output_type": "execute_result",
          "data": {
            "text/plain": [
              "        target                                               text  \\\n",
              "0   BACKGROUND  this study analyzed liver function abnormaliti...   \n",
              "1      RESULTS  a post hoc analysis was conducted with the use...   \n",
              "2      RESULTS  liver function tests ( lfts ) were measured at...   \n",
              "3      RESULTS  survival analyses were used to assess the asso...   \n",
              "4      RESULTS  the percentage of patients with abnormal lfts ...   \n",
              "5      RESULTS  when mean hemodynamic profiles were compared i...   \n",
              "6      RESULTS  multivariable analyses revealed that patients ...   \n",
              "7  CONCLUSIONS  abnormal lfts are common in the adhf populatio...   \n",
              "8  CONCLUSIONS  elevated meld-xi scores are associated with po...   \n",
              "9   BACKGROUND  minimally invasive endovascular aneurysm repai...   \n",
              "\n",
              "   line_number  total_lines  \n",
              "0            0            8  \n",
              "1            1            8  \n",
              "2            2            8  \n",
              "3            3            8  \n",
              "4            4            8  \n",
              "5            5            8  \n",
              "6            6            8  \n",
              "7            7            8  \n",
              "8            8            8  \n",
              "9            0           12  "
            ],
            "text/html": [
              "\n",
              "  <div id=\"df-18306f2e-90b4-4254-9a3a-1e3bcc930db2\">\n",
              "    <div class=\"colab-df-container\">\n",
              "      <div>\n",
              "<style scoped>\n",
              "    .dataframe tbody tr th:only-of-type {\n",
              "        vertical-align: middle;\n",
              "    }\n",
              "\n",
              "    .dataframe tbody tr th {\n",
              "        vertical-align: top;\n",
              "    }\n",
              "\n",
              "    .dataframe thead th {\n",
              "        text-align: right;\n",
              "    }\n",
              "</style>\n",
              "<table border=\"1\" class=\"dataframe\">\n",
              "  <thead>\n",
              "    <tr style=\"text-align: right;\">\n",
              "      <th></th>\n",
              "      <th>target</th>\n",
              "      <th>text</th>\n",
              "      <th>line_number</th>\n",
              "      <th>total_lines</th>\n",
              "    </tr>\n",
              "  </thead>\n",
              "  <tbody>\n",
              "    <tr>\n",
              "      <th>0</th>\n",
              "      <td>BACKGROUND</td>\n",
              "      <td>this study analyzed liver function abnormaliti...</td>\n",
              "      <td>0</td>\n",
              "      <td>8</td>\n",
              "    </tr>\n",
              "    <tr>\n",
              "      <th>1</th>\n",
              "      <td>RESULTS</td>\n",
              "      <td>a post hoc analysis was conducted with the use...</td>\n",
              "      <td>1</td>\n",
              "      <td>8</td>\n",
              "    </tr>\n",
              "    <tr>\n",
              "      <th>2</th>\n",
              "      <td>RESULTS</td>\n",
              "      <td>liver function tests ( lfts ) were measured at...</td>\n",
              "      <td>2</td>\n",
              "      <td>8</td>\n",
              "    </tr>\n",
              "    <tr>\n",
              "      <th>3</th>\n",
              "      <td>RESULTS</td>\n",
              "      <td>survival analyses were used to assess the asso...</td>\n",
              "      <td>3</td>\n",
              "      <td>8</td>\n",
              "    </tr>\n",
              "    <tr>\n",
              "      <th>4</th>\n",
              "      <td>RESULTS</td>\n",
              "      <td>the percentage of patients with abnormal lfts ...</td>\n",
              "      <td>4</td>\n",
              "      <td>8</td>\n",
              "    </tr>\n",
              "    <tr>\n",
              "      <th>5</th>\n",
              "      <td>RESULTS</td>\n",
              "      <td>when mean hemodynamic profiles were compared i...</td>\n",
              "      <td>5</td>\n",
              "      <td>8</td>\n",
              "    </tr>\n",
              "    <tr>\n",
              "      <th>6</th>\n",
              "      <td>RESULTS</td>\n",
              "      <td>multivariable analyses revealed that patients ...</td>\n",
              "      <td>6</td>\n",
              "      <td>8</td>\n",
              "    </tr>\n",
              "    <tr>\n",
              "      <th>7</th>\n",
              "      <td>CONCLUSIONS</td>\n",
              "      <td>abnormal lfts are common in the adhf populatio...</td>\n",
              "      <td>7</td>\n",
              "      <td>8</td>\n",
              "    </tr>\n",
              "    <tr>\n",
              "      <th>8</th>\n",
              "      <td>CONCLUSIONS</td>\n",
              "      <td>elevated meld-xi scores are associated with po...</td>\n",
              "      <td>8</td>\n",
              "      <td>8</td>\n",
              "    </tr>\n",
              "    <tr>\n",
              "      <th>9</th>\n",
              "      <td>BACKGROUND</td>\n",
              "      <td>minimally invasive endovascular aneurysm repai...</td>\n",
              "      <td>0</td>\n",
              "      <td>12</td>\n",
              "    </tr>\n",
              "  </tbody>\n",
              "</table>\n",
              "</div>\n",
              "      <button class=\"colab-df-convert\" onclick=\"convertToInteractive('df-18306f2e-90b4-4254-9a3a-1e3bcc930db2')\"\n",
              "              title=\"Convert this dataframe to an interactive table.\"\n",
              "              style=\"display:none;\">\n",
              "        \n",
              "  <svg xmlns=\"http://www.w3.org/2000/svg\" height=\"24px\"viewBox=\"0 0 24 24\"\n",
              "       width=\"24px\">\n",
              "    <path d=\"M0 0h24v24H0V0z\" fill=\"none\"/>\n",
              "    <path d=\"M18.56 5.44l.94 2.06.94-2.06 2.06-.94-2.06-.94-.94-2.06-.94 2.06-2.06.94zm-11 1L8.5 8.5l.94-2.06 2.06-.94-2.06-.94L8.5 2.5l-.94 2.06-2.06.94zm10 10l.94 2.06.94-2.06 2.06-.94-2.06-.94-.94-2.06-.94 2.06-2.06.94z\"/><path d=\"M17.41 7.96l-1.37-1.37c-.4-.4-.92-.59-1.43-.59-.52 0-1.04.2-1.43.59L10.3 9.45l-7.72 7.72c-.78.78-.78 2.05 0 2.83L4 21.41c.39.39.9.59 1.41.59.51 0 1.02-.2 1.41-.59l7.78-7.78 2.81-2.81c.8-.78.8-2.07 0-2.86zM5.41 20L4 18.59l7.72-7.72 1.47 1.35L5.41 20z\"/>\n",
              "  </svg>\n",
              "      </button>\n",
              "      \n",
              "  <style>\n",
              "    .colab-df-container {\n",
              "      display:flex;\n",
              "      flex-wrap:wrap;\n",
              "      gap: 12px;\n",
              "    }\n",
              "\n",
              "    .colab-df-convert {\n",
              "      background-color: #E8F0FE;\n",
              "      border: none;\n",
              "      border-radius: 50%;\n",
              "      cursor: pointer;\n",
              "      display: none;\n",
              "      fill: #1967D2;\n",
              "      height: 32px;\n",
              "      padding: 0 0 0 0;\n",
              "      width: 32px;\n",
              "    }\n",
              "\n",
              "    .colab-df-convert:hover {\n",
              "      background-color: #E2EBFA;\n",
              "      box-shadow: 0px 1px 2px rgba(60, 64, 67, 0.3), 0px 1px 3px 1px rgba(60, 64, 67, 0.15);\n",
              "      fill: #174EA6;\n",
              "    }\n",
              "\n",
              "    [theme=dark] .colab-df-convert {\n",
              "      background-color: #3B4455;\n",
              "      fill: #D2E3FC;\n",
              "    }\n",
              "\n",
              "    [theme=dark] .colab-df-convert:hover {\n",
              "      background-color: #434B5C;\n",
              "      box-shadow: 0px 1px 3px 1px rgba(0, 0, 0, 0.15);\n",
              "      filter: drop-shadow(0px 1px 2px rgba(0, 0, 0, 0.3));\n",
              "      fill: #FFFFFF;\n",
              "    }\n",
              "  </style>\n",
              "\n",
              "      <script>\n",
              "        const buttonEl =\n",
              "          document.querySelector('#df-18306f2e-90b4-4254-9a3a-1e3bcc930db2 button.colab-df-convert');\n",
              "        buttonEl.style.display =\n",
              "          google.colab.kernel.accessAllowed ? 'block' : 'none';\n",
              "\n",
              "        async function convertToInteractive(key) {\n",
              "          const element = document.querySelector('#df-18306f2e-90b4-4254-9a3a-1e3bcc930db2');\n",
              "          const dataTable =\n",
              "            await google.colab.kernel.invokeFunction('convertToInteractive',\n",
              "                                                     [key], {});\n",
              "          if (!dataTable) return;\n",
              "\n",
              "          const docLinkHtml = 'Like what you see? Visit the ' +\n",
              "            '<a target=\"_blank\" href=https://colab.research.google.com/notebooks/data_table.ipynb>data table notebook</a>'\n",
              "            + ' to learn more about interactive tables.';\n",
              "          element.innerHTML = '';\n",
              "          dataTable['output_type'] = 'display_data';\n",
              "          await google.colab.output.renderOutput(dataTable, element);\n",
              "          const docLink = document.createElement('div');\n",
              "          docLink.innerHTML = docLinkHtml;\n",
              "          element.appendChild(docLink);\n",
              "        }\n",
              "      </script>\n",
              "    </div>\n",
              "  </div>\n",
              "  "
            ]
          },
          "metadata": {},
          "execution_count": 144
        }
      ]
    },
    {
      "cell_type": "code",
      "source": [
        "# Create prediction enriched dataframe\n",
        "test_df[\"prediction\"] = test_pred_classes\n",
        "test_df[\"pred_probs\"] = tf.reduce_max(test_pred_probs, axis = 1)\n",
        "test_df[\"preds_probs\"] = tf.argmax(test_pred_probs, axis = 1)\n",
        "test_df[\"correct\"] = test_df[\"prediction\"] == test_df[\"target\"]\n",
        "test_df"
      ],
      "metadata": {
        "colab": {
          "base_uri": "https://localhost:8080/",
          "height": 423
        },
        "id": "dXtSmpjwBmug",
        "outputId": "adb7007b-353b-4073-cb24-3bbdda3e1079"
      },
      "execution_count": 147,
      "outputs": [
        {
          "output_type": "execute_result",
          "data": {
            "text/plain": [
              "            target                                               text  \\\n",
              "0       BACKGROUND  this study analyzed liver function abnormaliti...   \n",
              "1          RESULTS  a post hoc analysis was conducted with the use...   \n",
              "2          RESULTS  liver function tests ( lfts ) were measured at...   \n",
              "3          RESULTS  survival analyses were used to assess the asso...   \n",
              "4          RESULTS  the percentage of patients with abnormal lfts ...   \n",
              "...            ...                                                ...   \n",
              "30130      RESULTS  there was a statistically significant between-...   \n",
              "30131      RESULTS  there were no statistically significant betwee...   \n",
              "30132      RESULTS  there was no significant association between s...   \n",
              "30133      RESULTS                 no adverse effects were reported .   \n",
              "30134  CONCLUSIONS  performing a @-week do-as-tolerated program of...   \n",
              "\n",
              "       line_number  total_lines   prediction  pred_probs  preds_probs  correct  \n",
              "0                0            8    OBJECTIVE    0.489467            3    False  \n",
              "1                1            8    OBJECTIVE    0.320017            3    False  \n",
              "2                2            8      METHODS    0.814842            2    False  \n",
              "3                3            8      METHODS    0.615428            2    False  \n",
              "4                4            8      RESULTS    0.714414            4     True  \n",
              "...            ...          ...          ...         ...          ...      ...  \n",
              "30130           13           17      RESULTS    0.839706            4     True  \n",
              "30131           14           17      RESULTS    0.741306            4     True  \n",
              "30132           15           17      RESULTS    0.710769            4     True  \n",
              "30133           16           17      RESULTS    0.759379            4     True  \n",
              "30134           17           17  CONCLUSIONS    0.565903            1     True  \n",
              "\n",
              "[30135 rows x 8 columns]"
            ],
            "text/html": [
              "\n",
              "  <div id=\"df-97a36157-10b2-4f0b-b10b-74f13b1088b1\">\n",
              "    <div class=\"colab-df-container\">\n",
              "      <div>\n",
              "<style scoped>\n",
              "    .dataframe tbody tr th:only-of-type {\n",
              "        vertical-align: middle;\n",
              "    }\n",
              "\n",
              "    .dataframe tbody tr th {\n",
              "        vertical-align: top;\n",
              "    }\n",
              "\n",
              "    .dataframe thead th {\n",
              "        text-align: right;\n",
              "    }\n",
              "</style>\n",
              "<table border=\"1\" class=\"dataframe\">\n",
              "  <thead>\n",
              "    <tr style=\"text-align: right;\">\n",
              "      <th></th>\n",
              "      <th>target</th>\n",
              "      <th>text</th>\n",
              "      <th>line_number</th>\n",
              "      <th>total_lines</th>\n",
              "      <th>prediction</th>\n",
              "      <th>pred_probs</th>\n",
              "      <th>preds_probs</th>\n",
              "      <th>correct</th>\n",
              "    </tr>\n",
              "  </thead>\n",
              "  <tbody>\n",
              "    <tr>\n",
              "      <th>0</th>\n",
              "      <td>BACKGROUND</td>\n",
              "      <td>this study analyzed liver function abnormaliti...</td>\n",
              "      <td>0</td>\n",
              "      <td>8</td>\n",
              "      <td>OBJECTIVE</td>\n",
              "      <td>0.489467</td>\n",
              "      <td>3</td>\n",
              "      <td>False</td>\n",
              "    </tr>\n",
              "    <tr>\n",
              "      <th>1</th>\n",
              "      <td>RESULTS</td>\n",
              "      <td>a post hoc analysis was conducted with the use...</td>\n",
              "      <td>1</td>\n",
              "      <td>8</td>\n",
              "      <td>OBJECTIVE</td>\n",
              "      <td>0.320017</td>\n",
              "      <td>3</td>\n",
              "      <td>False</td>\n",
              "    </tr>\n",
              "    <tr>\n",
              "      <th>2</th>\n",
              "      <td>RESULTS</td>\n",
              "      <td>liver function tests ( lfts ) were measured at...</td>\n",
              "      <td>2</td>\n",
              "      <td>8</td>\n",
              "      <td>METHODS</td>\n",
              "      <td>0.814842</td>\n",
              "      <td>2</td>\n",
              "      <td>False</td>\n",
              "    </tr>\n",
              "    <tr>\n",
              "      <th>3</th>\n",
              "      <td>RESULTS</td>\n",
              "      <td>survival analyses were used to assess the asso...</td>\n",
              "      <td>3</td>\n",
              "      <td>8</td>\n",
              "      <td>METHODS</td>\n",
              "      <td>0.615428</td>\n",
              "      <td>2</td>\n",
              "      <td>False</td>\n",
              "    </tr>\n",
              "    <tr>\n",
              "      <th>4</th>\n",
              "      <td>RESULTS</td>\n",
              "      <td>the percentage of patients with abnormal lfts ...</td>\n",
              "      <td>4</td>\n",
              "      <td>8</td>\n",
              "      <td>RESULTS</td>\n",
              "      <td>0.714414</td>\n",
              "      <td>4</td>\n",
              "      <td>True</td>\n",
              "    </tr>\n",
              "    <tr>\n",
              "      <th>...</th>\n",
              "      <td>...</td>\n",
              "      <td>...</td>\n",
              "      <td>...</td>\n",
              "      <td>...</td>\n",
              "      <td>...</td>\n",
              "      <td>...</td>\n",
              "      <td>...</td>\n",
              "      <td>...</td>\n",
              "    </tr>\n",
              "    <tr>\n",
              "      <th>30130</th>\n",
              "      <td>RESULTS</td>\n",
              "      <td>there was a statistically significant between-...</td>\n",
              "      <td>13</td>\n",
              "      <td>17</td>\n",
              "      <td>RESULTS</td>\n",
              "      <td>0.839706</td>\n",
              "      <td>4</td>\n",
              "      <td>True</td>\n",
              "    </tr>\n",
              "    <tr>\n",
              "      <th>30131</th>\n",
              "      <td>RESULTS</td>\n",
              "      <td>there were no statistically significant betwee...</td>\n",
              "      <td>14</td>\n",
              "      <td>17</td>\n",
              "      <td>RESULTS</td>\n",
              "      <td>0.741306</td>\n",
              "      <td>4</td>\n",
              "      <td>True</td>\n",
              "    </tr>\n",
              "    <tr>\n",
              "      <th>30132</th>\n",
              "      <td>RESULTS</td>\n",
              "      <td>there was no significant association between s...</td>\n",
              "      <td>15</td>\n",
              "      <td>17</td>\n",
              "      <td>RESULTS</td>\n",
              "      <td>0.710769</td>\n",
              "      <td>4</td>\n",
              "      <td>True</td>\n",
              "    </tr>\n",
              "    <tr>\n",
              "      <th>30133</th>\n",
              "      <td>RESULTS</td>\n",
              "      <td>no adverse effects were reported .</td>\n",
              "      <td>16</td>\n",
              "      <td>17</td>\n",
              "      <td>RESULTS</td>\n",
              "      <td>0.759379</td>\n",
              "      <td>4</td>\n",
              "      <td>True</td>\n",
              "    </tr>\n",
              "    <tr>\n",
              "      <th>30134</th>\n",
              "      <td>CONCLUSIONS</td>\n",
              "      <td>performing a @-week do-as-tolerated program of...</td>\n",
              "      <td>17</td>\n",
              "      <td>17</td>\n",
              "      <td>CONCLUSIONS</td>\n",
              "      <td>0.565903</td>\n",
              "      <td>1</td>\n",
              "      <td>True</td>\n",
              "    </tr>\n",
              "  </tbody>\n",
              "</table>\n",
              "<p>30135 rows × 8 columns</p>\n",
              "</div>\n",
              "      <button class=\"colab-df-convert\" onclick=\"convertToInteractive('df-97a36157-10b2-4f0b-b10b-74f13b1088b1')\"\n",
              "              title=\"Convert this dataframe to an interactive table.\"\n",
              "              style=\"display:none;\">\n",
              "        \n",
              "  <svg xmlns=\"http://www.w3.org/2000/svg\" height=\"24px\"viewBox=\"0 0 24 24\"\n",
              "       width=\"24px\">\n",
              "    <path d=\"M0 0h24v24H0V0z\" fill=\"none\"/>\n",
              "    <path d=\"M18.56 5.44l.94 2.06.94-2.06 2.06-.94-2.06-.94-.94-2.06-.94 2.06-2.06.94zm-11 1L8.5 8.5l.94-2.06 2.06-.94-2.06-.94L8.5 2.5l-.94 2.06-2.06.94zm10 10l.94 2.06.94-2.06 2.06-.94-2.06-.94-.94-2.06-.94 2.06-2.06.94z\"/><path d=\"M17.41 7.96l-1.37-1.37c-.4-.4-.92-.59-1.43-.59-.52 0-1.04.2-1.43.59L10.3 9.45l-7.72 7.72c-.78.78-.78 2.05 0 2.83L4 21.41c.39.39.9.59 1.41.59.51 0 1.02-.2 1.41-.59l7.78-7.78 2.81-2.81c.8-.78.8-2.07 0-2.86zM5.41 20L4 18.59l7.72-7.72 1.47 1.35L5.41 20z\"/>\n",
              "  </svg>\n",
              "      </button>\n",
              "      \n",
              "  <style>\n",
              "    .colab-df-container {\n",
              "      display:flex;\n",
              "      flex-wrap:wrap;\n",
              "      gap: 12px;\n",
              "    }\n",
              "\n",
              "    .colab-df-convert {\n",
              "      background-color: #E8F0FE;\n",
              "      border: none;\n",
              "      border-radius: 50%;\n",
              "      cursor: pointer;\n",
              "      display: none;\n",
              "      fill: #1967D2;\n",
              "      height: 32px;\n",
              "      padding: 0 0 0 0;\n",
              "      width: 32px;\n",
              "    }\n",
              "\n",
              "    .colab-df-convert:hover {\n",
              "      background-color: #E2EBFA;\n",
              "      box-shadow: 0px 1px 2px rgba(60, 64, 67, 0.3), 0px 1px 3px 1px rgba(60, 64, 67, 0.15);\n",
              "      fill: #174EA6;\n",
              "    }\n",
              "\n",
              "    [theme=dark] .colab-df-convert {\n",
              "      background-color: #3B4455;\n",
              "      fill: #D2E3FC;\n",
              "    }\n",
              "\n",
              "    [theme=dark] .colab-df-convert:hover {\n",
              "      background-color: #434B5C;\n",
              "      box-shadow: 0px 1px 3px 1px rgba(0, 0, 0, 0.15);\n",
              "      filter: drop-shadow(0px 1px 2px rgba(0, 0, 0, 0.3));\n",
              "      fill: #FFFFFF;\n",
              "    }\n",
              "  </style>\n",
              "\n",
              "      <script>\n",
              "        const buttonEl =\n",
              "          document.querySelector('#df-97a36157-10b2-4f0b-b10b-74f13b1088b1 button.colab-df-convert');\n",
              "        buttonEl.style.display =\n",
              "          google.colab.kernel.accessAllowed ? 'block' : 'none';\n",
              "\n",
              "        async function convertToInteractive(key) {\n",
              "          const element = document.querySelector('#df-97a36157-10b2-4f0b-b10b-74f13b1088b1');\n",
              "          const dataTable =\n",
              "            await google.colab.kernel.invokeFunction('convertToInteractive',\n",
              "                                                     [key], {});\n",
              "          if (!dataTable) return;\n",
              "\n",
              "          const docLinkHtml = 'Like what you see? Visit the ' +\n",
              "            '<a target=\"_blank\" href=https://colab.research.google.com/notebooks/data_table.ipynb>data table notebook</a>'\n",
              "            + ' to learn more about interactive tables.';\n",
              "          element.innerHTML = '';\n",
              "          dataTable['output_type'] = 'display_data';\n",
              "          await google.colab.output.renderOutput(dataTable, element);\n",
              "          const docLink = document.createElement('div');\n",
              "          docLink.innerHTML = docLinkHtml;\n",
              "          element.appendChild(docLink);\n",
              "        }\n",
              "      </script>\n",
              "    </div>\n",
              "  </div>\n",
              "  "
            ]
          },
          "metadata": {},
          "execution_count": 147
        }
      ]
    },
    {
      "cell_type": "code",
      "source": [
        "test_df[\"correct\"].value_counts()"
      ],
      "metadata": {
        "colab": {
          "base_uri": "https://localhost:8080/"
        },
        "id": "VJkGAkWbDrF2",
        "outputId": "f523127b-8a37-4c04-8881-2cdf3906022d"
      },
      "execution_count": 149,
      "outputs": [
        {
          "output_type": "execute_result",
          "data": {
            "text/plain": [
              "True     24962\n",
              "False     5173\n",
              "Name: correct, dtype: int64"
            ]
          },
          "metadata": {},
          "execution_count": 149
        }
      ]
    },
    {
      "cell_type": "code",
      "source": [
        "top_100_wrong = test_df[test_df[\"correct\"] == False].sort_values(\"pred_probs\", ascending= False)[:100]\n",
        "top_100_wrong"
      ],
      "metadata": {
        "colab": {
          "base_uri": "https://localhost:8080/",
          "height": 423
        },
        "id": "r1EN260iE7df",
        "outputId": "d4235e8f-302c-4361-d668-b5b17897b7d5"
      },
      "execution_count": 153,
      "outputs": [
        {
          "output_type": "execute_result",
          "data": {
            "text/plain": [
              "            target                                               text  \\\n",
              "13874  CONCLUSIONS  symptom outcomes will be assessed and estimate...   \n",
              "16347   BACKGROUND  to evaluate the effects of the lactic acid bac...   \n",
              "2388       RESULTS  the primary endpoint is the cumulative three-y...   \n",
              "1827   CONCLUSIONS                      nct@ ( clinicaltrials.gov ) .   \n",
              "835     BACKGROUND  to assess the temporal patterns of late gastro...   \n",
              "...            ...                                                ...   \n",
              "12456      RESULTS  icd patients were randomized @:@ to automatic ...   \n",
              "12137      RESULTS  exposure to ppis was categorized according to ...   \n",
              "13490      RESULTS  data were analyzed at baseline and longitudina...   \n",
              "3647       RESULTS  three ree measurements were performed in each ...   \n",
              "3038   CONCLUSIONS                 clinicaltrials.gov number : nct@ .   \n",
              "\n",
              "       line_number  total_lines  prediction  pred_probs  preds_probs  correct  \n",
              "13874            4            6     METHODS    0.932766            2    False  \n",
              "16347            0           12   OBJECTIVE    0.932122            3    False  \n",
              "2388             4           13     METHODS    0.929954            2    False  \n",
              "1827            18           18  BACKGROUND    0.918217            0    False  \n",
              "835              0           11   OBJECTIVE    0.914855            3    False  \n",
              "...            ...          ...         ...         ...          ...      ...  \n",
              "12456            1           13     METHODS    0.833454            2    False  \n",
              "12137            5           16     METHODS    0.833038            2    False  \n",
              "13490            4           14     METHODS    0.832770            2    False  \n",
              "3647             4           12     METHODS    0.832616            2    False  \n",
              "3038            17           17  BACKGROUND    0.832124            0    False  \n",
              "\n",
              "[100 rows x 8 columns]"
            ],
            "text/html": [
              "\n",
              "  <div id=\"df-3f0fc6f5-9a6a-47b8-8ad8-47a017844d52\">\n",
              "    <div class=\"colab-df-container\">\n",
              "      <div>\n",
              "<style scoped>\n",
              "    .dataframe tbody tr th:only-of-type {\n",
              "        vertical-align: middle;\n",
              "    }\n",
              "\n",
              "    .dataframe tbody tr th {\n",
              "        vertical-align: top;\n",
              "    }\n",
              "\n",
              "    .dataframe thead th {\n",
              "        text-align: right;\n",
              "    }\n",
              "</style>\n",
              "<table border=\"1\" class=\"dataframe\">\n",
              "  <thead>\n",
              "    <tr style=\"text-align: right;\">\n",
              "      <th></th>\n",
              "      <th>target</th>\n",
              "      <th>text</th>\n",
              "      <th>line_number</th>\n",
              "      <th>total_lines</th>\n",
              "      <th>prediction</th>\n",
              "      <th>pred_probs</th>\n",
              "      <th>preds_probs</th>\n",
              "      <th>correct</th>\n",
              "    </tr>\n",
              "  </thead>\n",
              "  <tbody>\n",
              "    <tr>\n",
              "      <th>13874</th>\n",
              "      <td>CONCLUSIONS</td>\n",
              "      <td>symptom outcomes will be assessed and estimate...</td>\n",
              "      <td>4</td>\n",
              "      <td>6</td>\n",
              "      <td>METHODS</td>\n",
              "      <td>0.932766</td>\n",
              "      <td>2</td>\n",
              "      <td>False</td>\n",
              "    </tr>\n",
              "    <tr>\n",
              "      <th>16347</th>\n",
              "      <td>BACKGROUND</td>\n",
              "      <td>to evaluate the effects of the lactic acid bac...</td>\n",
              "      <td>0</td>\n",
              "      <td>12</td>\n",
              "      <td>OBJECTIVE</td>\n",
              "      <td>0.932122</td>\n",
              "      <td>3</td>\n",
              "      <td>False</td>\n",
              "    </tr>\n",
              "    <tr>\n",
              "      <th>2388</th>\n",
              "      <td>RESULTS</td>\n",
              "      <td>the primary endpoint is the cumulative three-y...</td>\n",
              "      <td>4</td>\n",
              "      <td>13</td>\n",
              "      <td>METHODS</td>\n",
              "      <td>0.929954</td>\n",
              "      <td>2</td>\n",
              "      <td>False</td>\n",
              "    </tr>\n",
              "    <tr>\n",
              "      <th>1827</th>\n",
              "      <td>CONCLUSIONS</td>\n",
              "      <td>nct@ ( clinicaltrials.gov ) .</td>\n",
              "      <td>18</td>\n",
              "      <td>18</td>\n",
              "      <td>BACKGROUND</td>\n",
              "      <td>0.918217</td>\n",
              "      <td>0</td>\n",
              "      <td>False</td>\n",
              "    </tr>\n",
              "    <tr>\n",
              "      <th>835</th>\n",
              "      <td>BACKGROUND</td>\n",
              "      <td>to assess the temporal patterns of late gastro...</td>\n",
              "      <td>0</td>\n",
              "      <td>11</td>\n",
              "      <td>OBJECTIVE</td>\n",
              "      <td>0.914855</td>\n",
              "      <td>3</td>\n",
              "      <td>False</td>\n",
              "    </tr>\n",
              "    <tr>\n",
              "      <th>...</th>\n",
              "      <td>...</td>\n",
              "      <td>...</td>\n",
              "      <td>...</td>\n",
              "      <td>...</td>\n",
              "      <td>...</td>\n",
              "      <td>...</td>\n",
              "      <td>...</td>\n",
              "      <td>...</td>\n",
              "    </tr>\n",
              "    <tr>\n",
              "      <th>12456</th>\n",
              "      <td>RESULTS</td>\n",
              "      <td>icd patients were randomized @:@ to automatic ...</td>\n",
              "      <td>1</td>\n",
              "      <td>13</td>\n",
              "      <td>METHODS</td>\n",
              "      <td>0.833454</td>\n",
              "      <td>2</td>\n",
              "      <td>False</td>\n",
              "    </tr>\n",
              "    <tr>\n",
              "      <th>12137</th>\n",
              "      <td>RESULTS</td>\n",
              "      <td>exposure to ppis was categorized according to ...</td>\n",
              "      <td>5</td>\n",
              "      <td>16</td>\n",
              "      <td>METHODS</td>\n",
              "      <td>0.833038</td>\n",
              "      <td>2</td>\n",
              "      <td>False</td>\n",
              "    </tr>\n",
              "    <tr>\n",
              "      <th>13490</th>\n",
              "      <td>RESULTS</td>\n",
              "      <td>data were analyzed at baseline and longitudina...</td>\n",
              "      <td>4</td>\n",
              "      <td>14</td>\n",
              "      <td>METHODS</td>\n",
              "      <td>0.832770</td>\n",
              "      <td>2</td>\n",
              "      <td>False</td>\n",
              "    </tr>\n",
              "    <tr>\n",
              "      <th>3647</th>\n",
              "      <td>RESULTS</td>\n",
              "      <td>three ree measurements were performed in each ...</td>\n",
              "      <td>4</td>\n",
              "      <td>12</td>\n",
              "      <td>METHODS</td>\n",
              "      <td>0.832616</td>\n",
              "      <td>2</td>\n",
              "      <td>False</td>\n",
              "    </tr>\n",
              "    <tr>\n",
              "      <th>3038</th>\n",
              "      <td>CONCLUSIONS</td>\n",
              "      <td>clinicaltrials.gov number : nct@ .</td>\n",
              "      <td>17</td>\n",
              "      <td>17</td>\n",
              "      <td>BACKGROUND</td>\n",
              "      <td>0.832124</td>\n",
              "      <td>0</td>\n",
              "      <td>False</td>\n",
              "    </tr>\n",
              "  </tbody>\n",
              "</table>\n",
              "<p>100 rows × 8 columns</p>\n",
              "</div>\n",
              "      <button class=\"colab-df-convert\" onclick=\"convertToInteractive('df-3f0fc6f5-9a6a-47b8-8ad8-47a017844d52')\"\n",
              "              title=\"Convert this dataframe to an interactive table.\"\n",
              "              style=\"display:none;\">\n",
              "        \n",
              "  <svg xmlns=\"http://www.w3.org/2000/svg\" height=\"24px\"viewBox=\"0 0 24 24\"\n",
              "       width=\"24px\">\n",
              "    <path d=\"M0 0h24v24H0V0z\" fill=\"none\"/>\n",
              "    <path d=\"M18.56 5.44l.94 2.06.94-2.06 2.06-.94-2.06-.94-.94-2.06-.94 2.06-2.06.94zm-11 1L8.5 8.5l.94-2.06 2.06-.94-2.06-.94L8.5 2.5l-.94 2.06-2.06.94zm10 10l.94 2.06.94-2.06 2.06-.94-2.06-.94-.94-2.06-.94 2.06-2.06.94z\"/><path d=\"M17.41 7.96l-1.37-1.37c-.4-.4-.92-.59-1.43-.59-.52 0-1.04.2-1.43.59L10.3 9.45l-7.72 7.72c-.78.78-.78 2.05 0 2.83L4 21.41c.39.39.9.59 1.41.59.51 0 1.02-.2 1.41-.59l7.78-7.78 2.81-2.81c.8-.78.8-2.07 0-2.86zM5.41 20L4 18.59l7.72-7.72 1.47 1.35L5.41 20z\"/>\n",
              "  </svg>\n",
              "      </button>\n",
              "      \n",
              "  <style>\n",
              "    .colab-df-container {\n",
              "      display:flex;\n",
              "      flex-wrap:wrap;\n",
              "      gap: 12px;\n",
              "    }\n",
              "\n",
              "    .colab-df-convert {\n",
              "      background-color: #E8F0FE;\n",
              "      border: none;\n",
              "      border-radius: 50%;\n",
              "      cursor: pointer;\n",
              "      display: none;\n",
              "      fill: #1967D2;\n",
              "      height: 32px;\n",
              "      padding: 0 0 0 0;\n",
              "      width: 32px;\n",
              "    }\n",
              "\n",
              "    .colab-df-convert:hover {\n",
              "      background-color: #E2EBFA;\n",
              "      box-shadow: 0px 1px 2px rgba(60, 64, 67, 0.3), 0px 1px 3px 1px rgba(60, 64, 67, 0.15);\n",
              "      fill: #174EA6;\n",
              "    }\n",
              "\n",
              "    [theme=dark] .colab-df-convert {\n",
              "      background-color: #3B4455;\n",
              "      fill: #D2E3FC;\n",
              "    }\n",
              "\n",
              "    [theme=dark] .colab-df-convert:hover {\n",
              "      background-color: #434B5C;\n",
              "      box-shadow: 0px 1px 3px 1px rgba(0, 0, 0, 0.15);\n",
              "      filter: drop-shadow(0px 1px 2px rgba(0, 0, 0, 0.3));\n",
              "      fill: #FFFFFF;\n",
              "    }\n",
              "  </style>\n",
              "\n",
              "      <script>\n",
              "        const buttonEl =\n",
              "          document.querySelector('#df-3f0fc6f5-9a6a-47b8-8ad8-47a017844d52 button.colab-df-convert');\n",
              "        buttonEl.style.display =\n",
              "          google.colab.kernel.accessAllowed ? 'block' : 'none';\n",
              "\n",
              "        async function convertToInteractive(key) {\n",
              "          const element = document.querySelector('#df-3f0fc6f5-9a6a-47b8-8ad8-47a017844d52');\n",
              "          const dataTable =\n",
              "            await google.colab.kernel.invokeFunction('convertToInteractive',\n",
              "                                                     [key], {});\n",
              "          if (!dataTable) return;\n",
              "\n",
              "          const docLinkHtml = 'Like what you see? Visit the ' +\n",
              "            '<a target=\"_blank\" href=https://colab.research.google.com/notebooks/data_table.ipynb>data table notebook</a>'\n",
              "            + ' to learn more about interactive tables.';\n",
              "          element.innerHTML = '';\n",
              "          dataTable['output_type'] = 'display_data';\n",
              "          await google.colab.output.renderOutput(dataTable, element);\n",
              "          const docLink = document.createElement('div');\n",
              "          docLink.innerHTML = docLinkHtml;\n",
              "          element.appendChild(docLink);\n",
              "        }\n",
              "      </script>\n",
              "    </div>\n",
              "  </div>\n",
              "  "
            ]
          },
          "metadata": {},
          "execution_count": 153
        }
      ]
    },
    {
      "cell_type": "code",
      "source": [
        "# Investigate top wrong preds\n",
        "for row in top_100_wrong[0:10].itertuples(): # adjust indexes to view different samples\n",
        "  _, target, text, line_number, total_lines, prediction, pred_prob,preds_probs, _ = row\n",
        "  print(f\"Target: {target}, Pred: {prediction}, Prob: {pred_prob}, Line number: {line_number}, Total lines: {total_lines}\\n\")\n",
        "  print(f\"Text:\\n{text}\\n\")\n",
        "  print(\"-----\\n\")"
      ],
      "metadata": {
        "colab": {
          "base_uri": "https://localhost:8080/"
        },
        "id": "1yrOirNDFVIX",
        "outputId": "18b79fad-3c06-4796-a72d-a19c692a12d4"
      },
      "execution_count": 154,
      "outputs": [
        {
          "output_type": "stream",
          "name": "stdout",
          "text": [
            "Target: CONCLUSIONS, Pred: METHODS, Prob: 0.9327656626701355, Line number: 4, Total lines: 6\n",
            "\n",
            "Text:\n",
            "symptom outcomes will be assessed and estimates of cost-effectiveness made .\n",
            "\n",
            "-----\n",
            "\n",
            "Target: BACKGROUND, Pred: OBJECTIVE, Prob: 0.9321224689483643, Line number: 0, Total lines: 12\n",
            "\n",
            "Text:\n",
            "to evaluate the effects of the lactic acid bacterium lactobacillus salivarius on caries risk factors .\n",
            "\n",
            "-----\n",
            "\n",
            "Target: RESULTS, Pred: METHODS, Prob: 0.9299539923667908, Line number: 4, Total lines: 13\n",
            "\n",
            "Text:\n",
            "the primary endpoint is the cumulative three-year hiv incidence .\n",
            "\n",
            "-----\n",
            "\n",
            "Target: CONCLUSIONS, Pred: BACKGROUND, Prob: 0.9182167649269104, Line number: 18, Total lines: 18\n",
            "\n",
            "Text:\n",
            "nct@ ( clinicaltrials.gov ) .\n",
            "\n",
            "-----\n",
            "\n",
            "Target: BACKGROUND, Pred: OBJECTIVE, Prob: 0.9148552417755127, Line number: 0, Total lines: 11\n",
            "\n",
            "Text:\n",
            "to assess the temporal patterns of late gastrointestinal ( gi ) and genitourinary ( gu ) radiotherapy toxicity and resolution rates in a randomised controlled trial ( all-ireland cooperative oncology research group @-@ ) assessing duration of neo-adjuvant ( na ) hormone therapy for localised prostate cancer .\n",
            "\n",
            "-----\n",
            "\n",
            "Target: RESULTS, Pred: BACKGROUND, Prob: 0.9131462574005127, Line number: 8, Total lines: 15\n",
            "\n",
            "Text:\n",
            "non-diffuse-trickling '' ) .\n",
            "\n",
            "-----\n",
            "\n",
            "Target: METHODS, Pred: BACKGROUND, Prob: 0.9108539819717407, Line number: 1, Total lines: 11\n",
            "\n",
            "Text:\n",
            "pretest-posttest .\n",
            "\n",
            "-----\n",
            "\n",
            "Target: RESULTS, Pred: METHODS, Prob: 0.9108532667160034, Line number: 3, Total lines: 16\n",
            "\n",
            "Text:\n",
            "a cluster randomised trial was implemented with @,@ children in @ government primary schools on the south coast of kenya in @-@ .\n",
            "\n",
            "-----\n",
            "\n",
            "Target: METHODS, Pred: OBJECTIVE, Prob: 0.9099208116531372, Line number: 0, Total lines: 7\n",
            "\n",
            "Text:\n",
            "to determine whether the insulin resistance that exists in metabolic syndrome ( mets ) patients is modulated by dietary fat composition .\n",
            "\n",
            "-----\n",
            "\n",
            "Target: METHODS, Pred: RESULTS, Prob: 0.908456563949585, Line number: 6, Total lines: 9\n",
            "\n",
            "Text:\n",
            "-@ % vs. fish : -@ % vs. fish + s : -@ % ; p < @ ) but there were no significant differences between groups .\n",
            "\n",
            "-----\n",
            "\n"
          ]
        }
      ]
    },
    {
      "cell_type": "code",
      "source": [],
      "metadata": {
        "id": "CRjlpu7EHcHR"
      },
      "execution_count": null,
      "outputs": []
    }
  ],
  "metadata": {
    "accelerator": "GPU",
    "colab": {
      "provenance": [],
      "collapsed_sections": [
        "6iGaghYDY8Z6"
      ],
      "mount_file_id": "10S7RxWo20ymoCEHcf7qHcD4CxpGBE7pb",
      "authorship_tag": "ABX9TyNeW7zdlLDdM6sifwUaa9wQ",
      "include_colab_link": true
    },
    "gpuClass": "standard",
    "kernelspec": {
      "display_name": "Python 3",
      "name": "python3"
    },
    "language_info": {
      "name": "python"
    }
  },
  "nbformat": 4,
  "nbformat_minor": 0
}